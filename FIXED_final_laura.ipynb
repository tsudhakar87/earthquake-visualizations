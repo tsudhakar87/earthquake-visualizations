{
 "cells": [
  {
   "cell_type": "code",
   "execution_count": 62,
   "metadata": {},
   "outputs": [],
   "source": [
    "import pandas as pd \n",
    "earthquakes = pd.read_csv('earthquake_merged2.csv')\n",
    "# earthquakes.columns"
   ]
  },
  {
   "cell_type": "code",
   "execution_count": 63,
   "metadata": {},
   "outputs": [],
   "source": [
    "earthquakes = earthquakes[earthquakes[\"Year\"] > 1999]\n",
    "# earthquakes"
   ]
  },
  {
   "cell_type": "code",
   "execution_count": 64,
   "metadata": {},
   "outputs": [],
   "source": [
    "country_counts = earthquakes.groupby(\"Country Name\").size().reset_index(name=\"Count\")\n",
    "country_counts = country_counts.sort_values(by=\"Count\", ascending=False)\n",
    "# country_counts"
   ]
  },
  {
   "cell_type": "code",
   "execution_count": 65,
   "metadata": {},
   "outputs": [],
   "source": [
    "# Group by Country Name to get avg magnitude\n",
    "avg_magnitude = earthquakes.groupby(\"Country Name\")[\"Mag\"].mean().reset_index(name=\"Average Magnitude\")\n",
    "\n",
    "# Merge the average magnitude with the country_counts df\n",
    "country_counts = country_counts.merge(avg_magnitude, on=\"Country Name\", how=\"left\")\n",
    "\n",
    "# country_counts"
   ]
  },
  {
   "cell_type": "code",
   "execution_count": 66,
   "metadata": {},
   "outputs": [
    {
     "name": "stderr",
     "output_type": "stream",
     "text": [
      "/Users/lauraboelsterli/anaconda3/envs/ds4200/lib/python3.11/site-packages/openpyxl/styles/stylesheet.py:237: UserWarning:\n",
      "\n",
      "Workbook contains no default style, apply openpyxl's default\n",
      "\n",
      "/var/folders/7l/h7qnw85j2hlf4tgr241lw5f00000gn/T/ipykernel_70203/2874546429.py:18: FutureWarning:\n",
      "\n",
      "Downcasting object dtype arrays on .fillna, .ffill, .bfill is deprecated and will change in a future version. Call result.infer_objects(copy=False) instead. To opt-in to the future behavior, set `pd.set_option('future.no_silent_downcasting', True)`\n",
      "\n"
     ]
    }
   ],
   "source": [
    "file_path = \"historicalCPI.xlsx\"  \n",
    "\n",
    "cpi_data = pd.read_excel(file_path, skiprows=10)\n",
    "# Make the first row the new header\n",
    "cpi_data.columns = cpi_data.iloc[0]  # Set the first row as column headers\n",
    "df = cpi_data[1:]  # Drop the first row from the data\n",
    "\n",
    "# Reset index for cleaner df\n",
    "df = df.reset_index(drop=True)\n",
    "\n",
    "# only will be using december of every year (3rd to last col)for inflation adjustment \n",
    "df = df[[\"Year\", \"Dec\"]]  # Use the explicit column name for December CPI\n",
    "df.columns = [\"Year\", \"CPI\"]  # Rename for simplicity\n",
    "\n",
    "# only 2000s and on \n",
    "df = df[df[\"Year\"].astype(int) >= 2000]\n",
    "# Add 315.664 to the CPI value for the year 2024 (missing)\n",
    "df.loc[df[\"Year\"] == 2024, \"CPI\"] = df.loc[df[\"Year\"] == 2024, \"CPI\"].fillna(0) + 315.664\n",
    "\n",
    "    # Display the up\n",
    "\n",
    "# cpi_data\n",
    "# df\n"
   ]
  },
  {
   "cell_type": "code",
   "execution_count": 67,
   "metadata": {},
   "outputs": [],
   "source": [
    "# Group by Country and Year, calculating total counts and sum of damages\n",
    "# Include average magnitude in the aggregation\n",
    "bubble_data = earthquakes.groupby([\"Country Name\", \"Year\"]).agg(\n",
    "    Earthquake_Count=(\"Country Name\", \"count\"),\n",
    "    Total_Damage_Mil=(\"Total Damage ($Mil)\", \"sum\"),\n",
    "    Average_Magnitude=(\"Mag\", \"mean\"), \n",
    "    Focal_Depth = (\"Focal Depth (km)\", \"mean\"),\n",
    "    tsunami = (\"Tsu\", \"count\")\n",
    ").reset_index()\n",
    "\n",
    "# Filter out rows where Total_Damage_Mil is NaN or 0\n",
    "bubble_data = bubble_data[bubble_data[\"Total_Damage_Mil\"] > 0]\n",
    "bubble_data[\"Average_Magnitude\"] = bubble_data[\"Average_Magnitude\"].round(2)\n",
    "# earthquakes.columns\n",
    "#tsunami "
   ]
  },
  {
   "cell_type": "code",
   "execution_count": 68,
   "metadata": {},
   "outputs": [
    {
     "name": "stderr",
     "output_type": "stream",
     "text": [
      "/var/folders/7l/h7qnw85j2hlf4tgr241lw5f00000gn/T/ipykernel_70203/2760027838.py:12: FutureWarning:\n",
      "\n",
      "Downcasting object dtype arrays on .fillna, .ffill, .bfill is deprecated and will change in a future version. Call result.infer_objects(copy=False) instead. To opt-in to the future behavior, set `pd.set_option('future.no_silent_downcasting', True)`\n",
      "\n"
     ]
    }
   ],
   "source": [
    "# Merging bubble_data with the CPI dataset\n",
    "adjusted_bubble_data = bubble_data.merge(df, on=\"Year\", how=\"left\")\n",
    "\n",
    "# Add current CPI aka 2024\n",
    "current_cpi = df.loc[df[\"Year\"] == 2024, \"CPI\"].values[0]\n",
    "\n",
    "# calculate inflation-adjusted damages\n",
    "adjusted_bubble_data[\"Inflation_Adjusted_Damage_Mil\"] = (\n",
    "    adjusted_bubble_data[\"Total_Damage_Mil\"]\n",
    "    * (current_cpi / adjusted_bubble_data[\"CPI\"])\n",
    ")\n",
    "adjusted_bubble_data[\"Inflation_Adjusted_Damage_Mil\"] = adjusted_bubble_data[\"Inflation_Adjusted_Damage_Mil\"].fillna(0)\n",
    "\n",
    "\n",
    "# roudning the adjusted damages \n",
    "adjusted_bubble_data[\"Inflation_Adjusted_Damage_Mil\"] = adjusted_bubble_data[\"Inflation_Adjusted_Damage_Mil\"].round(2)\n",
    "\n",
    "# Filter out Hawaii from the dataset\n",
    "adjusted_bubble_data = adjusted_bubble_data[adjusted_bubble_data[\"Country Name\"] != \"HAWAII\"]\n",
    "\n",
    "# Ensure your DataFrame includes earthquake counts, economic damages, average magnitude, focal depth, and tsunamis\n",
    "damage_data = adjusted_bubble_data.groupby(\"Country Name\").agg(\n",
    "    Total_Earthquake_Count=(\"Earthquake_Count\", \"sum\"),\n",
    "    Total_Damages_Mil=(\"Inflation_Adjusted_Damage_Mil\", \"sum\"),\n",
    "    Average_Magnitude=(\"Average_Magnitude\", \"mean\"),\n",
    "    Average_Focal_Depth=(\"Focal_Depth\", \"mean\"),  # Aggregate Focal Depth\n",
    "    Total_Tsunamis=(\"tsunami\", \"sum\")  # Count of tsunamis\n",
    ").reset_index()"
   ]
  },
  {
   "cell_type": "code",
   "execution_count": 69,
   "metadata": {},
   "outputs": [
    {
     "data": {
      "application/vnd.plotly.v1+json": {
       "config": {
        "plotlyServerURL": "https://plot.ly"
       },
       "data": [
        {
         "branchvalues": "total",
         "customdata": [
          [
           6.226666666666667,
           324.97,
           95.05555555555556,
           0
          ],
          [
           5.73,
           1383.17,
           13.333333333333334,
           0
          ],
          [
           6.25,
           8563.86,
           10,
           2
          ],
          [
           7.616666666666667,
           44141.51,
           18.166666666666668,
           8
          ],
          [
           5.5245,
           157067.9,
           16.27531746031746,
           1
          ],
          [
           6.3,
           30.87,
           10,
           0
          ],
          [
           6.85,
           795.67,
           24.5,
           1
          ],
          [
           5.9,
           7255.54,
           10,
           0
          ],
          [
           6.7,
           4314.64,
           20.333333333333332,
           1
          ],
          [
           6.67,
           1967.76,
           26.666666666666668,
           1
          ],
          [
           4.8,
           525.76,
           7.5,
           0
          ],
          [
           3.6,
           1.83,
           10,
           0
          ],
          [
           6.453333333333333,
           6784.83,
           11.555555555555555,
           4
          ],
          [
           6.85,
           291.43,
           45,
           1
          ],
          [
           7.1,
           13333.24,
           11.5,
           2
          ],
          [
           7.3,
           146.18,
           10,
           1
          ],
          [
           6.5,
           58.05,
           10,
           0
          ],
          [
           6.2375,
           7747.72,
           44.95,
           0
          ],
          [
           6.385000000000001,
           28210.960000000003,
           31.046733821733824,
           21
          ],
          [
           5.694,
           4602.83,
           18.866666666666667,
           0
          ],
          [
           5.432857142857143,
           35565.51,
           7.452380952380952,
           0
          ],
          [
           6.653333333333333,
           449466.68,
           35.69305555555555,
           24
          ],
          [
           5.6,
           16.02,
           18,
           0
          ],
          [
           5.1,
           13.07,
           13,
           0
          ],
          [
           7.4,
           154.8,
           156,
           1
          ],
          [
           6.9719999999999995,
           18099.68,
           22.266666666666666,
           6
          ],
          [
           6.6,
           7867.02,
           9,
           0
          ],
          [
           6.675,
           18.11,
           64.25,
           0
          ],
          [
           6.625,
           8028.12,
           14.75,
           0
          ],
          [
           6.345000000000001,
           39706.130000000005,
           14.775,
           6
          ],
          [
           5.65,
           4.03,
           11.5,
           0
          ],
          [
           6.366666666666667,
           10870.94,
           19,
           1
          ],
          [
           7.06,
           380.32,
           53.9,
           0
          ],
          [
           7.1,
           357.29,
           40.25,
           1
          ],
          [
           6.57625,
           319.90999999999997,
           22.155505952380953,
           5
          ],
          [
           6.4,
           969.51,
           10,
           1
          ],
          [
           6.96,
           105.86,
           12.666666666666666,
           1
          ],
          [
           8.1,
           416.6,
           18,
           1
          ],
          [
           7.45,
           48.76,
           22.5,
           2
          ],
          [
           5.45,
           124.52000000000001,
           11.5,
           0
          ],
          [
           6.609999999999999,
           2366.54,
           22.6,
           1
          ],
          [
           6.15,
           8.83,
           34.5,
           0
          ],
          [
           5.9,
           598.82,
           40,
           0
          ],
          [
           6.1,
           83.35,
           6,
           0
          ],
          [
           6.2,
           46245.39,
           11.291666666666668,
           1
          ],
          [
           5.852307692307692,
           12850.87,
           19.42948717948718,
           9
          ]
         ],
         "domain": {
          "x": [
           0,
           1
          ],
          "y": [
           0,
           1
          ]
         },
         "hovertemplate": "<b>%{label}</b><br>Earthquake Count: %{value}<br>Total Damage in Dollars: $%{customdata[1]:,.2f}M<br>Average Magnitude: %{customdata[0]:.2f}<br>Average Focal Depth: %{customdata[2]:.2f} km<br>Tsunamis: %{customdata[3]:.0f}<extra></extra>",
         "ids": [
          "AFGHANISTAN",
          "ALBANIA",
          "ALGERIA",
          "CHILE",
          "CHINA",
          "COLOMBIA",
          "COSTA RICA",
          "CROATIA",
          "ECUADOR",
          "EL SALVADOR",
          "FRANCE",
          "GERMANY",
          "GREECE",
          "GUATEMALA",
          "HAITI",
          "HONDURAS",
          "ICELAND",
          "INDIA",
          "INDONESIA",
          "IRAN",
          "ITALY",
          "JAPAN",
          "KYRGYZSTAN",
          "MACEDONIA",
          "MARTINIQUE",
          "MEXICO",
          "MOROCCO",
          "MYANMAR",
          "NEPAL",
          "NEW ZEALAND",
          "NICARAGUA",
          "PAKISTAN",
          "PAPUA NEW GUINEA",
          "PERU",
          "PHILIPPINES",
          "PUERTO RICO",
          "RUSSIA",
          "SAMOA",
          "SOLOMON ISLANDS",
          "SOUTH KOREA",
          "TAIWAN",
          "TAJIKISTAN",
          "TANZANIA",
          "THAILAND",
          "TURKEY",
          "UNITED STATES"
         ],
         "labels": [
          "AFGHANISTAN",
          "ALBANIA",
          "ALGERIA",
          "CHILE",
          "CHINA",
          "COLOMBIA",
          "COSTA RICA",
          "CROATIA",
          "ECUADOR",
          "EL SALVADOR",
          "FRANCE",
          "GERMANY",
          "GREECE",
          "GUATEMALA",
          "HAITI",
          "HONDURAS",
          "ICELAND",
          "INDIA",
          "INDONESIA",
          "IRAN",
          "ITALY",
          "JAPAN",
          "KYRGYZSTAN",
          "MACEDONIA",
          "MARTINIQUE",
          "MEXICO",
          "MOROCCO",
          "MYANMAR",
          "NEPAL",
          "NEW ZEALAND",
          "NICARAGUA",
          "PAKISTAN",
          "PAPUA NEW GUINEA",
          "PERU",
          "PHILIPPINES",
          "PUERTO RICO",
          "RUSSIA",
          "SAMOA",
          "SOLOMON ISLANDS",
          "SOUTH KOREA",
          "TAIWAN",
          "TAJIKISTAN",
          "TANZANIA",
          "THAILAND",
          "TURKEY",
          "UNITED STATES"
         ],
         "marker": {
          "coloraxis": "coloraxis",
          "colors": [
           2.513177632479043,
           3.1411894322652,
           3.9327202684428735,
           4.644857024071611,
           5.196090202255355,
           1.5033820634737327,
           2.9012784633563973,
           3.8607295935523243,
           3.6350452097517674,
           3.294192777068299,
           2.7216127889950794,
           0.45178643552429026,
           3.8316029754112626,
           2.4660219242575363,
           4.1249682676290265,
           2.1678487985900294,
           1.7712199019495336,
           3.889229967945249,
           4.450433259413611,
           3.663119278592632,
           4.55104125168835,
           5.652698468255449,
           1.230959555748569,
           1.1482940974347458,
           2.1925674533365456,
           4.257694890598487,
           3.895865455197299,
           1.281260687055013,
           3.9046679487547795,
           4.598868497736073,
           0.7015679850559274,
           4.03630704694916,
           2.5812895843501176,
           2.5542346870234227,
           2.5063832505238377,
           2.9870000146573488,
           2.028815169846887,
           2.620760489994206,
           1.6968803716827623,
           2.09871293057888,
           3.3742973252180883,
           0.9925535178321356,
           2.7780209424919113,
           1.926085086925144,
           4.665077837307061,
           4.108966323900319
          ]
         },
         "name": "",
         "parents": [
          "",
          "",
          "",
          "",
          "",
          "",
          "",
          "",
          "",
          "",
          "",
          "",
          "",
          "",
          "",
          "",
          "",
          "",
          "",
          "",
          "",
          "",
          "",
          "",
          "",
          "",
          "",
          "",
          "",
          "",
          "",
          "",
          "",
          "",
          "",
          "",
          "",
          "",
          "",
          "",
          "",
          "",
          "",
          "",
          "",
          ""
         ],
         "type": "treemap",
         "values": [
          9,
          3,
          2,
          8,
          130,
          1,
          2,
          2,
          3,
          3,
          2,
          1,
          8,
          2,
          2,
          1,
          2,
          10,
          82,
          44,
          18,
          49,
          1,
          1,
          1,
          10,
          2,
          3,
          4,
          14,
          2,
          5,
          6,
          4,
          29,
          1,
          6,
          1,
          2,
          2,
          7,
          2,
          1,
          1,
          7,
          41
         ]
        }
       ],
       "layout": {
        "annotations": [
         {
          "align": "left",
          "font": {
           "size": 8
          },
          "showarrow": false,
          "text": "*Economic damages use a Log10 scale to reduce skew and dollar values were adjusted to 2024 inflation (CPI from U.S. Bureau of Labor Statistics)",
          "x": 1,
          "xref": "paper",
          "y": -0.05,
          "yref": "paper"
         }
        ],
        "coloraxis": {
         "colorbar": {
          "ticktext": [
           "1",
           "10",
           "100",
           "1K",
           "10K",
           "100K"
          ],
          "tickvals": [
           0,
           1,
           2,
           3,
           4,
           5
          ],
          "title": {
           "text": "Economic Damage ($M) (Log Scale)"
          }
         },
         "colorscale": [
          [
           0,
           "rgb(255,245,240)"
          ],
          [
           0.125,
           "rgb(254,224,210)"
          ],
          [
           0.25,
           "rgb(252,187,161)"
          ],
          [
           0.375,
           "rgb(252,146,114)"
          ],
          [
           0.5,
           "rgb(251,106,74)"
          ],
          [
           0.625,
           "rgb(239,59,44)"
          ],
          [
           0.75,
           "rgb(203,24,29)"
          ],
          [
           0.875,
           "rgb(165,15,21)"
          ],
          [
           1,
           "rgb(103,0,13)"
          ]
         ]
        },
        "legend": {
         "tracegroupgap": 0
        },
        "template": {
         "data": {
          "bar": [
           {
            "error_x": {
             "color": "#2a3f5f"
            },
            "error_y": {
             "color": "#2a3f5f"
            },
            "marker": {
             "line": {
              "color": "#E5ECF6",
              "width": 0.5
             },
             "pattern": {
              "fillmode": "overlay",
              "size": 10,
              "solidity": 0.2
             }
            },
            "type": "bar"
           }
          ],
          "barpolar": [
           {
            "marker": {
             "line": {
              "color": "#E5ECF6",
              "width": 0.5
             },
             "pattern": {
              "fillmode": "overlay",
              "size": 10,
              "solidity": 0.2
             }
            },
            "type": "barpolar"
           }
          ],
          "carpet": [
           {
            "aaxis": {
             "endlinecolor": "#2a3f5f",
             "gridcolor": "white",
             "linecolor": "white",
             "minorgridcolor": "white",
             "startlinecolor": "#2a3f5f"
            },
            "baxis": {
             "endlinecolor": "#2a3f5f",
             "gridcolor": "white",
             "linecolor": "white",
             "minorgridcolor": "white",
             "startlinecolor": "#2a3f5f"
            },
            "type": "carpet"
           }
          ],
          "choropleth": [
           {
            "colorbar": {
             "outlinewidth": 0,
             "ticks": ""
            },
            "type": "choropleth"
           }
          ],
          "contour": [
           {
            "colorbar": {
             "outlinewidth": 0,
             "ticks": ""
            },
            "colorscale": [
             [
              0,
              "#0d0887"
             ],
             [
              0.1111111111111111,
              "#46039f"
             ],
             [
              0.2222222222222222,
              "#7201a8"
             ],
             [
              0.3333333333333333,
              "#9c179e"
             ],
             [
              0.4444444444444444,
              "#bd3786"
             ],
             [
              0.5555555555555556,
              "#d8576b"
             ],
             [
              0.6666666666666666,
              "#ed7953"
             ],
             [
              0.7777777777777778,
              "#fb9f3a"
             ],
             [
              0.8888888888888888,
              "#fdca26"
             ],
             [
              1,
              "#f0f921"
             ]
            ],
            "type": "contour"
           }
          ],
          "contourcarpet": [
           {
            "colorbar": {
             "outlinewidth": 0,
             "ticks": ""
            },
            "type": "contourcarpet"
           }
          ],
          "heatmap": [
           {
            "colorbar": {
             "outlinewidth": 0,
             "ticks": ""
            },
            "colorscale": [
             [
              0,
              "#0d0887"
             ],
             [
              0.1111111111111111,
              "#46039f"
             ],
             [
              0.2222222222222222,
              "#7201a8"
             ],
             [
              0.3333333333333333,
              "#9c179e"
             ],
             [
              0.4444444444444444,
              "#bd3786"
             ],
             [
              0.5555555555555556,
              "#d8576b"
             ],
             [
              0.6666666666666666,
              "#ed7953"
             ],
             [
              0.7777777777777778,
              "#fb9f3a"
             ],
             [
              0.8888888888888888,
              "#fdca26"
             ],
             [
              1,
              "#f0f921"
             ]
            ],
            "type": "heatmap"
           }
          ],
          "heatmapgl": [
           {
            "colorbar": {
             "outlinewidth": 0,
             "ticks": ""
            },
            "colorscale": [
             [
              0,
              "#0d0887"
             ],
             [
              0.1111111111111111,
              "#46039f"
             ],
             [
              0.2222222222222222,
              "#7201a8"
             ],
             [
              0.3333333333333333,
              "#9c179e"
             ],
             [
              0.4444444444444444,
              "#bd3786"
             ],
             [
              0.5555555555555556,
              "#d8576b"
             ],
             [
              0.6666666666666666,
              "#ed7953"
             ],
             [
              0.7777777777777778,
              "#fb9f3a"
             ],
             [
              0.8888888888888888,
              "#fdca26"
             ],
             [
              1,
              "#f0f921"
             ]
            ],
            "type": "heatmapgl"
           }
          ],
          "histogram": [
           {
            "marker": {
             "pattern": {
              "fillmode": "overlay",
              "size": 10,
              "solidity": 0.2
             }
            },
            "type": "histogram"
           }
          ],
          "histogram2d": [
           {
            "colorbar": {
             "outlinewidth": 0,
             "ticks": ""
            },
            "colorscale": [
             [
              0,
              "#0d0887"
             ],
             [
              0.1111111111111111,
              "#46039f"
             ],
             [
              0.2222222222222222,
              "#7201a8"
             ],
             [
              0.3333333333333333,
              "#9c179e"
             ],
             [
              0.4444444444444444,
              "#bd3786"
             ],
             [
              0.5555555555555556,
              "#d8576b"
             ],
             [
              0.6666666666666666,
              "#ed7953"
             ],
             [
              0.7777777777777778,
              "#fb9f3a"
             ],
             [
              0.8888888888888888,
              "#fdca26"
             ],
             [
              1,
              "#f0f921"
             ]
            ],
            "type": "histogram2d"
           }
          ],
          "histogram2dcontour": [
           {
            "colorbar": {
             "outlinewidth": 0,
             "ticks": ""
            },
            "colorscale": [
             [
              0,
              "#0d0887"
             ],
             [
              0.1111111111111111,
              "#46039f"
             ],
             [
              0.2222222222222222,
              "#7201a8"
             ],
             [
              0.3333333333333333,
              "#9c179e"
             ],
             [
              0.4444444444444444,
              "#bd3786"
             ],
             [
              0.5555555555555556,
              "#d8576b"
             ],
             [
              0.6666666666666666,
              "#ed7953"
             ],
             [
              0.7777777777777778,
              "#fb9f3a"
             ],
             [
              0.8888888888888888,
              "#fdca26"
             ],
             [
              1,
              "#f0f921"
             ]
            ],
            "type": "histogram2dcontour"
           }
          ],
          "mesh3d": [
           {
            "colorbar": {
             "outlinewidth": 0,
             "ticks": ""
            },
            "type": "mesh3d"
           }
          ],
          "parcoords": [
           {
            "line": {
             "colorbar": {
              "outlinewidth": 0,
              "ticks": ""
             }
            },
            "type": "parcoords"
           }
          ],
          "pie": [
           {
            "automargin": true,
            "type": "pie"
           }
          ],
          "scatter": [
           {
            "fillpattern": {
             "fillmode": "overlay",
             "size": 10,
             "solidity": 0.2
            },
            "type": "scatter"
           }
          ],
          "scatter3d": [
           {
            "line": {
             "colorbar": {
              "outlinewidth": 0,
              "ticks": ""
             }
            },
            "marker": {
             "colorbar": {
              "outlinewidth": 0,
              "ticks": ""
             }
            },
            "type": "scatter3d"
           }
          ],
          "scattercarpet": [
           {
            "marker": {
             "colorbar": {
              "outlinewidth": 0,
              "ticks": ""
             }
            },
            "type": "scattercarpet"
           }
          ],
          "scattergeo": [
           {
            "marker": {
             "colorbar": {
              "outlinewidth": 0,
              "ticks": ""
             }
            },
            "type": "scattergeo"
           }
          ],
          "scattergl": [
           {
            "marker": {
             "colorbar": {
              "outlinewidth": 0,
              "ticks": ""
             }
            },
            "type": "scattergl"
           }
          ],
          "scattermapbox": [
           {
            "marker": {
             "colorbar": {
              "outlinewidth": 0,
              "ticks": ""
             }
            },
            "type": "scattermapbox"
           }
          ],
          "scatterpolar": [
           {
            "marker": {
             "colorbar": {
              "outlinewidth": 0,
              "ticks": ""
             }
            },
            "type": "scatterpolar"
           }
          ],
          "scatterpolargl": [
           {
            "marker": {
             "colorbar": {
              "outlinewidth": 0,
              "ticks": ""
             }
            },
            "type": "scatterpolargl"
           }
          ],
          "scatterternary": [
           {
            "marker": {
             "colorbar": {
              "outlinewidth": 0,
              "ticks": ""
             }
            },
            "type": "scatterternary"
           }
          ],
          "surface": [
           {
            "colorbar": {
             "outlinewidth": 0,
             "ticks": ""
            },
            "colorscale": [
             [
              0,
              "#0d0887"
             ],
             [
              0.1111111111111111,
              "#46039f"
             ],
             [
              0.2222222222222222,
              "#7201a8"
             ],
             [
              0.3333333333333333,
              "#9c179e"
             ],
             [
              0.4444444444444444,
              "#bd3786"
             ],
             [
              0.5555555555555556,
              "#d8576b"
             ],
             [
              0.6666666666666666,
              "#ed7953"
             ],
             [
              0.7777777777777778,
              "#fb9f3a"
             ],
             [
              0.8888888888888888,
              "#fdca26"
             ],
             [
              1,
              "#f0f921"
             ]
            ],
            "type": "surface"
           }
          ],
          "table": [
           {
            "cells": {
             "fill": {
              "color": "#EBF0F8"
             },
             "line": {
              "color": "white"
             }
            },
            "header": {
             "fill": {
              "color": "#C8D4E3"
             },
             "line": {
              "color": "white"
             }
            },
            "type": "table"
           }
          ]
         },
         "layout": {
          "annotationdefaults": {
           "arrowcolor": "#2a3f5f",
           "arrowhead": 0,
           "arrowwidth": 1
          },
          "autotypenumbers": "strict",
          "coloraxis": {
           "colorbar": {
            "outlinewidth": 0,
            "ticks": ""
           }
          },
          "colorscale": {
           "diverging": [
            [
             0,
             "#8e0152"
            ],
            [
             0.1,
             "#c51b7d"
            ],
            [
             0.2,
             "#de77ae"
            ],
            [
             0.3,
             "#f1b6da"
            ],
            [
             0.4,
             "#fde0ef"
            ],
            [
             0.5,
             "#f7f7f7"
            ],
            [
             0.6,
             "#e6f5d0"
            ],
            [
             0.7,
             "#b8e186"
            ],
            [
             0.8,
             "#7fbc41"
            ],
            [
             0.9,
             "#4d9221"
            ],
            [
             1,
             "#276419"
            ]
           ],
           "sequential": [
            [
             0,
             "#0d0887"
            ],
            [
             0.1111111111111111,
             "#46039f"
            ],
            [
             0.2222222222222222,
             "#7201a8"
            ],
            [
             0.3333333333333333,
             "#9c179e"
            ],
            [
             0.4444444444444444,
             "#bd3786"
            ],
            [
             0.5555555555555556,
             "#d8576b"
            ],
            [
             0.6666666666666666,
             "#ed7953"
            ],
            [
             0.7777777777777778,
             "#fb9f3a"
            ],
            [
             0.8888888888888888,
             "#fdca26"
            ],
            [
             1,
             "#f0f921"
            ]
           ],
           "sequentialminus": [
            [
             0,
             "#0d0887"
            ],
            [
             0.1111111111111111,
             "#46039f"
            ],
            [
             0.2222222222222222,
             "#7201a8"
            ],
            [
             0.3333333333333333,
             "#9c179e"
            ],
            [
             0.4444444444444444,
             "#bd3786"
            ],
            [
             0.5555555555555556,
             "#d8576b"
            ],
            [
             0.6666666666666666,
             "#ed7953"
            ],
            [
             0.7777777777777778,
             "#fb9f3a"
            ],
            [
             0.8888888888888888,
             "#fdca26"
            ],
            [
             1,
             "#f0f921"
            ]
           ]
          },
          "colorway": [
           "#636efa",
           "#EF553B",
           "#00cc96",
           "#ab63fa",
           "#FFA15A",
           "#19d3f3",
           "#FF6692",
           "#B6E880",
           "#FF97FF",
           "#FECB52"
          ],
          "font": {
           "color": "#2a3f5f"
          },
          "geo": {
           "bgcolor": "white",
           "lakecolor": "white",
           "landcolor": "#E5ECF6",
           "showlakes": true,
           "showland": true,
           "subunitcolor": "white"
          },
          "hoverlabel": {
           "align": "left"
          },
          "hovermode": "closest",
          "mapbox": {
           "style": "light"
          },
          "paper_bgcolor": "white",
          "plot_bgcolor": "#E5ECF6",
          "polar": {
           "angularaxis": {
            "gridcolor": "white",
            "linecolor": "white",
            "ticks": ""
           },
           "bgcolor": "#E5ECF6",
           "radialaxis": {
            "gridcolor": "white",
            "linecolor": "white",
            "ticks": ""
           }
          },
          "scene": {
           "xaxis": {
            "backgroundcolor": "#E5ECF6",
            "gridcolor": "white",
            "gridwidth": 2,
            "linecolor": "white",
            "showbackground": true,
            "ticks": "",
            "zerolinecolor": "white"
           },
           "yaxis": {
            "backgroundcolor": "#E5ECF6",
            "gridcolor": "white",
            "gridwidth": 2,
            "linecolor": "white",
            "showbackground": true,
            "ticks": "",
            "zerolinecolor": "white"
           },
           "zaxis": {
            "backgroundcolor": "#E5ECF6",
            "gridcolor": "white",
            "gridwidth": 2,
            "linecolor": "white",
            "showbackground": true,
            "ticks": "",
            "zerolinecolor": "white"
           }
          },
          "shapedefaults": {
           "line": {
            "color": "#2a3f5f"
           }
          },
          "ternary": {
           "aaxis": {
            "gridcolor": "white",
            "linecolor": "white",
            "ticks": ""
           },
           "baxis": {
            "gridcolor": "white",
            "linecolor": "white",
            "ticks": ""
           },
           "bgcolor": "#E5ECF6",
           "caxis": {
            "gridcolor": "white",
            "linecolor": "white",
            "ticks": ""
           }
          },
          "title": {
           "x": 0.05
          },
          "xaxis": {
           "automargin": true,
           "gridcolor": "white",
           "linecolor": "white",
           "ticks": "",
           "title": {
            "standoff": 15
           },
           "zerolinecolor": "white",
           "zerolinewidth": 2
          },
          "yaxis": {
           "automargin": true,
           "gridcolor": "white",
           "linecolor": "white",
           "ticks": "",
           "title": {
            "standoff": 15
           },
           "zerolinecolor": "white",
           "zerolinewidth": 2
          }
         }
        },
        "title": {
         "text": "Global Earthquake Counts and Economic Damages by Country (2000–2024)"
        }
       }
      }
     },
     "metadata": {},
     "output_type": "display_data"
    }
   ],
   "source": [
    "import plotly.express as px\n",
    "import numpy as np\n",
    "\n",
    "# Log-transform the color variable\n",
    "damage_data[\"Log_Total_Damages_Mil\"] = np.log10(damage_data[\"Total_Damages_Mil\"] + 1)  # Add 1 to avoid log(0)\n",
    "\n",
    "# Create the treemap\n",
    "fig = px.treemap(\n",
    "    damage_data,\n",
    "    path=[\"Country Name\"],\n",
    "    values=\"Total_Earthquake_Count\",  # Box size determined by earthquake counts\n",
    "    color=\"Log_Total_Damages_Mil\",  # Log-transformed damages for color scale\n",
    "    title=\"Global Earthquake Counts and Economic Damages by Country (2000–2024)\",\n",
    "    hover_data={\n",
    "        \"Total_Earthquake_Count\": True,\n",
    "        \"Average_Magnitude\": True,\n",
    "        \"Total_Damages_Mil\": True,  # Show original damages in hover\n",
    "        \"Average_Focal_Depth\": True,  # Include aggregated focal depth in hover data\n",
    "        \"Total_Tsunamis\": True  # Include tsunami count in hover data\n",
    "    },\n",
    "    color_continuous_scale=\"reds\"  # Color scale for log-transformed data\n",
    ")\n",
    "#brwnyl, bles, bugn, greens, orrd \n",
    "\n",
    "# Update hover template for custom display\n",
    "fig.update_traces(\n",
    "    customdata=damage_data[[\"Average_Magnitude\", \"Total_Damages_Mil\", \"Average_Focal_Depth\", \"Total_Tsunamis\"]].values,\n",
    "    hovertemplate=\"<b>%{label}</b><br>Earthquake Count: %{value}<br>Total Damage in Dollars: $%{customdata[1]:,.2f}M<br>\"\n",
    "                  \"Average Magnitude: %{customdata[0]:.2f}<br>Average Focal Depth: %{customdata[2]:.2f} km<br>\"\n",
    "                  \"Tsunamis: %{customdata[3]:.0f}<extra></extra>\"\n",
    ")\n",
    "\n",
    "# Update layout to show log-scale description\n",
    "fig.update_layout(\n",
    "    coloraxis_colorbar=dict(\n",
    "        title=\"Economic Damage ($M) (Log Scale)\",\n",
    "        tickvals=[0, 1, 2, 3, 4, 5],  # Custom ticks for better readability\n",
    "        ticktext=[\"1\", \"10\", \"100\", \"1K\", \"10K\", \"100K\"]\n",
    "    )\n",
    ")\n",
    "\n",
    "# Optionally, add a note about the log scaling\n",
    "fig.add_annotation(\n",
    "    xref=\"paper\", yref=\"paper\",\n",
    "    x=1.0, y=-.05,\n",
    "    text=\"*Economic damages use a Log10 scale to reduce skew and dollar values were adjusted to 2024 inflation (CPI from U.S. Bureau of Labor Statistics)\",\n",
    "    showarrow=False,\n",
    "    font=dict(size=8),\n",
    "    align=\"left\"\n",
    ")\n",
    "\n",
    "# Show the treemap\n",
    "fig.show()\n"
   ]
  },
  {
   "cell_type": "markdown",
   "metadata": {},
   "source": [
    "This treemap visualizes global earthquake counts and economic damages (2000–2024), adjusted to 2024 dollar values for inflation using the U.S. Bureau of Labor Statistics CPI. It includes 47 countries with complete damage data, showing both direct and indirect costs like infrastructure repairs and healthcare expenses. Box size represents earthquake counts, while color intensity encodes economic damages, with a logarithmic scale addressing skew from Japan’s $449B in damages. Hovering reveals detailed metrics such as damage amounts, earthquake counts, and average magnitudes. The visualization highlights trends, like Japan’s dominance due to frequent high-magnitude events and the 2011 earthquake, while smaller nations like Haiti demonstrate how localized events can have outsized impacts. This treemap underscores the importance of disaster preparedness and the uneven economic toll of earthquakes worldwide."
   ]
  },
  {
   "cell_type": "code",
   "execution_count": 70,
   "metadata": {},
   "outputs": [
    {
     "data": {
      "application/vnd.plotly.v1+json": {
       "config": {
        "plotlyServerURL": "https://plot.ly"
       },
       "data": [
        {
         "customdata": [
          [
           17
          ],
          [
           16
          ],
          [
           13
          ],
          [
           38
          ],
          [
           32
          ],
          [
           9
          ],
          [
           12
          ],
          [
           9
          ],
          [
           15
          ],
          [
           12
          ],
          [
           25
          ],
          [
           40
          ],
          [
           21
          ],
          [
           34
          ],
          [
           32
          ],
          [
           17
          ],
          [
           32
          ],
          [
           27
          ],
          [
           31
          ],
          [
           23
          ],
          [
           13
          ],
          [
           20
          ],
          [
           24
          ],
          [
           21
          ],
          [
           4
          ]
         ],
         "hovertemplate": "<b>Year:</b> %{x}<br><b>Total Damage:</b> $%{y:,.2f}M<br><b>Total Earthquake Count:</b> %{customdata[0]:.0f}<extra></extra>",
         "marker": {
          "color": "lightgray"
         },
         "name": "Total Damage",
         "type": "bar",
         "x": [
          2000,
          2001,
          2002,
          2003,
          2004,
          2005,
          2006,
          2007,
          2008,
          2009,
          2010,
          2011,
          2012,
          2013,
          2014,
          2015,
          2016,
          2017,
          2018,
          2019,
          2020,
          2021,
          2022,
          2023,
          2024
         ],
         "y": [
          699.21,
          11541.29,
          2885.6699999999996,
          12404.25,
          64288.97,
          10774.53,
          5021.21,
          19407,
          129137.73,
          8184.990000000001,
          67995.68000000001,
          338434.20999999996,
          25318.05,
          11105.28,
          15113.130000000001,
          9028.029999999999,
          44577.4,
          17348.05,
          14631.78,
          9711.69,
          8865.95,
          11993.220000000001,
          11763.64,
          54401.91,
          17602.53
         ]
        },
        {
         "customdata": [
          [
           "CHINA",
           0,
           0,
           0,
           0
          ],
          [
           "CHINA",
           0,
           0,
           0,
           0
          ],
          [
           "CHINA",
           0,
           0,
           0,
           0
          ],
          [
           "CHINA",
           0,
           0,
           0,
           0
          ],
          [
           "CHINA",
           0,
           0,
           0,
           0
          ],
          [
           "CHINA",
           5.38,
           0,
           4,
           27.25
          ],
          [
           "CHINA",
           5.76,
           0,
           5,
           23.8
          ],
          [
           "CHINA",
           5.63,
           0,
           14,
           18.928571428571427
          ],
          [
           "CHINA",
           5.16,
           0,
           5,
           15.8
          ],
          [
           "CHINA",
           5.22,
           0,
           4,
           14.5
          ],
          [
           "CHINA",
           5.97,
           1,
           15,
           15.333333333333334
          ],
          [
           "CHINA",
           5.14,
           0,
           5,
           25
          ],
          [
           "CHINA",
           5.29,
           0,
           10,
           29.9
          ],
          [
           "CHINA",
           5.55,
           0,
           6,
           16
          ],
          [
           "CHINA",
           5.49,
           0,
           10,
           10.2
          ],
          [
           "CHINA",
           5.87,
           0,
           9,
           11.444444444444445
          ],
          [
           "CHINA",
           5.18,
           0,
           6,
           12
          ],
          [
           "CHINA",
           5.5,
           0,
           5,
           23.8
          ],
          [
           "CHINA",
           5.78,
           0,
           6,
           13.833333333333334
          ],
          [
           "CHINA",
           5.32,
           0,
           4,
           11.5
          ],
          [
           "CHINA",
           5.09,
           0,
           7,
           11
          ],
          [
           "CHINA",
           5.5,
           0,
           3,
           8.666666666666666
          ],
          [
           "CHINA",
           6.05,
           0,
           4,
           9.75
          ],
          [
           "CHINA",
           6.08,
           0,
           5,
           16.8
          ],
          [
           "CHINA",
           5.53,
           0,
           3,
           10
          ]
         ],
         "hovertemplate": "<b>Country:</b> %{customdata[0]}<br><b>Year:</b> %{x}<br><b>Earthquake Count:</b> %{customdata[3]:.0f}<br><b>Total Damage:</b> $%{y:,.2f}M<br><b>Average Magnitude:</b> %{customdata[1]:.2f}<br><b>Average Focal Depth:</b> %{customdata[4]:.2f}<br><b>Tsunami Count:</b> %{customdata[2]:.0f}<extra></extra>",
         "marker": {
          "line": {
           "color": "black",
           "width": 0.5
          },
          "opacity": 0.8
         },
         "name": "CHINA",
         "type": "bar",
         "visible": false,
         "x": [
          2002,
          2005,
          2006,
          2009,
          2024,
          2000,
          2001,
          2003,
          2004,
          2007,
          2008,
          2010,
          2011,
          2012,
          2013,
          2014,
          2015,
          2016,
          2017,
          2018,
          2019,
          2020,
          2021,
          2022,
          2023
         ],
         "y": [
          0,
          0,
          0,
          0,
          0,
          211.35,
          64.31,
          196.97,
          205.69,
          465.9,
          129137.73,
          720.11,
          14.69,
          1583.81,
          10060.25,
          7582,
          39.57,
          262.15,
          839.34,
          102.09,
          1599.36,
          34.27,
          338.53,
          1484.74,
          2125.04
         ]
        },
        {
         "customdata": [
          [
           "ICELAND",
           0,
           0,
           0,
           0
          ],
          [
           "ICELAND",
           0,
           0,
           0,
           0
          ],
          [
           "ICELAND",
           0,
           0,
           0,
           0
          ],
          [
           "ICELAND",
           0,
           0,
           0,
           0
          ],
          [
           "ICELAND",
           0,
           0,
           0,
           0
          ],
          [
           "ICELAND",
           0,
           0,
           0,
           0
          ],
          [
           "ICELAND",
           0,
           0,
           0,
           0
          ],
          [
           "ICELAND",
           0,
           0,
           0,
           0
          ],
          [
           "ICELAND",
           0,
           0,
           0,
           0
          ],
          [
           "ICELAND",
           0,
           0,
           0,
           0
          ],
          [
           "ICELAND",
           0,
           0,
           0,
           0
          ],
          [
           "ICELAND",
           0,
           0,
           0,
           0
          ],
          [
           "ICELAND",
           0,
           0,
           0,
           0
          ],
          [
           "ICELAND",
           0,
           0,
           0,
           0
          ],
          [
           "ICELAND",
           0,
           0,
           0,
           0
          ],
          [
           "ICELAND",
           0,
           0,
           0,
           0
          ],
          [
           "ICELAND",
           0,
           0,
           0,
           0
          ],
          [
           "ICELAND",
           0,
           0,
           0,
           0
          ],
          [
           "ICELAND",
           0,
           0,
           0,
           0
          ],
          [
           "ICELAND",
           0,
           0,
           0,
           0
          ],
          [
           "ICELAND",
           0,
           0,
           0,
           0
          ],
          [
           "ICELAND",
           0,
           0,
           0,
           0
          ],
          [
           "ICELAND",
           0,
           0,
           0,
           0
          ],
          [
           "ICELAND",
           0,
           0,
           0,
           0
          ],
          [
           "ICELAND",
           6.5,
           0,
           2,
           10
          ]
         ],
         "hovertemplate": "<b>Country:</b> %{customdata[0]}<br><b>Year:</b> %{x}<br><b>Earthquake Count:</b> %{customdata[3]:.0f}<br><b>Total Damage:</b> $%{y:,.2f}M<br><b>Average Magnitude:</b> %{customdata[1]:.2f}<br><b>Average Focal Depth:</b> %{customdata[4]:.2f}<br><b>Tsunami Count:</b> %{customdata[2]:.0f}<extra></extra>",
         "marker": {
          "line": {
           "color": "black",
           "width": 0.5
          },
          "opacity": 0.8
         },
         "name": "ICELAND",
         "type": "bar",
         "visible": false,
         "x": [
          2001,
          2002,
          2003,
          2004,
          2005,
          2006,
          2007,
          2008,
          2009,
          2010,
          2011,
          2012,
          2013,
          2014,
          2015,
          2016,
          2017,
          2018,
          2019,
          2020,
          2021,
          2022,
          2023,
          2024,
          2000
         ],
         "y": [
          0,
          0,
          0,
          0,
          0,
          0,
          0,
          0,
          0,
          0,
          0,
          0,
          0,
          0,
          0,
          0,
          0,
          0,
          0,
          0,
          0,
          0,
          0,
          0,
          58.05
         ]
        },
        {
         "customdata": [
          [
           "INDONESIA",
           0,
           0,
           0,
           0
          ],
          [
           "INDONESIA",
           0,
           0,
           0,
           0
          ],
          [
           "INDONESIA",
           0,
           0,
           0,
           0
          ],
          [
           "INDONESIA",
           0,
           0,
           0,
           0
          ],
          [
           "INDONESIA",
           0,
           0,
           0,
           0
          ],
          [
           "INDONESIA",
           0,
           0,
           0,
           0
          ],
          [
           "INDONESIA",
           0,
           0,
           0,
           0
          ],
          [
           "INDONESIA",
           0,
           0,
           0,
           0
          ],
          [
           "INDONESIA",
           0,
           0,
           0,
           0
          ],
          [
           "INDONESIA",
           0,
           0,
           0,
           0
          ],
          [
           "INDONESIA",
           0,
           0,
           0,
           0
          ],
          [
           "INDONESIA",
           0,
           0,
           0,
           0
          ],
          [
           "INDONESIA",
           0,
           0,
           0,
           0
          ],
          [
           "INDONESIA",
           6.9,
           1,
           4,
           31.25
          ],
          [
           "INDONESIA",
           6.6,
           3,
           12,
           38.75
          ],
          [
           "INDONESIA",
           6.33,
           2,
           7,
           19.714285714285715
          ],
          [
           "INDONESIA",
           6.23,
           2,
           10,
           66.4
          ],
          [
           "INDONESIA",
           6.76,
           4,
           7,
           39.42857142857143
          ],
          [
           "INDONESIA",
           6.98,
           2,
           5,
           34.4
          ],
          [
           "INDONESIA",
           5.68,
           0,
           5,
           28.4
          ],
          [
           "INDONESIA",
           6.7,
           0,
           3,
           28.666666666666668
          ],
          [
           "INDONESIA",
           6.4,
           1,
           6,
           23.833333333333332
          ],
          [
           "INDONESIA",
           5.98,
           4,
           13,
           17.384615384615383
          ],
          [
           "INDONESIA",
           5.98,
           2,
           6,
           24.333333333333332
          ],
          [
           "INDONESIA",
           6.08,
           0,
           4,
           20
          ]
         ],
         "hovertemplate": "<b>Country:</b> %{customdata[0]}<br><b>Year:</b> %{x}<br><b>Earthquake Count:</b> %{customdata[3]:.0f}<br><b>Total Damage:</b> $%{y:,.2f}M<br><b>Average Magnitude:</b> %{customdata[1]:.2f}<br><b>Average Focal Depth:</b> %{customdata[4]:.2f}<br><b>Tsunami Count:</b> %{customdata[2]:.0f}<extra></extra>",
         "marker": {
          "line": {
           "color": "black",
           "width": 0.5
          },
          "opacity": 0.8
         },
         "name": "INDONESIA",
         "type": "bar",
         "visible": false,
         "x": [
          2001,
          2002,
          2003,
          2007,
          2008,
          2011,
          2012,
          2014,
          2017,
          2019,
          2020,
          2023,
          2024,
          2000,
          2004,
          2005,
          2006,
          2009,
          2010,
          2013,
          2015,
          2016,
          2018,
          2021,
          2022
         ],
         "y": [
          0,
          0,
          0,
          0,
          0,
          0,
          0,
          0,
          0,
          0,
          0,
          0,
          0,
          65.31,
          16700.5,
          59.92,
          4935.18,
          3234.03,
          56.17,
          153.06,
          12.01,
          130.75,
          2524.23,
          66.46,
          273.34
         ]
        },
        {
         "customdata": [
          [
           "JAPAN",
           0,
           0,
           0,
           0
          ],
          [
           "JAPAN",
           0,
           0,
           0,
           0
          ],
          [
           "JAPAN",
           0,
           0,
           0,
           0
          ],
          [
           "JAPAN",
           0,
           0,
           0,
           0
          ],
          [
           "JAPAN",
           0,
           0,
           0,
           0
          ],
          [
           "JAPAN",
           0,
           0,
           0,
           0
          ],
          [
           "JAPAN",
           0,
           0,
           0,
           0
          ],
          [
           "JAPAN",
           0,
           0,
           0,
           0
          ],
          [
           "JAPAN",
           0,
           0,
           0,
           0
          ],
          [
           "JAPAN",
           0,
           0,
           0,
           0
          ],
          [
           "JAPAN",
           0,
           0,
           0,
           0
          ],
          [
           "JAPAN",
           0,
           0,
           0,
           0
          ],
          [
           "JAPAN",
           0,
           0,
           0,
           0
          ],
          [
           "JAPAN",
           6.6,
           3,
           5,
           33.4
          ],
          [
           "JAPAN",
           6.8,
           0,
           1,
           50
          ],
          [
           "JAPAN",
           6.45,
           2,
           6,
           40.833333333333336
          ],
          [
           "JAPAN",
           6.52,
           3,
           8,
           18.5
          ],
          [
           "JAPAN",
           6.35,
           2,
           4,
           73.5
          ],
          [
           "JAPAN",
           7.39,
           5,
           8,
           26.75
          ],
          [
           "JAPAN",
           6.33,
           1,
           3,
           36
          ],
          [
           "JAPAN",
           6.52,
           2,
           4,
           8.75
          ],
          [
           "JAPAN",
           5.8,
           1,
           4,
           16.25
          ],
          [
           "JAPAN",
           7.05,
           1,
           2,
           46
          ],
          [
           "JAPAN",
           7.3,
           1,
           1,
           63
          ],
          [
           "JAPAN",
           6.73,
           3,
           3,
           15.333333333333334
          ]
         ],
         "hovertemplate": "<b>Country:</b> %{customdata[0]}<br><b>Year:</b> %{x}<br><b>Earthquake Count:</b> %{customdata[3]:.0f}<br><b>Total Damage:</b> $%{y:,.2f}M<br><b>Average Magnitude:</b> %{customdata[1]:.2f}<br><b>Average Focal Depth:</b> %{customdata[4]:.2f}<br><b>Tsunami Count:</b> %{customdata[2]:.0f}<extra></extra>",
         "marker": {
          "line": {
           "color": "black",
           "width": 0.5
          },
          "opacity": 0.8
         },
         "name": "JAPAN",
         "type": "bar",
         "visible": true,
         "x": [
          2002,
          2005,
          2006,
          2008,
          2009,
          2010,
          2012,
          2013,
          2015,
          2017,
          2019,
          2020,
          2023,
          2000,
          2001,
          2003,
          2004,
          2007,
          2011,
          2014,
          2016,
          2018,
          2021,
          2022,
          2024
         ],
         "y": [
          0,
          0,
          0,
          0,
          0,
          0,
          0,
          0,
          0,
          0,
          0,
          0,
          0,
          272.12,
          893.22,
          1257.18,
          46445.57,
          18786.3,
          307921.23,
          2.69,
          26280.06,
          11308.13,
          9340.78,
          9359.4,
          17600
         ]
        },
        {
         "customdata": [
          [
           "RUSSIA",
           0,
           0,
           0,
           0
          ],
          [
           "RUSSIA",
           0,
           0,
           0,
           0
          ],
          [
           "RUSSIA",
           0,
           0,
           0,
           0
          ],
          [
           "RUSSIA",
           0,
           0,
           0,
           0
          ],
          [
           "RUSSIA",
           0,
           0,
           0,
           0
          ],
          [
           "RUSSIA",
           0,
           0,
           0,
           0
          ],
          [
           "RUSSIA",
           0,
           0,
           0,
           0
          ],
          [
           "RUSSIA",
           0,
           0,
           0,
           0
          ],
          [
           "RUSSIA",
           0,
           0,
           0,
           0
          ],
          [
           "RUSSIA",
           0,
           0,
           0,
           0
          ],
          [
           "RUSSIA",
           0,
           0,
           0,
           0
          ],
          [
           "RUSSIA",
           0,
           0,
           0,
           0
          ],
          [
           "RUSSIA",
           0,
           0,
           0,
           0
          ],
          [
           "RUSSIA",
           0,
           0,
           0,
           0
          ],
          [
           "RUSSIA",
           0,
           0,
           0,
           0
          ],
          [
           "RUSSIA",
           0,
           0,
           0,
           0
          ],
          [
           "RUSSIA",
           0,
           0,
           0,
           0
          ],
          [
           "RUSSIA",
           0,
           0,
           0,
           0
          ],
          [
           "RUSSIA",
           0,
           0,
           0,
           0
          ],
          [
           "RUSSIA",
           0,
           0,
           0,
           0
          ],
          [
           "RUSSIA",
           0,
           0,
           0,
           0
          ],
          [
           "RUSSIA",
           0,
           0,
           0,
           0
          ],
          [
           "RUSSIA",
           6.8,
           0,
           1,
           10
          ],
          [
           "RUSSIA",
           6.13,
           0,
           3,
           12
          ],
          [
           "RUSSIA",
           7.95,
           1,
           2,
           16
          ]
         ],
         "hovertemplate": "<b>Country:</b> %{customdata[0]}<br><b>Year:</b> %{x}<br><b>Earthquake Count:</b> %{customdata[3]:.0f}<br><b>Total Damage:</b> $%{y:,.2f}M<br><b>Average Magnitude:</b> %{customdata[1]:.2f}<br><b>Average Focal Depth:</b> %{customdata[4]:.2f}<br><b>Tsunami Count:</b> %{customdata[2]:.0f}<extra></extra>",
         "marker": {
          "line": {
           "color": "black",
           "width": 0.5
          },
          "opacity": 0.8
         },
         "name": "RUSSIA",
         "type": "bar",
         "visible": false,
         "x": [
          2001,
          2002,
          2004,
          2005,
          2007,
          2008,
          2009,
          2010,
          2011,
          2012,
          2013,
          2014,
          2015,
          2016,
          2017,
          2018,
          2019,
          2020,
          2021,
          2022,
          2023,
          2024,
          2000,
          2003,
          2006
         ],
         "y": [
          0,
          0,
          0,
          0,
          0,
          0,
          0,
          0,
          0,
          0,
          0,
          0,
          0,
          0,
          0,
          0,
          0,
          0,
          0,
          0,
          0,
          0,
          1.67,
          18.16,
          86.03
         ]
        },
        {
         "customdata": [
          [
           "UNITED STATES",
           0,
           0,
           0,
           0
          ],
          [
           "UNITED STATES",
           0,
           0,
           0,
           0
          ],
          [
           "UNITED STATES",
           0,
           0,
           0,
           0
          ],
          [
           "UNITED STATES",
           0,
           0,
           0,
           0
          ],
          [
           "UNITED STATES",
           0,
           0,
           0,
           0
          ],
          [
           "UNITED STATES",
           0,
           0,
           0,
           0
          ],
          [
           "UNITED STATES",
           0,
           0,
           0,
           0
          ],
          [
           "UNITED STATES",
           0,
           0,
           0,
           0
          ],
          [
           "UNITED STATES",
           0,
           0,
           0,
           0
          ],
          [
           "UNITED STATES",
           0,
           0,
           0,
           0
          ],
          [
           "UNITED STATES",
           0,
           0,
           0,
           0
          ],
          [
           "UNITED STATES",
           0,
           0,
           0,
           0
          ],
          [
           "UNITED STATES",
           5,
           0,
           1,
           10
          ],
          [
           "UNITED STATES",
           5.5,
           0,
           2,
           28.5
          ],
          [
           "UNITED STATES",
           6.6,
           0,
           3,
           6.666666666666667
          ],
          [
           "UNITED STATES",
           5.64,
           1,
           5,
           13
          ],
          [
           "UNITED STATES",
           5.33,
           0,
           3,
           13
          ],
          [
           "UNITED STATES",
           5.59,
           2,
           7,
           15
          ],
          [
           "UNITED STATES",
           4.8,
           1,
           2,
           5
          ],
          [
           "UNITED STATES",
           5.5,
           2,
           6,
           24.333333333333332
          ],
          [
           "UNITED STATES",
           6.05,
           0,
           2,
           65
          ],
          [
           "UNITED STATES",
           6.37,
           1,
           3,
           25.333333333333332
          ],
          [
           "UNITED STATES",
           6.75,
           0,
           2,
           9.5
          ],
          [
           "UNITED STATES",
           6.55,
           2,
           4,
           20.25
          ],
          [
           "UNITED STATES",
           6.4,
           0,
           1,
           17
          ]
         ],
         "hovertemplate": "<b>Country:</b> %{customdata[0]}<br><b>Year:</b> %{x}<br><b>Earthquake Count:</b> %{customdata[3]:.0f}<br><b>Total Damage:</b> $%{y:,.2f}M<br><b>Average Magnitude:</b> %{customdata[1]:.2f}<br><b>Average Focal Depth:</b> %{customdata[4]:.2f}<br><b>Tsunami Count:</b> %{customdata[2]:.0f}<extra></extra>",
         "marker": {
          "line": {
           "color": "black",
           "width": 0.5
          },
          "opacity": 0.8
         },
         "name": "UNITED STATES",
         "type": "bar",
         "visible": false,
         "x": [
          2004,
          2005,
          2006,
          2007,
          2008,
          2009,
          2012,
          2015,
          2017,
          2021,
          2023,
          2024,
          2000,
          2001,
          2002,
          2003,
          2010,
          2011,
          2013,
          2014,
          2016,
          2018,
          2019,
          2020,
          2022
         ],
         "y": [
          0,
          0,
          0,
          0,
          0,
          0,
          0,
          0,
          0,
          0,
          0,
          0,
          90.71,
          3572.88,
          97.72,
          513.83,
          31.4,
          279.75,
          135.45,
          955.55,
          26.15,
          188.47,
          6571.88,
          121.19,
          265.89
         ]
        },
        {
         "customdata": [
          [
           "EL SALVADOR",
           0,
           0,
           0,
           0
          ],
          [
           "EL SALVADOR",
           0,
           0,
           0,
           0
          ],
          [
           "EL SALVADOR",
           0,
           0,
           0,
           0
          ],
          [
           "EL SALVADOR",
           0,
           0,
           0,
           0
          ],
          [
           "EL SALVADOR",
           0,
           0,
           0,
           0
          ],
          [
           "EL SALVADOR",
           0,
           0,
           0,
           0
          ],
          [
           "EL SALVADOR",
           0,
           0,
           0,
           0
          ],
          [
           "EL SALVADOR",
           0,
           0,
           0,
           0
          ],
          [
           "EL SALVADOR",
           0,
           0,
           0,
           0
          ],
          [
           "EL SALVADOR",
           0,
           0,
           0,
           0
          ],
          [
           "EL SALVADOR",
           0,
           0,
           0,
           0
          ],
          [
           "EL SALVADOR",
           0,
           0,
           0,
           0
          ],
          [
           "EL SALVADOR",
           0,
           0,
           0,
           0
          ],
          [
           "EL SALVADOR",
           0,
           0,
           0,
           0
          ],
          [
           "EL SALVADOR",
           0,
           0,
           0,
           0
          ],
          [
           "EL SALVADOR",
           0,
           0,
           0,
           0
          ],
          [
           "EL SALVADOR",
           0,
           0,
           0,
           0
          ],
          [
           "EL SALVADOR",
           0,
           0,
           0,
           0
          ],
          [
           "EL SALVADOR",
           0,
           0,
           0,
           0
          ],
          [
           "EL SALVADOR",
           0,
           0,
           0,
           0
          ],
          [
           "EL SALVADOR",
           0,
           0,
           0,
           0
          ],
          [
           "EL SALVADOR",
           0,
           0,
           0,
           0
          ],
          [
           "EL SALVADOR",
           0,
           0,
           0,
           0
          ],
          [
           "EL SALVADOR",
           0,
           0,
           0,
           0
          ],
          [
           "EL SALVADOR",
           6.67,
           1,
           3,
           26.666666666666668
          ]
         ],
         "hovertemplate": "<b>Country:</b> %{customdata[0]}<br><b>Year:</b> %{x}<br><b>Earthquake Count:</b> %{customdata[3]:.0f}<br><b>Total Damage:</b> $%{y:,.2f}M<br><b>Average Magnitude:</b> %{customdata[1]:.2f}<br><b>Average Focal Depth:</b> %{customdata[4]:.2f}<br><b>Tsunami Count:</b> %{customdata[2]:.0f}<extra></extra>",
         "marker": {
          "line": {
           "color": "black",
           "width": 0.5
          },
          "opacity": 0.8
         },
         "name": "EL SALVADOR",
         "type": "bar",
         "visible": false,
         "x": [
          2000,
          2002,
          2003,
          2004,
          2005,
          2006,
          2007,
          2008,
          2009,
          2010,
          2011,
          2012,
          2013,
          2014,
          2015,
          2016,
          2017,
          2018,
          2019,
          2020,
          2021,
          2022,
          2023,
          2024,
          2001
         ],
         "y": [
          0,
          0,
          0,
          0,
          0,
          0,
          0,
          0,
          0,
          0,
          0,
          0,
          0,
          0,
          0,
          0,
          0,
          0,
          0,
          0,
          0,
          0,
          0,
          0,
          1967.76
         ]
        },
        {
         "customdata": [
          [
           "INDIA",
           0,
           0,
           0,
           0
          ],
          [
           "INDIA",
           0,
           0,
           0,
           0
          ],
          [
           "INDIA",
           0,
           0,
           0,
           0
          ],
          [
           "INDIA",
           0,
           0,
           0,
           0
          ],
          [
           "INDIA",
           0,
           0,
           0,
           0
          ],
          [
           "INDIA",
           0,
           0,
           0,
           0
          ],
          [
           "INDIA",
           0,
           0,
           0,
           0
          ],
          [
           "INDIA",
           0,
           0,
           0,
           0
          ],
          [
           "INDIA",
           0,
           0,
           0,
           0
          ],
          [
           "INDIA",
           0,
           0,
           0,
           0
          ],
          [
           "INDIA",
           0,
           0,
           0,
           0
          ],
          [
           "INDIA",
           0,
           0,
           0,
           0
          ],
          [
           "INDIA",
           0,
           0,
           0,
           0
          ],
          [
           "INDIA",
           0,
           0,
           0,
           0
          ],
          [
           "INDIA",
           0,
           0,
           0,
           0
          ],
          [
           "INDIA",
           0,
           0,
           0,
           0
          ],
          [
           "INDIA",
           0,
           0,
           0,
           0
          ],
          [
           "INDIA",
           0,
           0,
           0,
           0
          ],
          [
           "INDIA",
           0,
           0,
           0,
           0
          ],
          [
           "INDIA",
           0,
           0,
           0,
           0
          ],
          [
           "INDIA",
           0,
           0,
           0,
           0
          ],
          [
           "INDIA",
           7.6,
           0,
           1,
           17
          ],
          [
           "INDIA",
           5.1,
           0,
           5,
           38.8
          ],
          [
           "INDIA",
           5.45,
           0,
           2,
           28.5
          ],
          [
           "INDIA",
           6.8,
           0,
           2,
           95.5
          ]
         ],
         "hovertemplate": "<b>Country:</b> %{customdata[0]}<br><b>Year:</b> %{x}<br><b>Earthquake Count:</b> %{customdata[3]:.0f}<br><b>Total Damage:</b> $%{y:,.2f}M<br><b>Average Magnitude:</b> %{customdata[1]:.2f}<br><b>Average Focal Depth:</b> %{customdata[4]:.2f}<br><b>Tsunami Count:</b> %{customdata[2]:.0f}<extra></extra>",
         "marker": {
          "line": {
           "color": "black",
           "width": 0.5
          },
          "opacity": 0.8
         },
         "name": "INDIA",
         "type": "bar",
         "visible": false,
         "x": [
          2000,
          2002,
          2003,
          2004,
          2005,
          2006,
          2007,
          2008,
          2009,
          2010,
          2012,
          2014,
          2015,
          2017,
          2018,
          2019,
          2020,
          2021,
          2022,
          2023,
          2024,
          2001,
          2011,
          2013,
          2016
         ],
         "y": [
          0,
          0,
          0,
          0,
          0,
          0,
          0,
          0,
          0,
          0,
          0,
          0,
          0,
          0,
          0,
          0,
          0,
          0,
          0,
          0,
          0,
          4685.83,
          2937.42,
          26.41,
          98.06
         ]
        },
        {
         "customdata": [
          [
           "PERU",
           0,
           0,
           0,
           0
          ],
          [
           "PERU",
           0,
           0,
           0,
           0
          ],
          [
           "PERU",
           0,
           0,
           0,
           0
          ],
          [
           "PERU",
           0,
           0,
           0,
           0
          ],
          [
           "PERU",
           0,
           0,
           0,
           0
          ],
          [
           "PERU",
           0,
           0,
           0,
           0
          ],
          [
           "PERU",
           0,
           0,
           0,
           0
          ],
          [
           "PERU",
           0,
           0,
           0,
           0
          ],
          [
           "PERU",
           0,
           0,
           0,
           0
          ],
          [
           "PERU",
           0,
           0,
           0,
           0
          ],
          [
           "PERU",
           0,
           0,
           0,
           0
          ],
          [
           "PERU",
           0,
           0,
           0,
           0
          ],
          [
           "PERU",
           0,
           0,
           0,
           0
          ],
          [
           "PERU",
           0,
           0,
           0,
           0
          ],
          [
           "PERU",
           0,
           0,
           0,
           0
          ],
          [
           "PERU",
           0,
           0,
           0,
           0
          ],
          [
           "PERU",
           0,
           0,
           0,
           0
          ],
          [
           "PERU",
           0,
           0,
           0,
           0
          ],
          [
           "PERU",
           0,
           0,
           0,
           0
          ],
          [
           "PERU",
           0,
           0,
           0,
           0
          ],
          [
           "PERU",
           0,
           0,
           0,
           0
          ],
          [
           "PERU",
           0,
           0,
           0,
           0
          ],
          [
           "PERU",
           0,
           0,
           0,
           0
          ],
          [
           "PERU",
           0,
           0,
           0,
           0
          ],
          [
           "PERU",
           7.1,
           1,
           4,
           40.25
          ]
         ],
         "hovertemplate": "<b>Country:</b> %{customdata[0]}<br><b>Year:</b> %{x}<br><b>Earthquake Count:</b> %{customdata[3]:.0f}<br><b>Total Damage:</b> $%{y:,.2f}M<br><b>Average Magnitude:</b> %{customdata[1]:.2f}<br><b>Average Focal Depth:</b> %{customdata[4]:.2f}<br><b>Tsunami Count:</b> %{customdata[2]:.0f}<extra></extra>",
         "marker": {
          "line": {
           "color": "black",
           "width": 0.5
          },
          "opacity": 0.8
         },
         "name": "PERU",
         "type": "bar",
         "visible": false,
         "x": [
          2000,
          2002,
          2003,
          2004,
          2005,
          2006,
          2007,
          2008,
          2009,
          2010,
          2011,
          2012,
          2013,
          2014,
          2015,
          2016,
          2017,
          2018,
          2019,
          2020,
          2021,
          2022,
          2023,
          2024,
          2001
         ],
         "y": [
          0,
          0,
          0,
          0,
          0,
          0,
          0,
          0,
          0,
          0,
          0,
          0,
          0,
          0,
          0,
          0,
          0,
          0,
          0,
          0,
          0,
          0,
          0,
          0,
          357.29
         ]
        },
        {
         "customdata": [
          [
           "IRAN",
           0,
           0,
           0,
           0
          ],
          [
           "IRAN",
           0,
           0,
           0,
           0
          ],
          [
           "IRAN",
           0,
           0,
           0,
           0
          ],
          [
           "IRAN",
           0,
           0,
           0,
           0
          ],
          [
           "IRAN",
           0,
           0,
           0,
           0
          ],
          [
           "IRAN",
           0,
           0,
           0,
           0
          ],
          [
           "IRAN",
           0,
           0,
           0,
           0
          ],
          [
           "IRAN",
           0,
           0,
           0,
           0
          ],
          [
           "IRAN",
           0,
           0,
           0,
           0
          ],
          [
           "IRAN",
           0,
           0,
           0,
           0
          ],
          [
           "IRAN",
           0,
           0,
           0,
           0
          ],
          [
           "IRAN",
           0,
           0,
           0,
           0
          ],
          [
           "IRAN",
           0,
           0,
           0,
           0
          ],
          [
           "IRAN",
           0,
           0,
           0,
           0
          ],
          [
           "IRAN",
           0,
           0,
           0,
           0
          ],
          [
           "IRAN",
           5.55,
           0,
           6,
           21.5
          ],
          [
           "IRAN",
           5.56,
           0,
           5,
           25.4
          ],
          [
           "IRAN",
           5.32,
           0,
           6,
           34
          ],
          [
           "IRAN",
           5.62,
           0,
           5,
           10.6
          ],
          [
           "IRAN",
           6.48,
           0,
           4,
           28.75
          ],
          [
           "IRAN",
           5.57,
           0,
           3,
           9.333333333333334
          ],
          [
           "IRAN",
           5.51,
           0,
           8,
           17.75
          ],
          [
           "IRAN",
           5.73,
           0,
           3,
           8.333333333333334
          ],
          [
           "IRAN",
           5.8,
           0,
           2,
           15.5
          ],
          [
           "IRAN",
           5.8,
           0,
           2,
           17.5
          ]
         ],
         "hovertemplate": "<b>Country:</b> %{customdata[0]}<br><b>Year:</b> %{x}<br><b>Earthquake Count:</b> %{customdata[3]:.0f}<br><b>Total Damage:</b> $%{y:,.2f}M<br><b>Average Magnitude:</b> %{customdata[1]:.2f}<br><b>Average Focal Depth:</b> %{customdata[4]:.2f}<br><b>Tsunami Count:</b> %{customdata[2]:.0f}<extra></extra>",
         "marker": {
          "line": {
           "color": "black",
           "width": 0.5
          },
          "opacity": 0.8
         },
         "name": "IRAN",
         "type": "bar",
         "visible": false,
         "x": [
          2000,
          2001,
          2005,
          2006,
          2007,
          2008,
          2009,
          2010,
          2011,
          2015,
          2016,
          2018,
          2019,
          2020,
          2024,
          2002,
          2003,
          2004,
          2012,
          2013,
          2014,
          2017,
          2021,
          2022,
          2023
         ],
         "y": [
          0,
          0,
          0,
          0,
          0,
          0,
          0,
          0,
          0,
          0,
          0,
          0,
          0,
          0,
          0,
          523.49,
          893.38,
          273.7,
          823.53,
          402.29,
          60.49,
          962.91,
          198.14,
          151.03,
          313.87
         ]
        },
        {
         "customdata": [
          [
           "ITALY",
           0,
           0,
           0,
           0
          ],
          [
           "ITALY",
           0,
           0,
           0,
           0
          ],
          [
           "ITALY",
           0,
           0,
           0,
           0
          ],
          [
           "ITALY",
           0,
           0,
           0,
           0
          ],
          [
           "ITALY",
           0,
           0,
           0,
           0
          ],
          [
           "ITALY",
           0,
           0,
           0,
           0
          ],
          [
           "ITALY",
           0,
           0,
           0,
           0
          ],
          [
           "ITALY",
           0,
           0,
           0,
           0
          ],
          [
           "ITALY",
           0,
           0,
           0,
           0
          ],
          [
           "ITALY",
           0,
           0,
           0,
           0
          ],
          [
           "ITALY",
           0,
           0,
           0,
           0
          ],
          [
           "ITALY",
           0,
           0,
           0,
           0
          ],
          [
           "ITALY",
           0,
           0,
           0,
           0
          ],
          [
           "ITALY",
           0,
           0,
           0,
           0
          ],
          [
           "ITALY",
           0,
           0,
           0,
           0
          ],
          [
           "ITALY",
           0,
           0,
           0,
           0
          ],
          [
           "ITALY",
           0,
           0,
           0,
           0
          ],
          [
           "ITALY",
           0,
           0,
           0,
           0
          ],
          [
           "ITALY",
           5.33,
           0,
           3,
           8.333333333333334
          ],
          [
           "ITALY",
           5,
           0,
           3,
           7
          ],
          [
           "ITALY",
           5.9,
           0,
           2,
           12
          ],
          [
           "ITALY",
           5.7,
           0,
           3,
           7
          ],
          [
           "ITALY",
           6.3,
           0,
           3,
           7.333333333333333
          ],
          [
           "ITALY",
           4.95,
           0,
           2,
           5
          ],
          [
           "ITALY",
           4.85,
           0,
           2,
           5.5
          ]
         ],
         "hovertemplate": "<b>Country:</b> %{customdata[0]}<br><b>Year:</b> %{x}<br><b>Earthquake Count:</b> %{customdata[3]:.0f}<br><b>Total Damage:</b> $%{y:,.2f}M<br><b>Average Magnitude:</b> %{customdata[1]:.2f}<br><b>Average Focal Depth:</b> %{customdata[4]:.2f}<br><b>Tsunami Count:</b> %{customdata[2]:.0f}<extra></extra>",
         "marker": {
          "line": {
           "color": "black",
           "width": 0.5
          },
          "opacity": 0.8
         },
         "name": "ITALY",
         "type": "bar",
         "visible": false,
         "x": [
          2000,
          2001,
          2004,
          2005,
          2006,
          2007,
          2008,
          2010,
          2011,
          2013,
          2014,
          2015,
          2019,
          2020,
          2021,
          2022,
          2023,
          2024,
          2002,
          2003,
          2009,
          2012,
          2016,
          2017,
          2018
         ],
         "y": [
          0,
          0,
          0,
          0,
          0,
          0,
          0,
          0,
          0,
          0,
          0,
          0,
          0,
          0,
          0,
          0,
          0,
          0,
          2261.47,
          960.87,
          3654.38,
          21722.43,
          6798.82,
          23.05,
          144.49
         ]
        },
        {
         "customdata": [
          [
           "PHILIPPINES",
           0,
           0,
           0,
           0
          ],
          [
           "PHILIPPINES",
           0,
           0,
           0,
           0
          ],
          [
           "PHILIPPINES",
           0,
           0,
           0,
           0
          ],
          [
           "PHILIPPINES",
           0,
           0,
           0,
           0
          ],
          [
           "PHILIPPINES",
           0,
           0,
           0,
           0
          ],
          [
           "PHILIPPINES",
           0,
           0,
           0,
           0
          ],
          [
           "PHILIPPINES",
           0,
           0,
           0,
           0
          ],
          [
           "PHILIPPINES",
           0,
           0,
           0,
           0
          ],
          [
           "PHILIPPINES",
           0,
           0,
           0,
           0
          ],
          [
           "PHILIPPINES",
           0,
           0,
           0,
           0
          ],
          [
           "PHILIPPINES",
           0,
           0,
           0,
           0
          ],
          [
           "PHILIPPINES",
           0,
           0,
           0,
           0
          ],
          [
           "PHILIPPINES",
           0,
           0,
           0,
           0
          ],
          [
           "PHILIPPINES",
           0,
           0,
           0,
           0
          ],
          [
           "PHILIPPINES",
           0,
           0,
           0,
           0
          ],
          [
           "PHILIPPINES",
           0,
           0,
           0,
           0
          ],
          [
           "PHILIPPINES",
           0,
           0,
           0,
           0
          ],
          [
           "PHILIPPINES",
           7.5,
           1,
           1,
           31
          ],
          [
           "PHILIPPINES",
           6.42,
           1,
           4,
           23.5
          ],
          [
           "PHILIPPINES",
           6.4,
           0,
           2,
           14.5
          ],
          [
           "PHILIPPINES",
           6.03,
           1,
           7,
           14.285714285714286
          ],
          [
           "PHILIPPINES",
           6.19,
           0,
           9,
           16.125
          ],
          [
           "PHILIPPINES",
           6.6,
           0,
           1,
           10
          ],
          [
           "PHILIPPINES",
           6.7,
           1,
           2,
           18.5
          ],
          [
           "PHILIPPINES",
           6.77,
           1,
           3,
           49.333333333333336
          ]
         ],
         "hovertemplate": "<b>Country:</b> %{customdata[0]}<br><b>Year:</b> %{x}<br><b>Earthquake Count:</b> %{customdata[3]:.0f}<br><b>Total Damage:</b> $%{y:,.2f}M<br><b>Average Magnitude:</b> %{customdata[1]:.2f}<br><b>Average Focal Depth:</b> %{customdata[4]:.2f}<br><b>Tsunami Count:</b> %{customdata[2]:.0f}<extra></extra>",
         "marker": {
          "line": {
           "color": "black",
           "width": 0.5
          },
          "opacity": 0.8
         },
         "name": "PHILIPPINES",
         "type": "bar",
         "visible": false,
         "x": [
          2000,
          2001,
          2003,
          2004,
          2005,
          2006,
          2007,
          2008,
          2009,
          2010,
          2011,
          2014,
          2015,
          2016,
          2018,
          2021,
          2024,
          2002,
          2012,
          2013,
          2017,
          2019,
          2020,
          2022,
          2023
         ],
         "y": [
          0,
          0,
          0,
          0,
          0,
          0,
          0,
          0,
          0,
          0,
          0,
          0,
          0,
          0,
          0,
          0,
          0,
          2.99,
          12.79,
          70.16,
          60.18,
          63.43,
          0.69,
          53.1,
          56.57
         ]
        },
        {
         "customdata": [
          [
           "ALGERIA",
           0,
           0,
           0,
           0
          ],
          [
           "ALGERIA",
           0,
           0,
           0,
           0
          ],
          [
           "ALGERIA",
           0,
           0,
           0,
           0
          ],
          [
           "ALGERIA",
           0,
           0,
           0,
           0
          ],
          [
           "ALGERIA",
           0,
           0,
           0,
           0
          ],
          [
           "ALGERIA",
           0,
           0,
           0,
           0
          ],
          [
           "ALGERIA",
           0,
           0,
           0,
           0
          ],
          [
           "ALGERIA",
           0,
           0,
           0,
           0
          ],
          [
           "ALGERIA",
           0,
           0,
           0,
           0
          ],
          [
           "ALGERIA",
           0,
           0,
           0,
           0
          ],
          [
           "ALGERIA",
           0,
           0,
           0,
           0
          ],
          [
           "ALGERIA",
           0,
           0,
           0,
           0
          ],
          [
           "ALGERIA",
           0,
           0,
           0,
           0
          ],
          [
           "ALGERIA",
           0,
           0,
           0,
           0
          ],
          [
           "ALGERIA",
           0,
           0,
           0,
           0
          ],
          [
           "ALGERIA",
           0,
           0,
           0,
           0
          ],
          [
           "ALGERIA",
           0,
           0,
           0,
           0
          ],
          [
           "ALGERIA",
           0,
           0,
           0,
           0
          ],
          [
           "ALGERIA",
           0,
           0,
           0,
           0
          ],
          [
           "ALGERIA",
           0,
           0,
           0,
           0
          ],
          [
           "ALGERIA",
           0,
           0,
           0,
           0
          ],
          [
           "ALGERIA",
           0,
           0,
           0,
           0
          ],
          [
           "ALGERIA",
           0,
           0,
           0,
           0
          ],
          [
           "ALGERIA",
           0,
           0,
           0,
           0
          ],
          [
           "ALGERIA",
           6.25,
           2,
           2,
           10
          ]
         ],
         "hovertemplate": "<b>Country:</b> %{customdata[0]}<br><b>Year:</b> %{x}<br><b>Earthquake Count:</b> %{customdata[3]:.0f}<br><b>Total Damage:</b> $%{y:,.2f}M<br><b>Average Magnitude:</b> %{customdata[1]:.2f}<br><b>Average Focal Depth:</b> %{customdata[4]:.2f}<br><b>Tsunami Count:</b> %{customdata[2]:.0f}<extra></extra>",
         "marker": {
          "line": {
           "color": "black",
           "width": 0.5
          },
          "opacity": 0.8
         },
         "name": "ALGERIA",
         "type": "bar",
         "visible": false,
         "x": [
          2000,
          2001,
          2002,
          2004,
          2005,
          2006,
          2007,
          2008,
          2009,
          2010,
          2011,
          2012,
          2013,
          2014,
          2015,
          2016,
          2017,
          2018,
          2019,
          2020,
          2021,
          2022,
          2023,
          2024,
          2003
         ],
         "y": [
          0,
          0,
          0,
          0,
          0,
          0,
          0,
          0,
          0,
          0,
          0,
          0,
          0,
          0,
          0,
          0,
          0,
          0,
          0,
          0,
          0,
          0,
          0,
          0,
          8563.86
         ]
        },
        {
         "customdata": [
          [
           "MOROCCO",
           0,
           0,
           0,
           0
          ],
          [
           "MOROCCO",
           0,
           0,
           0,
           0
          ],
          [
           "MOROCCO",
           0,
           0,
           0,
           0
          ],
          [
           "MOROCCO",
           0,
           0,
           0,
           0
          ],
          [
           "MOROCCO",
           0,
           0,
           0,
           0
          ],
          [
           "MOROCCO",
           0,
           0,
           0,
           0
          ],
          [
           "MOROCCO",
           0,
           0,
           0,
           0
          ],
          [
           "MOROCCO",
           0,
           0,
           0,
           0
          ],
          [
           "MOROCCO",
           0,
           0,
           0,
           0
          ],
          [
           "MOROCCO",
           0,
           0,
           0,
           0
          ],
          [
           "MOROCCO",
           0,
           0,
           0,
           0
          ],
          [
           "MOROCCO",
           0,
           0,
           0,
           0
          ],
          [
           "MOROCCO",
           0,
           0,
           0,
           0
          ],
          [
           "MOROCCO",
           0,
           0,
           0,
           0
          ],
          [
           "MOROCCO",
           0,
           0,
           0,
           0
          ],
          [
           "MOROCCO",
           0,
           0,
           0,
           0
          ],
          [
           "MOROCCO",
           0,
           0,
           0,
           0
          ],
          [
           "MOROCCO",
           0,
           0,
           0,
           0
          ],
          [
           "MOROCCO",
           0,
           0,
           0,
           0
          ],
          [
           "MOROCCO",
           0,
           0,
           0,
           0
          ],
          [
           "MOROCCO",
           0,
           0,
           0,
           0
          ],
          [
           "MOROCCO",
           0,
           0,
           0,
           0
          ],
          [
           "MOROCCO",
           0,
           0,
           0,
           0
          ],
          [
           "MOROCCO",
           6.4,
           0,
           1,
           0
          ],
          [
           "MOROCCO",
           6.8,
           0,
           1,
           18
          ]
         ],
         "hovertemplate": "<b>Country:</b> %{customdata[0]}<br><b>Year:</b> %{x}<br><b>Earthquake Count:</b> %{customdata[3]:.0f}<br><b>Total Damage:</b> $%{y:,.2f}M<br><b>Average Magnitude:</b> %{customdata[1]:.2f}<br><b>Average Focal Depth:</b> %{customdata[4]:.2f}<br><b>Tsunami Count:</b> %{customdata[2]:.0f}<extra></extra>",
         "marker": {
          "line": {
           "color": "black",
           "width": 0.5
          },
          "opacity": 0.8
         },
         "name": "MOROCCO",
         "type": "bar",
         "visible": false,
         "x": [
          2000,
          2001,
          2002,
          2003,
          2005,
          2006,
          2007,
          2008,
          2009,
          2010,
          2011,
          2012,
          2013,
          2014,
          2015,
          2016,
          2017,
          2018,
          2019,
          2020,
          2021,
          2022,
          2024,
          2004,
          2023
         ],
         "y": [
          0,
          0,
          0,
          0,
          0,
          0,
          0,
          0,
          0,
          0,
          0,
          0,
          0,
          0,
          0,
          0,
          0,
          0,
          0,
          0,
          0,
          0,
          0,
          663.51,
          7203.51
         ]
        },
        {
         "customdata": [
          [
           "PAKISTAN",
           0,
           0,
           0,
           0
          ],
          [
           "PAKISTAN",
           0,
           0,
           0,
           0
          ],
          [
           "PAKISTAN",
           0,
           0,
           0,
           0
          ],
          [
           "PAKISTAN",
           0,
           0,
           0,
           0
          ],
          [
           "PAKISTAN",
           0,
           0,
           0,
           0
          ],
          [
           "PAKISTAN",
           0,
           0,
           0,
           0
          ],
          [
           "PAKISTAN",
           0,
           0,
           0,
           0
          ],
          [
           "PAKISTAN",
           0,
           0,
           0,
           0
          ],
          [
           "PAKISTAN",
           0,
           0,
           0,
           0
          ],
          [
           "PAKISTAN",
           0,
           0,
           0,
           0
          ],
          [
           "PAKISTAN",
           0,
           0,
           0,
           0
          ],
          [
           "PAKISTAN",
           0,
           0,
           0,
           0
          ],
          [
           "PAKISTAN",
           0,
           0,
           0,
           0
          ],
          [
           "PAKISTAN",
           0,
           0,
           0,
           0
          ],
          [
           "PAKISTAN",
           0,
           0,
           0,
           0
          ],
          [
           "PAKISTAN",
           0,
           0,
           0,
           0
          ],
          [
           "PAKISTAN",
           0,
           0,
           0,
           0
          ],
          [
           "PAKISTAN",
           0,
           0,
           0,
           0
          ],
          [
           "PAKISTAN",
           0,
           0,
           0,
           0
          ],
          [
           "PAKISTAN",
           0,
           0,
           0,
           0
          ],
          [
           "PAKISTAN",
           0,
           0,
           0,
           0
          ],
          [
           "PAKISTAN",
           0,
           0,
           0,
           0
          ],
          [
           "PAKISTAN",
           6.25,
           0,
           2,
           33.5
          ],
          [
           "PAKISTAN",
           7.25,
           1,
           2,
           13.5
          ],
          [
           "PAKISTAN",
           5.6,
           0,
           1,
           10
          ]
         ],
         "hovertemplate": "<b>Country:</b> %{customdata[0]}<br><b>Year:</b> %{x}<br><b>Earthquake Count:</b> %{customdata[3]:.0f}<br><b>Total Damage:</b> $%{y:,.2f}M<br><b>Average Magnitude:</b> %{customdata[1]:.2f}<br><b>Average Focal Depth:</b> %{customdata[4]:.2f}<br><b>Tsunami Count:</b> %{customdata[2]:.0f}<extra></extra>",
         "marker": {
          "line": {
           "color": "black",
           "width": 0.5
          },
          "opacity": 0.8
         },
         "name": "PAKISTAN",
         "type": "bar",
         "visible": false,
         "x": [
          2000,
          2001,
          2002,
          2003,
          2004,
          2006,
          2007,
          2008,
          2009,
          2010,
          2011,
          2012,
          2014,
          2015,
          2016,
          2017,
          2018,
          2020,
          2021,
          2022,
          2023,
          2024,
          2005,
          2013,
          2019
         ],
         "y": [
          0,
          0,
          0,
          0,
          0,
          0,
          0,
          0,
          0,
          0,
          0,
          0,
          0,
          0,
          0,
          0,
          0,
          0,
          0,
          0,
          0,
          0,
          10714.61,
          135.45,
          20.88
         ]
        },
        {
         "customdata": [
          [
           "MARTINIQUE",
           0,
           0,
           0,
           0
          ],
          [
           "MARTINIQUE",
           0,
           0,
           0,
           0
          ],
          [
           "MARTINIQUE",
           0,
           0,
           0,
           0
          ],
          [
           "MARTINIQUE",
           0,
           0,
           0,
           0
          ],
          [
           "MARTINIQUE",
           0,
           0,
           0,
           0
          ],
          [
           "MARTINIQUE",
           0,
           0,
           0,
           0
          ],
          [
           "MARTINIQUE",
           0,
           0,
           0,
           0
          ],
          [
           "MARTINIQUE",
           0,
           0,
           0,
           0
          ],
          [
           "MARTINIQUE",
           0,
           0,
           0,
           0
          ],
          [
           "MARTINIQUE",
           0,
           0,
           0,
           0
          ],
          [
           "MARTINIQUE",
           0,
           0,
           0,
           0
          ],
          [
           "MARTINIQUE",
           0,
           0,
           0,
           0
          ],
          [
           "MARTINIQUE",
           0,
           0,
           0,
           0
          ],
          [
           "MARTINIQUE",
           0,
           0,
           0,
           0
          ],
          [
           "MARTINIQUE",
           0,
           0,
           0,
           0
          ],
          [
           "MARTINIQUE",
           0,
           0,
           0,
           0
          ],
          [
           "MARTINIQUE",
           0,
           0,
           0,
           0
          ],
          [
           "MARTINIQUE",
           0,
           0,
           0,
           0
          ],
          [
           "MARTINIQUE",
           0,
           0,
           0,
           0
          ],
          [
           "MARTINIQUE",
           0,
           0,
           0,
           0
          ],
          [
           "MARTINIQUE",
           0,
           0,
           0,
           0
          ],
          [
           "MARTINIQUE",
           0,
           0,
           0,
           0
          ],
          [
           "MARTINIQUE",
           0,
           0,
           0,
           0
          ],
          [
           "MARTINIQUE",
           0,
           0,
           0,
           0
          ],
          [
           "MARTINIQUE",
           7.4,
           1,
           1,
           156
          ]
         ],
         "hovertemplate": "<b>Country:</b> %{customdata[0]}<br><b>Year:</b> %{x}<br><b>Earthquake Count:</b> %{customdata[3]:.0f}<br><b>Total Damage:</b> $%{y:,.2f}M<br><b>Average Magnitude:</b> %{customdata[1]:.2f}<br><b>Average Focal Depth:</b> %{customdata[4]:.2f}<br><b>Tsunami Count:</b> %{customdata[2]:.0f}<extra></extra>",
         "marker": {
          "line": {
           "color": "black",
           "width": 0.5
          },
          "opacity": 0.8
         },
         "name": "MARTINIQUE",
         "type": "bar",
         "visible": false,
         "x": [
          2000,
          2001,
          2002,
          2003,
          2004,
          2005,
          2006,
          2008,
          2009,
          2010,
          2011,
          2012,
          2013,
          2014,
          2015,
          2016,
          2017,
          2018,
          2019,
          2020,
          2021,
          2022,
          2023,
          2024,
          2007
         ],
         "y": [
          0,
          0,
          0,
          0,
          0,
          0,
          0,
          0,
          0,
          0,
          0,
          0,
          0,
          0,
          0,
          0,
          0,
          0,
          0,
          0,
          0,
          0,
          0,
          0,
          154.8
         ]
        },
        {
         "customdata": [
          [
           "COSTA RICA",
           0,
           0,
           0,
           0
          ],
          [
           "COSTA RICA",
           0,
           0,
           0,
           0
          ],
          [
           "COSTA RICA",
           0,
           0,
           0,
           0
          ],
          [
           "COSTA RICA",
           0,
           0,
           0,
           0
          ],
          [
           "COSTA RICA",
           0,
           0,
           0,
           0
          ],
          [
           "COSTA RICA",
           0,
           0,
           0,
           0
          ],
          [
           "COSTA RICA",
           0,
           0,
           0,
           0
          ],
          [
           "COSTA RICA",
           0,
           0,
           0,
           0
          ],
          [
           "COSTA RICA",
           0,
           0,
           0,
           0
          ],
          [
           "COSTA RICA",
           0,
           0,
           0,
           0
          ],
          [
           "COSTA RICA",
           0,
           0,
           0,
           0
          ],
          [
           "COSTA RICA",
           0,
           0,
           0,
           0
          ],
          [
           "COSTA RICA",
           0,
           0,
           0,
           0
          ],
          [
           "COSTA RICA",
           0,
           0,
           0,
           0
          ],
          [
           "COSTA RICA",
           0,
           0,
           0,
           0
          ],
          [
           "COSTA RICA",
           0,
           0,
           0,
           0
          ],
          [
           "COSTA RICA",
           0,
           0,
           0,
           0
          ],
          [
           "COSTA RICA",
           0,
           0,
           0,
           0
          ],
          [
           "COSTA RICA",
           0,
           0,
           0,
           0
          ],
          [
           "COSTA RICA",
           0,
           0,
           0,
           0
          ],
          [
           "COSTA RICA",
           0,
           0,
           0,
           0
          ],
          [
           "COSTA RICA",
           0,
           0,
           0,
           0
          ],
          [
           "COSTA RICA",
           0,
           0,
           0,
           0
          ],
          [
           "COSTA RICA",
           6.1,
           0,
           1,
           14
          ],
          [
           "COSTA RICA",
           7.6,
           1,
           1,
           35
          ]
         ],
         "hovertemplate": "<b>Country:</b> %{customdata[0]}<br><b>Year:</b> %{x}<br><b>Earthquake Count:</b> %{customdata[3]:.0f}<br><b>Total Damage:</b> $%{y:,.2f}M<br><b>Average Magnitude:</b> %{customdata[1]:.2f}<br><b>Average Focal Depth:</b> %{customdata[4]:.2f}<br><b>Tsunami Count:</b> %{customdata[2]:.0f}<extra></extra>",
         "marker": {
          "line": {
           "color": "black",
           "width": 0.5
          },
          "opacity": 0.8
         },
         "name": "COSTA RICA",
         "type": "bar",
         "visible": false,
         "x": [
          2000,
          2001,
          2002,
          2003,
          2004,
          2005,
          2006,
          2007,
          2008,
          2010,
          2011,
          2013,
          2014,
          2015,
          2016,
          2017,
          2018,
          2019,
          2020,
          2021,
          2022,
          2023,
          2024,
          2009,
          2012
         ],
         "y": [
          0,
          0,
          0,
          0,
          0,
          0,
          0,
          0,
          0,
          0,
          0,
          0,
          0,
          0,
          0,
          0,
          0,
          0,
          0,
          0,
          0,
          0,
          0,
          733.8,
          61.87
         ]
        },
        {
         "customdata": [
          [
           "HONDURAS",
           0,
           0,
           0,
           0
          ],
          [
           "HONDURAS",
           0,
           0,
           0,
           0
          ],
          [
           "HONDURAS",
           0,
           0,
           0,
           0
          ],
          [
           "HONDURAS",
           0,
           0,
           0,
           0
          ],
          [
           "HONDURAS",
           0,
           0,
           0,
           0
          ],
          [
           "HONDURAS",
           0,
           0,
           0,
           0
          ],
          [
           "HONDURAS",
           0,
           0,
           0,
           0
          ],
          [
           "HONDURAS",
           0,
           0,
           0,
           0
          ],
          [
           "HONDURAS",
           0,
           0,
           0,
           0
          ],
          [
           "HONDURAS",
           0,
           0,
           0,
           0
          ],
          [
           "HONDURAS",
           0,
           0,
           0,
           0
          ],
          [
           "HONDURAS",
           0,
           0,
           0,
           0
          ],
          [
           "HONDURAS",
           0,
           0,
           0,
           0
          ],
          [
           "HONDURAS",
           0,
           0,
           0,
           0
          ],
          [
           "HONDURAS",
           0,
           0,
           0,
           0
          ],
          [
           "HONDURAS",
           0,
           0,
           0,
           0
          ],
          [
           "HONDURAS",
           0,
           0,
           0,
           0
          ],
          [
           "HONDURAS",
           0,
           0,
           0,
           0
          ],
          [
           "HONDURAS",
           0,
           0,
           0,
           0
          ],
          [
           "HONDURAS",
           0,
           0,
           0,
           0
          ],
          [
           "HONDURAS",
           0,
           0,
           0,
           0
          ],
          [
           "HONDURAS",
           0,
           0,
           0,
           0
          ],
          [
           "HONDURAS",
           0,
           0,
           0,
           0
          ],
          [
           "HONDURAS",
           0,
           0,
           0,
           0
          ],
          [
           "HONDURAS",
           7.3,
           1,
           1,
           10
          ]
         ],
         "hovertemplate": "<b>Country:</b> %{customdata[0]}<br><b>Year:</b> %{x}<br><b>Earthquake Count:</b> %{customdata[3]:.0f}<br><b>Total Damage:</b> $%{y:,.2f}M<br><b>Average Magnitude:</b> %{customdata[1]:.2f}<br><b>Average Focal Depth:</b> %{customdata[4]:.2f}<br><b>Tsunami Count:</b> %{customdata[2]:.0f}<extra></extra>",
         "marker": {
          "line": {
           "color": "black",
           "width": 0.5
          },
          "opacity": 0.8
         },
         "name": "HONDURAS",
         "type": "bar",
         "visible": false,
         "x": [
          2000,
          2001,
          2002,
          2003,
          2004,
          2005,
          2006,
          2007,
          2008,
          2010,
          2011,
          2012,
          2013,
          2014,
          2015,
          2016,
          2017,
          2018,
          2019,
          2020,
          2021,
          2022,
          2023,
          2024,
          2009
         ],
         "y": [
          0,
          0,
          0,
          0,
          0,
          0,
          0,
          0,
          0,
          0,
          0,
          0,
          0,
          0,
          0,
          0,
          0,
          0,
          0,
          0,
          0,
          0,
          0,
          0,
          146.18
         ]
        },
        {
         "customdata": [
          [
           "SAMOA",
           0,
           0,
           0,
           0
          ],
          [
           "SAMOA",
           0,
           0,
           0,
           0
          ],
          [
           "SAMOA",
           0,
           0,
           0,
           0
          ],
          [
           "SAMOA",
           0,
           0,
           0,
           0
          ],
          [
           "SAMOA",
           0,
           0,
           0,
           0
          ],
          [
           "SAMOA",
           0,
           0,
           0,
           0
          ],
          [
           "SAMOA",
           0,
           0,
           0,
           0
          ],
          [
           "SAMOA",
           0,
           0,
           0,
           0
          ],
          [
           "SAMOA",
           0,
           0,
           0,
           0
          ],
          [
           "SAMOA",
           0,
           0,
           0,
           0
          ],
          [
           "SAMOA",
           0,
           0,
           0,
           0
          ],
          [
           "SAMOA",
           0,
           0,
           0,
           0
          ],
          [
           "SAMOA",
           0,
           0,
           0,
           0
          ],
          [
           "SAMOA",
           0,
           0,
           0,
           0
          ],
          [
           "SAMOA",
           0,
           0,
           0,
           0
          ],
          [
           "SAMOA",
           0,
           0,
           0,
           0
          ],
          [
           "SAMOA",
           0,
           0,
           0,
           0
          ],
          [
           "SAMOA",
           0,
           0,
           0,
           0
          ],
          [
           "SAMOA",
           0,
           0,
           0,
           0
          ],
          [
           "SAMOA",
           0,
           0,
           0,
           0
          ],
          [
           "SAMOA",
           0,
           0,
           0,
           0
          ],
          [
           "SAMOA",
           0,
           0,
           0,
           0
          ],
          [
           "SAMOA",
           0,
           0,
           0,
           0
          ],
          [
           "SAMOA",
           0,
           0,
           0,
           0
          ],
          [
           "SAMOA",
           8.1,
           1,
           1,
           18
          ]
         ],
         "hovertemplate": "<b>Country:</b> %{customdata[0]}<br><b>Year:</b> %{x}<br><b>Earthquake Count:</b> %{customdata[3]:.0f}<br><b>Total Damage:</b> $%{y:,.2f}M<br><b>Average Magnitude:</b> %{customdata[1]:.2f}<br><b>Average Focal Depth:</b> %{customdata[4]:.2f}<br><b>Tsunami Count:</b> %{customdata[2]:.0f}<extra></extra>",
         "marker": {
          "line": {
           "color": "black",
           "width": 0.5
          },
          "opacity": 0.8
         },
         "name": "SAMOA",
         "type": "bar",
         "visible": false,
         "x": [
          2000,
          2001,
          2002,
          2003,
          2004,
          2005,
          2006,
          2007,
          2008,
          2010,
          2011,
          2012,
          2013,
          2014,
          2015,
          2016,
          2017,
          2018,
          2019,
          2020,
          2021,
          2022,
          2023,
          2024,
          2009
         ],
         "y": [
          0,
          0,
          0,
          0,
          0,
          0,
          0,
          0,
          0,
          0,
          0,
          0,
          0,
          0,
          0,
          0,
          0,
          0,
          0,
          0,
          0,
          0,
          0,
          0,
          416.6
         ]
        },
        {
         "customdata": [
          [
           "CHILE",
           0,
           0,
           0,
           0
          ],
          [
           "CHILE",
           0,
           0,
           0,
           0
          ],
          [
           "CHILE",
           0,
           0,
           0,
           0
          ],
          [
           "CHILE",
           0,
           0,
           0,
           0
          ],
          [
           "CHILE",
           0,
           0,
           0,
           0
          ],
          [
           "CHILE",
           0,
           0,
           0,
           0
          ],
          [
           "CHILE",
           0,
           0,
           0,
           0
          ],
          [
           "CHILE",
           0,
           0,
           0,
           0
          ],
          [
           "CHILE",
           0,
           0,
           0,
           0
          ],
          [
           "CHILE",
           0,
           0,
           0,
           0
          ],
          [
           "CHILE",
           0,
           0,
           0,
           0
          ],
          [
           "CHILE",
           0,
           0,
           0,
           0
          ],
          [
           "CHILE",
           0,
           0,
           0,
           0
          ],
          [
           "CHILE",
           0,
           0,
           0,
           0
          ],
          [
           "CHILE",
           0,
           0,
           0,
           0
          ],
          [
           "CHILE",
           0,
           0,
           0,
           0
          ],
          [
           "CHILE",
           0,
           0,
           0,
           0
          ],
          [
           "CHILE",
           0,
           0,
           0,
           0
          ],
          [
           "CHILE",
           0,
           0,
           0,
           0
          ],
          [
           "CHILE",
           0,
           0,
           0,
           0
          ],
          [
           "CHILE",
           0,
           0,
           0,
           0
          ],
          [
           "CHILE",
           0,
           0,
           0,
           0
          ],
          [
           "CHILE",
           7.85,
           2,
           2,
           16.5
          ],
          [
           "CHILE",
           7.4,
           4,
           4,
           21
          ],
          [
           "CHILE",
           7.6,
           2,
           2,
           17
          ]
         ],
         "hovertemplate": "<b>Country:</b> %{customdata[0]}<br><b>Year:</b> %{x}<br><b>Earthquake Count:</b> %{customdata[3]:.0f}<br><b>Total Damage:</b> $%{y:,.2f}M<br><b>Average Magnitude:</b> %{customdata[1]:.2f}<br><b>Average Focal Depth:</b> %{customdata[4]:.2f}<br><b>Tsunami Count:</b> %{customdata[2]:.0f}<extra></extra>",
         "marker": {
          "line": {
           "color": "black",
           "width": 0.5
          },
          "opacity": 0.8
         },
         "name": "CHILE",
         "type": "bar",
         "visible": false,
         "x": [
          2000,
          2001,
          2002,
          2003,
          2004,
          2005,
          2006,
          2007,
          2008,
          2009,
          2011,
          2012,
          2013,
          2016,
          2017,
          2018,
          2019,
          2020,
          2021,
          2022,
          2023,
          2024,
          2010,
          2014,
          2015
         ],
         "y": [
          0,
          0,
          0,
          0,
          0,
          0,
          0,
          0,
          0,
          0,
          0,
          0,
          0,
          0,
          0,
          0,
          0,
          0,
          0,
          0,
          0,
          0,
          43206.33,
          134.43,
          800.75
         ]
        },
        {
         "customdata": [
          [
           "HAITI",
           0,
           0,
           0,
           0
          ],
          [
           "HAITI",
           0,
           0,
           0,
           0
          ],
          [
           "HAITI",
           0,
           0,
           0,
           0
          ],
          [
           "HAITI",
           0,
           0,
           0,
           0
          ],
          [
           "HAITI",
           0,
           0,
           0,
           0
          ],
          [
           "HAITI",
           0,
           0,
           0,
           0
          ],
          [
           "HAITI",
           0,
           0,
           0,
           0
          ],
          [
           "HAITI",
           0,
           0,
           0,
           0
          ],
          [
           "HAITI",
           0,
           0,
           0,
           0
          ],
          [
           "HAITI",
           0,
           0,
           0,
           0
          ],
          [
           "HAITI",
           0,
           0,
           0,
           0
          ],
          [
           "HAITI",
           0,
           0,
           0,
           0
          ],
          [
           "HAITI",
           0,
           0,
           0,
           0
          ],
          [
           "HAITI",
           0,
           0,
           0,
           0
          ],
          [
           "HAITI",
           0,
           0,
           0,
           0
          ],
          [
           "HAITI",
           0,
           0,
           0,
           0
          ],
          [
           "HAITI",
           0,
           0,
           0,
           0
          ],
          [
           "HAITI",
           0,
           0,
           0,
           0
          ],
          [
           "HAITI",
           0,
           0,
           0,
           0
          ],
          [
           "HAITI",
           0,
           0,
           0,
           0
          ],
          [
           "HAITI",
           0,
           0,
           0,
           0
          ],
          [
           "HAITI",
           0,
           0,
           0,
           0
          ],
          [
           "HAITI",
           0,
           0,
           0,
           0
          ],
          [
           "HAITI",
           7,
           1,
           1,
           13
          ],
          [
           "HAITI",
           7.2,
           1,
           1,
           10
          ]
         ],
         "hovertemplate": "<b>Country:</b> %{customdata[0]}<br><b>Year:</b> %{x}<br><b>Earthquake Count:</b> %{customdata[3]:.0f}<br><b>Total Damage:</b> $%{y:,.2f}M<br><b>Average Magnitude:</b> %{customdata[1]:.2f}<br><b>Average Focal Depth:</b> %{customdata[4]:.2f}<br><b>Tsunami Count:</b> %{customdata[2]:.0f}<extra></extra>",
         "marker": {
          "line": {
           "color": "black",
           "width": 0.5
          },
          "opacity": 0.8
         },
         "name": "HAITI",
         "type": "bar",
         "visible": false,
         "x": [
          2000,
          2001,
          2002,
          2003,
          2004,
          2005,
          2006,
          2007,
          2008,
          2009,
          2011,
          2012,
          2013,
          2014,
          2015,
          2016,
          2017,
          2018,
          2019,
          2020,
          2022,
          2023,
          2024,
          2010,
          2021
         ],
         "y": [
          0,
          0,
          0,
          0,
          0,
          0,
          0,
          0,
          0,
          0,
          0,
          0,
          0,
          0,
          0,
          0,
          0,
          0,
          0,
          0,
          0,
          0,
          0,
          11521.69,
          1811.55
         ]
        },
        {
         "customdata": [
          [
           "MEXICO",
           0,
           0,
           0,
           0
          ],
          [
           "MEXICO",
           0,
           0,
           0,
           0
          ],
          [
           "MEXICO",
           0,
           0,
           0,
           0
          ],
          [
           "MEXICO",
           0,
           0,
           0,
           0
          ],
          [
           "MEXICO",
           0,
           0,
           0,
           0
          ],
          [
           "MEXICO",
           0,
           0,
           0,
           0
          ],
          [
           "MEXICO",
           0,
           0,
           0,
           0
          ],
          [
           "MEXICO",
           0,
           0,
           0,
           0
          ],
          [
           "MEXICO",
           0,
           0,
           0,
           0
          ],
          [
           "MEXICO",
           0,
           0,
           0,
           0
          ],
          [
           "MEXICO",
           0,
           0,
           0,
           0
          ],
          [
           "MEXICO",
           0,
           0,
           0,
           0
          ],
          [
           "MEXICO",
           0,
           0,
           0,
           0
          ],
          [
           "MEXICO",
           0,
           0,
           0,
           0
          ],
          [
           "MEXICO",
           0,
           0,
           0,
           0
          ],
          [
           "MEXICO",
           0,
           0,
           0,
           0
          ],
          [
           "MEXICO",
           0,
           0,
           0,
           0
          ],
          [
           "MEXICO",
           0,
           0,
           0,
           0
          ],
          [
           "MEXICO",
           0,
           0,
           0,
           0
          ],
          [
           "MEXICO",
           0,
           0,
           0,
           0
          ],
          [
           "MEXICO",
           6.7,
           0,
           2,
           12
          ],
          [
           "MEXICO",
           7.4,
           1,
           1,
           20
          ],
          [
           "MEXICO",
           7.13,
           1,
           3,
           35
          ],
          [
           "MEXICO",
           7,
           1,
           1,
           20
          ],
          [
           "MEXICO",
           6.63,
           3,
           3,
           24.333333333333332
          ]
         ],
         "hovertemplate": "<b>Country:</b> %{customdata[0]}<br><b>Year:</b> %{x}<br><b>Earthquake Count:</b> %{customdata[3]:.0f}<br><b>Total Damage:</b> $%{y:,.2f}M<br><b>Average Magnitude:</b> %{customdata[1]:.2f}<br><b>Average Focal Depth:</b> %{customdata[4]:.2f}<br><b>Tsunami Count:</b> %{customdata[2]:.0f}<extra></extra>",
         "marker": {
          "line": {
           "color": "black",
           "width": 0.5
          },
          "opacity": 0.8
         },
         "name": "MEXICO",
         "type": "bar",
         "visible": false,
         "x": [
          2000,
          2001,
          2002,
          2003,
          2004,
          2005,
          2006,
          2007,
          2008,
          2009,
          2011,
          2013,
          2014,
          2015,
          2016,
          2018,
          2019,
          2020,
          2023,
          2024,
          2010,
          2012,
          2017,
          2021,
          2022
         ],
         "y": [
          0,
          0,
          0,
          0,
          0,
          0,
          0,
          0,
          0,
          0,
          0,
          0,
          0,
          0,
          0,
          0,
          0,
          0,
          0,
          0,
          1656.24,
          824.9,
          15365.51,
          226.44,
          26.59
         ]
        },
        {
         "customdata": [
          [
           "NEW ZEALAND",
           0,
           0,
           0,
           0
          ],
          [
           "NEW ZEALAND",
           0,
           0,
           0,
           0
          ],
          [
           "NEW ZEALAND",
           0,
           0,
           0,
           0
          ],
          [
           "NEW ZEALAND",
           0,
           0,
           0,
           0
          ],
          [
           "NEW ZEALAND",
           0,
           0,
           0,
           0
          ],
          [
           "NEW ZEALAND",
           0,
           0,
           0,
           0
          ],
          [
           "NEW ZEALAND",
           0,
           0,
           0,
           0
          ],
          [
           "NEW ZEALAND",
           0,
           0,
           0,
           0
          ],
          [
           "NEW ZEALAND",
           0,
           0,
           0,
           0
          ],
          [
           "NEW ZEALAND",
           0,
           0,
           0,
           0
          ],
          [
           "NEW ZEALAND",
           0,
           0,
           0,
           0
          ],
          [
           "NEW ZEALAND",
           0,
           0,
           0,
           0
          ],
          [
           "NEW ZEALAND",
           0,
           0,
           0,
           0
          ],
          [
           "NEW ZEALAND",
           0,
           0,
           0,
           0
          ],
          [
           "NEW ZEALAND",
           0,
           0,
           0,
           0
          ],
          [
           "NEW ZEALAND",
           0,
           0,
           0,
           0
          ],
          [
           "NEW ZEALAND",
           0,
           0,
           0,
           0
          ],
          [
           "NEW ZEALAND",
           0,
           0,
           0,
           0
          ],
          [
           "NEW ZEALAND",
           0,
           0,
           0,
           0
          ],
          [
           "NEW ZEALAND",
           0,
           0,
           0,
           0
          ],
          [
           "NEW ZEALAND",
           0,
           0,
           0,
           0
          ],
          [
           "NEW ZEALAND",
           5.32,
           0,
           5,
           10.6
          ],
          [
           "NEW ZEALAND",
           6.16,
           2,
           5,
           19
          ],
          [
           "NEW ZEALAND",
           6.5,
           2,
           2,
           12.5
          ],
          [
           "NEW ZEALAND",
           7.4,
           2,
           2,
           17
          ]
         ],
         "hovertemplate": "<b>Country:</b> %{customdata[0]}<br><b>Year:</b> %{x}<br><b>Earthquake Count:</b> %{customdata[3]:.0f}<br><b>Total Damage:</b> $%{y:,.2f}M<br><b>Average Magnitude:</b> %{customdata[1]:.2f}<br><b>Average Focal Depth:</b> %{customdata[4]:.2f}<br><b>Tsunami Count:</b> %{customdata[2]:.0f}<extra></extra>",
         "marker": {
          "line": {
           "color": "black",
           "width": 0.5
          },
          "opacity": 0.8
         },
         "name": "NEW ZEALAND",
         "type": "bar",
         "visible": false,
         "x": [
          2000,
          2001,
          2002,
          2003,
          2004,
          2005,
          2006,
          2007,
          2008,
          2009,
          2012,
          2014,
          2015,
          2017,
          2018,
          2019,
          2020,
          2021,
          2022,
          2023,
          2024,
          2010,
          2011,
          2013,
          2016
         ],
         "y": [
          0,
          0,
          0,
          0,
          0,
          0,
          0,
          0,
          0,
          0,
          0,
          0,
          0,
          0,
          0,
          0,
          0,
          0,
          0,
          0,
          0,
          9361.37,
          25177.92,
          67.72,
          5099.12
         ]
        },
        {
         "customdata": [
          [
           "TAIWAN",
           0,
           0,
           0,
           0
          ],
          [
           "TAIWAN",
           0,
           0,
           0,
           0
          ],
          [
           "TAIWAN",
           0,
           0,
           0,
           0
          ],
          [
           "TAIWAN",
           0,
           0,
           0,
           0
          ],
          [
           "TAIWAN",
           0,
           0,
           0,
           0
          ],
          [
           "TAIWAN",
           0,
           0,
           0,
           0
          ],
          [
           "TAIWAN",
           0,
           0,
           0,
           0
          ],
          [
           "TAIWAN",
           0,
           0,
           0,
           0
          ],
          [
           "TAIWAN",
           0,
           0,
           0,
           0
          ],
          [
           "TAIWAN",
           0,
           0,
           0,
           0
          ],
          [
           "TAIWAN",
           0,
           0,
           0,
           0
          ],
          [
           "TAIWAN",
           0,
           0,
           0,
           0
          ],
          [
           "TAIWAN",
           0,
           0,
           0,
           0
          ],
          [
           "TAIWAN",
           0,
           0,
           0,
           0
          ],
          [
           "TAIWAN",
           0,
           0,
           0,
           0
          ],
          [
           "TAIWAN",
           0,
           0,
           0,
           0
          ],
          [
           "TAIWAN",
           0,
           0,
           0,
           0
          ],
          [
           "TAIWAN",
           0,
           0,
           0,
           0
          ],
          [
           "TAIWAN",
           0,
           0,
           0,
           0
          ],
          [
           "TAIWAN",
           0,
           0,
           0,
           0
          ],
          [
           "TAIWAN",
           6.3,
           0,
           1,
           21
          ],
          [
           "TAIWAN",
           6.15,
           0,
           2,
           18
          ],
          [
           "TAIWAN",
           6.4,
           0,
           1,
           23
          ],
          [
           "TAIWAN",
           6.8,
           0,
           2,
           17
          ],
          [
           "TAIWAN",
           7.4,
           1,
           1,
           34
          ]
         ],
         "hovertemplate": "<b>Country:</b> %{customdata[0]}<br><b>Year:</b> %{x}<br><b>Earthquake Count:</b> %{customdata[3]:.0f}<br><b>Total Damage:</b> $%{y:,.2f}M<br><b>Average Magnitude:</b> %{customdata[1]:.2f}<br><b>Average Focal Depth:</b> %{customdata[4]:.2f}<br><b>Tsunami Count:</b> %{customdata[2]:.0f}<extra></extra>",
         "marker": {
          "line": {
           "color": "black",
           "width": 0.5
          },
          "opacity": 0.8
         },
         "name": "TAIWAN",
         "type": "bar",
         "visible": false,
         "x": [
          2000,
          2001,
          2002,
          2003,
          2004,
          2005,
          2006,
          2007,
          2008,
          2009,
          2011,
          2012,
          2014,
          2015,
          2017,
          2018,
          2019,
          2020,
          2021,
          2023,
          2010,
          2013,
          2016,
          2022,
          2024
         ],
         "y": [
          0,
          0,
          0,
          0,
          0,
          0,
          0,
          0,
          0,
          0,
          0,
          0,
          0,
          0,
          0,
          0,
          0,
          0,
          0,
          0,
          1440.21,
          3.02,
          915.23,
          5.55,
          2.53
         ]
        },
        {
         "customdata": [
          [
           "TAJIKISTAN",
           0,
           0,
           0,
           0
          ],
          [
           "TAJIKISTAN",
           0,
           0,
           0,
           0
          ],
          [
           "TAJIKISTAN",
           0,
           0,
           0,
           0
          ],
          [
           "TAJIKISTAN",
           0,
           0,
           0,
           0
          ],
          [
           "TAJIKISTAN",
           0,
           0,
           0,
           0
          ],
          [
           "TAJIKISTAN",
           0,
           0,
           0,
           0
          ],
          [
           "TAJIKISTAN",
           0,
           0,
           0,
           0
          ],
          [
           "TAJIKISTAN",
           0,
           0,
           0,
           0
          ],
          [
           "TAJIKISTAN",
           0,
           0,
           0,
           0
          ],
          [
           "TAJIKISTAN",
           0,
           0,
           0,
           0
          ],
          [
           "TAJIKISTAN",
           0,
           0,
           0,
           0
          ],
          [
           "TAJIKISTAN",
           0,
           0,
           0,
           0
          ],
          [
           "TAJIKISTAN",
           0,
           0,
           0,
           0
          ],
          [
           "TAJIKISTAN",
           0,
           0,
           0,
           0
          ],
          [
           "TAJIKISTAN",
           0,
           0,
           0,
           0
          ],
          [
           "TAJIKISTAN",
           0,
           0,
           0,
           0
          ],
          [
           "TAJIKISTAN",
           0,
           0,
           0,
           0
          ],
          [
           "TAJIKISTAN",
           0,
           0,
           0,
           0
          ],
          [
           "TAJIKISTAN",
           0,
           0,
           0,
           0
          ],
          [
           "TAJIKISTAN",
           0,
           0,
           0,
           0
          ],
          [
           "TAJIKISTAN",
           0,
           0,
           0,
           0
          ],
          [
           "TAJIKISTAN",
           0,
           0,
           0,
           0
          ],
          [
           "TAJIKISTAN",
           0,
           0,
           0,
           0
          ],
          [
           "TAJIKISTAN",
           5.1,
           0,
           1,
           47
          ],
          [
           "TAJIKISTAN",
           7.2,
           0,
           1,
           22
          ]
         ],
         "hovertemplate": "<b>Country:</b> %{customdata[0]}<br><b>Year:</b> %{x}<br><b>Earthquake Count:</b> %{customdata[3]:.0f}<br><b>Total Damage:</b> $%{y:,.2f}M<br><b>Average Magnitude:</b> %{customdata[1]:.2f}<br><b>Average Focal Depth:</b> %{customdata[4]:.2f}<br><b>Tsunami Count:</b> %{customdata[2]:.0f}<extra></extra>",
         "marker": {
          "line": {
           "color": "black",
           "width": 0.5
          },
          "opacity": 0.8
         },
         "name": "TAJIKISTAN",
         "type": "bar",
         "visible": false,
         "x": [
          2000,
          2001,
          2002,
          2003,
          2004,
          2005,
          2006,
          2007,
          2008,
          2009,
          2011,
          2012,
          2013,
          2014,
          2016,
          2017,
          2018,
          2019,
          2020,
          2021,
          2022,
          2023,
          2024,
          2010,
          2015
         ],
         "y": [
          0,
          0,
          0,
          0,
          0,
          0,
          0,
          0,
          0,
          0,
          0,
          0,
          0,
          0,
          0,
          0,
          0,
          0,
          0,
          0,
          0,
          0,
          0,
          2.16,
          6.67
         ]
        },
        {
         "customdata": [
          [
           "MYANMAR",
           0,
           0,
           0,
           0
          ],
          [
           "MYANMAR",
           0,
           0,
           0,
           0
          ],
          [
           "MYANMAR",
           0,
           0,
           0,
           0
          ],
          [
           "MYANMAR",
           0,
           0,
           0,
           0
          ],
          [
           "MYANMAR",
           0,
           0,
           0,
           0
          ],
          [
           "MYANMAR",
           0,
           0,
           0,
           0
          ],
          [
           "MYANMAR",
           0,
           0,
           0,
           0
          ],
          [
           "MYANMAR",
           0,
           0,
           0,
           0
          ],
          [
           "MYANMAR",
           0,
           0,
           0,
           0
          ],
          [
           "MYANMAR",
           0,
           0,
           0,
           0
          ],
          [
           "MYANMAR",
           0,
           0,
           0,
           0
          ],
          [
           "MYANMAR",
           0,
           0,
           0,
           0
          ],
          [
           "MYANMAR",
           0,
           0,
           0,
           0
          ],
          [
           "MYANMAR",
           0,
           0,
           0,
           0
          ],
          [
           "MYANMAR",
           0,
           0,
           0,
           0
          ],
          [
           "MYANMAR",
           0,
           0,
           0,
           0
          ],
          [
           "MYANMAR",
           0,
           0,
           0,
           0
          ],
          [
           "MYANMAR",
           0,
           0,
           0,
           0
          ],
          [
           "MYANMAR",
           0,
           0,
           0,
           0
          ],
          [
           "MYANMAR",
           0,
           0,
           0,
           0
          ],
          [
           "MYANMAR",
           0,
           0,
           0,
           0
          ],
          [
           "MYANMAR",
           0,
           0,
           0,
           0
          ],
          [
           "MYANMAR",
           0,
           0,
           0,
           0
          ],
          [
           "MYANMAR",
           6.55,
           0,
           2,
           46.5
          ],
          [
           "MYANMAR",
           6.8,
           0,
           1,
           82
          ]
         ],
         "hovertemplate": "<b>Country:</b> %{customdata[0]}<br><b>Year:</b> %{x}<br><b>Earthquake Count:</b> %{customdata[3]:.0f}<br><b>Total Damage:</b> $%{y:,.2f}M<br><b>Average Magnitude:</b> %{customdata[1]:.2f}<br><b>Average Focal Depth:</b> %{customdata[4]:.2f}<br><b>Tsunami Count:</b> %{customdata[2]:.0f}<extra></extra>",
         "marker": {
          "line": {
           "color": "black",
           "width": 0.5
          },
          "opacity": 0.8
         },
         "name": "MYANMAR",
         "type": "bar",
         "visible": false,
         "x": [
          2000,
          2001,
          2002,
          2003,
          2004,
          2005,
          2006,
          2007,
          2008,
          2009,
          2010,
          2012,
          2013,
          2014,
          2015,
          2017,
          2018,
          2019,
          2020,
          2021,
          2022,
          2023,
          2024,
          2011,
          2016
         ],
         "y": [
          0,
          0,
          0,
          0,
          0,
          0,
          0,
          0,
          0,
          0,
          0,
          0,
          0,
          0,
          0,
          0,
          0,
          0,
          0,
          0,
          0,
          0,
          0,
          5.04,
          13.07
         ]
        },
        {
         "customdata": [
          [
           "TURKEY",
           0,
           0,
           0,
           0
          ],
          [
           "TURKEY",
           0,
           0,
           0,
           0
          ],
          [
           "TURKEY",
           0,
           0,
           0,
           0
          ],
          [
           "TURKEY",
           0,
           0,
           0,
           0
          ],
          [
           "TURKEY",
           0,
           0,
           0,
           0
          ],
          [
           "TURKEY",
           0,
           0,
           0,
           0
          ],
          [
           "TURKEY",
           0,
           0,
           0,
           0
          ],
          [
           "TURKEY",
           0,
           0,
           0,
           0
          ],
          [
           "TURKEY",
           0,
           0,
           0,
           0
          ],
          [
           "TURKEY",
           0,
           0,
           0,
           0
          ],
          [
           "TURKEY",
           0,
           0,
           0,
           0
          ],
          [
           "TURKEY",
           0,
           0,
           0,
           0
          ],
          [
           "TURKEY",
           0,
           0,
           0,
           0
          ],
          [
           "TURKEY",
           0,
           0,
           0,
           0
          ],
          [
           "TURKEY",
           0,
           0,
           0,
           0
          ],
          [
           "TURKEY",
           0,
           0,
           0,
           0
          ],
          [
           "TURKEY",
           0,
           0,
           0,
           0
          ],
          [
           "TURKEY",
           0,
           0,
           0,
           0
          ],
          [
           "TURKEY",
           0,
           0,
           0,
           0
          ],
          [
           "TURKEY",
           0,
           0,
           0,
           0
          ],
          [
           "TURKEY",
           0,
           0,
           0,
           0
          ],
          [
           "TURKEY",
           0,
           0,
           0,
           0
          ],
          [
           "TURKEY",
           0,
           0,
           0,
           0
          ],
          [
           "TURKEY",
           5.7,
           0,
           3,
           9.333333333333334
          ],
          [
           "TURKEY",
           6.7,
           1,
           4,
           13.25
          ]
         ],
         "hovertemplate": "<b>Country:</b> %{customdata[0]}<br><b>Year:</b> %{x}<br><b>Earthquake Count:</b> %{customdata[3]:.0f}<br><b>Total Damage:</b> $%{y:,.2f}M<br><b>Average Magnitude:</b> %{customdata[1]:.2f}<br><b>Average Focal Depth:</b> %{customdata[4]:.2f}<br><b>Tsunami Count:</b> %{customdata[2]:.0f}<extra></extra>",
         "marker": {
          "line": {
           "color": "black",
           "width": 0.5
          },
          "opacity": 0.8
         },
         "name": "TURKEY",
         "type": "bar",
         "visible": false,
         "x": [
          2000,
          2001,
          2002,
          2003,
          2004,
          2005,
          2006,
          2007,
          2008,
          2009,
          2010,
          2012,
          2013,
          2014,
          2015,
          2016,
          2017,
          2018,
          2019,
          2020,
          2021,
          2022,
          2024,
          2011,
          2023
         ],
         "y": [
          0,
          0,
          0,
          0,
          0,
          0,
          0,
          0,
          0,
          0,
          0,
          0,
          0,
          0,
          0,
          0,
          0,
          0,
          0,
          0,
          0,
          0,
          0,
          2098.16,
          44147.23
         ]
        },
        {
         "customdata": [
          [
           "GUATEMALA",
           0,
           0,
           0,
           0
          ],
          [
           "GUATEMALA",
           0,
           0,
           0,
           0
          ],
          [
           "GUATEMALA",
           0,
           0,
           0,
           0
          ],
          [
           "GUATEMALA",
           0,
           0,
           0,
           0
          ],
          [
           "GUATEMALA",
           0,
           0,
           0,
           0
          ],
          [
           "GUATEMALA",
           0,
           0,
           0,
           0
          ],
          [
           "GUATEMALA",
           0,
           0,
           0,
           0
          ],
          [
           "GUATEMALA",
           0,
           0,
           0,
           0
          ],
          [
           "GUATEMALA",
           0,
           0,
           0,
           0
          ],
          [
           "GUATEMALA",
           0,
           0,
           0,
           0
          ],
          [
           "GUATEMALA",
           0,
           0,
           0,
           0
          ],
          [
           "GUATEMALA",
           0,
           0,
           0,
           0
          ],
          [
           "GUATEMALA",
           0,
           0,
           0,
           0
          ],
          [
           "GUATEMALA",
           0,
           0,
           0,
           0
          ],
          [
           "GUATEMALA",
           0,
           0,
           0,
           0
          ],
          [
           "GUATEMALA",
           0,
           0,
           0,
           0
          ],
          [
           "GUATEMALA",
           0,
           0,
           0,
           0
          ],
          [
           "GUATEMALA",
           0,
           0,
           0,
           0
          ],
          [
           "GUATEMALA",
           0,
           0,
           0,
           0
          ],
          [
           "GUATEMALA",
           0,
           0,
           0,
           0
          ],
          [
           "GUATEMALA",
           0,
           0,
           0,
           0
          ],
          [
           "GUATEMALA",
           0,
           0,
           0,
           0
          ],
          [
           "GUATEMALA",
           0,
           0,
           0,
           0
          ],
          [
           "GUATEMALA",
           7.3,
           1,
           1,
           24
          ],
          [
           "GUATEMALA",
           6.4,
           0,
           1,
           66
          ]
         ],
         "hovertemplate": "<b>Country:</b> %{customdata[0]}<br><b>Year:</b> %{x}<br><b>Earthquake Count:</b> %{customdata[3]:.0f}<br><b>Total Damage:</b> $%{y:,.2f}M<br><b>Average Magnitude:</b> %{customdata[1]:.2f}<br><b>Average Focal Depth:</b> %{customdata[4]:.2f}<br><b>Tsunami Count:</b> %{customdata[2]:.0f}<extra></extra>",
         "marker": {
          "line": {
           "color": "black",
           "width": 0.5
          },
          "opacity": 0.8
         },
         "name": "GUATEMALA",
         "type": "bar",
         "visible": false,
         "x": [
          2000,
          2001,
          2002,
          2003,
          2004,
          2005,
          2006,
          2007,
          2008,
          2009,
          2010,
          2011,
          2014,
          2015,
          2016,
          2017,
          2018,
          2019,
          2020,
          2021,
          2022,
          2023,
          2024,
          2012,
          2013
         ],
         "y": [
          0,
          0,
          0,
          0,
          0,
          0,
          0,
          0,
          0,
          0,
          0,
          0,
          0,
          0,
          0,
          0,
          0,
          0,
          0,
          0,
          0,
          0,
          0,
          288.72,
          2.71
         ]
        },
        {
         "customdata": [
          [
           "SOLOMON ISLANDS",
           0,
           0,
           0,
           0
          ],
          [
           "SOLOMON ISLANDS",
           0,
           0,
           0,
           0
          ],
          [
           "SOLOMON ISLANDS",
           0,
           0,
           0,
           0
          ],
          [
           "SOLOMON ISLANDS",
           0,
           0,
           0,
           0
          ],
          [
           "SOLOMON ISLANDS",
           0,
           0,
           0,
           0
          ],
          [
           "SOLOMON ISLANDS",
           0,
           0,
           0,
           0
          ],
          [
           "SOLOMON ISLANDS",
           0,
           0,
           0,
           0
          ],
          [
           "SOLOMON ISLANDS",
           0,
           0,
           0,
           0
          ],
          [
           "SOLOMON ISLANDS",
           0,
           0,
           0,
           0
          ],
          [
           "SOLOMON ISLANDS",
           0,
           0,
           0,
           0
          ],
          [
           "SOLOMON ISLANDS",
           0,
           0,
           0,
           0
          ],
          [
           "SOLOMON ISLANDS",
           0,
           0,
           0,
           0
          ],
          [
           "SOLOMON ISLANDS",
           0,
           0,
           0,
           0
          ],
          [
           "SOLOMON ISLANDS",
           0,
           0,
           0,
           0
          ],
          [
           "SOLOMON ISLANDS",
           0,
           0,
           0,
           0
          ],
          [
           "SOLOMON ISLANDS",
           0,
           0,
           0,
           0
          ],
          [
           "SOLOMON ISLANDS",
           0,
           0,
           0,
           0
          ],
          [
           "SOLOMON ISLANDS",
           0,
           0,
           0,
           0
          ],
          [
           "SOLOMON ISLANDS",
           0,
           0,
           0,
           0
          ],
          [
           "SOLOMON ISLANDS",
           0,
           0,
           0,
           0
          ],
          [
           "SOLOMON ISLANDS",
           0,
           0,
           0,
           0
          ],
          [
           "SOLOMON ISLANDS",
           0,
           0,
           0,
           0
          ],
          [
           "SOLOMON ISLANDS",
           0,
           0,
           0,
           0
          ],
          [
           "SOLOMON ISLANDS",
           0,
           0,
           0,
           0
          ],
          [
           "SOLOMON ISLANDS",
           7.45,
           2,
           2,
           22.5
          ]
         ],
         "hovertemplate": "<b>Country:</b> %{customdata[0]}<br><b>Year:</b> %{x}<br><b>Earthquake Count:</b> %{customdata[3]:.0f}<br><b>Total Damage:</b> $%{y:,.2f}M<br><b>Average Magnitude:</b> %{customdata[1]:.2f}<br><b>Average Focal Depth:</b> %{customdata[4]:.2f}<br><b>Tsunami Count:</b> %{customdata[2]:.0f}<extra></extra>",
         "marker": {
          "line": {
           "color": "black",
           "width": 0.5
          },
          "opacity": 0.8
         },
         "name": "SOLOMON ISLANDS",
         "type": "bar",
         "visible": false,
         "x": [
          2000,
          2001,
          2002,
          2003,
          2004,
          2005,
          2006,
          2007,
          2008,
          2009,
          2010,
          2011,
          2012,
          2014,
          2015,
          2016,
          2017,
          2018,
          2019,
          2020,
          2021,
          2022,
          2023,
          2024,
          2013
         ],
         "y": [
          0,
          0,
          0,
          0,
          0,
          0,
          0,
          0,
          0,
          0,
          0,
          0,
          0,
          0,
          0,
          0,
          0,
          0,
          0,
          0,
          0,
          0,
          0,
          0,
          48.76
         ]
        },
        {
         "customdata": [
          [
           "GERMANY",
           0,
           0,
           0,
           0
          ],
          [
           "GERMANY",
           0,
           0,
           0,
           0
          ],
          [
           "GERMANY",
           0,
           0,
           0,
           0
          ],
          [
           "GERMANY",
           0,
           0,
           0,
           0
          ],
          [
           "GERMANY",
           0,
           0,
           0,
           0
          ],
          [
           "GERMANY",
           0,
           0,
           0,
           0
          ],
          [
           "GERMANY",
           0,
           0,
           0,
           0
          ],
          [
           "GERMANY",
           0,
           0,
           0,
           0
          ],
          [
           "GERMANY",
           0,
           0,
           0,
           0
          ],
          [
           "GERMANY",
           0,
           0,
           0,
           0
          ],
          [
           "GERMANY",
           0,
           0,
           0,
           0
          ],
          [
           "GERMANY",
           0,
           0,
           0,
           0
          ],
          [
           "GERMANY",
           0,
           0,
           0,
           0
          ],
          [
           "GERMANY",
           0,
           0,
           0,
           0
          ],
          [
           "GERMANY",
           0,
           0,
           0,
           0
          ],
          [
           "GERMANY",
           0,
           0,
           0,
           0
          ],
          [
           "GERMANY",
           0,
           0,
           0,
           0
          ],
          [
           "GERMANY",
           0,
           0,
           0,
           0
          ],
          [
           "GERMANY",
           0,
           0,
           0,
           0
          ],
          [
           "GERMANY",
           0,
           0,
           0,
           0
          ],
          [
           "GERMANY",
           0,
           0,
           0,
           0
          ],
          [
           "GERMANY",
           0,
           0,
           0,
           0
          ],
          [
           "GERMANY",
           0,
           0,
           0,
           0
          ],
          [
           "GERMANY",
           0,
           0,
           0,
           0
          ],
          [
           "GERMANY",
           3.6,
           0,
           1,
           10
          ]
         ],
         "hovertemplate": "<b>Country:</b> %{customdata[0]}<br><b>Year:</b> %{x}<br><b>Earthquake Count:</b> %{customdata[3]:.0f}<br><b>Total Damage:</b> $%{y:,.2f}M<br><b>Average Magnitude:</b> %{customdata[1]:.2f}<br><b>Average Focal Depth:</b> %{customdata[4]:.2f}<br><b>Tsunami Count:</b> %{customdata[2]:.0f}<extra></extra>",
         "marker": {
          "line": {
           "color": "black",
           "width": 0.5
          },
          "opacity": 0.8
         },
         "name": "GERMANY",
         "type": "bar",
         "visible": false,
         "x": [
          2000,
          2001,
          2002,
          2003,
          2004,
          2005,
          2006,
          2007,
          2008,
          2009,
          2010,
          2011,
          2012,
          2013,
          2015,
          2016,
          2017,
          2018,
          2019,
          2020,
          2021,
          2022,
          2023,
          2024,
          2014
         ],
         "y": [
          0,
          0,
          0,
          0,
          0,
          0,
          0,
          0,
          0,
          0,
          0,
          0,
          0,
          0,
          0,
          0,
          0,
          0,
          0,
          0,
          0,
          0,
          0,
          0,
          1.83
         ]
        },
        {
         "customdata": [
          [
           "GREECE",
           0,
           0,
           0,
           0
          ],
          [
           "GREECE",
           0,
           0,
           0,
           0
          ],
          [
           "GREECE",
           0,
           0,
           0,
           0
          ],
          [
           "GREECE",
           0,
           0,
           0,
           0
          ],
          [
           "GREECE",
           0,
           0,
           0,
           0
          ],
          [
           "GREECE",
           0,
           0,
           0,
           0
          ],
          [
           "GREECE",
           0,
           0,
           0,
           0
          ],
          [
           "GREECE",
           0,
           0,
           0,
           0
          ],
          [
           "GREECE",
           0,
           0,
           0,
           0
          ],
          [
           "GREECE",
           0,
           0,
           0,
           0
          ],
          [
           "GREECE",
           0,
           0,
           0,
           0
          ],
          [
           "GREECE",
           0,
           0,
           0,
           0
          ],
          [
           "GREECE",
           0,
           0,
           0,
           0
          ],
          [
           "GREECE",
           0,
           0,
           0,
           0
          ],
          [
           "GREECE",
           0,
           0,
           0,
           0
          ],
          [
           "GREECE",
           0,
           0,
           0,
           0
          ],
          [
           "GREECE",
           0,
           0,
           0,
           0
          ],
          [
           "GREECE",
           0,
           0,
           0,
           0
          ],
          [
           "GREECE",
           0,
           0,
           0,
           0
          ],
          [
           "GREECE",
           0,
           0,
           0,
           0
          ],
          [
           "GREECE",
           0,
           0,
           0,
           0
          ],
          [
           "GREECE",
           0,
           0,
           0,
           0
          ],
          [
           "GREECE",
           6.33,
           1,
           3,
           6.333333333333333
          ],
          [
           "GREECE",
           6.8,
           2,
           2,
           19
          ],
          [
           "GREECE",
           6.23,
           1,
           3,
           9.333333333333334
          ]
         ],
         "hovertemplate": "<b>Country:</b> %{customdata[0]}<br><b>Year:</b> %{x}<br><b>Earthquake Count:</b> %{customdata[3]:.0f}<br><b>Total Damage:</b> $%{y:,.2f}M<br><b>Average Magnitude:</b> %{customdata[1]:.2f}<br><b>Average Focal Depth:</b> %{customdata[4]:.2f}<br><b>Tsunami Count:</b> %{customdata[2]:.0f}<extra></extra>",
         "marker": {
          "line": {
           "color": "black",
           "width": 0.5
          },
          "opacity": 0.8
         },
         "name": "GREECE",
         "type": "bar",
         "visible": false,
         "x": [
          2000,
          2001,
          2002,
          2003,
          2004,
          2005,
          2006,
          2007,
          2008,
          2009,
          2010,
          2011,
          2012,
          2013,
          2015,
          2016,
          2017,
          2018,
          2019,
          2022,
          2023,
          2024,
          2014,
          2020,
          2021
         ],
         "y": [
          0,
          0,
          0,
          0,
          0,
          0,
          0,
          0,
          0,
          0,
          0,
          0,
          0,
          0,
          0,
          0,
          0,
          0,
          0,
          0,
          0,
          0,
          6288.76,
          484.75,
          11.32
         ]
        },
        {
         "customdata": [
          [
           "NICARAGUA",
           0,
           0,
           0,
           0
          ],
          [
           "NICARAGUA",
           0,
           0,
           0,
           0
          ],
          [
           "NICARAGUA",
           0,
           0,
           0,
           0
          ],
          [
           "NICARAGUA",
           0,
           0,
           0,
           0
          ],
          [
           "NICARAGUA",
           0,
           0,
           0,
           0
          ],
          [
           "NICARAGUA",
           0,
           0,
           0,
           0
          ],
          [
           "NICARAGUA",
           0,
           0,
           0,
           0
          ],
          [
           "NICARAGUA",
           0,
           0,
           0,
           0
          ],
          [
           "NICARAGUA",
           0,
           0,
           0,
           0
          ],
          [
           "NICARAGUA",
           0,
           0,
           0,
           0
          ],
          [
           "NICARAGUA",
           0,
           0,
           0,
           0
          ],
          [
           "NICARAGUA",
           0,
           0,
           0,
           0
          ],
          [
           "NICARAGUA",
           0,
           0,
           0,
           0
          ],
          [
           "NICARAGUA",
           0,
           0,
           0,
           0
          ],
          [
           "NICARAGUA",
           0,
           0,
           0,
           0
          ],
          [
           "NICARAGUA",
           0,
           0,
           0,
           0
          ],
          [
           "NICARAGUA",
           0,
           0,
           0,
           0
          ],
          [
           "NICARAGUA",
           0,
           0,
           0,
           0
          ],
          [
           "NICARAGUA",
           0,
           0,
           0,
           0
          ],
          [
           "NICARAGUA",
           0,
           0,
           0,
           0
          ],
          [
           "NICARAGUA",
           0,
           0,
           0,
           0
          ],
          [
           "NICARAGUA",
           0,
           0,
           0,
           0
          ],
          [
           "NICARAGUA",
           0,
           0,
           0,
           0
          ],
          [
           "NICARAGUA",
           0,
           0,
           0,
           0
          ],
          [
           "NICARAGUA",
           5.65,
           0,
           2,
           11.5
          ]
         ],
         "hovertemplate": "<b>Country:</b> %{customdata[0]}<br><b>Year:</b> %{x}<br><b>Earthquake Count:</b> %{customdata[3]:.0f}<br><b>Total Damage:</b> $%{y:,.2f}M<br><b>Average Magnitude:</b> %{customdata[1]:.2f}<br><b>Average Focal Depth:</b> %{customdata[4]:.2f}<br><b>Tsunami Count:</b> %{customdata[2]:.0f}<extra></extra>",
         "marker": {
          "line": {
           "color": "black",
           "width": 0.5
          },
          "opacity": 0.8
         },
         "name": "NICARAGUA",
         "type": "bar",
         "visible": false,
         "x": [
          2000,
          2001,
          2002,
          2003,
          2004,
          2005,
          2006,
          2007,
          2008,
          2009,
          2010,
          2011,
          2012,
          2013,
          2015,
          2016,
          2017,
          2018,
          2019,
          2020,
          2021,
          2022,
          2023,
          2024,
          2014
         ],
         "y": [
          0,
          0,
          0,
          0,
          0,
          0,
          0,
          0,
          0,
          0,
          0,
          0,
          0,
          0,
          0,
          0,
          0,
          0,
          0,
          0,
          0,
          0,
          0,
          0,
          4.03
         ]
        },
        {
         "customdata": [
          [
           "THAILAND",
           0,
           0,
           0,
           0
          ],
          [
           "THAILAND",
           0,
           0,
           0,
           0
          ],
          [
           "THAILAND",
           0,
           0,
           0,
           0
          ],
          [
           "THAILAND",
           0,
           0,
           0,
           0
          ],
          [
           "THAILAND",
           0,
           0,
           0,
           0
          ],
          [
           "THAILAND",
           0,
           0,
           0,
           0
          ],
          [
           "THAILAND",
           0,
           0,
           0,
           0
          ],
          [
           "THAILAND",
           0,
           0,
           0,
           0
          ],
          [
           "THAILAND",
           0,
           0,
           0,
           0
          ],
          [
           "THAILAND",
           0,
           0,
           0,
           0
          ],
          [
           "THAILAND",
           0,
           0,
           0,
           0
          ],
          [
           "THAILAND",
           0,
           0,
           0,
           0
          ],
          [
           "THAILAND",
           0,
           0,
           0,
           0
          ],
          [
           "THAILAND",
           0,
           0,
           0,
           0
          ],
          [
           "THAILAND",
           0,
           0,
           0,
           0
          ],
          [
           "THAILAND",
           0,
           0,
           0,
           0
          ],
          [
           "THAILAND",
           0,
           0,
           0,
           0
          ],
          [
           "THAILAND",
           0,
           0,
           0,
           0
          ],
          [
           "THAILAND",
           0,
           0,
           0,
           0
          ],
          [
           "THAILAND",
           0,
           0,
           0,
           0
          ],
          [
           "THAILAND",
           0,
           0,
           0,
           0
          ],
          [
           "THAILAND",
           0,
           0,
           0,
           0
          ],
          [
           "THAILAND",
           0,
           0,
           0,
           0
          ],
          [
           "THAILAND",
           0,
           0,
           0,
           0
          ],
          [
           "THAILAND",
           6.1,
           0,
           1,
           6
          ]
         ],
         "hovertemplate": "<b>Country:</b> %{customdata[0]}<br><b>Year:</b> %{x}<br><b>Earthquake Count:</b> %{customdata[3]:.0f}<br><b>Total Damage:</b> $%{y:,.2f}M<br><b>Average Magnitude:</b> %{customdata[1]:.2f}<br><b>Average Focal Depth:</b> %{customdata[4]:.2f}<br><b>Tsunami Count:</b> %{customdata[2]:.0f}<extra></extra>",
         "marker": {
          "line": {
           "color": "black",
           "width": 0.5
          },
          "opacity": 0.8
         },
         "name": "THAILAND",
         "type": "bar",
         "visible": false,
         "x": [
          2000,
          2001,
          2002,
          2003,
          2004,
          2005,
          2006,
          2007,
          2008,
          2009,
          2010,
          2011,
          2012,
          2013,
          2015,
          2016,
          2017,
          2018,
          2019,
          2020,
          2021,
          2022,
          2023,
          2024,
          2014
         ],
         "y": [
          0,
          0,
          0,
          0,
          0,
          0,
          0,
          0,
          0,
          0,
          0,
          0,
          0,
          0,
          0,
          0,
          0,
          0,
          0,
          0,
          0,
          0,
          0,
          0,
          83.35
         ]
        },
        {
         "customdata": [
          [
           "AFGHANISTAN",
           0,
           0,
           0,
           0
          ],
          [
           "AFGHANISTAN",
           0,
           0,
           0,
           0
          ],
          [
           "AFGHANISTAN",
           0,
           0,
           0,
           0
          ],
          [
           "AFGHANISTAN",
           0,
           0,
           0,
           0
          ],
          [
           "AFGHANISTAN",
           0,
           0,
           0,
           0
          ],
          [
           "AFGHANISTAN",
           0,
           0,
           0,
           0
          ],
          [
           "AFGHANISTAN",
           0,
           0,
           0,
           0
          ],
          [
           "AFGHANISTAN",
           0,
           0,
           0,
           0
          ],
          [
           "AFGHANISTAN",
           0,
           0,
           0,
           0
          ],
          [
           "AFGHANISTAN",
           0,
           0,
           0,
           0
          ],
          [
           "AFGHANISTAN",
           0,
           0,
           0,
           0
          ],
          [
           "AFGHANISTAN",
           0,
           0,
           0,
           0
          ],
          [
           "AFGHANISTAN",
           0,
           0,
           0,
           0
          ],
          [
           "AFGHANISTAN",
           0,
           0,
           0,
           0
          ],
          [
           "AFGHANISTAN",
           0,
           0,
           0,
           0
          ],
          [
           "AFGHANISTAN",
           0,
           0,
           0,
           0
          ],
          [
           "AFGHANISTAN",
           0,
           0,
           0,
           0
          ],
          [
           "AFGHANISTAN",
           0,
           0,
           0,
           0
          ],
          [
           "AFGHANISTAN",
           0,
           0,
           0,
           0
          ],
          [
           "AFGHANISTAN",
           0,
           0,
           0,
           0
          ],
          [
           "AFGHANISTAN",
           0,
           0,
           0,
           0
          ],
          [
           "AFGHANISTAN",
           0,
           0,
           0,
           0
          ],
          [
           "AFGHANISTAN",
           6.9,
           0,
           2,
           218.5
          ],
          [
           "AFGHANISTAN",
           5.43,
           0,
           3,
           12.666666666666666
          ],
          [
           "AFGHANISTAN",
           6.35,
           0,
           4,
           54
          ]
         ],
         "hovertemplate": "<b>Country:</b> %{customdata[0]}<br><b>Year:</b> %{x}<br><b>Earthquake Count:</b> %{customdata[3]:.0f}<br><b>Total Damage:</b> $%{y:,.2f}M<br><b>Average Magnitude:</b> %{customdata[1]:.2f}<br><b>Average Focal Depth:</b> %{customdata[4]:.2f}<br><b>Tsunami Count:</b> %{customdata[2]:.0f}<extra></extra>",
         "marker": {
          "line": {
           "color": "black",
           "width": 0.5
          },
          "opacity": 0.8
         },
         "name": "AFGHANISTAN",
         "type": "bar",
         "visible": false,
         "x": [
          2000,
          2001,
          2002,
          2003,
          2004,
          2005,
          2006,
          2007,
          2008,
          2009,
          2010,
          2011,
          2012,
          2013,
          2014,
          2016,
          2017,
          2018,
          2019,
          2020,
          2021,
          2024,
          2015,
          2022,
          2023
         ],
         "y": [
          0,
          0,
          0,
          0,
          0,
          0,
          0,
          0,
          0,
          0,
          0,
          0,
          0,
          0,
          0,
          0,
          0,
          0,
          0,
          0,
          0,
          0,
          145.47,
          128.05,
          51.45
         ]
        },
        {
         "customdata": [
          [
           "KYRGYZSTAN",
           0,
           0,
           0,
           0
          ],
          [
           "KYRGYZSTAN",
           0,
           0,
           0,
           0
          ],
          [
           "KYRGYZSTAN",
           0,
           0,
           0,
           0
          ],
          [
           "KYRGYZSTAN",
           0,
           0,
           0,
           0
          ],
          [
           "KYRGYZSTAN",
           0,
           0,
           0,
           0
          ],
          [
           "KYRGYZSTAN",
           0,
           0,
           0,
           0
          ],
          [
           "KYRGYZSTAN",
           0,
           0,
           0,
           0
          ],
          [
           "KYRGYZSTAN",
           0,
           0,
           0,
           0
          ],
          [
           "KYRGYZSTAN",
           0,
           0,
           0,
           0
          ],
          [
           "KYRGYZSTAN",
           0,
           0,
           0,
           0
          ],
          [
           "KYRGYZSTAN",
           0,
           0,
           0,
           0
          ],
          [
           "KYRGYZSTAN",
           0,
           0,
           0,
           0
          ],
          [
           "KYRGYZSTAN",
           0,
           0,
           0,
           0
          ],
          [
           "KYRGYZSTAN",
           0,
           0,
           0,
           0
          ],
          [
           "KYRGYZSTAN",
           0,
           0,
           0,
           0
          ],
          [
           "KYRGYZSTAN",
           0,
           0,
           0,
           0
          ],
          [
           "KYRGYZSTAN",
           0,
           0,
           0,
           0
          ],
          [
           "KYRGYZSTAN",
           0,
           0,
           0,
           0
          ],
          [
           "KYRGYZSTAN",
           0,
           0,
           0,
           0
          ],
          [
           "KYRGYZSTAN",
           0,
           0,
           0,
           0
          ],
          [
           "KYRGYZSTAN",
           0,
           0,
           0,
           0
          ],
          [
           "KYRGYZSTAN",
           0,
           0,
           0,
           0
          ],
          [
           "KYRGYZSTAN",
           0,
           0,
           0,
           0
          ],
          [
           "KYRGYZSTAN",
           0,
           0,
           0,
           0
          ],
          [
           "KYRGYZSTAN",
           5.6,
           0,
           1,
           18
          ]
         ],
         "hovertemplate": "<b>Country:</b> %{customdata[0]}<br><b>Year:</b> %{x}<br><b>Earthquake Count:</b> %{customdata[3]:.0f}<br><b>Total Damage:</b> $%{y:,.2f}M<br><b>Average Magnitude:</b> %{customdata[1]:.2f}<br><b>Average Focal Depth:</b> %{customdata[4]:.2f}<br><b>Tsunami Count:</b> %{customdata[2]:.0f}<extra></extra>",
         "marker": {
          "line": {
           "color": "black",
           "width": 0.5
          },
          "opacity": 0.8
         },
         "name": "KYRGYZSTAN",
         "type": "bar",
         "visible": false,
         "x": [
          2000,
          2001,
          2002,
          2003,
          2004,
          2005,
          2006,
          2007,
          2008,
          2009,
          2010,
          2011,
          2012,
          2013,
          2014,
          2016,
          2017,
          2018,
          2019,
          2020,
          2021,
          2022,
          2023,
          2024,
          2015
         ],
         "y": [
          0,
          0,
          0,
          0,
          0,
          0,
          0,
          0,
          0,
          0,
          0,
          0,
          0,
          0,
          0,
          0,
          0,
          0,
          0,
          0,
          0,
          0,
          0,
          0,
          16.02
         ]
        },
        {
         "customdata": [
          [
           "NEPAL",
           0,
           0,
           0,
           0
          ],
          [
           "NEPAL",
           0,
           0,
           0,
           0
          ],
          [
           "NEPAL",
           0,
           0,
           0,
           0
          ],
          [
           "NEPAL",
           0,
           0,
           0,
           0
          ],
          [
           "NEPAL",
           0,
           0,
           0,
           0
          ],
          [
           "NEPAL",
           0,
           0,
           0,
           0
          ],
          [
           "NEPAL",
           0,
           0,
           0,
           0
          ],
          [
           "NEPAL",
           0,
           0,
           0,
           0
          ],
          [
           "NEPAL",
           0,
           0,
           0,
           0
          ],
          [
           "NEPAL",
           0,
           0,
           0,
           0
          ],
          [
           "NEPAL",
           0,
           0,
           0,
           0
          ],
          [
           "NEPAL",
           0,
           0,
           0,
           0
          ],
          [
           "NEPAL",
           0,
           0,
           0,
           0
          ],
          [
           "NEPAL",
           0,
           0,
           0,
           0
          ],
          [
           "NEPAL",
           0,
           0,
           0,
           0
          ],
          [
           "NEPAL",
           0,
           0,
           0,
           0
          ],
          [
           "NEPAL",
           0,
           0,
           0,
           0
          ],
          [
           "NEPAL",
           0,
           0,
           0,
           0
          ],
          [
           "NEPAL",
           0,
           0,
           0,
           0
          ],
          [
           "NEPAL",
           0,
           0,
           0,
           0
          ],
          [
           "NEPAL",
           0,
           0,
           0,
           0
          ],
          [
           "NEPAL",
           0,
           0,
           0,
           0
          ],
          [
           "NEPAL",
           0,
           0,
           0,
           0
          ],
          [
           "NEPAL",
           7.55,
           0,
           2,
           11.5
          ],
          [
           "NEPAL",
           5.7,
           0,
           2,
           18
          ]
         ],
         "hovertemplate": "<b>Country:</b> %{customdata[0]}<br><b>Year:</b> %{x}<br><b>Earthquake Count:</b> %{customdata[3]:.0f}<br><b>Total Damage:</b> $%{y:,.2f}M<br><b>Average Magnitude:</b> %{customdata[1]:.2f}<br><b>Average Focal Depth:</b> %{customdata[4]:.2f}<br><b>Tsunami Count:</b> %{customdata[2]:.0f}<extra></extra>",
         "marker": {
          "line": {
           "color": "black",
           "width": 0.5
          },
          "opacity": 0.8
         },
         "name": "NEPAL",
         "type": "bar",
         "visible": false,
         "x": [
          2000,
          2001,
          2002,
          2003,
          2004,
          2005,
          2006,
          2007,
          2008,
          2009,
          2010,
          2011,
          2012,
          2013,
          2014,
          2016,
          2017,
          2018,
          2019,
          2020,
          2021,
          2022,
          2024,
          2015,
          2023
         ],
         "y": [
          0,
          0,
          0,
          0,
          0,
          0,
          0,
          0,
          0,
          0,
          0,
          0,
          0,
          0,
          0,
          0,
          0,
          0,
          0,
          0,
          0,
          0,
          0,
          8007.54,
          20.58
         ]
        },
        {
         "customdata": [
          [
           "ECUADOR",
           0,
           0,
           0,
           0
          ],
          [
           "ECUADOR",
           0,
           0,
           0,
           0
          ],
          [
           "ECUADOR",
           0,
           0,
           0,
           0
          ],
          [
           "ECUADOR",
           0,
           0,
           0,
           0
          ],
          [
           "ECUADOR",
           0,
           0,
           0,
           0
          ],
          [
           "ECUADOR",
           0,
           0,
           0,
           0
          ],
          [
           "ECUADOR",
           0,
           0,
           0,
           0
          ],
          [
           "ECUADOR",
           0,
           0,
           0,
           0
          ],
          [
           "ECUADOR",
           0,
           0,
           0,
           0
          ],
          [
           "ECUADOR",
           0,
           0,
           0,
           0
          ],
          [
           "ECUADOR",
           0,
           0,
           0,
           0
          ],
          [
           "ECUADOR",
           0,
           0,
           0,
           0
          ],
          [
           "ECUADOR",
           0,
           0,
           0,
           0
          ],
          [
           "ECUADOR",
           0,
           0,
           0,
           0
          ],
          [
           "ECUADOR",
           0,
           0,
           0,
           0
          ],
          [
           "ECUADOR",
           0,
           0,
           0,
           0
          ],
          [
           "ECUADOR",
           0,
           0,
           0,
           0
          ],
          [
           "ECUADOR",
           0,
           0,
           0,
           0
          ],
          [
           "ECUADOR",
           0,
           0,
           0,
           0
          ],
          [
           "ECUADOR",
           0,
           0,
           0,
           0
          ],
          [
           "ECUADOR",
           0,
           0,
           0,
           0
          ],
          [
           "ECUADOR",
           0,
           0,
           0,
           0
          ],
          [
           "ECUADOR",
           0,
           0,
           0,
           0
          ],
          [
           "ECUADOR",
           0,
           0,
           0,
           0
          ],
          [
           "ECUADOR",
           6.7,
           1,
           3,
           20.333333333333332
          ]
         ],
         "hovertemplate": "<b>Country:</b> %{customdata[0]}<br><b>Year:</b> %{x}<br><b>Earthquake Count:</b> %{customdata[3]:.0f}<br><b>Total Damage:</b> $%{y:,.2f}M<br><b>Average Magnitude:</b> %{customdata[1]:.2f}<br><b>Average Focal Depth:</b> %{customdata[4]:.2f}<br><b>Tsunami Count:</b> %{customdata[2]:.0f}<extra></extra>",
         "marker": {
          "line": {
           "color": "black",
           "width": 0.5
          },
          "opacity": 0.8
         },
         "name": "ECUADOR",
         "type": "bar",
         "visible": false,
         "x": [
          2000,
          2001,
          2002,
          2003,
          2004,
          2005,
          2006,
          2007,
          2008,
          2009,
          2010,
          2011,
          2012,
          2013,
          2014,
          2015,
          2017,
          2018,
          2019,
          2020,
          2021,
          2022,
          2023,
          2024,
          2016
         ],
         "y": [
          0,
          0,
          0,
          0,
          0,
          0,
          0,
          0,
          0,
          0,
          0,
          0,
          0,
          0,
          0,
          0,
          0,
          0,
          0,
          0,
          0,
          0,
          0,
          0,
          4314.64
         ]
        },
        {
         "customdata": [
          [
           "MACEDONIA",
           0,
           0,
           0,
           0
          ],
          [
           "MACEDONIA",
           0,
           0,
           0,
           0
          ],
          [
           "MACEDONIA",
           0,
           0,
           0,
           0
          ],
          [
           "MACEDONIA",
           0,
           0,
           0,
           0
          ],
          [
           "MACEDONIA",
           0,
           0,
           0,
           0
          ],
          [
           "MACEDONIA",
           0,
           0,
           0,
           0
          ],
          [
           "MACEDONIA",
           0,
           0,
           0,
           0
          ],
          [
           "MACEDONIA",
           0,
           0,
           0,
           0
          ],
          [
           "MACEDONIA",
           0,
           0,
           0,
           0
          ],
          [
           "MACEDONIA",
           0,
           0,
           0,
           0
          ],
          [
           "MACEDONIA",
           0,
           0,
           0,
           0
          ],
          [
           "MACEDONIA",
           0,
           0,
           0,
           0
          ],
          [
           "MACEDONIA",
           0,
           0,
           0,
           0
          ],
          [
           "MACEDONIA",
           0,
           0,
           0,
           0
          ],
          [
           "MACEDONIA",
           0,
           0,
           0,
           0
          ],
          [
           "MACEDONIA",
           0,
           0,
           0,
           0
          ],
          [
           "MACEDONIA",
           0,
           0,
           0,
           0
          ],
          [
           "MACEDONIA",
           0,
           0,
           0,
           0
          ],
          [
           "MACEDONIA",
           0,
           0,
           0,
           0
          ],
          [
           "MACEDONIA",
           0,
           0,
           0,
           0
          ],
          [
           "MACEDONIA",
           0,
           0,
           0,
           0
          ],
          [
           "MACEDONIA",
           0,
           0,
           0,
           0
          ],
          [
           "MACEDONIA",
           0,
           0,
           0,
           0
          ],
          [
           "MACEDONIA",
           0,
           0,
           0,
           0
          ],
          [
           "MACEDONIA",
           5.1,
           0,
           1,
           13
          ]
         ],
         "hovertemplate": "<b>Country:</b> %{customdata[0]}<br><b>Year:</b> %{x}<br><b>Earthquake Count:</b> %{customdata[3]:.0f}<br><b>Total Damage:</b> $%{y:,.2f}M<br><b>Average Magnitude:</b> %{customdata[1]:.2f}<br><b>Average Focal Depth:</b> %{customdata[4]:.2f}<br><b>Tsunami Count:</b> %{customdata[2]:.0f}<extra></extra>",
         "marker": {
          "line": {
           "color": "black",
           "width": 0.5
          },
          "opacity": 0.8
         },
         "name": "MACEDONIA",
         "type": "bar",
         "visible": false,
         "x": [
          2000,
          2001,
          2002,
          2003,
          2004,
          2005,
          2006,
          2007,
          2008,
          2009,
          2010,
          2011,
          2012,
          2013,
          2014,
          2015,
          2017,
          2018,
          2019,
          2020,
          2021,
          2022,
          2023,
          2024,
          2016
         ],
         "y": [
          0,
          0,
          0,
          0,
          0,
          0,
          0,
          0,
          0,
          0,
          0,
          0,
          0,
          0,
          0,
          0,
          0,
          0,
          0,
          0,
          0,
          0,
          0,
          0,
          13.07
         ]
        },
        {
         "customdata": [
          [
           "SOUTH KOREA",
           0,
           0,
           0,
           0
          ],
          [
           "SOUTH KOREA",
           0,
           0,
           0,
           0
          ],
          [
           "SOUTH KOREA",
           0,
           0,
           0,
           0
          ],
          [
           "SOUTH KOREA",
           0,
           0,
           0,
           0
          ],
          [
           "SOUTH KOREA",
           0,
           0,
           0,
           0
          ],
          [
           "SOUTH KOREA",
           0,
           0,
           0,
           0
          ],
          [
           "SOUTH KOREA",
           0,
           0,
           0,
           0
          ],
          [
           "SOUTH KOREA",
           0,
           0,
           0,
           0
          ],
          [
           "SOUTH KOREA",
           0,
           0,
           0,
           0
          ],
          [
           "SOUTH KOREA",
           0,
           0,
           0,
           0
          ],
          [
           "SOUTH KOREA",
           0,
           0,
           0,
           0
          ],
          [
           "SOUTH KOREA",
           0,
           0,
           0,
           0
          ],
          [
           "SOUTH KOREA",
           0,
           0,
           0,
           0
          ],
          [
           "SOUTH KOREA",
           0,
           0,
           0,
           0
          ],
          [
           "SOUTH KOREA",
           0,
           0,
           0,
           0
          ],
          [
           "SOUTH KOREA",
           0,
           0,
           0,
           0
          ],
          [
           "SOUTH KOREA",
           0,
           0,
           0,
           0
          ],
          [
           "SOUTH KOREA",
           0,
           0,
           0,
           0
          ],
          [
           "SOUTH KOREA",
           0,
           0,
           0,
           0
          ],
          [
           "SOUTH KOREA",
           0,
           0,
           0,
           0
          ],
          [
           "SOUTH KOREA",
           0,
           0,
           0,
           0
          ],
          [
           "SOUTH KOREA",
           0,
           0,
           0,
           0
          ],
          [
           "SOUTH KOREA",
           0,
           0,
           0,
           0
          ],
          [
           "SOUTH KOREA",
           5.4,
           0,
           1,
           13
          ],
          [
           "SOUTH KOREA",
           5.5,
           0,
           1,
           10
          ]
         ],
         "hovertemplate": "<b>Country:</b> %{customdata[0]}<br><b>Year:</b> %{x}<br><b>Earthquake Count:</b> %{customdata[3]:.0f}<br><b>Total Damage:</b> $%{y:,.2f}M<br><b>Average Magnitude:</b> %{customdata[1]:.2f}<br><b>Average Focal Depth:</b> %{customdata[4]:.2f}<br><b>Tsunami Count:</b> %{customdata[2]:.0f}<extra></extra>",
         "marker": {
          "line": {
           "color": "black",
           "width": 0.5
          },
          "opacity": 0.8
         },
         "name": "SOUTH KOREA",
         "type": "bar",
         "visible": false,
         "x": [
          2000,
          2001,
          2002,
          2003,
          2004,
          2005,
          2006,
          2007,
          2008,
          2009,
          2010,
          2011,
          2012,
          2013,
          2014,
          2015,
          2018,
          2019,
          2020,
          2021,
          2022,
          2023,
          2024,
          2016,
          2017
         ],
         "y": [
          0,
          0,
          0,
          0,
          0,
          0,
          0,
          0,
          0,
          0,
          0,
          0,
          0,
          0,
          0,
          0,
          0,
          0,
          0,
          0,
          0,
          0,
          0,
          27.46,
          97.06
         ]
        },
        {
         "customdata": [
          [
           "TANZANIA",
           0,
           0,
           0,
           0
          ],
          [
           "TANZANIA",
           0,
           0,
           0,
           0
          ],
          [
           "TANZANIA",
           0,
           0,
           0,
           0
          ],
          [
           "TANZANIA",
           0,
           0,
           0,
           0
          ],
          [
           "TANZANIA",
           0,
           0,
           0,
           0
          ],
          [
           "TANZANIA",
           0,
           0,
           0,
           0
          ],
          [
           "TANZANIA",
           0,
           0,
           0,
           0
          ],
          [
           "TANZANIA",
           0,
           0,
           0,
           0
          ],
          [
           "TANZANIA",
           0,
           0,
           0,
           0
          ],
          [
           "TANZANIA",
           0,
           0,
           0,
           0
          ],
          [
           "TANZANIA",
           0,
           0,
           0,
           0
          ],
          [
           "TANZANIA",
           0,
           0,
           0,
           0
          ],
          [
           "TANZANIA",
           0,
           0,
           0,
           0
          ],
          [
           "TANZANIA",
           0,
           0,
           0,
           0
          ],
          [
           "TANZANIA",
           0,
           0,
           0,
           0
          ],
          [
           "TANZANIA",
           0,
           0,
           0,
           0
          ],
          [
           "TANZANIA",
           0,
           0,
           0,
           0
          ],
          [
           "TANZANIA",
           0,
           0,
           0,
           0
          ],
          [
           "TANZANIA",
           0,
           0,
           0,
           0
          ],
          [
           "TANZANIA",
           0,
           0,
           0,
           0
          ],
          [
           "TANZANIA",
           0,
           0,
           0,
           0
          ],
          [
           "TANZANIA",
           0,
           0,
           0,
           0
          ],
          [
           "TANZANIA",
           0,
           0,
           0,
           0
          ],
          [
           "TANZANIA",
           0,
           0,
           0,
           0
          ],
          [
           "TANZANIA",
           5.9,
           0,
           1,
           40
          ]
         ],
         "hovertemplate": "<b>Country:</b> %{customdata[0]}<br><b>Year:</b> %{x}<br><b>Earthquake Count:</b> %{customdata[3]:.0f}<br><b>Total Damage:</b> $%{y:,.2f}M<br><b>Average Magnitude:</b> %{customdata[1]:.2f}<br><b>Average Focal Depth:</b> %{customdata[4]:.2f}<br><b>Tsunami Count:</b> %{customdata[2]:.0f}<extra></extra>",
         "marker": {
          "line": {
           "color": "black",
           "width": 0.5
          },
          "opacity": 0.8
         },
         "name": "TANZANIA",
         "type": "bar",
         "visible": false,
         "x": [
          2000,
          2001,
          2002,
          2003,
          2004,
          2005,
          2006,
          2007,
          2008,
          2009,
          2010,
          2011,
          2012,
          2013,
          2014,
          2015,
          2017,
          2018,
          2019,
          2020,
          2021,
          2022,
          2023,
          2024,
          2016
         ],
         "y": [
          0,
          0,
          0,
          0,
          0,
          0,
          0,
          0,
          0,
          0,
          0,
          0,
          0,
          0,
          0,
          0,
          0,
          0,
          0,
          0,
          0,
          0,
          0,
          0,
          598.82
         ]
        },
        {
         "customdata": [
          [
           "PAPUA NEW GUINEA",
           0,
           0,
           0,
           0
          ],
          [
           "PAPUA NEW GUINEA",
           0,
           0,
           0,
           0
          ],
          [
           "PAPUA NEW GUINEA",
           0,
           0,
           0,
           0
          ],
          [
           "PAPUA NEW GUINEA",
           0,
           0,
           0,
           0
          ],
          [
           "PAPUA NEW GUINEA",
           0,
           0,
           0,
           0
          ],
          [
           "PAPUA NEW GUINEA",
           0,
           0,
           0,
           0
          ],
          [
           "PAPUA NEW GUINEA",
           0,
           0,
           0,
           0
          ],
          [
           "PAPUA NEW GUINEA",
           0,
           0,
           0,
           0
          ],
          [
           "PAPUA NEW GUINEA",
           0,
           0,
           0,
           0
          ],
          [
           "PAPUA NEW GUINEA",
           0,
           0,
           0,
           0
          ],
          [
           "PAPUA NEW GUINEA",
           0,
           0,
           0,
           0
          ],
          [
           "PAPUA NEW GUINEA",
           0,
           0,
           0,
           0
          ],
          [
           "PAPUA NEW GUINEA",
           0,
           0,
           0,
           0
          ],
          [
           "PAPUA NEW GUINEA",
           0,
           0,
           0,
           0
          ],
          [
           "PAPUA NEW GUINEA",
           0,
           0,
           0,
           0
          ],
          [
           "PAPUA NEW GUINEA",
           0,
           0,
           0,
           0
          ],
          [
           "PAPUA NEW GUINEA",
           0,
           0,
           0,
           0
          ],
          [
           "PAPUA NEW GUINEA",
           0,
           0,
           0,
           0
          ],
          [
           "PAPUA NEW GUINEA",
           0,
           0,
           0,
           0
          ],
          [
           "PAPUA NEW GUINEA",
           0,
           0,
           0,
           0
          ],
          [
           "PAPUA NEW GUINEA",
           0,
           0,
           0,
           0
          ],
          [
           "PAPUA NEW GUINEA",
           0,
           0,
           0,
           0
          ],
          [
           "PAPUA NEW GUINEA",
           0,
           0,
           0,
           0
          ],
          [
           "PAPUA NEW GUINEA",
           6.52,
           0,
           5,
           17.8
          ],
          [
           "PAPUA NEW GUINEA",
           7.6,
           0,
           1,
           90
          ]
         ],
         "hovertemplate": "<b>Country:</b> %{customdata[0]}<br><b>Year:</b> %{x}<br><b>Earthquake Count:</b> %{customdata[3]:.0f}<br><b>Total Damage:</b> $%{y:,.2f}M<br><b>Average Magnitude:</b> %{customdata[1]:.2f}<br><b>Average Focal Depth:</b> %{customdata[4]:.2f}<br><b>Tsunami Count:</b> %{customdata[2]:.0f}<extra></extra>",
         "marker": {
          "line": {
           "color": "black",
           "width": 0.5
          },
          "opacity": 0.8
         },
         "name": "PAPUA NEW GUINEA",
         "type": "bar",
         "visible": false,
         "x": [
          2000,
          2001,
          2002,
          2003,
          2004,
          2005,
          2006,
          2007,
          2008,
          2009,
          2010,
          2011,
          2012,
          2013,
          2014,
          2015,
          2016,
          2017,
          2019,
          2020,
          2021,
          2023,
          2024,
          2018,
          2022
         ],
         "y": [
          0,
          0,
          0,
          0,
          0,
          0,
          0,
          0,
          0,
          0,
          0,
          0,
          0,
          0,
          0,
          0,
          0,
          0,
          0,
          0,
          0,
          0,
          0,
          364.37,
          15.95
         ]
        },
        {
         "customdata": [
          [
           "ALBANIA",
           0,
           0,
           0,
           0
          ],
          [
           "ALBANIA",
           0,
           0,
           0,
           0
          ],
          [
           "ALBANIA",
           0,
           0,
           0,
           0
          ],
          [
           "ALBANIA",
           0,
           0,
           0,
           0
          ],
          [
           "ALBANIA",
           0,
           0,
           0,
           0
          ],
          [
           "ALBANIA",
           0,
           0,
           0,
           0
          ],
          [
           "ALBANIA",
           0,
           0,
           0,
           0
          ],
          [
           "ALBANIA",
           0,
           0,
           0,
           0
          ],
          [
           "ALBANIA",
           0,
           0,
           0,
           0
          ],
          [
           "ALBANIA",
           0,
           0,
           0,
           0
          ],
          [
           "ALBANIA",
           0,
           0,
           0,
           0
          ],
          [
           "ALBANIA",
           0,
           0,
           0,
           0
          ],
          [
           "ALBANIA",
           0,
           0,
           0,
           0
          ],
          [
           "ALBANIA",
           0,
           0,
           0,
           0
          ],
          [
           "ALBANIA",
           0,
           0,
           0,
           0
          ],
          [
           "ALBANIA",
           0,
           0,
           0,
           0
          ],
          [
           "ALBANIA",
           0,
           0,
           0,
           0
          ],
          [
           "ALBANIA",
           0,
           0,
           0,
           0
          ],
          [
           "ALBANIA",
           0,
           0,
           0,
           0
          ],
          [
           "ALBANIA",
           0,
           0,
           0,
           0
          ],
          [
           "ALBANIA",
           0,
           0,
           0,
           0
          ],
          [
           "ALBANIA",
           0,
           0,
           0,
           0
          ],
          [
           "ALBANIA",
           0,
           0,
           0,
           0
          ],
          [
           "ALBANIA",
           0,
           0,
           0,
           0
          ],
          [
           "ALBANIA",
           5.73,
           0,
           3,
           13.333333333333334
          ]
         ],
         "hovertemplate": "<b>Country:</b> %{customdata[0]}<br><b>Year:</b> %{x}<br><b>Earthquake Count:</b> %{customdata[3]:.0f}<br><b>Total Damage:</b> $%{y:,.2f}M<br><b>Average Magnitude:</b> %{customdata[1]:.2f}<br><b>Average Focal Depth:</b> %{customdata[4]:.2f}<br><b>Tsunami Count:</b> %{customdata[2]:.0f}<extra></extra>",
         "marker": {
          "line": {
           "color": "black",
           "width": 0.5
          },
          "opacity": 0.8
         },
         "name": "ALBANIA",
         "type": "bar",
         "visible": false,
         "x": [
          2000,
          2001,
          2002,
          2003,
          2004,
          2005,
          2006,
          2007,
          2008,
          2009,
          2010,
          2011,
          2012,
          2013,
          2014,
          2015,
          2016,
          2017,
          2018,
          2020,
          2021,
          2022,
          2023,
          2024,
          2019
         ],
         "y": [
          0,
          0,
          0,
          0,
          0,
          0,
          0,
          0,
          0,
          0,
          0,
          0,
          0,
          0,
          0,
          0,
          0,
          0,
          0,
          0,
          0,
          0,
          0,
          0,
          1383.17
         ]
        },
        {
         "customdata": [
          [
           "FRANCE",
           0,
           0,
           0,
           0
          ],
          [
           "FRANCE",
           0,
           0,
           0,
           0
          ],
          [
           "FRANCE",
           0,
           0,
           0,
           0
          ],
          [
           "FRANCE",
           0,
           0,
           0,
           0
          ],
          [
           "FRANCE",
           0,
           0,
           0,
           0
          ],
          [
           "FRANCE",
           0,
           0,
           0,
           0
          ],
          [
           "FRANCE",
           0,
           0,
           0,
           0
          ],
          [
           "FRANCE",
           0,
           0,
           0,
           0
          ],
          [
           "FRANCE",
           0,
           0,
           0,
           0
          ],
          [
           "FRANCE",
           0,
           0,
           0,
           0
          ],
          [
           "FRANCE",
           0,
           0,
           0,
           0
          ],
          [
           "FRANCE",
           0,
           0,
           0,
           0
          ],
          [
           "FRANCE",
           0,
           0,
           0,
           0
          ],
          [
           "FRANCE",
           0,
           0,
           0,
           0
          ],
          [
           "FRANCE",
           0,
           0,
           0,
           0
          ],
          [
           "FRANCE",
           0,
           0,
           0,
           0
          ],
          [
           "FRANCE",
           0,
           0,
           0,
           0
          ],
          [
           "FRANCE",
           0,
           0,
           0,
           0
          ],
          [
           "FRANCE",
           0,
           0,
           0,
           0
          ],
          [
           "FRANCE",
           0,
           0,
           0,
           0
          ],
          [
           "FRANCE",
           0,
           0,
           0,
           0
          ],
          [
           "FRANCE",
           0,
           0,
           0,
           0
          ],
          [
           "FRANCE",
           0,
           0,
           0,
           0
          ],
          [
           "FRANCE",
           4.8,
           0,
           1,
           10
          ],
          [
           "FRANCE",
           4.8,
           0,
           1,
           5
          ]
         ],
         "hovertemplate": "<b>Country:</b> %{customdata[0]}<br><b>Year:</b> %{x}<br><b>Earthquake Count:</b> %{customdata[3]:.0f}<br><b>Total Damage:</b> $%{y:,.2f}M<br><b>Average Magnitude:</b> %{customdata[1]:.2f}<br><b>Average Focal Depth:</b> %{customdata[4]:.2f}<br><b>Tsunami Count:</b> %{customdata[2]:.0f}<extra></extra>",
         "marker": {
          "line": {
           "color": "black",
           "width": 0.5
          },
          "opacity": 0.8
         },
         "name": "FRANCE",
         "type": "bar",
         "visible": false,
         "x": [
          2000,
          2001,
          2002,
          2003,
          2004,
          2005,
          2006,
          2007,
          2008,
          2009,
          2010,
          2011,
          2012,
          2013,
          2014,
          2015,
          2016,
          2017,
          2018,
          2020,
          2021,
          2022,
          2024,
          2019,
          2023
         ],
         "y": [
          0,
          0,
          0,
          0,
          0,
          0,
          0,
          0,
          0,
          0,
          0,
          0,
          0,
          0,
          0,
          0,
          0,
          0,
          0,
          0,
          0,
          0,
          0,
          72.97,
          452.79
         ]
        },
        {
         "customdata": [
          [
           "CROATIA",
           0,
           0,
           0,
           0
          ],
          [
           "CROATIA",
           0,
           0,
           0,
           0
          ],
          [
           "CROATIA",
           0,
           0,
           0,
           0
          ],
          [
           "CROATIA",
           0,
           0,
           0,
           0
          ],
          [
           "CROATIA",
           0,
           0,
           0,
           0
          ],
          [
           "CROATIA",
           0,
           0,
           0,
           0
          ],
          [
           "CROATIA",
           0,
           0,
           0,
           0
          ],
          [
           "CROATIA",
           0,
           0,
           0,
           0
          ],
          [
           "CROATIA",
           0,
           0,
           0,
           0
          ],
          [
           "CROATIA",
           0,
           0,
           0,
           0
          ],
          [
           "CROATIA",
           0,
           0,
           0,
           0
          ],
          [
           "CROATIA",
           0,
           0,
           0,
           0
          ],
          [
           "CROATIA",
           0,
           0,
           0,
           0
          ],
          [
           "CROATIA",
           0,
           0,
           0,
           0
          ],
          [
           "CROATIA",
           0,
           0,
           0,
           0
          ],
          [
           "CROATIA",
           0,
           0,
           0,
           0
          ],
          [
           "CROATIA",
           0,
           0,
           0,
           0
          ],
          [
           "CROATIA",
           0,
           0,
           0,
           0
          ],
          [
           "CROATIA",
           0,
           0,
           0,
           0
          ],
          [
           "CROATIA",
           0,
           0,
           0,
           0
          ],
          [
           "CROATIA",
           0,
           0,
           0,
           0
          ],
          [
           "CROATIA",
           0,
           0,
           0,
           0
          ],
          [
           "CROATIA",
           0,
           0,
           0,
           0
          ],
          [
           "CROATIA",
           0,
           0,
           0,
           0
          ],
          [
           "CROATIA",
           5.9,
           0,
           2,
           10
          ]
         ],
         "hovertemplate": "<b>Country:</b> %{customdata[0]}<br><b>Year:</b> %{x}<br><b>Earthquake Count:</b> %{customdata[3]:.0f}<br><b>Total Damage:</b> $%{y:,.2f}M<br><b>Average Magnitude:</b> %{customdata[1]:.2f}<br><b>Average Focal Depth:</b> %{customdata[4]:.2f}<br><b>Tsunami Count:</b> %{customdata[2]:.0f}<extra></extra>",
         "marker": {
          "line": {
           "color": "black",
           "width": 0.5
          },
          "opacity": 0.8
         },
         "name": "CROATIA",
         "type": "bar",
         "visible": false,
         "x": [
          2000,
          2001,
          2002,
          2003,
          2004,
          2005,
          2006,
          2007,
          2008,
          2009,
          2010,
          2011,
          2012,
          2013,
          2014,
          2015,
          2016,
          2017,
          2018,
          2019,
          2021,
          2022,
          2023,
          2024,
          2020
         ],
         "y": [
          0,
          0,
          0,
          0,
          0,
          0,
          0,
          0,
          0,
          0,
          0,
          0,
          0,
          0,
          0,
          0,
          0,
          0,
          0,
          0,
          0,
          0,
          0,
          0,
          7255.54
         ]
        },
        {
         "customdata": [
          [
           "PUERTO RICO",
           0,
           0,
           0,
           0
          ],
          [
           "PUERTO RICO",
           0,
           0,
           0,
           0
          ],
          [
           "PUERTO RICO",
           0,
           0,
           0,
           0
          ],
          [
           "PUERTO RICO",
           0,
           0,
           0,
           0
          ],
          [
           "PUERTO RICO",
           0,
           0,
           0,
           0
          ],
          [
           "PUERTO RICO",
           0,
           0,
           0,
           0
          ],
          [
           "PUERTO RICO",
           0,
           0,
           0,
           0
          ],
          [
           "PUERTO RICO",
           0,
           0,
           0,
           0
          ],
          [
           "PUERTO RICO",
           0,
           0,
           0,
           0
          ],
          [
           "PUERTO RICO",
           0,
           0,
           0,
           0
          ],
          [
           "PUERTO RICO",
           0,
           0,
           0,
           0
          ],
          [
           "PUERTO RICO",
           0,
           0,
           0,
           0
          ],
          [
           "PUERTO RICO",
           0,
           0,
           0,
           0
          ],
          [
           "PUERTO RICO",
           0,
           0,
           0,
           0
          ],
          [
           "PUERTO RICO",
           0,
           0,
           0,
           0
          ],
          [
           "PUERTO RICO",
           0,
           0,
           0,
           0
          ],
          [
           "PUERTO RICO",
           0,
           0,
           0,
           0
          ],
          [
           "PUERTO RICO",
           0,
           0,
           0,
           0
          ],
          [
           "PUERTO RICO",
           0,
           0,
           0,
           0
          ],
          [
           "PUERTO RICO",
           0,
           0,
           0,
           0
          ],
          [
           "PUERTO RICO",
           0,
           0,
           0,
           0
          ],
          [
           "PUERTO RICO",
           0,
           0,
           0,
           0
          ],
          [
           "PUERTO RICO",
           0,
           0,
           0,
           0
          ],
          [
           "PUERTO RICO",
           0,
           0,
           0,
           0
          ],
          [
           "PUERTO RICO",
           6.4,
           1,
           1,
           10
          ]
         ],
         "hovertemplate": "<b>Country:</b> %{customdata[0]}<br><b>Year:</b> %{x}<br><b>Earthquake Count:</b> %{customdata[3]:.0f}<br><b>Total Damage:</b> $%{y:,.2f}M<br><b>Average Magnitude:</b> %{customdata[1]:.2f}<br><b>Average Focal Depth:</b> %{customdata[4]:.2f}<br><b>Tsunami Count:</b> %{customdata[2]:.0f}<extra></extra>",
         "marker": {
          "line": {
           "color": "black",
           "width": 0.5
          },
          "opacity": 0.8
         },
         "name": "PUERTO RICO",
         "type": "bar",
         "visible": false,
         "x": [
          2000,
          2001,
          2002,
          2003,
          2004,
          2005,
          2006,
          2007,
          2008,
          2009,
          2010,
          2011,
          2012,
          2013,
          2014,
          2015,
          2016,
          2017,
          2018,
          2019,
          2021,
          2022,
          2023,
          2024,
          2020
         ],
         "y": [
          0,
          0,
          0,
          0,
          0,
          0,
          0,
          0,
          0,
          0,
          0,
          0,
          0,
          0,
          0,
          0,
          0,
          0,
          0,
          0,
          0,
          0,
          0,
          0,
          969.51
         ]
        },
        {
         "customdata": [
          [
           "COLOMBIA",
           0,
           0,
           0,
           0
          ],
          [
           "COLOMBIA",
           0,
           0,
           0,
           0
          ],
          [
           "COLOMBIA",
           0,
           0,
           0,
           0
          ],
          [
           "COLOMBIA",
           0,
           0,
           0,
           0
          ],
          [
           "COLOMBIA",
           0,
           0,
           0,
           0
          ],
          [
           "COLOMBIA",
           0,
           0,
           0,
           0
          ],
          [
           "COLOMBIA",
           0,
           0,
           0,
           0
          ],
          [
           "COLOMBIA",
           0,
           0,
           0,
           0
          ],
          [
           "COLOMBIA",
           0,
           0,
           0,
           0
          ],
          [
           "COLOMBIA",
           0,
           0,
           0,
           0
          ],
          [
           "COLOMBIA",
           0,
           0,
           0,
           0
          ],
          [
           "COLOMBIA",
           0,
           0,
           0,
           0
          ],
          [
           "COLOMBIA",
           0,
           0,
           0,
           0
          ],
          [
           "COLOMBIA",
           0,
           0,
           0,
           0
          ],
          [
           "COLOMBIA",
           0,
           0,
           0,
           0
          ],
          [
           "COLOMBIA",
           0,
           0,
           0,
           0
          ],
          [
           "COLOMBIA",
           0,
           0,
           0,
           0
          ],
          [
           "COLOMBIA",
           0,
           0,
           0,
           0
          ],
          [
           "COLOMBIA",
           0,
           0,
           0,
           0
          ],
          [
           "COLOMBIA",
           0,
           0,
           0,
           0
          ],
          [
           "COLOMBIA",
           0,
           0,
           0,
           0
          ],
          [
           "COLOMBIA",
           0,
           0,
           0,
           0
          ],
          [
           "COLOMBIA",
           0,
           0,
           0,
           0
          ],
          [
           "COLOMBIA",
           0,
           0,
           0,
           0
          ],
          [
           "COLOMBIA",
           6.3,
           0,
           1,
           10
          ]
         ],
         "hovertemplate": "<b>Country:</b> %{customdata[0]}<br><b>Year:</b> %{x}<br><b>Earthquake Count:</b> %{customdata[3]:.0f}<br><b>Total Damage:</b> $%{y:,.2f}M<br><b>Average Magnitude:</b> %{customdata[1]:.2f}<br><b>Average Focal Depth:</b> %{customdata[4]:.2f}<br><b>Tsunami Count:</b> %{customdata[2]:.0f}<extra></extra>",
         "marker": {
          "line": {
           "color": "black",
           "width": 0.5
          },
          "opacity": 0.8
         },
         "name": "COLOMBIA",
         "type": "bar",
         "visible": false,
         "x": [
          2000,
          2001,
          2002,
          2003,
          2004,
          2005,
          2006,
          2007,
          2008,
          2009,
          2010,
          2011,
          2012,
          2013,
          2014,
          2015,
          2016,
          2017,
          2018,
          2019,
          2020,
          2021,
          2022,
          2024,
          2023
         ],
         "y": [
          0,
          0,
          0,
          0,
          0,
          0,
          0,
          0,
          0,
          0,
          0,
          0,
          0,
          0,
          0,
          0,
          0,
          0,
          0,
          0,
          0,
          0,
          0,
          0,
          30.87
         ]
        }
       ],
       "layout": {
        "annotations": [
         {
          "align": "left",
          "font": {
           "size": 10
          },
          "showarrow": false,
          "text": "*Total damage ($M) is adjusted to 2024 dollar value",
          "x": 1,
          "xref": "paper",
          "y": -0.2,
          "yref": "paper"
         }
        ],
        "barmode": "overlay",
        "showlegend": false,
        "template": {
         "data": {
          "bar": [
           {
            "error_x": {
             "color": "#2a3f5f"
            },
            "error_y": {
             "color": "#2a3f5f"
            },
            "marker": {
             "line": {
              "color": "#E5ECF6",
              "width": 0.5
             },
             "pattern": {
              "fillmode": "overlay",
              "size": 10,
              "solidity": 0.2
             }
            },
            "type": "bar"
           }
          ],
          "barpolar": [
           {
            "marker": {
             "line": {
              "color": "#E5ECF6",
              "width": 0.5
             },
             "pattern": {
              "fillmode": "overlay",
              "size": 10,
              "solidity": 0.2
             }
            },
            "type": "barpolar"
           }
          ],
          "carpet": [
           {
            "aaxis": {
             "endlinecolor": "#2a3f5f",
             "gridcolor": "white",
             "linecolor": "white",
             "minorgridcolor": "white",
             "startlinecolor": "#2a3f5f"
            },
            "baxis": {
             "endlinecolor": "#2a3f5f",
             "gridcolor": "white",
             "linecolor": "white",
             "minorgridcolor": "white",
             "startlinecolor": "#2a3f5f"
            },
            "type": "carpet"
           }
          ],
          "choropleth": [
           {
            "colorbar": {
             "outlinewidth": 0,
             "ticks": ""
            },
            "type": "choropleth"
           }
          ],
          "contour": [
           {
            "colorbar": {
             "outlinewidth": 0,
             "ticks": ""
            },
            "colorscale": [
             [
              0,
              "#0d0887"
             ],
             [
              0.1111111111111111,
              "#46039f"
             ],
             [
              0.2222222222222222,
              "#7201a8"
             ],
             [
              0.3333333333333333,
              "#9c179e"
             ],
             [
              0.4444444444444444,
              "#bd3786"
             ],
             [
              0.5555555555555556,
              "#d8576b"
             ],
             [
              0.6666666666666666,
              "#ed7953"
             ],
             [
              0.7777777777777778,
              "#fb9f3a"
             ],
             [
              0.8888888888888888,
              "#fdca26"
             ],
             [
              1,
              "#f0f921"
             ]
            ],
            "type": "contour"
           }
          ],
          "contourcarpet": [
           {
            "colorbar": {
             "outlinewidth": 0,
             "ticks": ""
            },
            "type": "contourcarpet"
           }
          ],
          "heatmap": [
           {
            "colorbar": {
             "outlinewidth": 0,
             "ticks": ""
            },
            "colorscale": [
             [
              0,
              "#0d0887"
             ],
             [
              0.1111111111111111,
              "#46039f"
             ],
             [
              0.2222222222222222,
              "#7201a8"
             ],
             [
              0.3333333333333333,
              "#9c179e"
             ],
             [
              0.4444444444444444,
              "#bd3786"
             ],
             [
              0.5555555555555556,
              "#d8576b"
             ],
             [
              0.6666666666666666,
              "#ed7953"
             ],
             [
              0.7777777777777778,
              "#fb9f3a"
             ],
             [
              0.8888888888888888,
              "#fdca26"
             ],
             [
              1,
              "#f0f921"
             ]
            ],
            "type": "heatmap"
           }
          ],
          "heatmapgl": [
           {
            "colorbar": {
             "outlinewidth": 0,
             "ticks": ""
            },
            "colorscale": [
             [
              0,
              "#0d0887"
             ],
             [
              0.1111111111111111,
              "#46039f"
             ],
             [
              0.2222222222222222,
              "#7201a8"
             ],
             [
              0.3333333333333333,
              "#9c179e"
             ],
             [
              0.4444444444444444,
              "#bd3786"
             ],
             [
              0.5555555555555556,
              "#d8576b"
             ],
             [
              0.6666666666666666,
              "#ed7953"
             ],
             [
              0.7777777777777778,
              "#fb9f3a"
             ],
             [
              0.8888888888888888,
              "#fdca26"
             ],
             [
              1,
              "#f0f921"
             ]
            ],
            "type": "heatmapgl"
           }
          ],
          "histogram": [
           {
            "marker": {
             "pattern": {
              "fillmode": "overlay",
              "size": 10,
              "solidity": 0.2
             }
            },
            "type": "histogram"
           }
          ],
          "histogram2d": [
           {
            "colorbar": {
             "outlinewidth": 0,
             "ticks": ""
            },
            "colorscale": [
             [
              0,
              "#0d0887"
             ],
             [
              0.1111111111111111,
              "#46039f"
             ],
             [
              0.2222222222222222,
              "#7201a8"
             ],
             [
              0.3333333333333333,
              "#9c179e"
             ],
             [
              0.4444444444444444,
              "#bd3786"
             ],
             [
              0.5555555555555556,
              "#d8576b"
             ],
             [
              0.6666666666666666,
              "#ed7953"
             ],
             [
              0.7777777777777778,
              "#fb9f3a"
             ],
             [
              0.8888888888888888,
              "#fdca26"
             ],
             [
              1,
              "#f0f921"
             ]
            ],
            "type": "histogram2d"
           }
          ],
          "histogram2dcontour": [
           {
            "colorbar": {
             "outlinewidth": 0,
             "ticks": ""
            },
            "colorscale": [
             [
              0,
              "#0d0887"
             ],
             [
              0.1111111111111111,
              "#46039f"
             ],
             [
              0.2222222222222222,
              "#7201a8"
             ],
             [
              0.3333333333333333,
              "#9c179e"
             ],
             [
              0.4444444444444444,
              "#bd3786"
             ],
             [
              0.5555555555555556,
              "#d8576b"
             ],
             [
              0.6666666666666666,
              "#ed7953"
             ],
             [
              0.7777777777777778,
              "#fb9f3a"
             ],
             [
              0.8888888888888888,
              "#fdca26"
             ],
             [
              1,
              "#f0f921"
             ]
            ],
            "type": "histogram2dcontour"
           }
          ],
          "mesh3d": [
           {
            "colorbar": {
             "outlinewidth": 0,
             "ticks": ""
            },
            "type": "mesh3d"
           }
          ],
          "parcoords": [
           {
            "line": {
             "colorbar": {
              "outlinewidth": 0,
              "ticks": ""
             }
            },
            "type": "parcoords"
           }
          ],
          "pie": [
           {
            "automargin": true,
            "type": "pie"
           }
          ],
          "scatter": [
           {
            "fillpattern": {
             "fillmode": "overlay",
             "size": 10,
             "solidity": 0.2
            },
            "type": "scatter"
           }
          ],
          "scatter3d": [
           {
            "line": {
             "colorbar": {
              "outlinewidth": 0,
              "ticks": ""
             }
            },
            "marker": {
             "colorbar": {
              "outlinewidth": 0,
              "ticks": ""
             }
            },
            "type": "scatter3d"
           }
          ],
          "scattercarpet": [
           {
            "marker": {
             "colorbar": {
              "outlinewidth": 0,
              "ticks": ""
             }
            },
            "type": "scattercarpet"
           }
          ],
          "scattergeo": [
           {
            "marker": {
             "colorbar": {
              "outlinewidth": 0,
              "ticks": ""
             }
            },
            "type": "scattergeo"
           }
          ],
          "scattergl": [
           {
            "marker": {
             "colorbar": {
              "outlinewidth": 0,
              "ticks": ""
             }
            },
            "type": "scattergl"
           }
          ],
          "scattermapbox": [
           {
            "marker": {
             "colorbar": {
              "outlinewidth": 0,
              "ticks": ""
             }
            },
            "type": "scattermapbox"
           }
          ],
          "scatterpolar": [
           {
            "marker": {
             "colorbar": {
              "outlinewidth": 0,
              "ticks": ""
             }
            },
            "type": "scatterpolar"
           }
          ],
          "scatterpolargl": [
           {
            "marker": {
             "colorbar": {
              "outlinewidth": 0,
              "ticks": ""
             }
            },
            "type": "scatterpolargl"
           }
          ],
          "scatterternary": [
           {
            "marker": {
             "colorbar": {
              "outlinewidth": 0,
              "ticks": ""
             }
            },
            "type": "scatterternary"
           }
          ],
          "surface": [
           {
            "colorbar": {
             "outlinewidth": 0,
             "ticks": ""
            },
            "colorscale": [
             [
              0,
              "#0d0887"
             ],
             [
              0.1111111111111111,
              "#46039f"
             ],
             [
              0.2222222222222222,
              "#7201a8"
             ],
             [
              0.3333333333333333,
              "#9c179e"
             ],
             [
              0.4444444444444444,
              "#bd3786"
             ],
             [
              0.5555555555555556,
              "#d8576b"
             ],
             [
              0.6666666666666666,
              "#ed7953"
             ],
             [
              0.7777777777777778,
              "#fb9f3a"
             ],
             [
              0.8888888888888888,
              "#fdca26"
             ],
             [
              1,
              "#f0f921"
             ]
            ],
            "type": "surface"
           }
          ],
          "table": [
           {
            "cells": {
             "fill": {
              "color": "#EBF0F8"
             },
             "line": {
              "color": "white"
             }
            },
            "header": {
             "fill": {
              "color": "#C8D4E3"
             },
             "line": {
              "color": "white"
             }
            },
            "type": "table"
           }
          ]
         },
         "layout": {
          "annotationdefaults": {
           "arrowcolor": "#2a3f5f",
           "arrowhead": 0,
           "arrowwidth": 1
          },
          "autotypenumbers": "strict",
          "coloraxis": {
           "colorbar": {
            "outlinewidth": 0,
            "ticks": ""
           }
          },
          "colorscale": {
           "diverging": [
            [
             0,
             "#8e0152"
            ],
            [
             0.1,
             "#c51b7d"
            ],
            [
             0.2,
             "#de77ae"
            ],
            [
             0.3,
             "#f1b6da"
            ],
            [
             0.4,
             "#fde0ef"
            ],
            [
             0.5,
             "#f7f7f7"
            ],
            [
             0.6,
             "#e6f5d0"
            ],
            [
             0.7,
             "#b8e186"
            ],
            [
             0.8,
             "#7fbc41"
            ],
            [
             0.9,
             "#4d9221"
            ],
            [
             1,
             "#276419"
            ]
           ],
           "sequential": [
            [
             0,
             "#0d0887"
            ],
            [
             0.1111111111111111,
             "#46039f"
            ],
            [
             0.2222222222222222,
             "#7201a8"
            ],
            [
             0.3333333333333333,
             "#9c179e"
            ],
            [
             0.4444444444444444,
             "#bd3786"
            ],
            [
             0.5555555555555556,
             "#d8576b"
            ],
            [
             0.6666666666666666,
             "#ed7953"
            ],
            [
             0.7777777777777778,
             "#fb9f3a"
            ],
            [
             0.8888888888888888,
             "#fdca26"
            ],
            [
             1,
             "#f0f921"
            ]
           ],
           "sequentialminus": [
            [
             0,
             "#0d0887"
            ],
            [
             0.1111111111111111,
             "#46039f"
            ],
            [
             0.2222222222222222,
             "#7201a8"
            ],
            [
             0.3333333333333333,
             "#9c179e"
            ],
            [
             0.4444444444444444,
             "#bd3786"
            ],
            [
             0.5555555555555556,
             "#d8576b"
            ],
            [
             0.6666666666666666,
             "#ed7953"
            ],
            [
             0.7777777777777778,
             "#fb9f3a"
            ],
            [
             0.8888888888888888,
             "#fdca26"
            ],
            [
             1,
             "#f0f921"
            ]
           ]
          },
          "colorway": [
           "#636efa",
           "#EF553B",
           "#00cc96",
           "#ab63fa",
           "#FFA15A",
           "#19d3f3",
           "#FF6692",
           "#B6E880",
           "#FF97FF",
           "#FECB52"
          ],
          "font": {
           "color": "#2a3f5f"
          },
          "geo": {
           "bgcolor": "white",
           "lakecolor": "white",
           "landcolor": "#E5ECF6",
           "showlakes": true,
           "showland": true,
           "subunitcolor": "white"
          },
          "hoverlabel": {
           "align": "left"
          },
          "hovermode": "closest",
          "mapbox": {
           "style": "light"
          },
          "paper_bgcolor": "white",
          "plot_bgcolor": "#E5ECF6",
          "polar": {
           "angularaxis": {
            "gridcolor": "white",
            "linecolor": "white",
            "ticks": ""
           },
           "bgcolor": "#E5ECF6",
           "radialaxis": {
            "gridcolor": "white",
            "linecolor": "white",
            "ticks": ""
           }
          },
          "scene": {
           "xaxis": {
            "backgroundcolor": "#E5ECF6",
            "gridcolor": "white",
            "gridwidth": 2,
            "linecolor": "white",
            "showbackground": true,
            "ticks": "",
            "zerolinecolor": "white"
           },
           "yaxis": {
            "backgroundcolor": "#E5ECF6",
            "gridcolor": "white",
            "gridwidth": 2,
            "linecolor": "white",
            "showbackground": true,
            "ticks": "",
            "zerolinecolor": "white"
           },
           "zaxis": {
            "backgroundcolor": "#E5ECF6",
            "gridcolor": "white",
            "gridwidth": 2,
            "linecolor": "white",
            "showbackground": true,
            "ticks": "",
            "zerolinecolor": "white"
           }
          },
          "shapedefaults": {
           "line": {
            "color": "#2a3f5f"
           }
          },
          "ternary": {
           "aaxis": {
            "gridcolor": "white",
            "linecolor": "white",
            "ticks": ""
           },
           "baxis": {
            "gridcolor": "white",
            "linecolor": "white",
            "ticks": ""
           },
           "bgcolor": "#E5ECF6",
           "caxis": {
            "gridcolor": "white",
            "linecolor": "white",
            "ticks": ""
           }
          },
          "title": {
           "x": 0.05
          },
          "xaxis": {
           "automargin": true,
           "gridcolor": "white",
           "linecolor": "white",
           "ticks": "",
           "title": {
            "standoff": 15
           },
           "zerolinecolor": "white",
           "zerolinewidth": 2
          },
          "yaxis": {
           "automargin": true,
           "gridcolor": "white",
           "linecolor": "white",
           "ticks": "",
           "title": {
            "standoff": 15
           },
           "zerolinecolor": "white",
           "zerolinewidth": 2
          }
         }
        },
        "title": {
         "text": "Earthquake Economic Damage in JAPAN Compared to Global Totals by Year"
        },
        "updatemenus": [
         {
          "active": 3,
          "buttons": [
           {
            "args": [
             {
              "visible": [
               true,
               true,
               false,
               false,
               false,
               false,
               false,
               false,
               false,
               false,
               false,
               false,
               false,
               false,
               false,
               false,
               false,
               false,
               false,
               false,
               false,
               false,
               false,
               false,
               false,
               false,
               false,
               false,
               false,
               false,
               false,
               false,
               false,
               false,
               false,
               false,
               false,
               false,
               false,
               false,
               false,
               false,
               false,
               false,
               false,
               false,
               false
              ]
             },
             {
              "title": "Earthquake Economic Damage in CHINA Compared to Global Totals by Year"
             }
            ],
            "label": "CHINA",
            "method": "update"
           },
           {
            "args": [
             {
              "visible": [
               true,
               false,
               true,
               false,
               false,
               false,
               false,
               false,
               false,
               false,
               false,
               false,
               false,
               false,
               false,
               false,
               false,
               false,
               false,
               false,
               false,
               false,
               false,
               false,
               false,
               false,
               false,
               false,
               false,
               false,
               false,
               false,
               false,
               false,
               false,
               false,
               false,
               false,
               false,
               false,
               false,
               false,
               false,
               false,
               false,
               false,
               false
              ]
             },
             {
              "title": "Earthquake Economic Damage in ICELAND Compared to Global Totals by Year"
             }
            ],
            "label": "ICELAND",
            "method": "update"
           },
           {
            "args": [
             {
              "visible": [
               true,
               false,
               false,
               true,
               false,
               false,
               false,
               false,
               false,
               false,
               false,
               false,
               false,
               false,
               false,
               false,
               false,
               false,
               false,
               false,
               false,
               false,
               false,
               false,
               false,
               false,
               false,
               false,
               false,
               false,
               false,
               false,
               false,
               false,
               false,
               false,
               false,
               false,
               false,
               false,
               false,
               false,
               false,
               false,
               false,
               false,
               false
              ]
             },
             {
              "title": "Earthquake Economic Damage in INDONESIA Compared to Global Totals by Year"
             }
            ],
            "label": "INDONESIA",
            "method": "update"
           },
           {
            "args": [
             {
              "visible": [
               true,
               false,
               false,
               false,
               true,
               false,
               false,
               false,
               false,
               false,
               false,
               false,
               false,
               false,
               false,
               false,
               false,
               false,
               false,
               false,
               false,
               false,
               false,
               false,
               false,
               false,
               false,
               false,
               false,
               false,
               false,
               false,
               false,
               false,
               false,
               false,
               false,
               false,
               false,
               false,
               false,
               false,
               false,
               false,
               false,
               false,
               false
              ]
             },
             {
              "title": "Earthquake Economic Damage in JAPAN Compared to Global Totals by Year"
             }
            ],
            "label": "JAPAN",
            "method": "update"
           },
           {
            "args": [
             {
              "visible": [
               true,
               false,
               false,
               false,
               false,
               true,
               false,
               false,
               false,
               false,
               false,
               false,
               false,
               false,
               false,
               false,
               false,
               false,
               false,
               false,
               false,
               false,
               false,
               false,
               false,
               false,
               false,
               false,
               false,
               false,
               false,
               false,
               false,
               false,
               false,
               false,
               false,
               false,
               false,
               false,
               false,
               false,
               false,
               false,
               false,
               false,
               false
              ]
             },
             {
              "title": "Earthquake Economic Damage in RUSSIA Compared to Global Totals by Year"
             }
            ],
            "label": "RUSSIA",
            "method": "update"
           },
           {
            "args": [
             {
              "visible": [
               true,
               false,
               false,
               false,
               false,
               false,
               true,
               false,
               false,
               false,
               false,
               false,
               false,
               false,
               false,
               false,
               false,
               false,
               false,
               false,
               false,
               false,
               false,
               false,
               false,
               false,
               false,
               false,
               false,
               false,
               false,
               false,
               false,
               false,
               false,
               false,
               false,
               false,
               false,
               false,
               false,
               false,
               false,
               false,
               false,
               false,
               false
              ]
             },
             {
              "title": "Earthquake Economic Damage in UNITED STATES Compared to Global Totals by Year"
             }
            ],
            "label": "UNITED STATES",
            "method": "update"
           },
           {
            "args": [
             {
              "visible": [
               true,
               false,
               false,
               false,
               false,
               false,
               false,
               true,
               false,
               false,
               false,
               false,
               false,
               false,
               false,
               false,
               false,
               false,
               false,
               false,
               false,
               false,
               false,
               false,
               false,
               false,
               false,
               false,
               false,
               false,
               false,
               false,
               false,
               false,
               false,
               false,
               false,
               false,
               false,
               false,
               false,
               false,
               false,
               false,
               false,
               false,
               false
              ]
             },
             {
              "title": "Earthquake Economic Damage in EL SALVADOR Compared to Global Totals by Year"
             }
            ],
            "label": "EL SALVADOR",
            "method": "update"
           },
           {
            "args": [
             {
              "visible": [
               true,
               false,
               false,
               false,
               false,
               false,
               false,
               false,
               true,
               false,
               false,
               false,
               false,
               false,
               false,
               false,
               false,
               false,
               false,
               false,
               false,
               false,
               false,
               false,
               false,
               false,
               false,
               false,
               false,
               false,
               false,
               false,
               false,
               false,
               false,
               false,
               false,
               false,
               false,
               false,
               false,
               false,
               false,
               false,
               false,
               false,
               false
              ]
             },
             {
              "title": "Earthquake Economic Damage in INDIA Compared to Global Totals by Year"
             }
            ],
            "label": "INDIA",
            "method": "update"
           },
           {
            "args": [
             {
              "visible": [
               true,
               false,
               false,
               false,
               false,
               false,
               false,
               false,
               false,
               true,
               false,
               false,
               false,
               false,
               false,
               false,
               false,
               false,
               false,
               false,
               false,
               false,
               false,
               false,
               false,
               false,
               false,
               false,
               false,
               false,
               false,
               false,
               false,
               false,
               false,
               false,
               false,
               false,
               false,
               false,
               false,
               false,
               false,
               false,
               false,
               false,
               false
              ]
             },
             {
              "title": "Earthquake Economic Damage in PERU Compared to Global Totals by Year"
             }
            ],
            "label": "PERU",
            "method": "update"
           },
           {
            "args": [
             {
              "visible": [
               true,
               false,
               false,
               false,
               false,
               false,
               false,
               false,
               false,
               false,
               true,
               false,
               false,
               false,
               false,
               false,
               false,
               false,
               false,
               false,
               false,
               false,
               false,
               false,
               false,
               false,
               false,
               false,
               false,
               false,
               false,
               false,
               false,
               false,
               false,
               false,
               false,
               false,
               false,
               false,
               false,
               false,
               false,
               false,
               false,
               false,
               false
              ]
             },
             {
              "title": "Earthquake Economic Damage in IRAN Compared to Global Totals by Year"
             }
            ],
            "label": "IRAN",
            "method": "update"
           },
           {
            "args": [
             {
              "visible": [
               true,
               false,
               false,
               false,
               false,
               false,
               false,
               false,
               false,
               false,
               false,
               true,
               false,
               false,
               false,
               false,
               false,
               false,
               false,
               false,
               false,
               false,
               false,
               false,
               false,
               false,
               false,
               false,
               false,
               false,
               false,
               false,
               false,
               false,
               false,
               false,
               false,
               false,
               false,
               false,
               false,
               false,
               false,
               false,
               false,
               false,
               false
              ]
             },
             {
              "title": "Earthquake Economic Damage in ITALY Compared to Global Totals by Year"
             }
            ],
            "label": "ITALY",
            "method": "update"
           },
           {
            "args": [
             {
              "visible": [
               true,
               false,
               false,
               false,
               false,
               false,
               false,
               false,
               false,
               false,
               false,
               false,
               true,
               false,
               false,
               false,
               false,
               false,
               false,
               false,
               false,
               false,
               false,
               false,
               false,
               false,
               false,
               false,
               false,
               false,
               false,
               false,
               false,
               false,
               false,
               false,
               false,
               false,
               false,
               false,
               false,
               false,
               false,
               false,
               false,
               false,
               false
              ]
             },
             {
              "title": "Earthquake Economic Damage in PHILIPPINES Compared to Global Totals by Year"
             }
            ],
            "label": "PHILIPPINES",
            "method": "update"
           },
           {
            "args": [
             {
              "visible": [
               true,
               false,
               false,
               false,
               false,
               false,
               false,
               false,
               false,
               false,
               false,
               false,
               false,
               true,
               false,
               false,
               false,
               false,
               false,
               false,
               false,
               false,
               false,
               false,
               false,
               false,
               false,
               false,
               false,
               false,
               false,
               false,
               false,
               false,
               false,
               false,
               false,
               false,
               false,
               false,
               false,
               false,
               false,
               false,
               false,
               false,
               false
              ]
             },
             {
              "title": "Earthquake Economic Damage in ALGERIA Compared to Global Totals by Year"
             }
            ],
            "label": "ALGERIA",
            "method": "update"
           },
           {
            "args": [
             {
              "visible": [
               true,
               false,
               false,
               false,
               false,
               false,
               false,
               false,
               false,
               false,
               false,
               false,
               false,
               false,
               true,
               false,
               false,
               false,
               false,
               false,
               false,
               false,
               false,
               false,
               false,
               false,
               false,
               false,
               false,
               false,
               false,
               false,
               false,
               false,
               false,
               false,
               false,
               false,
               false,
               false,
               false,
               false,
               false,
               false,
               false,
               false,
               false
              ]
             },
             {
              "title": "Earthquake Economic Damage in MOROCCO Compared to Global Totals by Year"
             }
            ],
            "label": "MOROCCO",
            "method": "update"
           },
           {
            "args": [
             {
              "visible": [
               true,
               false,
               false,
               false,
               false,
               false,
               false,
               false,
               false,
               false,
               false,
               false,
               false,
               false,
               false,
               true,
               false,
               false,
               false,
               false,
               false,
               false,
               false,
               false,
               false,
               false,
               false,
               false,
               false,
               false,
               false,
               false,
               false,
               false,
               false,
               false,
               false,
               false,
               false,
               false,
               false,
               false,
               false,
               false,
               false,
               false,
               false
              ]
             },
             {
              "title": "Earthquake Economic Damage in PAKISTAN Compared to Global Totals by Year"
             }
            ],
            "label": "PAKISTAN",
            "method": "update"
           },
           {
            "args": [
             {
              "visible": [
               true,
               false,
               false,
               false,
               false,
               false,
               false,
               false,
               false,
               false,
               false,
               false,
               false,
               false,
               false,
               false,
               true,
               false,
               false,
               false,
               false,
               false,
               false,
               false,
               false,
               false,
               false,
               false,
               false,
               false,
               false,
               false,
               false,
               false,
               false,
               false,
               false,
               false,
               false,
               false,
               false,
               false,
               false,
               false,
               false,
               false,
               false
              ]
             },
             {
              "title": "Earthquake Economic Damage in MARTINIQUE Compared to Global Totals by Year"
             }
            ],
            "label": "MARTINIQUE",
            "method": "update"
           },
           {
            "args": [
             {
              "visible": [
               true,
               false,
               false,
               false,
               false,
               false,
               false,
               false,
               false,
               false,
               false,
               false,
               false,
               false,
               false,
               false,
               false,
               true,
               false,
               false,
               false,
               false,
               false,
               false,
               false,
               false,
               false,
               false,
               false,
               false,
               false,
               false,
               false,
               false,
               false,
               false,
               false,
               false,
               false,
               false,
               false,
               false,
               false,
               false,
               false,
               false,
               false
              ]
             },
             {
              "title": "Earthquake Economic Damage in COSTA RICA Compared to Global Totals by Year"
             }
            ],
            "label": "COSTA RICA",
            "method": "update"
           },
           {
            "args": [
             {
              "visible": [
               true,
               false,
               false,
               false,
               false,
               false,
               false,
               false,
               false,
               false,
               false,
               false,
               false,
               false,
               false,
               false,
               false,
               false,
               true,
               false,
               false,
               false,
               false,
               false,
               false,
               false,
               false,
               false,
               false,
               false,
               false,
               false,
               false,
               false,
               false,
               false,
               false,
               false,
               false,
               false,
               false,
               false,
               false,
               false,
               false,
               false,
               false
              ]
             },
             {
              "title": "Earthquake Economic Damage in HONDURAS Compared to Global Totals by Year"
             }
            ],
            "label": "HONDURAS",
            "method": "update"
           },
           {
            "args": [
             {
              "visible": [
               true,
               false,
               false,
               false,
               false,
               false,
               false,
               false,
               false,
               false,
               false,
               false,
               false,
               false,
               false,
               false,
               false,
               false,
               false,
               true,
               false,
               false,
               false,
               false,
               false,
               false,
               false,
               false,
               false,
               false,
               false,
               false,
               false,
               false,
               false,
               false,
               false,
               false,
               false,
               false,
               false,
               false,
               false,
               false,
               false,
               false,
               false
              ]
             },
             {
              "title": "Earthquake Economic Damage in SAMOA Compared to Global Totals by Year"
             }
            ],
            "label": "SAMOA",
            "method": "update"
           },
           {
            "args": [
             {
              "visible": [
               true,
               false,
               false,
               false,
               false,
               false,
               false,
               false,
               false,
               false,
               false,
               false,
               false,
               false,
               false,
               false,
               false,
               false,
               false,
               false,
               true,
               false,
               false,
               false,
               false,
               false,
               false,
               false,
               false,
               false,
               false,
               false,
               false,
               false,
               false,
               false,
               false,
               false,
               false,
               false,
               false,
               false,
               false,
               false,
               false,
               false,
               false
              ]
             },
             {
              "title": "Earthquake Economic Damage in CHILE Compared to Global Totals by Year"
             }
            ],
            "label": "CHILE",
            "method": "update"
           },
           {
            "args": [
             {
              "visible": [
               true,
               false,
               false,
               false,
               false,
               false,
               false,
               false,
               false,
               false,
               false,
               false,
               false,
               false,
               false,
               false,
               false,
               false,
               false,
               false,
               false,
               true,
               false,
               false,
               false,
               false,
               false,
               false,
               false,
               false,
               false,
               false,
               false,
               false,
               false,
               false,
               false,
               false,
               false,
               false,
               false,
               false,
               false,
               false,
               false,
               false,
               false
              ]
             },
             {
              "title": "Earthquake Economic Damage in HAITI Compared to Global Totals by Year"
             }
            ],
            "label": "HAITI",
            "method": "update"
           },
           {
            "args": [
             {
              "visible": [
               true,
               false,
               false,
               false,
               false,
               false,
               false,
               false,
               false,
               false,
               false,
               false,
               false,
               false,
               false,
               false,
               false,
               false,
               false,
               false,
               false,
               false,
               true,
               false,
               false,
               false,
               false,
               false,
               false,
               false,
               false,
               false,
               false,
               false,
               false,
               false,
               false,
               false,
               false,
               false,
               false,
               false,
               false,
               false,
               false,
               false,
               false
              ]
             },
             {
              "title": "Earthquake Economic Damage in MEXICO Compared to Global Totals by Year"
             }
            ],
            "label": "MEXICO",
            "method": "update"
           },
           {
            "args": [
             {
              "visible": [
               true,
               false,
               false,
               false,
               false,
               false,
               false,
               false,
               false,
               false,
               false,
               false,
               false,
               false,
               false,
               false,
               false,
               false,
               false,
               false,
               false,
               false,
               false,
               true,
               false,
               false,
               false,
               false,
               false,
               false,
               false,
               false,
               false,
               false,
               false,
               false,
               false,
               false,
               false,
               false,
               false,
               false,
               false,
               false,
               false,
               false,
               false
              ]
             },
             {
              "title": "Earthquake Economic Damage in NEW ZEALAND Compared to Global Totals by Year"
             }
            ],
            "label": "NEW ZEALAND",
            "method": "update"
           },
           {
            "args": [
             {
              "visible": [
               true,
               false,
               false,
               false,
               false,
               false,
               false,
               false,
               false,
               false,
               false,
               false,
               false,
               false,
               false,
               false,
               false,
               false,
               false,
               false,
               false,
               false,
               false,
               false,
               true,
               false,
               false,
               false,
               false,
               false,
               false,
               false,
               false,
               false,
               false,
               false,
               false,
               false,
               false,
               false,
               false,
               false,
               false,
               false,
               false,
               false,
               false
              ]
             },
             {
              "title": "Earthquake Economic Damage in TAIWAN Compared to Global Totals by Year"
             }
            ],
            "label": "TAIWAN",
            "method": "update"
           },
           {
            "args": [
             {
              "visible": [
               true,
               false,
               false,
               false,
               false,
               false,
               false,
               false,
               false,
               false,
               false,
               false,
               false,
               false,
               false,
               false,
               false,
               false,
               false,
               false,
               false,
               false,
               false,
               false,
               false,
               true,
               false,
               false,
               false,
               false,
               false,
               false,
               false,
               false,
               false,
               false,
               false,
               false,
               false,
               false,
               false,
               false,
               false,
               false,
               false,
               false,
               false
              ]
             },
             {
              "title": "Earthquake Economic Damage in TAJIKISTAN Compared to Global Totals by Year"
             }
            ],
            "label": "TAJIKISTAN",
            "method": "update"
           },
           {
            "args": [
             {
              "visible": [
               true,
               false,
               false,
               false,
               false,
               false,
               false,
               false,
               false,
               false,
               false,
               false,
               false,
               false,
               false,
               false,
               false,
               false,
               false,
               false,
               false,
               false,
               false,
               false,
               false,
               false,
               true,
               false,
               false,
               false,
               false,
               false,
               false,
               false,
               false,
               false,
               false,
               false,
               false,
               false,
               false,
               false,
               false,
               false,
               false,
               false,
               false
              ]
             },
             {
              "title": "Earthquake Economic Damage in MYANMAR Compared to Global Totals by Year"
             }
            ],
            "label": "MYANMAR",
            "method": "update"
           },
           {
            "args": [
             {
              "visible": [
               true,
               false,
               false,
               false,
               false,
               false,
               false,
               false,
               false,
               false,
               false,
               false,
               false,
               false,
               false,
               false,
               false,
               false,
               false,
               false,
               false,
               false,
               false,
               false,
               false,
               false,
               false,
               true,
               false,
               false,
               false,
               false,
               false,
               false,
               false,
               false,
               false,
               false,
               false,
               false,
               false,
               false,
               false,
               false,
               false,
               false,
               false
              ]
             },
             {
              "title": "Earthquake Economic Damage in TURKEY Compared to Global Totals by Year"
             }
            ],
            "label": "TURKEY",
            "method": "update"
           },
           {
            "args": [
             {
              "visible": [
               true,
               false,
               false,
               false,
               false,
               false,
               false,
               false,
               false,
               false,
               false,
               false,
               false,
               false,
               false,
               false,
               false,
               false,
               false,
               false,
               false,
               false,
               false,
               false,
               false,
               false,
               false,
               false,
               true,
               false,
               false,
               false,
               false,
               false,
               false,
               false,
               false,
               false,
               false,
               false,
               false,
               false,
               false,
               false,
               false,
               false,
               false
              ]
             },
             {
              "title": "Earthquake Economic Damage in GUATEMALA Compared to Global Totals by Year"
             }
            ],
            "label": "GUATEMALA",
            "method": "update"
           },
           {
            "args": [
             {
              "visible": [
               true,
               false,
               false,
               false,
               false,
               false,
               false,
               false,
               false,
               false,
               false,
               false,
               false,
               false,
               false,
               false,
               false,
               false,
               false,
               false,
               false,
               false,
               false,
               false,
               false,
               false,
               false,
               false,
               false,
               true,
               false,
               false,
               false,
               false,
               false,
               false,
               false,
               false,
               false,
               false,
               false,
               false,
               false,
               false,
               false,
               false,
               false
              ]
             },
             {
              "title": "Earthquake Economic Damage in SOLOMON ISLANDS Compared to Global Totals by Year"
             }
            ],
            "label": "SOLOMON ISLANDS",
            "method": "update"
           },
           {
            "args": [
             {
              "visible": [
               true,
               false,
               false,
               false,
               false,
               false,
               false,
               false,
               false,
               false,
               false,
               false,
               false,
               false,
               false,
               false,
               false,
               false,
               false,
               false,
               false,
               false,
               false,
               false,
               false,
               false,
               false,
               false,
               false,
               false,
               true,
               false,
               false,
               false,
               false,
               false,
               false,
               false,
               false,
               false,
               false,
               false,
               false,
               false,
               false,
               false,
               false
              ]
             },
             {
              "title": "Earthquake Economic Damage in GERMANY Compared to Global Totals by Year"
             }
            ],
            "label": "GERMANY",
            "method": "update"
           },
           {
            "args": [
             {
              "visible": [
               true,
               false,
               false,
               false,
               false,
               false,
               false,
               false,
               false,
               false,
               false,
               false,
               false,
               false,
               false,
               false,
               false,
               false,
               false,
               false,
               false,
               false,
               false,
               false,
               false,
               false,
               false,
               false,
               false,
               false,
               false,
               true,
               false,
               false,
               false,
               false,
               false,
               false,
               false,
               false,
               false,
               false,
               false,
               false,
               false,
               false,
               false
              ]
             },
             {
              "title": "Earthquake Economic Damage in GREECE Compared to Global Totals by Year"
             }
            ],
            "label": "GREECE",
            "method": "update"
           },
           {
            "args": [
             {
              "visible": [
               true,
               false,
               false,
               false,
               false,
               false,
               false,
               false,
               false,
               false,
               false,
               false,
               false,
               false,
               false,
               false,
               false,
               false,
               false,
               false,
               false,
               false,
               false,
               false,
               false,
               false,
               false,
               false,
               false,
               false,
               false,
               false,
               true,
               false,
               false,
               false,
               false,
               false,
               false,
               false,
               false,
               false,
               false,
               false,
               false,
               false,
               false
              ]
             },
             {
              "title": "Earthquake Economic Damage in NICARAGUA Compared to Global Totals by Year"
             }
            ],
            "label": "NICARAGUA",
            "method": "update"
           },
           {
            "args": [
             {
              "visible": [
               true,
               false,
               false,
               false,
               false,
               false,
               false,
               false,
               false,
               false,
               false,
               false,
               false,
               false,
               false,
               false,
               false,
               false,
               false,
               false,
               false,
               false,
               false,
               false,
               false,
               false,
               false,
               false,
               false,
               false,
               false,
               false,
               false,
               true,
               false,
               false,
               false,
               false,
               false,
               false,
               false,
               false,
               false,
               false,
               false,
               false,
               false
              ]
             },
             {
              "title": "Earthquake Economic Damage in THAILAND Compared to Global Totals by Year"
             }
            ],
            "label": "THAILAND",
            "method": "update"
           },
           {
            "args": [
             {
              "visible": [
               true,
               false,
               false,
               false,
               false,
               false,
               false,
               false,
               false,
               false,
               false,
               false,
               false,
               false,
               false,
               false,
               false,
               false,
               false,
               false,
               false,
               false,
               false,
               false,
               false,
               false,
               false,
               false,
               false,
               false,
               false,
               false,
               false,
               false,
               true,
               false,
               false,
               false,
               false,
               false,
               false,
               false,
               false,
               false,
               false,
               false,
               false
              ]
             },
             {
              "title": "Earthquake Economic Damage in AFGHANISTAN Compared to Global Totals by Year"
             }
            ],
            "label": "AFGHANISTAN",
            "method": "update"
           },
           {
            "args": [
             {
              "visible": [
               true,
               false,
               false,
               false,
               false,
               false,
               false,
               false,
               false,
               false,
               false,
               false,
               false,
               false,
               false,
               false,
               false,
               false,
               false,
               false,
               false,
               false,
               false,
               false,
               false,
               false,
               false,
               false,
               false,
               false,
               false,
               false,
               false,
               false,
               false,
               true,
               false,
               false,
               false,
               false,
               false,
               false,
               false,
               false,
               false,
               false,
               false
              ]
             },
             {
              "title": "Earthquake Economic Damage in KYRGYZSTAN Compared to Global Totals by Year"
             }
            ],
            "label": "KYRGYZSTAN",
            "method": "update"
           },
           {
            "args": [
             {
              "visible": [
               true,
               false,
               false,
               false,
               false,
               false,
               false,
               false,
               false,
               false,
               false,
               false,
               false,
               false,
               false,
               false,
               false,
               false,
               false,
               false,
               false,
               false,
               false,
               false,
               false,
               false,
               false,
               false,
               false,
               false,
               false,
               false,
               false,
               false,
               false,
               false,
               true,
               false,
               false,
               false,
               false,
               false,
               false,
               false,
               false,
               false,
               false
              ]
             },
             {
              "title": "Earthquake Economic Damage in NEPAL Compared to Global Totals by Year"
             }
            ],
            "label": "NEPAL",
            "method": "update"
           },
           {
            "args": [
             {
              "visible": [
               true,
               false,
               false,
               false,
               false,
               false,
               false,
               false,
               false,
               false,
               false,
               false,
               false,
               false,
               false,
               false,
               false,
               false,
               false,
               false,
               false,
               false,
               false,
               false,
               false,
               false,
               false,
               false,
               false,
               false,
               false,
               false,
               false,
               false,
               false,
               false,
               false,
               true,
               false,
               false,
               false,
               false,
               false,
               false,
               false,
               false,
               false
              ]
             },
             {
              "title": "Earthquake Economic Damage in ECUADOR Compared to Global Totals by Year"
             }
            ],
            "label": "ECUADOR",
            "method": "update"
           },
           {
            "args": [
             {
              "visible": [
               true,
               false,
               false,
               false,
               false,
               false,
               false,
               false,
               false,
               false,
               false,
               false,
               false,
               false,
               false,
               false,
               false,
               false,
               false,
               false,
               false,
               false,
               false,
               false,
               false,
               false,
               false,
               false,
               false,
               false,
               false,
               false,
               false,
               false,
               false,
               false,
               false,
               false,
               true,
               false,
               false,
               false,
               false,
               false,
               false,
               false,
               false
              ]
             },
             {
              "title": "Earthquake Economic Damage in MACEDONIA Compared to Global Totals by Year"
             }
            ],
            "label": "MACEDONIA",
            "method": "update"
           },
           {
            "args": [
             {
              "visible": [
               true,
               false,
               false,
               false,
               false,
               false,
               false,
               false,
               false,
               false,
               false,
               false,
               false,
               false,
               false,
               false,
               false,
               false,
               false,
               false,
               false,
               false,
               false,
               false,
               false,
               false,
               false,
               false,
               false,
               false,
               false,
               false,
               false,
               false,
               false,
               false,
               false,
               false,
               false,
               true,
               false,
               false,
               false,
               false,
               false,
               false,
               false
              ]
             },
             {
              "title": "Earthquake Economic Damage in SOUTH KOREA Compared to Global Totals by Year"
             }
            ],
            "label": "SOUTH KOREA",
            "method": "update"
           },
           {
            "args": [
             {
              "visible": [
               true,
               false,
               false,
               false,
               false,
               false,
               false,
               false,
               false,
               false,
               false,
               false,
               false,
               false,
               false,
               false,
               false,
               false,
               false,
               false,
               false,
               false,
               false,
               false,
               false,
               false,
               false,
               false,
               false,
               false,
               false,
               false,
               false,
               false,
               false,
               false,
               false,
               false,
               false,
               false,
               true,
               false,
               false,
               false,
               false,
               false,
               false
              ]
             },
             {
              "title": "Earthquake Economic Damage in TANZANIA Compared to Global Totals by Year"
             }
            ],
            "label": "TANZANIA",
            "method": "update"
           },
           {
            "args": [
             {
              "visible": [
               true,
               false,
               false,
               false,
               false,
               false,
               false,
               false,
               false,
               false,
               false,
               false,
               false,
               false,
               false,
               false,
               false,
               false,
               false,
               false,
               false,
               false,
               false,
               false,
               false,
               false,
               false,
               false,
               false,
               false,
               false,
               false,
               false,
               false,
               false,
               false,
               false,
               false,
               false,
               false,
               false,
               true,
               false,
               false,
               false,
               false,
               false
              ]
             },
             {
              "title": "Earthquake Economic Damage in PAPUA NEW GUINEA Compared to Global Totals by Year"
             }
            ],
            "label": "PAPUA NEW GUINEA",
            "method": "update"
           },
           {
            "args": [
             {
              "visible": [
               true,
               false,
               false,
               false,
               false,
               false,
               false,
               false,
               false,
               false,
               false,
               false,
               false,
               false,
               false,
               false,
               false,
               false,
               false,
               false,
               false,
               false,
               false,
               false,
               false,
               false,
               false,
               false,
               false,
               false,
               false,
               false,
               false,
               false,
               false,
               false,
               false,
               false,
               false,
               false,
               false,
               false,
               true,
               false,
               false,
               false,
               false
              ]
             },
             {
              "title": "Earthquake Economic Damage in ALBANIA Compared to Global Totals by Year"
             }
            ],
            "label": "ALBANIA",
            "method": "update"
           },
           {
            "args": [
             {
              "visible": [
               true,
               false,
               false,
               false,
               false,
               false,
               false,
               false,
               false,
               false,
               false,
               false,
               false,
               false,
               false,
               false,
               false,
               false,
               false,
               false,
               false,
               false,
               false,
               false,
               false,
               false,
               false,
               false,
               false,
               false,
               false,
               false,
               false,
               false,
               false,
               false,
               false,
               false,
               false,
               false,
               false,
               false,
               false,
               true,
               false,
               false,
               false
              ]
             },
             {
              "title": "Earthquake Economic Damage in FRANCE Compared to Global Totals by Year"
             }
            ],
            "label": "FRANCE",
            "method": "update"
           },
           {
            "args": [
             {
              "visible": [
               true,
               false,
               false,
               false,
               false,
               false,
               false,
               false,
               false,
               false,
               false,
               false,
               false,
               false,
               false,
               false,
               false,
               false,
               false,
               false,
               false,
               false,
               false,
               false,
               false,
               false,
               false,
               false,
               false,
               false,
               false,
               false,
               false,
               false,
               false,
               false,
               false,
               false,
               false,
               false,
               false,
               false,
               false,
               false,
               true,
               false,
               false
              ]
             },
             {
              "title": "Earthquake Economic Damage in CROATIA Compared to Global Totals by Year"
             }
            ],
            "label": "CROATIA",
            "method": "update"
           },
           {
            "args": [
             {
              "visible": [
               true,
               false,
               false,
               false,
               false,
               false,
               false,
               false,
               false,
               false,
               false,
               false,
               false,
               false,
               false,
               false,
               false,
               false,
               false,
               false,
               false,
               false,
               false,
               false,
               false,
               false,
               false,
               false,
               false,
               false,
               false,
               false,
               false,
               false,
               false,
               false,
               false,
               false,
               false,
               false,
               false,
               false,
               false,
               false,
               false,
               true,
               false
              ]
             },
             {
              "title": "Earthquake Economic Damage in PUERTO RICO Compared to Global Totals by Year"
             }
            ],
            "label": "PUERTO RICO",
            "method": "update"
           },
           {
            "args": [
             {
              "visible": [
               true,
               false,
               false,
               false,
               false,
               false,
               false,
               false,
               false,
               false,
               false,
               false,
               false,
               false,
               false,
               false,
               false,
               false,
               false,
               false,
               false,
               false,
               false,
               false,
               false,
               false,
               false,
               false,
               false,
               false,
               false,
               false,
               false,
               false,
               false,
               false,
               false,
               false,
               false,
               false,
               false,
               false,
               false,
               false,
               false,
               false,
               true
              ]
             },
             {
              "title": "Earthquake Economic Damage in COLOMBIA Compared to Global Totals by Year"
             }
            ],
            "label": "COLOMBIA",
            "method": "update"
           }
          ],
          "direction": "down",
          "showactive": true,
          "x": 0.1,
          "xanchor": "left",
          "y": 1.15,
          "yanchor": "top"
         }
        ],
        "xaxis": {
         "title": {
          "text": "Year"
         }
        },
        "yaxis": {
         "title": {
          "text": "Economic Damage ($Mil)"
         }
        }
       }
      }
     },
     "metadata": {},
     "output_type": "display_data"
    }
   ],
   "source": [
    "# Aggregate data for the chart\n",
    "stacked_damage_data = adjusted_bubble_data.groupby([\"Year\", \"Country Name\"]).agg(\n",
    "    Total_Damage_Mil=(\"Inflation_Adjusted_Damage_Mil\", \"sum\"),\n",
    "    Average_Magnitude=(\"Average_Magnitude\", \"mean\"),\n",
    "    Tsunami_Count=(\"tsunami\", \"sum\"),\n",
    "    Earthquake_Count=(\"Earthquake_Count\", \"sum\"),\n",
    "    Average_Focal_Depth=(\"Focal_Depth\", \"mean\")\n",
    ").reset_index()\n",
    "\n",
    "# Calculate total damage and total earthquake count per year\n",
    "total_damage_per_year = stacked_damage_data.groupby(\"Year\").agg(\n",
    "    Total_Damage_Mil=(\"Total_Damage_Mil\", \"sum\"),\n",
    "    Total_Earthquake_Count=(\"Earthquake_Count\", \"sum\")\n",
    ").reset_index()\n",
    "\n",
    "# Get all unique years and countries\n",
    "all_years = total_damage_per_year[\"Year\"].unique()\n",
    "all_countries = stacked_damage_data[\"Country Name\"].unique()\n",
    "\n",
    "# Fill missing years with zeroes for all countries\n",
    "complete_data = []\n",
    "for country in all_countries:\n",
    "    country_data = stacked_damage_data[stacked_damage_data[\"Country Name\"] == country]\n",
    "    for year in all_years:\n",
    "        if year not in country_data[\"Year\"].values:\n",
    "            # Add missing year with zero values\n",
    "            complete_data.append({\n",
    "                \"Year\": year,\n",
    "                \"Country Name\": country,\n",
    "                \"Total_Damage_Mil\": 0,\n",
    "                \"Average_Magnitude\": 0,\n",
    "                \"Tsunami_Count\": 0,\n",
    "                \"Earthquake_Count\": 0,\n",
    "                \"Average_Focal_Depth\": 0\n",
    "            })\n",
    "    # Add existing data\n",
    "    complete_data.extend(country_data.to_dict(\"records\"))\n",
    "# Convert back to df\n",
    "complete_data_df = pd.DataFrame(complete_data)\n",
    "\n",
    "fig = go.Figure()\n",
    "\n",
    "# Add total damage bar as the base layer\n",
    "fig.add_trace(\n",
    "    go.Bar(\n",
    "        x=total_damage_per_year[\"Year\"],\n",
    "        y=total_damage_per_year[\"Total_Damage_Mil\"],\n",
    "        name=\"Total Damage\",\n",
    "        marker_color=\"lightgray\",\n",
    "        customdata=total_damage_per_year[[\"Total_Earthquake_Count\"]].values,  # Add total earthquake count as custom data\n",
    "        hovertemplate=\"<b>Year:</b> %{x}<br>\"\n",
    "                      \"<b>Total Damage:</b> $%{y:,.2f}M<br>\"\n",
    "                      \"<b>Total Earthquake Count:</b> %{customdata[0]:.0f}<extra></extra>\"  # Hover template with total earthquake count\n",
    "    )\n",
    ")\n",
    "\n",
    "# Add traces for each country's contribution\n",
    "for country in all_countries:\n",
    "    country_data = complete_data_df[complete_data_df[\"Country Name\"] == country]\n",
    "    fig.add_trace(\n",
    "        go.Bar(\n",
    "            x=country_data[\"Year\"],\n",
    "            y=country_data[\"Total_Damage_Mil\"],\n",
    "            name=country,\n",
    "            marker=dict(opacity=0.8, line=dict(width=0.5, color=\"black\")),\n",
    "            visible=(country == \"JAPAN\"), \n",
    "            customdata=country_data[[\n",
    "                \"Country Name\",\n",
    "                \"Average_Magnitude\",\n",
    "                \"Tsunami_Count\",\n",
    "                \"Earthquake_Count\",\n",
    "                \"Average_Focal_Depth\"\n",
    "            ]].values,  \n",
    "            hovertemplate=\"<b>Country:</b> %{customdata[0]}<br>\"\n",
    "                          \"<b>Year:</b> %{x}<br>\"\n",
    "                          \"<b>Earthquake Count:</b> %{customdata[3]:.0f}<br>\"\n",
    "                          \"<b>Total Damage:</b> $%{y:,.2f}M<br>\"\n",
    "                          \"<b>Average Magnitude:</b> %{customdata[1]:.2f}<br>\"\n",
    "                          \"<b>Average Focal Depth:</b> %{customdata[4]:.2f}<br>\"\n",
    "                          \"<b>Tsunami Count:</b> %{customdata[2]:.0f}<extra></extra>\"\n",
    "        )\n",
    "    )\n",
    "\n",
    "# dropdown menu\n",
    "dropdown_buttons = []\n",
    "for i, country in enumerate(all_countries):\n",
    "    visibility = [True] + [j == i for j in range(len(all_countries))]  # Show total bar + selected country\n",
    "    dropdown_buttons.append(\n",
    "        {\n",
    "            \"label\": country,\n",
    "            \"method\": \"update\",\n",
    "            \"args\": [\n",
    "                {\"visible\": visibility},\n",
    "                {\"title\": f\"Earthquake Economic Damage in {country} Compared to Global Totals by Year\"},\n",
    "            ],\n",
    "        }\n",
    "    )\n",
    "\n",
    "# Update layout with dropdown\n",
    "fig.update_layout(\n",
    "    updatemenus=[\n",
    "        {\n",
    "            \"buttons\": dropdown_buttons,\n",
    "            \"direction\": \"down\",\n",
    "            \"showactive\": True,\n",
    "            \"x\": 0.1,\n",
    "            \"xanchor\": \"left\",\n",
    "            \"y\": 1.15,\n",
    "            \"yanchor\": \"top\",\n",
    "            \"active\": [i for i, country in enumerate(all_countries) if country == \"JAPAN\"][0],  # Set Japan as default\n",
    "        }\n",
    "    ],\n",
    "    xaxis_title=\"Year\",\n",
    "    yaxis_title=\"Economic Damage ($Mil)\",\n",
    "    barmode=\"overlay\",  # Overlay mode for country-specific contributions\n",
    "    showlegend=False,\n",
    "    title=\"Earthquake Economic Damage in JAPAN Compared to Global Totals by Year\",  # Default title set to Japan\n",
    ")\n",
    "\n",
    "\n",
    "fig.add_annotation(\n",
    "    xref=\"paper\", yref=\"paper\",\n",
    "    x=1.0, y=-0.2,\n",
    "    text=\"*Total damage ($M) is adjusted to 2024 dollar value\",\n",
    "    showarrow=False,\n",
    "    font=dict(size=10),\n",
    "    align=\"left\",\n",
    ")\n",
    "\n",
    "fig.show()\n"
   ]
  },
  {
   "cell_type": "markdown",
   "metadata": {},
   "source": [
    "This stacked bar chart shows global earthquake damages (2000–2024) adjusted to 2024 dollar values, highlighting country-specific impacts. Total global damages are shown in gray, with the selected country's damages in red. Hovering provides details, including economic damages, earthquake counts, average magnitude, focal depth, and tsunami occurrences. Japan stands out due to the 2011 Great East Japan Earthquake, causing $300 billion in damages, a tsunami, and the Fukushima nuclear disaster (Daniell, 2011), making it the costliest natural disaster in history. The chart also emphasizes other major events, like China's 2008 Sichuan earthquake, while revealing global patterns of vulnerability and resilience."
   ]
  }
 ],
 "metadata": {
  "kernelspec": {
   "display_name": "ds4200",
   "language": "python",
   "name": "python3"
  },
  "language_info": {
   "codemirror_mode": {
    "name": "ipython",
    "version": 3
   },
   "file_extension": ".py",
   "mimetype": "text/x-python",
   "name": "python",
   "nbconvert_exporter": "python",
   "pygments_lexer": "ipython3",
   "version": "3.11.0"
  }
 },
 "nbformat": 4,
 "nbformat_minor": 2
}
