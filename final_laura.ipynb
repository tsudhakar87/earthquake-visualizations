{
 "cells": [
  {
   "cell_type": "code",
   "execution_count": 212,
   "metadata": {},
   "outputs": [],
   "source": [
    "import pandas as pd \n",
    "earthquakes = pd.read_csv('earthquake_merged2.csv')\n",
    "# earthquakes.columns"
   ]
  },
  {
   "cell_type": "code",
   "execution_count": 213,
   "metadata": {},
   "outputs": [],
   "source": [
    "earthquakes = earthquakes[earthquakes[\"Year\"] > 1999]\n",
    "# earthquakes"
   ]
  },
  {
   "cell_type": "code",
   "execution_count": 214,
   "metadata": {},
   "outputs": [
    {
     "data": {
      "text/html": [
       "<div>\n",
       "<style scoped>\n",
       "    .dataframe tbody tr th:only-of-type {\n",
       "        vertical-align: middle;\n",
       "    }\n",
       "\n",
       "    .dataframe tbody tr th {\n",
       "        vertical-align: top;\n",
       "    }\n",
       "\n",
       "    .dataframe thead th {\n",
       "        text-align: right;\n",
       "    }\n",
       "</style>\n",
       "<table border=\"1\" class=\"dataframe\">\n",
       "  <thead>\n",
       "    <tr style=\"text-align: right;\">\n",
       "      <th></th>\n",
       "      <th>Country Name</th>\n",
       "      <th>Count</th>\n",
       "    </tr>\n",
       "  </thead>\n",
       "  <tbody>\n",
       "    <tr>\n",
       "      <th>17</th>\n",
       "      <td>CHINA</td>\n",
       "      <td>155</td>\n",
       "    </tr>\n",
       "    <tr>\n",
       "      <th>46</th>\n",
       "      <td>INDONESIA</td>\n",
       "      <td>140</td>\n",
       "    </tr>\n",
       "    <tr>\n",
       "      <th>47</th>\n",
       "      <td>IRAN</td>\n",
       "      <td>86</td>\n",
       "    </tr>\n",
       "    <tr>\n",
       "      <th>49</th>\n",
       "      <td>JAPAN</td>\n",
       "      <td>80</td>\n",
       "    </tr>\n",
       "    <tr>\n",
       "      <th>103</th>\n",
       "      <td>UNITED STATES</td>\n",
       "      <td>58</td>\n",
       "    </tr>\n",
       "    <tr>\n",
       "      <th>...</th>\n",
       "      <td>...</td>\n",
       "      <td>...</td>\n",
       "    </tr>\n",
       "    <tr>\n",
       "      <th>38</th>\n",
       "      <td>GULF OF MEXICO</td>\n",
       "      <td>1</td>\n",
       "    </tr>\n",
       "    <tr>\n",
       "      <th>51</th>\n",
       "      <td>KAZAKHSTAN</td>\n",
       "      <td>1</td>\n",
       "    </tr>\n",
       "    <tr>\n",
       "      <th>50</th>\n",
       "      <td>JORDAN</td>\n",
       "      <td>1</td>\n",
       "    </tr>\n",
       "    <tr>\n",
       "      <th>86</th>\n",
       "      <td>SLOVENIA</td>\n",
       "      <td>1</td>\n",
       "    </tr>\n",
       "    <tr>\n",
       "      <th>108</th>\n",
       "      <td>ZAMBIA</td>\n",
       "      <td>1</td>\n",
       "    </tr>\n",
       "  </tbody>\n",
       "</table>\n",
       "<p>109 rows × 2 columns</p>\n",
       "</div>"
      ],
      "text/plain": [
       "       Country Name  Count\n",
       "17            CHINA    155\n",
       "46        INDONESIA    140\n",
       "47             IRAN     86\n",
       "49            JAPAN     80\n",
       "103   UNITED STATES     58\n",
       "..              ...    ...\n",
       "38   GULF OF MEXICO      1\n",
       "51       KAZAKHSTAN      1\n",
       "50           JORDAN      1\n",
       "86         SLOVENIA      1\n",
       "108          ZAMBIA      1\n",
       "\n",
       "[109 rows x 2 columns]"
      ]
     },
     "execution_count": 214,
     "metadata": {},
     "output_type": "execute_result"
    }
   ],
   "source": [
    "country_counts = earthquakes.groupby(\"Country Name\").size().reset_index(name=\"Count\")\n",
    "country_counts = country_counts.sort_values(by=\"Count\", ascending=False)\n",
    "country_counts"
   ]
  },
  {
   "cell_type": "code",
   "execution_count": 215,
   "metadata": {},
   "outputs": [],
   "source": [
    "# Group by Country Name to get avg magnitude\n",
    "avg_magnitude = earthquakes.groupby(\"Country Name\")[\"Mag\"].mean().reset_index(name=\"Average Magnitude\")\n",
    "\n",
    "# Merge the average magnitude with the country_counts df\n",
    "country_counts = country_counts.merge(avg_magnitude, on=\"Country Name\", how=\"left\")\n",
    "\n",
    "# country_counts"
   ]
  },
  {
   "cell_type": "code",
   "execution_count": 216,
   "metadata": {},
   "outputs": [
    {
     "name": "stderr",
     "output_type": "stream",
     "text": [
      "/Users/lauraboelsterli/anaconda3/envs/ds4200/lib/python3.11/site-packages/openpyxl/styles/stylesheet.py:237: UserWarning:\n",
      "\n",
      "Workbook contains no default style, apply openpyxl's default\n",
      "\n",
      "/var/folders/7l/h7qnw85j2hlf4tgr241lw5f00000gn/T/ipykernel_8580/2874546429.py:18: FutureWarning:\n",
      "\n",
      "Downcasting object dtype arrays on .fillna, .ffill, .bfill is deprecated and will change in a future version. Call result.infer_objects(copy=False) instead. To opt-in to the future behavior, set `pd.set_option('future.no_silent_downcasting', True)`\n",
      "\n"
     ]
    }
   ],
   "source": [
    "file_path = \"historicalCPI.xlsx\"  \n",
    "\n",
    "cpi_data = pd.read_excel(file_path, skiprows=10)\n",
    "# Make the first row the new header\n",
    "cpi_data.columns = cpi_data.iloc[0]  # Set the first row as column headers\n",
    "df = cpi_data[1:]  # Drop the first row from the data\n",
    "\n",
    "# Reset index for cleaner df\n",
    "df = df.reset_index(drop=True)\n",
    "\n",
    "# only will be using december of every year (3rd to last col)for inflation adjustment \n",
    "df = df[[\"Year\", \"Dec\"]]  # Use the explicit column name for December CPI\n",
    "df.columns = [\"Year\", \"CPI\"]  # Rename for simplicity\n",
    "\n",
    "# only 2000s and on \n",
    "df = df[df[\"Year\"].astype(int) >= 2000]\n",
    "# Add 315.664 to the CPI value for the year 2024 (missing)\n",
    "df.loc[df[\"Year\"] == 2024, \"CPI\"] = df.loc[df[\"Year\"] == 2024, \"CPI\"].fillna(0) + 315.664\n",
    "\n",
    "    # Display the up\n",
    "\n",
    "# cpi_data\n",
    "# df\n"
   ]
  },
  {
   "cell_type": "code",
   "execution_count": 217,
   "metadata": {},
   "outputs": [],
   "source": [
    "# Group by Country and Year, calculating total counts and sum of damages\n",
    "# Include average magnitude in the aggregation\n",
    "bubble_data = earthquakes.groupby([\"Country Name\", \"Year\"]).agg(\n",
    "    Earthquake_Count=(\"Country Name\", \"count\"),\n",
    "    Total_Damage_Mil=(\"Total Damage ($Mil)\", \"sum\"),\n",
    "    Average_Magnitude=(\"Mag\", \"mean\"), \n",
    "    Focal_Depth = (\"Focal Depth (km)\", \"mean\"),\n",
    "    tsunami = (\"Tsu\", \"count\")\n",
    ").reset_index()\n",
    "\n",
    "# Filter out rows where Total_Damage_Mil is NaN or 0\n",
    "bubble_data = bubble_data[bubble_data[\"Total_Damage_Mil\"] > 0]\n",
    "bubble_data[\"Average_Magnitude\"] = bubble_data[\"Average_Magnitude\"].round(2)\n",
    "# earthquakes.columns\n",
    "#tsunami "
   ]
  },
  {
   "cell_type": "code",
   "execution_count": 218,
   "metadata": {},
   "outputs": [
    {
     "name": "stderr",
     "output_type": "stream",
     "text": [
      "/var/folders/7l/h7qnw85j2hlf4tgr241lw5f00000gn/T/ipykernel_8580/1793578274.py:14: FutureWarning:\n",
      "\n",
      "Downcasting object dtype arrays on .fillna, .ffill, .bfill is deprecated and will change in a future version. Call result.infer_objects(copy=False) instead. To opt-in to the future behavior, set `pd.set_option('future.no_silent_downcasting', True)`\n",
      "\n"
     ]
    },
    {
     "data": {
      "text/html": [
       "<div>\n",
       "<style scoped>\n",
       "    .dataframe tbody tr th:only-of-type {\n",
       "        vertical-align: middle;\n",
       "    }\n",
       "\n",
       "    .dataframe tbody tr th {\n",
       "        vertical-align: top;\n",
       "    }\n",
       "\n",
       "    .dataframe thead th {\n",
       "        text-align: right;\n",
       "    }\n",
       "</style>\n",
       "<table border=\"1\" class=\"dataframe\">\n",
       "  <thead>\n",
       "    <tr style=\"text-align: right;\">\n",
       "      <th></th>\n",
       "      <th>Country Name</th>\n",
       "      <th>Year</th>\n",
       "      <th>Earthquake_Count</th>\n",
       "      <th>Total_Damage_Mil</th>\n",
       "      <th>Average_Magnitude</th>\n",
       "      <th>Focal_Depth</th>\n",
       "      <th>tsunami</th>\n",
       "      <th>CPI</th>\n",
       "      <th>Inflation_Adjusted_Damage_Mil</th>\n",
       "    </tr>\n",
       "  </thead>\n",
       "  <tbody>\n",
       "    <tr>\n",
       "      <th>81</th>\n",
       "      <td>JAPAN</td>\n",
       "      <td>2000</td>\n",
       "      <td>5</td>\n",
       "      <td>150.0</td>\n",
       "      <td>6.60</td>\n",
       "      <td>33.400000</td>\n",
       "      <td>3</td>\n",
       "      <td>174</td>\n",
       "      <td>272.12</td>\n",
       "    </tr>\n",
       "    <tr>\n",
       "      <th>82</th>\n",
       "      <td>JAPAN</td>\n",
       "      <td>2001</td>\n",
       "      <td>1</td>\n",
       "      <td>500.0</td>\n",
       "      <td>6.80</td>\n",
       "      <td>50.000000</td>\n",
       "      <td>0</td>\n",
       "      <td>176.7</td>\n",
       "      <td>893.22</td>\n",
       "    </tr>\n",
       "    <tr>\n",
       "      <th>83</th>\n",
       "      <td>JAPAN</td>\n",
       "      <td>2003</td>\n",
       "      <td>6</td>\n",
       "      <td>734.0</td>\n",
       "      <td>6.45</td>\n",
       "      <td>40.833333</td>\n",
       "      <td>2</td>\n",
       "      <td>184.3</td>\n",
       "      <td>1257.18</td>\n",
       "    </tr>\n",
       "    <tr>\n",
       "      <th>84</th>\n",
       "      <td>JAPAN</td>\n",
       "      <td>2004</td>\n",
       "      <td>8</td>\n",
       "      <td>28000.0</td>\n",
       "      <td>6.52</td>\n",
       "      <td>18.500000</td>\n",
       "      <td>3</td>\n",
       "      <td>190.3</td>\n",
       "      <td>46445.57</td>\n",
       "    </tr>\n",
       "    <tr>\n",
       "      <th>85</th>\n",
       "      <td>JAPAN</td>\n",
       "      <td>2007</td>\n",
       "      <td>4</td>\n",
       "      <td>12500.0</td>\n",
       "      <td>6.35</td>\n",
       "      <td>73.500000</td>\n",
       "      <td>2</td>\n",
       "      <td>210.036</td>\n",
       "      <td>18786.30</td>\n",
       "    </tr>\n",
       "    <tr>\n",
       "      <th>86</th>\n",
       "      <td>JAPAN</td>\n",
       "      <td>2011</td>\n",
       "      <td>8</td>\n",
       "      <td>220136.6</td>\n",
       "      <td>7.39</td>\n",
       "      <td>26.750000</td>\n",
       "      <td>5</td>\n",
       "      <td>225.672</td>\n",
       "      <td>307921.23</td>\n",
       "    </tr>\n",
       "    <tr>\n",
       "      <th>87</th>\n",
       "      <td>JAPAN</td>\n",
       "      <td>2014</td>\n",
       "      <td>3</td>\n",
       "      <td>2.0</td>\n",
       "      <td>6.33</td>\n",
       "      <td>36.000000</td>\n",
       "      <td>1</td>\n",
       "      <td>234.812</td>\n",
       "      <td>2.69</td>\n",
       "    </tr>\n",
       "    <tr>\n",
       "      <th>88</th>\n",
       "      <td>JAPAN</td>\n",
       "      <td>2016</td>\n",
       "      <td>4</td>\n",
       "      <td>20100.0</td>\n",
       "      <td>6.52</td>\n",
       "      <td>8.750000</td>\n",
       "      <td>2</td>\n",
       "      <td>241.432</td>\n",
       "      <td>26280.06</td>\n",
       "    </tr>\n",
       "    <tr>\n",
       "      <th>89</th>\n",
       "      <td>JAPAN</td>\n",
       "      <td>2018</td>\n",
       "      <td>4</td>\n",
       "      <td>9000.0</td>\n",
       "      <td>5.80</td>\n",
       "      <td>16.250000</td>\n",
       "      <td>1</td>\n",
       "      <td>251.233</td>\n",
       "      <td>11308.13</td>\n",
       "    </tr>\n",
       "    <tr>\n",
       "      <th>90</th>\n",
       "      <td>JAPAN</td>\n",
       "      <td>2021</td>\n",
       "      <td>2</td>\n",
       "      <td>8250.0</td>\n",
       "      <td>7.05</td>\n",
       "      <td>46.000000</td>\n",
       "      <td>1</td>\n",
       "      <td>278.802</td>\n",
       "      <td>9340.78</td>\n",
       "    </tr>\n",
       "    <tr>\n",
       "      <th>91</th>\n",
       "      <td>JAPAN</td>\n",
       "      <td>2022</td>\n",
       "      <td>1</td>\n",
       "      <td>8800.0</td>\n",
       "      <td>7.30</td>\n",
       "      <td>63.000000</td>\n",
       "      <td>1</td>\n",
       "      <td>296.797</td>\n",
       "      <td>9359.40</td>\n",
       "    </tr>\n",
       "    <tr>\n",
       "      <th>92</th>\n",
       "      <td>JAPAN</td>\n",
       "      <td>2024</td>\n",
       "      <td>3</td>\n",
       "      <td>17600.0</td>\n",
       "      <td>6.73</td>\n",
       "      <td>15.333333</td>\n",
       "      <td>3</td>\n",
       "      <td>315.664</td>\n",
       "      <td>17600.00</td>\n",
       "    </tr>\n",
       "  </tbody>\n",
       "</table>\n",
       "</div>"
      ],
      "text/plain": [
       "   Country Name  Year  Earthquake_Count  Total_Damage_Mil  Average_Magnitude  \\\n",
       "81        JAPAN  2000                 5             150.0               6.60   \n",
       "82        JAPAN  2001                 1             500.0               6.80   \n",
       "83        JAPAN  2003                 6             734.0               6.45   \n",
       "84        JAPAN  2004                 8           28000.0               6.52   \n",
       "85        JAPAN  2007                 4           12500.0               6.35   \n",
       "86        JAPAN  2011                 8          220136.6               7.39   \n",
       "87        JAPAN  2014                 3               2.0               6.33   \n",
       "88        JAPAN  2016                 4           20100.0               6.52   \n",
       "89        JAPAN  2018                 4            9000.0               5.80   \n",
       "90        JAPAN  2021                 2            8250.0               7.05   \n",
       "91        JAPAN  2022                 1            8800.0               7.30   \n",
       "92        JAPAN  2024                 3           17600.0               6.73   \n",
       "\n",
       "    Focal_Depth  tsunami      CPI  Inflation_Adjusted_Damage_Mil  \n",
       "81    33.400000        3      174                         272.12  \n",
       "82    50.000000        0    176.7                         893.22  \n",
       "83    40.833333        2    184.3                        1257.18  \n",
       "84    18.500000        3    190.3                       46445.57  \n",
       "85    73.500000        2  210.036                       18786.30  \n",
       "86    26.750000        5  225.672                      307921.23  \n",
       "87    36.000000        1  234.812                           2.69  \n",
       "88     8.750000        2  241.432                       26280.06  \n",
       "89    16.250000        1  251.233                       11308.13  \n",
       "90    46.000000        1  278.802                        9340.78  \n",
       "91    63.000000        1  296.797                        9359.40  \n",
       "92    15.333333        3  315.664                       17600.00  "
      ]
     },
     "execution_count": 218,
     "metadata": {},
     "output_type": "execute_result"
    }
   ],
   "source": [
    "# Adjust bubble chart data with inflation-adjusted damages using CPI\n",
    "\n",
    "# Merging bubble_data with the CPI dataset\n",
    "adjusted_bubble_data = bubble_data.merge(df, on=\"Year\", how=\"left\")\n",
    "\n",
    "# Add current CPI aka 2024\n",
    "current_cpi = df.loc[df[\"Year\"] == 2024, \"CPI\"].values[0]\n",
    "\n",
    "# calculate inflation-adjusted damages\n",
    "adjusted_bubble_data[\"Inflation_Adjusted_Damage_Mil\"] = (\n",
    "    adjusted_bubble_data[\"Total_Damage_Mil\"]\n",
    "    * (current_cpi / adjusted_bubble_data[\"CPI\"])\n",
    ")\n",
    "adjusted_bubble_data[\"Inflation_Adjusted_Damage_Mil\"] = adjusted_bubble_data[\"Inflation_Adjusted_Damage_Mil\"].fillna(0)\n",
    "\n",
    "\n",
    "# roudning the adjusted damages \n",
    "adjusted_bubble_data[\"Inflation_Adjusted_Damage_Mil\"] = adjusted_bubble_data[\"Inflation_Adjusted_Damage_Mil\"].round(2)\n",
    "\n",
    "# adjusted_bubble_data[adjusted_bubble_data[\"Country Name\"] == \"JAPAN\"]\n",
    "# Filter out Hawaii from the dataset\n",
    "adjusted_bubble_data = adjusted_bubble_data[adjusted_bubble_data[\"Country Name\"] != \"HAWAII\"]\n",
    "\n",
    "# View data for JAPAN to verify\n",
    "adjusted_bubble_data[adjusted_bubble_data[\"Country Name\"] == \"JAPAN\"]\n",
    "\n",
    "\n"
   ]
  },
  {
   "cell_type": "code",
   "execution_count": 235,
   "metadata": {},
   "outputs": [
    {
     "data": {
      "application/vnd.plotly.v1+json": {
       "config": {
        "plotlyServerURL": "https://plot.ly"
       },
       "data": [
        {
         "branchvalues": "total",
         "customdata": [
          [
           6.226666666666667,
           324.97,
           95.05555555555556,
           0
          ],
          [
           5.73,
           1383.17,
           13.333333333333334,
           0
          ],
          [
           6.25,
           8563.86,
           10,
           2
          ],
          [
           7.616666666666667,
           44141.51,
           18.166666666666668,
           8
          ],
          [
           5.5245,
           157067.9,
           16.27531746031746,
           1
          ],
          [
           6.3,
           30.87,
           10,
           0
          ],
          [
           6.85,
           795.67,
           24.5,
           1
          ],
          [
           5.9,
           7255.54,
           10,
           0
          ],
          [
           6.7,
           4314.64,
           20.333333333333332,
           1
          ],
          [
           6.67,
           1967.76,
           26.666666666666668,
           1
          ],
          [
           4.8,
           525.76,
           7.5,
           0
          ],
          [
           3.6,
           1.83,
           10,
           0
          ],
          [
           6.453333333333333,
           6784.83,
           11.555555555555555,
           4
          ],
          [
           6.85,
           291.43,
           45,
           1
          ],
          [
           7.1,
           13333.24,
           11.5,
           2
          ],
          [
           7.3,
           146.18,
           10,
           1
          ],
          [
           6.5,
           58.05,
           10,
           0
          ],
          [
           6.2375,
           7747.72,
           44.95,
           0
          ],
          [
           6.385000000000001,
           28210.960000000003,
           31.046733821733824,
           21
          ],
          [
           5.694,
           4602.83,
           18.866666666666667,
           0
          ],
          [
           5.432857142857143,
           35565.51,
           7.452380952380952,
           0
          ],
          [
           6.653333333333333,
           449466.68,
           35.69305555555555,
           24
          ],
          [
           5.6,
           16.02,
           18,
           0
          ],
          [
           5.1,
           13.07,
           13,
           0
          ],
          [
           7.4,
           154.8,
           156,
           1
          ],
          [
           6.9719999999999995,
           18099.68,
           22.266666666666666,
           6
          ],
          [
           6.6,
           7867.02,
           9,
           0
          ],
          [
           6.675,
           18.11,
           64.25,
           0
          ],
          [
           6.625,
           8028.12,
           14.75,
           0
          ],
          [
           6.345000000000001,
           39706.130000000005,
           14.775,
           6
          ],
          [
           5.65,
           4.03,
           11.5,
           0
          ],
          [
           6.366666666666667,
           10870.94,
           19,
           1
          ],
          [
           7.06,
           380.32,
           53.9,
           0
          ],
          [
           7.1,
           357.29,
           40.25,
           1
          ],
          [
           6.57625,
           319.90999999999997,
           22.155505952380953,
           5
          ],
          [
           6.4,
           969.51,
           10,
           1
          ],
          [
           6.96,
           105.86,
           12.666666666666666,
           1
          ],
          [
           8.1,
           416.6,
           18,
           1
          ],
          [
           7.45,
           48.76,
           22.5,
           2
          ],
          [
           5.45,
           124.52000000000001,
           11.5,
           0
          ],
          [
           6.609999999999999,
           2366.54,
           22.6,
           1
          ],
          [
           6.15,
           8.83,
           34.5,
           0
          ],
          [
           5.9,
           598.82,
           40,
           0
          ],
          [
           6.1,
           83.35,
           6,
           0
          ],
          [
           6.2,
           46245.39,
           11.291666666666668,
           1
          ],
          [
           5.852307692307692,
           12850.87,
           19.42948717948718,
           9
          ]
         ],
         "domain": {
          "x": [
           0,
           1
          ],
          "y": [
           0,
           1
          ]
         },
         "hovertemplate": "<b>%{label}</b><br>Earthquake Count: %{value}<br>Total Damage in Dollars: $%{customdata[1]:,.2f}M<br>Average Magnitude: %{customdata[0]:.2f}<br>Average Focal Depth: %{customdata[2]:.2f} km<br>Tsunamis: %{customdata[3]:.0f}<extra></extra>",
         "ids": [
          "AFGHANISTAN",
          "ALBANIA",
          "ALGERIA",
          "CHILE",
          "CHINA",
          "COLOMBIA",
          "COSTA RICA",
          "CROATIA",
          "ECUADOR",
          "EL SALVADOR",
          "FRANCE",
          "GERMANY",
          "GREECE",
          "GUATEMALA",
          "HAITI",
          "HONDURAS",
          "ICELAND",
          "INDIA",
          "INDONESIA",
          "IRAN",
          "ITALY",
          "JAPAN",
          "KYRGYZSTAN",
          "MACEDONIA",
          "MARTINIQUE",
          "MEXICO",
          "MOROCCO",
          "MYANMAR",
          "NEPAL",
          "NEW ZEALAND",
          "NICARAGUA",
          "PAKISTAN",
          "PAPUA NEW GUINEA",
          "PERU",
          "PHILIPPINES",
          "PUERTO RICO",
          "RUSSIA",
          "SAMOA",
          "SOLOMON ISLANDS",
          "SOUTH KOREA",
          "TAIWAN",
          "TAJIKISTAN",
          "TANZANIA",
          "THAILAND",
          "TURKEY",
          "UNITED STATES"
         ],
         "labels": [
          "AFGHANISTAN",
          "ALBANIA",
          "ALGERIA",
          "CHILE",
          "CHINA",
          "COLOMBIA",
          "COSTA RICA",
          "CROATIA",
          "ECUADOR",
          "EL SALVADOR",
          "FRANCE",
          "GERMANY",
          "GREECE",
          "GUATEMALA",
          "HAITI",
          "HONDURAS",
          "ICELAND",
          "INDIA",
          "INDONESIA",
          "IRAN",
          "ITALY",
          "JAPAN",
          "KYRGYZSTAN",
          "MACEDONIA",
          "MARTINIQUE",
          "MEXICO",
          "MOROCCO",
          "MYANMAR",
          "NEPAL",
          "NEW ZEALAND",
          "NICARAGUA",
          "PAKISTAN",
          "PAPUA NEW GUINEA",
          "PERU",
          "PHILIPPINES",
          "PUERTO RICO",
          "RUSSIA",
          "SAMOA",
          "SOLOMON ISLANDS",
          "SOUTH KOREA",
          "TAIWAN",
          "TAJIKISTAN",
          "TANZANIA",
          "THAILAND",
          "TURKEY",
          "UNITED STATES"
         ],
         "marker": {
          "coloraxis": "coloraxis",
          "colors": [
           324.97,
           1383.17,
           8563.86,
           44141.51,
           157067.9,
           30.87,
           795.67,
           7255.54,
           4314.64,
           1967.76,
           525.76,
           1.83,
           6784.83,
           291.43,
           13333.24,
           146.18,
           58.05,
           7747.719999999999,
           28210.960000000003,
           4602.83,
           35565.51,
           449466.68,
           16.02,
           13.07,
           154.8,
           18099.68,
           7867.02,
           18.11,
           8028.12,
           39706.130000000005,
           4.03,
           10870.94,
           380.32,
           357.29,
           319.90999999999997,
           969.51,
           105.86,
           416.6,
           48.76,
           124.52000000000001,
           2366.54,
           8.83,
           598.82,
           83.35,
           46245.39,
           12850.87
          ]
         },
         "name": "",
         "parents": [
          "",
          "",
          "",
          "",
          "",
          "",
          "",
          "",
          "",
          "",
          "",
          "",
          "",
          "",
          "",
          "",
          "",
          "",
          "",
          "",
          "",
          "",
          "",
          "",
          "",
          "",
          "",
          "",
          "",
          "",
          "",
          "",
          "",
          "",
          "",
          "",
          "",
          "",
          "",
          "",
          "",
          "",
          "",
          "",
          "",
          ""
         ],
         "type": "treemap",
         "values": [
          9,
          3,
          2,
          8,
          130,
          1,
          2,
          2,
          3,
          3,
          2,
          1,
          8,
          2,
          2,
          1,
          2,
          10,
          82,
          44,
          18,
          49,
          1,
          1,
          1,
          10,
          2,
          3,
          4,
          14,
          2,
          5,
          6,
          4,
          29,
          1,
          6,
          1,
          2,
          2,
          7,
          2,
          1,
          1,
          7,
          41
         ]
        }
       ],
       "layout": {
        "annotations": [
         {
          "align": "left",
          "font": {
           "size": 8
          },
          "showarrow": false,
          "text": "*total damage ($M) is adjusted to 2024 dollar value",
          "x": 1,
          "xref": "paper",
          "y": -0.05,
          "yref": "paper"
         }
        ],
        "coloraxis": {
         "colorbar": {
          "tickformat": ".2f",
          "title": {
           "text": "Economic Damage ($Mil)"
          }
         },
         "colorscale": [
          [
           0,
           "#440154"
          ],
          [
           0.1111111111111111,
           "#482878"
          ],
          [
           0.2222222222222222,
           "#3e4989"
          ],
          [
           0.3333333333333333,
           "#31688e"
          ],
          [
           0.4444444444444444,
           "#26828e"
          ],
          [
           0.5555555555555556,
           "#1f9e89"
          ],
          [
           0.6666666666666666,
           "#35b779"
          ],
          [
           0.7777777777777778,
           "#6ece58"
          ],
          [
           0.8888888888888888,
           "#b5de2b"
          ],
          [
           1,
           "#fde725"
          ]
         ]
        },
        "legend": {
         "tracegroupgap": 0
        },
        "template": {
         "data": {
          "bar": [
           {
            "error_x": {
             "color": "#2a3f5f"
            },
            "error_y": {
             "color": "#2a3f5f"
            },
            "marker": {
             "line": {
              "color": "#E5ECF6",
              "width": 0.5
             },
             "pattern": {
              "fillmode": "overlay",
              "size": 10,
              "solidity": 0.2
             }
            },
            "type": "bar"
           }
          ],
          "barpolar": [
           {
            "marker": {
             "line": {
              "color": "#E5ECF6",
              "width": 0.5
             },
             "pattern": {
              "fillmode": "overlay",
              "size": 10,
              "solidity": 0.2
             }
            },
            "type": "barpolar"
           }
          ],
          "carpet": [
           {
            "aaxis": {
             "endlinecolor": "#2a3f5f",
             "gridcolor": "white",
             "linecolor": "white",
             "minorgridcolor": "white",
             "startlinecolor": "#2a3f5f"
            },
            "baxis": {
             "endlinecolor": "#2a3f5f",
             "gridcolor": "white",
             "linecolor": "white",
             "minorgridcolor": "white",
             "startlinecolor": "#2a3f5f"
            },
            "type": "carpet"
           }
          ],
          "choropleth": [
           {
            "colorbar": {
             "outlinewidth": 0,
             "ticks": ""
            },
            "type": "choropleth"
           }
          ],
          "contour": [
           {
            "colorbar": {
             "outlinewidth": 0,
             "ticks": ""
            },
            "colorscale": [
             [
              0,
              "#0d0887"
             ],
             [
              0.1111111111111111,
              "#46039f"
             ],
             [
              0.2222222222222222,
              "#7201a8"
             ],
             [
              0.3333333333333333,
              "#9c179e"
             ],
             [
              0.4444444444444444,
              "#bd3786"
             ],
             [
              0.5555555555555556,
              "#d8576b"
             ],
             [
              0.6666666666666666,
              "#ed7953"
             ],
             [
              0.7777777777777778,
              "#fb9f3a"
             ],
             [
              0.8888888888888888,
              "#fdca26"
             ],
             [
              1,
              "#f0f921"
             ]
            ],
            "type": "contour"
           }
          ],
          "contourcarpet": [
           {
            "colorbar": {
             "outlinewidth": 0,
             "ticks": ""
            },
            "type": "contourcarpet"
           }
          ],
          "heatmap": [
           {
            "colorbar": {
             "outlinewidth": 0,
             "ticks": ""
            },
            "colorscale": [
             [
              0,
              "#0d0887"
             ],
             [
              0.1111111111111111,
              "#46039f"
             ],
             [
              0.2222222222222222,
              "#7201a8"
             ],
             [
              0.3333333333333333,
              "#9c179e"
             ],
             [
              0.4444444444444444,
              "#bd3786"
             ],
             [
              0.5555555555555556,
              "#d8576b"
             ],
             [
              0.6666666666666666,
              "#ed7953"
             ],
             [
              0.7777777777777778,
              "#fb9f3a"
             ],
             [
              0.8888888888888888,
              "#fdca26"
             ],
             [
              1,
              "#f0f921"
             ]
            ],
            "type": "heatmap"
           }
          ],
          "heatmapgl": [
           {
            "colorbar": {
             "outlinewidth": 0,
             "ticks": ""
            },
            "colorscale": [
             [
              0,
              "#0d0887"
             ],
             [
              0.1111111111111111,
              "#46039f"
             ],
             [
              0.2222222222222222,
              "#7201a8"
             ],
             [
              0.3333333333333333,
              "#9c179e"
             ],
             [
              0.4444444444444444,
              "#bd3786"
             ],
             [
              0.5555555555555556,
              "#d8576b"
             ],
             [
              0.6666666666666666,
              "#ed7953"
             ],
             [
              0.7777777777777778,
              "#fb9f3a"
             ],
             [
              0.8888888888888888,
              "#fdca26"
             ],
             [
              1,
              "#f0f921"
             ]
            ],
            "type": "heatmapgl"
           }
          ],
          "histogram": [
           {
            "marker": {
             "pattern": {
              "fillmode": "overlay",
              "size": 10,
              "solidity": 0.2
             }
            },
            "type": "histogram"
           }
          ],
          "histogram2d": [
           {
            "colorbar": {
             "outlinewidth": 0,
             "ticks": ""
            },
            "colorscale": [
             [
              0,
              "#0d0887"
             ],
             [
              0.1111111111111111,
              "#46039f"
             ],
             [
              0.2222222222222222,
              "#7201a8"
             ],
             [
              0.3333333333333333,
              "#9c179e"
             ],
             [
              0.4444444444444444,
              "#bd3786"
             ],
             [
              0.5555555555555556,
              "#d8576b"
             ],
             [
              0.6666666666666666,
              "#ed7953"
             ],
             [
              0.7777777777777778,
              "#fb9f3a"
             ],
             [
              0.8888888888888888,
              "#fdca26"
             ],
             [
              1,
              "#f0f921"
             ]
            ],
            "type": "histogram2d"
           }
          ],
          "histogram2dcontour": [
           {
            "colorbar": {
             "outlinewidth": 0,
             "ticks": ""
            },
            "colorscale": [
             [
              0,
              "#0d0887"
             ],
             [
              0.1111111111111111,
              "#46039f"
             ],
             [
              0.2222222222222222,
              "#7201a8"
             ],
             [
              0.3333333333333333,
              "#9c179e"
             ],
             [
              0.4444444444444444,
              "#bd3786"
             ],
             [
              0.5555555555555556,
              "#d8576b"
             ],
             [
              0.6666666666666666,
              "#ed7953"
             ],
             [
              0.7777777777777778,
              "#fb9f3a"
             ],
             [
              0.8888888888888888,
              "#fdca26"
             ],
             [
              1,
              "#f0f921"
             ]
            ],
            "type": "histogram2dcontour"
           }
          ],
          "mesh3d": [
           {
            "colorbar": {
             "outlinewidth": 0,
             "ticks": ""
            },
            "type": "mesh3d"
           }
          ],
          "parcoords": [
           {
            "line": {
             "colorbar": {
              "outlinewidth": 0,
              "ticks": ""
             }
            },
            "type": "parcoords"
           }
          ],
          "pie": [
           {
            "automargin": true,
            "type": "pie"
           }
          ],
          "scatter": [
           {
            "fillpattern": {
             "fillmode": "overlay",
             "size": 10,
             "solidity": 0.2
            },
            "type": "scatter"
           }
          ],
          "scatter3d": [
           {
            "line": {
             "colorbar": {
              "outlinewidth": 0,
              "ticks": ""
             }
            },
            "marker": {
             "colorbar": {
              "outlinewidth": 0,
              "ticks": ""
             }
            },
            "type": "scatter3d"
           }
          ],
          "scattercarpet": [
           {
            "marker": {
             "colorbar": {
              "outlinewidth": 0,
              "ticks": ""
             }
            },
            "type": "scattercarpet"
           }
          ],
          "scattergeo": [
           {
            "marker": {
             "colorbar": {
              "outlinewidth": 0,
              "ticks": ""
             }
            },
            "type": "scattergeo"
           }
          ],
          "scattergl": [
           {
            "marker": {
             "colorbar": {
              "outlinewidth": 0,
              "ticks": ""
             }
            },
            "type": "scattergl"
           }
          ],
          "scattermapbox": [
           {
            "marker": {
             "colorbar": {
              "outlinewidth": 0,
              "ticks": ""
             }
            },
            "type": "scattermapbox"
           }
          ],
          "scatterpolar": [
           {
            "marker": {
             "colorbar": {
              "outlinewidth": 0,
              "ticks": ""
             }
            },
            "type": "scatterpolar"
           }
          ],
          "scatterpolargl": [
           {
            "marker": {
             "colorbar": {
              "outlinewidth": 0,
              "ticks": ""
             }
            },
            "type": "scatterpolargl"
           }
          ],
          "scatterternary": [
           {
            "marker": {
             "colorbar": {
              "outlinewidth": 0,
              "ticks": ""
             }
            },
            "type": "scatterternary"
           }
          ],
          "surface": [
           {
            "colorbar": {
             "outlinewidth": 0,
             "ticks": ""
            },
            "colorscale": [
             [
              0,
              "#0d0887"
             ],
             [
              0.1111111111111111,
              "#46039f"
             ],
             [
              0.2222222222222222,
              "#7201a8"
             ],
             [
              0.3333333333333333,
              "#9c179e"
             ],
             [
              0.4444444444444444,
              "#bd3786"
             ],
             [
              0.5555555555555556,
              "#d8576b"
             ],
             [
              0.6666666666666666,
              "#ed7953"
             ],
             [
              0.7777777777777778,
              "#fb9f3a"
             ],
             [
              0.8888888888888888,
              "#fdca26"
             ],
             [
              1,
              "#f0f921"
             ]
            ],
            "type": "surface"
           }
          ],
          "table": [
           {
            "cells": {
             "fill": {
              "color": "#EBF0F8"
             },
             "line": {
              "color": "white"
             }
            },
            "header": {
             "fill": {
              "color": "#C8D4E3"
             },
             "line": {
              "color": "white"
             }
            },
            "type": "table"
           }
          ]
         },
         "layout": {
          "annotationdefaults": {
           "arrowcolor": "#2a3f5f",
           "arrowhead": 0,
           "arrowwidth": 1
          },
          "autotypenumbers": "strict",
          "coloraxis": {
           "colorbar": {
            "outlinewidth": 0,
            "ticks": ""
           }
          },
          "colorscale": {
           "diverging": [
            [
             0,
             "#8e0152"
            ],
            [
             0.1,
             "#c51b7d"
            ],
            [
             0.2,
             "#de77ae"
            ],
            [
             0.3,
             "#f1b6da"
            ],
            [
             0.4,
             "#fde0ef"
            ],
            [
             0.5,
             "#f7f7f7"
            ],
            [
             0.6,
             "#e6f5d0"
            ],
            [
             0.7,
             "#b8e186"
            ],
            [
             0.8,
             "#7fbc41"
            ],
            [
             0.9,
             "#4d9221"
            ],
            [
             1,
             "#276419"
            ]
           ],
           "sequential": [
            [
             0,
             "#0d0887"
            ],
            [
             0.1111111111111111,
             "#46039f"
            ],
            [
             0.2222222222222222,
             "#7201a8"
            ],
            [
             0.3333333333333333,
             "#9c179e"
            ],
            [
             0.4444444444444444,
             "#bd3786"
            ],
            [
             0.5555555555555556,
             "#d8576b"
            ],
            [
             0.6666666666666666,
             "#ed7953"
            ],
            [
             0.7777777777777778,
             "#fb9f3a"
            ],
            [
             0.8888888888888888,
             "#fdca26"
            ],
            [
             1,
             "#f0f921"
            ]
           ],
           "sequentialminus": [
            [
             0,
             "#0d0887"
            ],
            [
             0.1111111111111111,
             "#46039f"
            ],
            [
             0.2222222222222222,
             "#7201a8"
            ],
            [
             0.3333333333333333,
             "#9c179e"
            ],
            [
             0.4444444444444444,
             "#bd3786"
            ],
            [
             0.5555555555555556,
             "#d8576b"
            ],
            [
             0.6666666666666666,
             "#ed7953"
            ],
            [
             0.7777777777777778,
             "#fb9f3a"
            ],
            [
             0.8888888888888888,
             "#fdca26"
            ],
            [
             1,
             "#f0f921"
            ]
           ]
          },
          "colorway": [
           "#636efa",
           "#EF553B",
           "#00cc96",
           "#ab63fa",
           "#FFA15A",
           "#19d3f3",
           "#FF6692",
           "#B6E880",
           "#FF97FF",
           "#FECB52"
          ],
          "font": {
           "color": "#2a3f5f"
          },
          "geo": {
           "bgcolor": "white",
           "lakecolor": "white",
           "landcolor": "#E5ECF6",
           "showlakes": true,
           "showland": true,
           "subunitcolor": "white"
          },
          "hoverlabel": {
           "align": "left"
          },
          "hovermode": "closest",
          "mapbox": {
           "style": "light"
          },
          "paper_bgcolor": "white",
          "plot_bgcolor": "#E5ECF6",
          "polar": {
           "angularaxis": {
            "gridcolor": "white",
            "linecolor": "white",
            "ticks": ""
           },
           "bgcolor": "#E5ECF6",
           "radialaxis": {
            "gridcolor": "white",
            "linecolor": "white",
            "ticks": ""
           }
          },
          "scene": {
           "xaxis": {
            "backgroundcolor": "#E5ECF6",
            "gridcolor": "white",
            "gridwidth": 2,
            "linecolor": "white",
            "showbackground": true,
            "ticks": "",
            "zerolinecolor": "white"
           },
           "yaxis": {
            "backgroundcolor": "#E5ECF6",
            "gridcolor": "white",
            "gridwidth": 2,
            "linecolor": "white",
            "showbackground": true,
            "ticks": "",
            "zerolinecolor": "white"
           },
           "zaxis": {
            "backgroundcolor": "#E5ECF6",
            "gridcolor": "white",
            "gridwidth": 2,
            "linecolor": "white",
            "showbackground": true,
            "ticks": "",
            "zerolinecolor": "white"
           }
          },
          "shapedefaults": {
           "line": {
            "color": "#2a3f5f"
           }
          },
          "ternary": {
           "aaxis": {
            "gridcolor": "white",
            "linecolor": "white",
            "ticks": ""
           },
           "baxis": {
            "gridcolor": "white",
            "linecolor": "white",
            "ticks": ""
           },
           "bgcolor": "#E5ECF6",
           "caxis": {
            "gridcolor": "white",
            "linecolor": "white",
            "ticks": ""
           }
          },
          "title": {
           "x": 0.05
          },
          "xaxis": {
           "automargin": true,
           "gridcolor": "white",
           "linecolor": "white",
           "ticks": "",
           "title": {
            "standoff": 15
           },
           "zerolinecolor": "white",
           "zerolinewidth": 2
          },
          "yaxis": {
           "automargin": true,
           "gridcolor": "white",
           "linecolor": "white",
           "ticks": "",
           "title": {
            "standoff": 15
           },
           "zerolinecolor": "white",
           "zerolinewidth": 2
          }
         }
        },
        "title": {
         "text": "Total Earthquake Occurences and Economic Damage Across Countries (2000–2024)"
        }
       }
      }
     },
     "metadata": {},
     "output_type": "display_data"
    }
   ],
   "source": [
    "import plotly.express as px\n",
    "\n",
    "# Ensure your DataFrame includes earthquake counts, economic damages, average magnitude, focal depth, and tsunamis\n",
    "damage_data = adjusted_bubble_data.groupby(\"Country Name\").agg(\n",
    "    Total_Earthquake_Count=(\"Earthquake_Count\", \"sum\"),\n",
    "    Total_Damages_Mil=(\"Inflation_Adjusted_Damage_Mil\", \"sum\"),\n",
    "    Average_Magnitude=(\"Average_Magnitude\", \"mean\"),\n",
    "    Average_Focal_Depth=(\"Focal_Depth\", \"mean\"),  # Aggregate Focal Depth\n",
    "    Total_Tsunamis=(\"tsunami\", \"sum\")  # Count of tsunamis\n",
    ").reset_index()\n",
    "\n",
    "# Create the treemap\n",
    "fig = px.treemap(\n",
    "    damage_data,\n",
    "    path=[\"Country Name\"],\n",
    "    values=\"Total_Earthquake_Count\",  # Box size determined by earthquake counts\n",
    "    color=\"Total_Damages_Mil\",  # Color scale reflects economic damages\n",
    "    title=\"Total Earthquake Occurences and Economic Damage Across Countries (2000–2024)\",\n",
    "    hover_data={\n",
    "        \"Total_Earthquake_Count\": True,\n",
    "        \"Average_Magnitude\": True,\n",
    "        \"Total_Damages_Mil\": True,\n",
    "        \"Average_Focal_Depth\": True,  # Include aggregated focal depth in hover data\n",
    "        \"Total_Tsunamis\": True  # Include tsunami count in hover data\n",
    "    },\n",
    "    color_continuous_scale=\"Viridis\"  # Color scale for economic damages\n",
    ")\n",
    "\n",
    "# Update hover template for custom display\n",
    "fig.update_traces(\n",
    "    customdata=damage_data[[\"Average_Magnitude\", \"Total_Damages_Mil\", \"Average_Focal_Depth\", \"Total_Tsunamis\"]].values,\n",
    "    hovertemplate=\"<b>%{label}</b><br>Earthquake Count: %{value}<br>Total Damage in Dollars: $%{customdata[1]:,.2f}M<br>\"\n",
    "                  \"Average Magnitude: %{customdata[0]:.2f}<br>Average Focal Depth: %{customdata[2]:.2f} km<br>\"\n",
    "                  \"Tsunamis: %{customdata[3]:.0f}<extra></extra>\"\n",
    ")\n",
    "\n",
    "# Update layout for better colorbar title\n",
    "fig.update_layout(\n",
    "    coloraxis_colorbar=dict(\n",
    "        title=\"Economic Damage ($Mil)\",\n",
    "        tickformat=\".2f\"\n",
    "    )\n",
    ")\n",
    "\n",
    "# Optionally, add a note about bubble size\n",
    "fig.add_annotation(\n",
    "    xref=\"paper\", yref=\"paper\",\n",
    "    x=1.0, y=-.05,\n",
    "    text=\"*total damage ($M) is adjusted to 2024 dollar value\",\n",
    "    showarrow=False,\n",
    "    font=dict(size=8),\n",
    "    align=\"left\"\n",
    ")\n",
    "\n",
    "\n",
    "# Show the treemap\n",
    "fig.show()\n",
    "# damage_data\n"
   ]
  },
  {
   "cell_type": "markdown",
   "metadata": {},
   "source": [
    "This treemap highlights global earthquake occurrences and economic impacts over the last two decades, with damages adjusted to 2024 values. Box size represents earthquake count, while color intensity reflects total damages influenced by factors like frequency, magnitude, and economic vulnerability. Japan leads with $449B in damages, driven by high-magnitude events and costly impacts on infrastructure, economy, and personal assets. China and Indonesia also face significant damages due to frequent seismic activity. Smaller nations, like Haiti and Samoa, reveal that even fewer earthquakes can have devastating localized effects. The data underscores the importance of tailored disaster preparedness in high-risk regions."
   ]
  },
  {
   "cell_type": "code",
   "execution_count": 234,
   "metadata": {},
   "outputs": [
    {
     "data": {
      "application/vnd.plotly.v1+json": {
       "config": {
        "plotlyServerURL": "https://plot.ly"
       },
       "data": [
        {
         "alignmentgroup": "True",
         "customdata": [
          [
           "CHINA",
           5.38,
           0,
           4,
           27.25,
           30.22697043806582
          ],
          [
           "CHINA",
           5.76,
           0,
           5,
           23.8,
           0.5572167409362384
          ],
          [
           "CHINA",
           5.63,
           0,
           14,
           18.928571428571427,
           1.5879234939637623
          ],
          [
           "CHINA",
           5.16,
           0,
           5,
           15.8,
           0.3199460187338512
          ],
          [
           "CHINA",
           5.22,
           0,
           4,
           14.5,
           2.4006801669500697
          ],
          [
           "CHINA",
           5.97,
           1,
           15,
           15.333333333333334,
           100
          ],
          [
           "CHINA",
           5.14,
           0,
           5,
           25,
           1.0590525751047715
          ],
          [
           "CHINA",
           5.29,
           0,
           10,
           29.9,
           0.004340577744785317
          ],
          [
           "CHINA",
           5.55,
           0,
           6,
           16,
           6.255655550091732
          ],
          [
           "CHINA",
           5.49,
           0,
           10,
           10.2,
           90.58979152259104
          ],
          [
           "CHINA",
           5.87,
           0,
           9,
           11.444444444444445,
           50.16829736791784
          ],
          [
           "CHINA",
           5.18,
           0,
           6,
           12,
           0.4383016006814332
          ],
          [
           "CHINA",
           5.5,
           0,
           5,
           23.8,
           0.5880782638736218
          ],
          [
           "CHINA",
           5.78,
           0,
           6,
           13.833333333333334,
           4.838238303440444
          ],
          [
           "CHINA",
           5.32,
           0,
           4,
           11.5,
           0.6977278225889126
          ],
          [
           "CHINA",
           5.09,
           0,
           7,
           11,
           16.468400453474114
          ],
          [
           "CHINA",
           5.5,
           0,
           3,
           8.666666666666666,
           0.38653500188925044
          ],
          [
           "CHINA",
           6.05,
           0,
           4,
           9.75,
           2.8226781464860977
          ],
          [
           "CHINA",
           6.08,
           0,
           5,
           16.8,
           12.621433501875273
          ],
          [
           "CHINA",
           5.53,
           0,
           3,
           10,
           3.906186382059012
          ]
         ],
         "hovertemplate": "<b>Country:</b> %{customdata[0]}<br><b>Year:</b> %{x}<br><b>Earthquake Count:</b> %{customdata[3]:.0f}<br><b>Total Damage:</b> $%{y:,.2f}M<br><b>Percentage of Yearly Total:</b> %{customdata[5]:.2f}%<br><b>Average Magnitude:</b> %{customdata[1]:.2f}<br><b>Average Focal Depth:</b> %{customdata[4]:.2f}<br><b>Tsunami Count:</b> %{customdata[2]:.0f}<extra></extra>",
         "legendgroup": "CHINA",
         "marker": {
          "color": "#636EFA",
          "line": {
           "color": "black",
           "width": 0.5
          },
          "pattern": {
           "shape": ""
          }
         },
         "name": "CHINA",
         "offsetgroup": "CHINA",
         "orientation": "v",
         "showlegend": true,
         "textposition": "auto",
         "type": "bar",
         "x": [
          2000,
          2001,
          2003,
          2004,
          2007,
          2008,
          2010,
          2011,
          2012,
          2013,
          2014,
          2015,
          2016,
          2017,
          2018,
          2019,
          2020,
          2021,
          2022,
          2023
         ],
         "xaxis": "x",
         "y": [
          211.35,
          64.31,
          196.97,
          205.69,
          465.9,
          129137.73,
          720.11,
          14.69,
          1583.81,
          10060.25,
          7582,
          39.57,
          262.15,
          839.34,
          102.09,
          1599.36,
          34.27,
          338.53,
          1484.74,
          2125.04
         ],
         "yaxis": "y"
        },
        {
         "alignmentgroup": "True",
         "customdata": [
          [
           "ICELAND",
           6.5,
           0,
           2,
           10,
           8.302226798815807
          ]
         ],
         "hovertemplate": "<b>Country:</b> %{customdata[0]}<br><b>Year:</b> %{x}<br><b>Earthquake Count:</b> %{customdata[3]:.0f}<br><b>Total Damage:</b> $%{y:,.2f}M<br><b>Percentage of Yearly Total:</b> %{customdata[5]:.2f}%<br><b>Average Magnitude:</b> %{customdata[1]:.2f}<br><b>Average Focal Depth:</b> %{customdata[4]:.2f}<br><b>Tsunami Count:</b> %{customdata[2]:.0f}<extra></extra>",
         "legendgroup": "ICELAND",
         "marker": {
          "color": "#EF553B",
          "line": {
           "color": "black",
           "width": 0.5
          },
          "pattern": {
           "shape": ""
          }
         },
         "name": "ICELAND",
         "offsetgroup": "ICELAND",
         "orientation": "v",
         "showlegend": true,
         "textposition": "auto",
         "type": "bar",
         "x": [
          2000
         ],
         "xaxis": "x",
         "y": [
          58.05
         ],
         "yaxis": "y"
        },
        {
         "alignmentgroup": "True",
         "customdata": [
          [
           "INDONESIA",
           6.9,
           1,
           4,
           31.25,
           9.34054146822843
          ],
          [
           "INDONESIA",
           6.6,
           3,
           12,
           38.75,
           25.97723995266995
          ],
          [
           "INDONESIA",
           6.33,
           2,
           7,
           19.714285714285715,
           0.5561263461144013
          ],
          [
           "INDONESIA",
           6.23,
           2,
           10,
           66.4,
           98.28666795453685
          ],
          [
           "INDONESIA",
           6.76,
           4,
           7,
           39.42857142857143,
           39.51171595811357
          ],
          [
           "INDONESIA",
           6.98,
           2,
           5,
           34.4,
           0.08260818922613908
          ],
          [
           "INDONESIA",
           5.68,
           0,
           5,
           28.4,
           1.3782633125864454
          ],
          [
           "INDONESIA",
           6.7,
           0,
           3,
           28.666666666666668,
           0.13303012949668974
          ],
          [
           "INDONESIA",
           6.4,
           1,
           6,
           23.833333333333332,
           0.2933100629466949
          ],
          [
           "INDONESIA",
           5.98,
           4,
           13,
           17.384615384615383,
           17.251694599016663
          ],
          [
           "INDONESIA",
           5.98,
           2,
           6,
           24.333333333333332,
           0.5541464260640594
          ],
          [
           "INDONESIA",
           6.08,
           0,
           4,
           20,
           2.3236005182069497
          ]
         ],
         "hovertemplate": "<b>Country:</b> %{customdata[0]}<br><b>Year:</b> %{x}<br><b>Earthquake Count:</b> %{customdata[3]:.0f}<br><b>Total Damage:</b> $%{y:,.2f}M<br><b>Percentage of Yearly Total:</b> %{customdata[5]:.2f}%<br><b>Average Magnitude:</b> %{customdata[1]:.2f}<br><b>Average Focal Depth:</b> %{customdata[4]:.2f}<br><b>Tsunami Count:</b> %{customdata[2]:.0f}<extra></extra>",
         "legendgroup": "INDONESIA",
         "marker": {
          "color": "#00CC96",
          "line": {
           "color": "black",
           "width": 0.5
          },
          "pattern": {
           "shape": ""
          }
         },
         "name": "INDONESIA",
         "offsetgroup": "INDONESIA",
         "orientation": "v",
         "showlegend": true,
         "textposition": "auto",
         "type": "bar",
         "x": [
          2000,
          2004,
          2005,
          2006,
          2009,
          2010,
          2013,
          2015,
          2016,
          2018,
          2021,
          2022
         ],
         "xaxis": "x",
         "y": [
          65.31,
          16700.5,
          59.92,
          4935.18,
          3234.03,
          56.17,
          153.06,
          12.01,
          130.75,
          2524.23,
          66.46,
          273.34
         ],
         "yaxis": "y"
        },
        {
         "alignmentgroup": "True",
         "customdata": [
          [
           "JAPAN",
           6.6,
           3,
           5,
           33.4,
           38.918207691537596
          ],
          [
           "JAPAN",
           6.8,
           0,
           1,
           50,
           7.739342829094495
          ],
          [
           "JAPAN",
           6.45,
           2,
           6,
           40.833333333333336,
           10.135074671987423
          ],
          [
           "JAPAN",
           6.52,
           3,
           8,
           18.5,
           72.24500563627011
          ],
          [
           "JAPAN",
           6.35,
           2,
           4,
           73.5,
           96.80166950069562
          ],
          [
           "JAPAN",
           7.39,
           5,
           8,
           26.75,
           90.98407338903478
          ],
          [
           "JAPAN",
           6.33,
           1,
           3,
           36,
           0.017799092577116718
          ],
          [
           "JAPAN",
           6.52,
           2,
           4,
           8.75,
           58.95377478273743
          ],
          [
           "JAPAN",
           5.8,
           1,
           4,
           16.25,
           77.2847186056652
          ],
          [
           "JAPAN",
           7.05,
           1,
           2,
           46,
           77.88383770163475
          ],
          [
           "JAPAN",
           7.3,
           1,
           1,
           63,
           79.56210832701444
          ],
          [
           "JAPAN",
           6.73,
           3,
           3,
           15.333333333333334,
           99.98562706610925
          ]
         ],
         "hovertemplate": "<b>Country:</b> %{customdata[0]}<br><b>Year:</b> %{x}<br><b>Earthquake Count:</b> %{customdata[3]:.0f}<br><b>Total Damage:</b> $%{y:,.2f}M<br><b>Percentage of Yearly Total:</b> %{customdata[5]:.2f}%<br><b>Average Magnitude:</b> %{customdata[1]:.2f}<br><b>Average Focal Depth:</b> %{customdata[4]:.2f}<br><b>Tsunami Count:</b> %{customdata[2]:.0f}<extra></extra>",
         "legendgroup": "JAPAN",
         "marker": {
          "color": "#AB63FA",
          "line": {
           "color": "black",
           "width": 0.5
          },
          "pattern": {
           "shape": ""
          }
         },
         "name": "JAPAN",
         "offsetgroup": "JAPAN",
         "orientation": "v",
         "showlegend": true,
         "textposition": "auto",
         "type": "bar",
         "x": [
          2000,
          2001,
          2003,
          2004,
          2007,
          2011,
          2014,
          2016,
          2018,
          2021,
          2022,
          2024
         ],
         "xaxis": "x",
         "y": [
          272.12,
          893.22,
          1257.18,
          46445.57,
          18786.3,
          307921.23,
          2.69,
          26280.06,
          11308.13,
          9340.78,
          9359.4,
          17600
         ],
         "yaxis": "y"
        },
        {
         "alignmentgroup": "True",
         "customdata": [
          [
           "RUSSIA",
           6.8,
           0,
           1,
           10,
           0.23884097767480444
          ],
          [
           "RUSSIA",
           6.13,
           0,
           3,
           12,
           0.14640143499203903
          ],
          [
           "RUSSIA",
           7.95,
           1,
           2,
           16,
           1.7133320454631455
          ]
         ],
         "hovertemplate": "<b>Country:</b> %{customdata[0]}<br><b>Year:</b> %{x}<br><b>Earthquake Count:</b> %{customdata[3]:.0f}<br><b>Total Damage:</b> $%{y:,.2f}M<br><b>Percentage of Yearly Total:</b> %{customdata[5]:.2f}%<br><b>Average Magnitude:</b> %{customdata[1]:.2f}<br><b>Average Focal Depth:</b> %{customdata[4]:.2f}<br><b>Tsunami Count:</b> %{customdata[2]:.0f}<extra></extra>",
         "legendgroup": "RUSSIA",
         "marker": {
          "color": "#FFA15A",
          "line": {
           "color": "black",
           "width": 0.5
          },
          "pattern": {
           "shape": ""
          }
         },
         "name": "RUSSIA",
         "offsetgroup": "RUSSIA",
         "orientation": "v",
         "showlegend": true,
         "textposition": "auto",
         "type": "bar",
         "x": [
          2000,
          2003,
          2006
         ],
         "xaxis": "x",
         "y": [
          1.67,
          18.16,
          86.03
         ],
         "yaxis": "y"
        },
        {
         "alignmentgroup": "True",
         "customdata": [
          [
           "UNITED STATES",
           5,
           0,
           1,
           10,
           12.973212625677553
          ],
          [
           "UNITED STATES",
           5.5,
           0,
           2,
           28.5,
           30.95737131637798
          ],
          [
           "UNITED STATES",
           6.6,
           0,
           3,
           6.666666666666667,
           3.3863886029934127
          ],
          [
           "UNITED STATES",
           5.64,
           1,
           5,
           13,
           4.142370558477941
          ],
          [
           "UNITED STATES",
           5.33,
           0,
           3,
           13,
           0.04617940433862858
          ],
          [
           "UNITED STATES",
           5.59,
           2,
           7,
           15,
           0.08266008332904645
          ],
          [
           "UNITED STATES",
           4.8,
           1,
           2,
           5,
           1.2196900933609958
          ],
          [
           "UNITED STATES",
           5.5,
           2,
           6,
           24.333333333333332,
           6.322647922700328
          ],
          [
           "UNITED STATES",
           6.05,
           0,
           2,
           65,
           0.05866201258933897
          ],
          [
           "UNITED STATES",
           6.37,
           1,
           3,
           25.333333333333332,
           1.2880866169392924
          ],
          [
           "UNITED STATES",
           6.75,
           0,
           2,
           9.5,
           67.66978764766999
          ],
          [
           "UNITED STATES",
           6.55,
           2,
           4,
           20.25,
           1.366914995008995
          ],
          [
           "UNITED STATES",
           6.4,
           0,
           1,
           17,
           2.2602697804421084
          ]
         ],
         "hovertemplate": "<b>Country:</b> %{customdata[0]}<br><b>Year:</b> %{x}<br><b>Earthquake Count:</b> %{customdata[3]:.0f}<br><b>Total Damage:</b> $%{y:,.2f}M<br><b>Percentage of Yearly Total:</b> %{customdata[5]:.2f}%<br><b>Average Magnitude:</b> %{customdata[1]:.2f}<br><b>Average Focal Depth:</b> %{customdata[4]:.2f}<br><b>Tsunami Count:</b> %{customdata[2]:.0f}<extra></extra>",
         "legendgroup": "UNITED STATES",
         "marker": {
          "color": "#19D3F3",
          "line": {
           "color": "black",
           "width": 0.5
          },
          "pattern": {
           "shape": ""
          }
         },
         "name": "UNITED STATES",
         "offsetgroup": "UNITED STATES",
         "orientation": "v",
         "showlegend": true,
         "textposition": "auto",
         "type": "bar",
         "x": [
          2000,
          2001,
          2002,
          2003,
          2010,
          2011,
          2013,
          2014,
          2016,
          2018,
          2019,
          2020,
          2022
         ],
         "xaxis": "x",
         "y": [
          90.71,
          3572.88,
          97.72,
          513.83,
          31.4,
          279.75,
          135.45,
          955.55,
          26.15,
          188.47,
          6571.88,
          121.19,
          265.89
         ],
         "yaxis": "y"
        },
        {
         "alignmentgroup": "True",
         "customdata": [
          [
           "EL SALVADOR",
           6.67,
           1,
           3,
           26.666666666666668,
           17.049740540268893
          ]
         ],
         "hovertemplate": "<b>Country:</b> %{customdata[0]}<br><b>Year:</b> %{x}<br><b>Earthquake Count:</b> %{customdata[3]:.0f}<br><b>Total Damage:</b> $%{y:,.2f}M<br><b>Percentage of Yearly Total:</b> %{customdata[5]:.2f}%<br><b>Average Magnitude:</b> %{customdata[1]:.2f}<br><b>Average Focal Depth:</b> %{customdata[4]:.2f}<br><b>Tsunami Count:</b> %{customdata[2]:.0f}<extra></extra>",
         "legendgroup": "EL SALVADOR",
         "marker": {
          "color": "#FF6692",
          "line": {
           "color": "black",
           "width": 0.5
          },
          "pattern": {
           "shape": ""
          }
         },
         "name": "EL SALVADOR",
         "offsetgroup": "EL SALVADOR",
         "orientation": "v",
         "showlegend": true,
         "textposition": "auto",
         "type": "bar",
         "x": [
          2001
         ],
         "xaxis": "x",
         "y": [
          1967.76
         ],
         "yaxis": "y"
        },
        {
         "alignmentgroup": "True",
         "customdata": [
          [
           "INDIA",
           7.6,
           0,
           1,
           17,
           40.6005741125992
          ],
          [
           "INDIA",
           5.1,
           0,
           5,
           38.8,
           0.8679441714831373
          ],
          [
           "INDIA",
           5.45,
           0,
           2,
           28.5,
           0.23781480520977408
          ],
          [
           "INDIA",
           6.8,
           0,
           2,
           95.5,
           0.21997693898702028
          ]
         ],
         "hovertemplate": "<b>Country:</b> %{customdata[0]}<br><b>Year:</b> %{x}<br><b>Earthquake Count:</b> %{customdata[3]:.0f}<br><b>Total Damage:</b> $%{y:,.2f}M<br><b>Percentage of Yearly Total:</b> %{customdata[5]:.2f}%<br><b>Average Magnitude:</b> %{customdata[1]:.2f}<br><b>Average Focal Depth:</b> %{customdata[4]:.2f}<br><b>Tsunami Count:</b> %{customdata[2]:.0f}<extra></extra>",
         "legendgroup": "INDIA",
         "marker": {
          "color": "#B6E880",
          "line": {
           "color": "black",
           "width": 0.5
          },
          "pattern": {
           "shape": ""
          }
         },
         "name": "INDIA",
         "offsetgroup": "INDIA",
         "orientation": "v",
         "showlegend": true,
         "textposition": "auto",
         "type": "bar",
         "x": [
          2001,
          2011,
          2013,
          2016
         ],
         "xaxis": "x",
         "y": [
          4685.83,
          2937.42,
          26.41,
          98.06
         ],
         "yaxis": "y"
        },
        {
         "alignmentgroup": "True",
         "customdata": [
          [
           "PERU",
           7.1,
           1,
           4,
           40.25,
           3.0957544607231946
          ]
         ],
         "hovertemplate": "<b>Country:</b> %{customdata[0]}<br><b>Year:</b> %{x}<br><b>Earthquake Count:</b> %{customdata[3]:.0f}<br><b>Total Damage:</b> $%{y:,.2f}M<br><b>Percentage of Yearly Total:</b> %{customdata[5]:.2f}%<br><b>Average Magnitude:</b> %{customdata[1]:.2f}<br><b>Average Focal Depth:</b> %{customdata[4]:.2f}<br><b>Tsunami Count:</b> %{customdata[2]:.0f}<extra></extra>",
         "legendgroup": "PERU",
         "marker": {
          "color": "#FF97FF",
          "line": {
           "color": "black",
           "width": 0.5
          },
          "pattern": {
           "shape": ""
          }
         },
         "name": "PERU",
         "offsetgroup": "PERU",
         "orientation": "v",
         "showlegend": true,
         "textposition": "auto",
         "type": "bar",
         "x": [
          2001
         ],
         "xaxis": "x",
         "y": [
          357.29
         ],
         "yaxis": "y"
        },
        {
         "alignmentgroup": "True",
         "customdata": [
          [
           "IRAN",
           5.55,
           0,
           6,
           21.5,
           18.141020976064485
          ],
          [
           "IRAN",
           5.56,
           0,
           5,
           25.4,
           7.202208920329725
          ],
          [
           "IRAN",
           5.32,
           0,
           6,
           34,
           0.42573399449392324
          ],
          [
           "IRAN",
           5.62,
           0,
           5,
           10.6,
           3.2527386587829623
          ],
          [
           "IRAN",
           6.48,
           0,
           4,
           28.75,
           3.622511093822038
          ],
          [
           "IRAN",
           5.57,
           0,
           3,
           9.333333333333334,
           0.40024799627873253
          ],
          [
           "IRAN",
           5.51,
           0,
           8,
           17.75,
           5.550537380281932
          ],
          [
           "IRAN",
           5.73,
           0,
           3,
           8.333333333333334,
           1.6521001032249885
          ],
          [
           "IRAN",
           5.8,
           0,
           2,
           15.5,
           1.2838713187414783
          ],
          [
           "IRAN",
           5.8,
           0,
           2,
           17.5,
           0.5769466549979587
          ]
         ],
         "hovertemplate": "<b>Country:</b> %{customdata[0]}<br><b>Year:</b> %{x}<br><b>Earthquake Count:</b> %{customdata[3]:.0f}<br><b>Total Damage:</b> $%{y:,.2f}M<br><b>Percentage of Yearly Total:</b> %{customdata[5]:.2f}%<br><b>Average Magnitude:</b> %{customdata[1]:.2f}<br><b>Average Focal Depth:</b> %{customdata[4]:.2f}<br><b>Tsunami Count:</b> %{customdata[2]:.0f}<extra></extra>",
         "legendgroup": "IRAN",
         "marker": {
          "color": "#FECB52",
          "line": {
           "color": "black",
           "width": 0.5
          },
          "pattern": {
           "shape": ""
          }
         },
         "name": "IRAN",
         "offsetgroup": "IRAN",
         "orientation": "v",
         "showlegend": true,
         "textposition": "auto",
         "type": "bar",
         "x": [
          2002,
          2003,
          2004,
          2012,
          2013,
          2014,
          2017,
          2021,
          2022,
          2023
         ],
         "xaxis": "x",
         "y": [
          523.49,
          893.38,
          273.7,
          823.53,
          402.29,
          60.49,
          962.91,
          198.14,
          151.03,
          313.87
         ],
         "yaxis": "y"
        },
        {
         "alignmentgroup": "True",
         "customdata": [
          [
           "ITALY",
           5.33,
           0,
           3,
           8.333333333333334,
           78.36897496941785
          ],
          [
           "ITALY",
           5,
           0,
           3,
           7,
           7.746296632202672
          ],
          [
           "ITALY",
           5.9,
           0,
           2,
           12,
           44.647336160459574
          ],
          [
           "ITALY",
           5.7,
           0,
           3,
           7,
           85.79819535864728
          ],
          [
           "ITALY",
           6.3,
           0,
           3,
           7.333333333333333,
           15.25171948117207
          ],
          [
           "ITALY",
           4.95,
           0,
           2,
           5,
           0.13286795922308267
          ],
          [
           "ITALY",
           4.85,
           0,
           2,
           5.5,
           0.9875080133790969
          ]
         ],
         "hovertemplate": "<b>Country:</b> %{customdata[0]}<br><b>Year:</b> %{x}<br><b>Earthquake Count:</b> %{customdata[3]:.0f}<br><b>Total Damage:</b> $%{y:,.2f}M<br><b>Percentage of Yearly Total:</b> %{customdata[5]:.2f}%<br><b>Average Magnitude:</b> %{customdata[1]:.2f}<br><b>Average Focal Depth:</b> %{customdata[4]:.2f}<br><b>Tsunami Count:</b> %{customdata[2]:.0f}<extra></extra>",
         "legendgroup": "ITALY",
         "marker": {
          "color": "#1F77B4",
          "line": {
           "color": "black",
           "width": 0.5
          },
          "pattern": {
           "shape": ""
          }
         },
         "name": "ITALY",
         "offsetgroup": "ITALY",
         "orientation": "v",
         "showlegend": true,
         "textposition": "auto",
         "type": "bar",
         "x": [
          2002,
          2003,
          2009,
          2012,
          2016,
          2017,
          2018
         ],
         "xaxis": "x",
         "y": [
          2261.47,
          960.87,
          3654.38,
          21722.43,
          6798.82,
          23.05,
          144.49
         ],
         "yaxis": "y"
        },
        {
         "alignmentgroup": "True",
         "customdata": [
          [
           "PHILIPPINES",
           7.5,
           1,
           1,
           31,
           0.1036154515242561
          ],
          [
           "PHILIPPINES",
           6.42,
           1,
           4,
           23.5,
           0.05051731867185663
          ],
          [
           "PHILIPPINES",
           6.4,
           0,
           2,
           14.5,
           0.6317715537113877
          ],
          [
           "PHILIPPINES",
           6.03,
           1,
           7,
           14.285714285714286,
           0.34689777813644757
          ],
          [
           "PHILIPPINES",
           6.19,
           0,
           9,
           16.125,
           0.6531304026384698
          ],
          [
           "PHILIPPINES",
           6.6,
           0,
           1,
           10,
           0.007782583930656049
          ],
          [
           "PHILIPPINES",
           6.7,
           1,
           2,
           18.5,
           0.4513908960151791
          ],
          [
           "PHILIPPINES",
           6.77,
           1,
           3,
           49.333333333333336,
           0.10398531963307905
          ]
         ],
         "hovertemplate": "<b>Country:</b> %{customdata[0]}<br><b>Year:</b> %{x}<br><b>Earthquake Count:</b> %{customdata[3]:.0f}<br><b>Total Damage:</b> $%{y:,.2f}M<br><b>Percentage of Yearly Total:</b> %{customdata[5]:.2f}%<br><b>Average Magnitude:</b> %{customdata[1]:.2f}<br><b>Average Focal Depth:</b> %{customdata[4]:.2f}<br><b>Tsunami Count:</b> %{customdata[2]:.0f}<extra></extra>",
         "legendgroup": "PHILIPPINES",
         "marker": {
          "color": "#FF7F0E",
          "line": {
           "color": "black",
           "width": 0.5
          },
          "pattern": {
           "shape": ""
          }
         },
         "name": "PHILIPPINES",
         "offsetgroup": "PHILIPPINES",
         "orientation": "v",
         "showlegend": true,
         "textposition": "auto",
         "type": "bar",
         "x": [
          2002,
          2012,
          2013,
          2017,
          2019,
          2020,
          2022,
          2023
         ],
         "xaxis": "x",
         "y": [
          2.99,
          12.79,
          70.16,
          60.18,
          63.43,
          0.69,
          53.1,
          56.57
         ],
         "yaxis": "y"
        },
        {
         "alignmentgroup": "True",
         "customdata": [
          [
           "ALGERIA",
           6.25,
           2,
           2,
           10,
           69.03972428804644
          ]
         ],
         "hovertemplate": "<b>Country:</b> %{customdata[0]}<br><b>Year:</b> %{x}<br><b>Earthquake Count:</b> %{customdata[3]:.0f}<br><b>Total Damage:</b> $%{y:,.2f}M<br><b>Percentage of Yearly Total:</b> %{customdata[5]:.2f}%<br><b>Average Magnitude:</b> %{customdata[1]:.2f}<br><b>Average Focal Depth:</b> %{customdata[4]:.2f}<br><b>Tsunami Count:</b> %{customdata[2]:.0f}<extra></extra>",
         "legendgroup": "ALGERIA",
         "marker": {
          "color": "#2CA02C",
          "line": {
           "color": "black",
           "width": 0.5
          },
          "pattern": {
           "shape": ""
          }
         },
         "name": "ALGERIA",
         "offsetgroup": "ALGERIA",
         "orientation": "v",
         "showlegend": true,
         "textposition": "auto",
         "type": "bar",
         "x": [
          2003
         ],
         "xaxis": "x",
         "y": [
          8563.86
         ],
         "yaxis": "y"
        },
        {
         "alignmentgroup": "True",
         "customdata": [
          [
           "MOROCCO",
           6.4,
           0,
           1,
           0,
           1.0320743978321631
          ],
          [
           "MOROCCO",
           6.8,
           0,
           1,
           18,
           13.241281418244322
          ]
         ],
         "hovertemplate": "<b>Country:</b> %{customdata[0]}<br><b>Year:</b> %{x}<br><b>Earthquake Count:</b> %{customdata[3]:.0f}<br><b>Total Damage:</b> $%{y:,.2f}M<br><b>Percentage of Yearly Total:</b> %{customdata[5]:.2f}%<br><b>Average Magnitude:</b> %{customdata[1]:.2f}<br><b>Average Focal Depth:</b> %{customdata[4]:.2f}<br><b>Tsunami Count:</b> %{customdata[2]:.0f}<extra></extra>",
         "legendgroup": "MOROCCO",
         "marker": {
          "color": "#D62728",
          "line": {
           "color": "black",
           "width": 0.5
          },
          "pattern": {
           "shape": ""
          }
         },
         "name": "MOROCCO",
         "offsetgroup": "MOROCCO",
         "orientation": "v",
         "showlegend": true,
         "textposition": "auto",
         "type": "bar",
         "x": [
          2004,
          2023
         ],
         "xaxis": "x",
         "y": [
          663.51,
          7203.51
         ],
         "yaxis": "y"
        },
        {
         "alignmentgroup": "True",
         "customdata": [
          [
           "PAKISTAN",
           6.25,
           0,
           2,
           33.5,
           99.44387365388559
          ],
          [
           "PAKISTAN",
           7.25,
           1,
           2,
           13.5,
           1.2196900933609958
          ],
          [
           "PAKISTAN",
           5.6,
           0,
           1,
           10,
           0.21499862536798436
          ]
         ],
         "hovertemplate": "<b>Country:</b> %{customdata[0]}<br><b>Year:</b> %{x}<br><b>Earthquake Count:</b> %{customdata[3]:.0f}<br><b>Total Damage:</b> $%{y:,.2f}M<br><b>Percentage of Yearly Total:</b> %{customdata[5]:.2f}%<br><b>Average Magnitude:</b> %{customdata[1]:.2f}<br><b>Average Focal Depth:</b> %{customdata[4]:.2f}<br><b>Tsunami Count:</b> %{customdata[2]:.0f}<extra></extra>",
         "legendgroup": "PAKISTAN",
         "marker": {
          "color": "#9467BD",
          "line": {
           "color": "black",
           "width": 0.5
          },
          "pattern": {
           "shape": ""
          }
         },
         "name": "PAKISTAN",
         "offsetgroup": "PAKISTAN",
         "orientation": "v",
         "showlegend": true,
         "textposition": "auto",
         "type": "bar",
         "x": [
          2005,
          2013,
          2019
         ],
         "xaxis": "x",
         "y": [
          10714.61,
          135.45,
          20.88
         ],
         "yaxis": "y"
        },
        {
         "alignmentgroup": "True",
         "customdata": [
          [
           "MARTINIQUE",
           7.4,
           1,
           1,
           156,
           0.7976503323543053
          ]
         ],
         "hovertemplate": "<b>Country:</b> %{customdata[0]}<br><b>Year:</b> %{x}<br><b>Earthquake Count:</b> %{customdata[3]:.0f}<br><b>Total Damage:</b> $%{y:,.2f}M<br><b>Percentage of Yearly Total:</b> %{customdata[5]:.2f}%<br><b>Average Magnitude:</b> %{customdata[1]:.2f}<br><b>Average Focal Depth:</b> %{customdata[4]:.2f}<br><b>Tsunami Count:</b> %{customdata[2]:.0f}<extra></extra>",
         "legendgroup": "MARTINIQUE",
         "marker": {
          "color": "#8C564B",
          "line": {
           "color": "black",
           "width": 0.5
          },
          "pattern": {
           "shape": ""
          }
         },
         "name": "MARTINIQUE",
         "offsetgroup": "MARTINIQUE",
         "orientation": "v",
         "showlegend": true,
         "textposition": "auto",
         "type": "bar",
         "x": [
          2007
         ],
         "xaxis": "x",
         "y": [
          154.8
         ],
         "yaxis": "y"
        },
        {
         "alignmentgroup": "True",
         "customdata": [
          [
           "COSTA RICA",
           6.1,
           0,
           1,
           14,
           8.965191160893292
          ],
          [
           "COSTA RICA",
           7.6,
           1,
           1,
           35,
           0.24437111072930176
          ]
         ],
         "hovertemplate": "<b>Country:</b> %{customdata[0]}<br><b>Year:</b> %{x}<br><b>Earthquake Count:</b> %{customdata[3]:.0f}<br><b>Total Damage:</b> $%{y:,.2f}M<br><b>Percentage of Yearly Total:</b> %{customdata[5]:.2f}%<br><b>Average Magnitude:</b> %{customdata[1]:.2f}<br><b>Average Focal Depth:</b> %{customdata[4]:.2f}<br><b>Tsunami Count:</b> %{customdata[2]:.0f}<extra></extra>",
         "legendgroup": "COSTA RICA",
         "marker": {
          "color": "#E377C2",
          "line": {
           "color": "black",
           "width": 0.5
          },
          "pattern": {
           "shape": ""
          }
         },
         "name": "COSTA RICA",
         "offsetgroup": "COSTA RICA",
         "orientation": "v",
         "showlegend": true,
         "textposition": "auto",
         "type": "bar",
         "x": [
          2009,
          2012
         ],
         "xaxis": "x",
         "y": [
          733.8,
          61.87
         ],
         "yaxis": "y"
        },
        {
         "alignmentgroup": "True",
         "customdata": [
          [
           "HONDURAS",
           7.3,
           1,
           1,
           10,
           1.785952090350752
          ]
         ],
         "hovertemplate": "<b>Country:</b> %{customdata[0]}<br><b>Year:</b> %{x}<br><b>Earthquake Count:</b> %{customdata[3]:.0f}<br><b>Total Damage:</b> $%{y:,.2f}M<br><b>Percentage of Yearly Total:</b> %{customdata[5]:.2f}%<br><b>Average Magnitude:</b> %{customdata[1]:.2f}<br><b>Average Focal Depth:</b> %{customdata[4]:.2f}<br><b>Tsunami Count:</b> %{customdata[2]:.0f}<extra></extra>",
         "legendgroup": "HONDURAS",
         "marker": {
          "color": "#7F7F7F",
          "line": {
           "color": "black",
           "width": 0.5
          },
          "pattern": {
           "shape": ""
          }
         },
         "name": "HONDURAS",
         "offsetgroup": "HONDURAS",
         "orientation": "v",
         "showlegend": true,
         "textposition": "auto",
         "type": "bar",
         "x": [
          2009
         ],
         "xaxis": "x",
         "y": [
          146.18
         ],
         "yaxis": "y"
        },
        {
         "alignmentgroup": "True",
         "customdata": [
          [
           "SAMOA",
           8.1,
           1,
           1,
           18,
           5.08980463018281
          ]
         ],
         "hovertemplate": "<b>Country:</b> %{customdata[0]}<br><b>Year:</b> %{x}<br><b>Earthquake Count:</b> %{customdata[3]:.0f}<br><b>Total Damage:</b> $%{y:,.2f}M<br><b>Percentage of Yearly Total:</b> %{customdata[5]:.2f}%<br><b>Average Magnitude:</b> %{customdata[1]:.2f}<br><b>Average Focal Depth:</b> %{customdata[4]:.2f}<br><b>Tsunami Count:</b> %{customdata[2]:.0f}<extra></extra>",
         "legendgroup": "SAMOA",
         "marker": {
          "color": "#BCBD22",
          "line": {
           "color": "black",
           "width": 0.5
          },
          "pattern": {
           "shape": ""
          }
         },
         "name": "SAMOA",
         "offsetgroup": "SAMOA",
         "orientation": "v",
         "showlegend": true,
         "textposition": "auto",
         "type": "bar",
         "x": [
          2009
         ],
         "xaxis": "x",
         "y": [
          416.6
         ],
         "yaxis": "y"
        },
        {
         "alignmentgroup": "True",
         "customdata": [
          [
           "CHILE",
           7.85,
           2,
           2,
           16.5,
           63.54275742223624
          ],
          [
           "CHILE",
           7.4,
           4,
           4,
           21,
           0.8894914554430486
          ],
          [
           "CHILE",
           7.6,
           2,
           2,
           17,
           8.869598350913764
          ]
         ],
         "hovertemplate": "<b>Country:</b> %{customdata[0]}<br><b>Year:</b> %{x}<br><b>Earthquake Count:</b> %{customdata[3]:.0f}<br><b>Total Damage:</b> $%{y:,.2f}M<br><b>Percentage of Yearly Total:</b> %{customdata[5]:.2f}%<br><b>Average Magnitude:</b> %{customdata[1]:.2f}<br><b>Average Focal Depth:</b> %{customdata[4]:.2f}<br><b>Tsunami Count:</b> %{customdata[2]:.0f}<extra></extra>",
         "legendgroup": "CHILE",
         "marker": {
          "color": "#17BECF",
          "line": {
           "color": "black",
           "width": 0.5
          },
          "pattern": {
           "shape": ""
          }
         },
         "name": "CHILE",
         "offsetgroup": "CHILE",
         "orientation": "v",
         "showlegend": true,
         "textposition": "auto",
         "type": "bar",
         "x": [
          2010,
          2014,
          2015
         ],
         "xaxis": "x",
         "y": [
          43206.33,
          134.43,
          800.75
         ],
         "yaxis": "y"
        },
        {
         "alignmentgroup": "True",
         "customdata": [
          [
           "HAITI",
           7,
           1,
           1,
           13,
           16.944738253959667
          ],
          [
           "HAITI",
           7.2,
           1,
           1,
           10,
           15.104784203074736
          ]
         ],
         "hovertemplate": "<b>Country:</b> %{customdata[0]}<br><b>Year:</b> %{x}<br><b>Earthquake Count:</b> %{customdata[3]:.0f}<br><b>Total Damage:</b> $%{y:,.2f}M<br><b>Percentage of Yearly Total:</b> %{customdata[5]:.2f}%<br><b>Average Magnitude:</b> %{customdata[1]:.2f}<br><b>Average Focal Depth:</b> %{customdata[4]:.2f}<br><b>Tsunami Count:</b> %{customdata[2]:.0f}<extra></extra>",
         "legendgroup": "HAITI",
         "marker": {
          "color": "rgb(141,211,199)",
          "line": {
           "color": "black",
           "width": 0.5
          },
          "pattern": {
           "shape": ""
          }
         },
         "name": "HAITI",
         "offsetgroup": "HAITI",
         "orientation": "v",
         "showlegend": true,
         "textposition": "auto",
         "type": "bar",
         "x": [
          2010,
          2021
         ],
         "xaxis": "x",
         "y": [
          11521.69,
          1811.55
         ],
         "yaxis": "y"
        },
        {
         "alignmentgroup": "True",
         "customdata": [
          [
           "MEXICO",
           6.7,
           0,
           2,
           12,
           2.4358018038793054
          ],
          [
           "MEXICO",
           7.4,
           1,
           1,
           20,
           3.25814981801521
          ],
          [
           "MEXICO",
           7.13,
           1,
           3,
           35,
           88.5719720660247
          ],
          [
           "MEXICO",
           7,
           1,
           1,
           20,
           1.8880667577181105
          ],
          [
           "MEXICO",
           6.63,
           3,
           3,
           24.333333333333332,
           0.22603547881438063
          ]
         ],
         "hovertemplate": "<b>Country:</b> %{customdata[0]}<br><b>Year:</b> %{x}<br><b>Earthquake Count:</b> %{customdata[3]:.0f}<br><b>Total Damage:</b> $%{y:,.2f}M<br><b>Percentage of Yearly Total:</b> %{customdata[5]:.2f}%<br><b>Average Magnitude:</b> %{customdata[1]:.2f}<br><b>Average Focal Depth:</b> %{customdata[4]:.2f}<br><b>Tsunami Count:</b> %{customdata[2]:.0f}<extra></extra>",
         "legendgroup": "MEXICO",
         "marker": {
          "color": "rgb(255,255,179)",
          "line": {
           "color": "black",
           "width": 0.5
          },
          "pattern": {
           "shape": ""
          }
         },
         "name": "MEXICO",
         "offsetgroup": "MEXICO",
         "orientation": "v",
         "showlegend": true,
         "textposition": "auto",
         "type": "bar",
         "x": [
          2010,
          2012,
          2017,
          2021,
          2022
         ],
         "xaxis": "x",
         "y": [
          1656.24,
          824.9,
          15365.51,
          226.44,
          26.59
         ],
         "yaxis": "y"
        },
        {
         "alignmentgroup": "True",
         "customdata": [
          [
           "NEW ZEALAND",
           5.32,
           0,
           5,
           10.6,
           13.767595235462021
          ],
          [
           "NEW ZEALAND",
           6.16,
           2,
           5,
           19,
           7.439531600543575
          ],
          [
           "NEW ZEALAND",
           6.5,
           2,
           2,
           12.5,
           0.6098000230520977
          ],
          [
           "NEW ZEALAND",
           7.4,
           2,
           2,
           17,
           11.438800827325055
          ]
         ],
         "hovertemplate": "<b>Country:</b> %{customdata[0]}<br><b>Year:</b> %{x}<br><b>Earthquake Count:</b> %{customdata[3]:.0f}<br><b>Total Damage:</b> $%{y:,.2f}M<br><b>Percentage of Yearly Total:</b> %{customdata[5]:.2f}%<br><b>Average Magnitude:</b> %{customdata[1]:.2f}<br><b>Average Focal Depth:</b> %{customdata[4]:.2f}<br><b>Tsunami Count:</b> %{customdata[2]:.0f}<extra></extra>",
         "legendgroup": "NEW ZEALAND",
         "marker": {
          "color": "rgb(190,186,218)",
          "line": {
           "color": "black",
           "width": 0.5
          },
          "pattern": {
           "shape": ""
          }
         },
         "name": "NEW ZEALAND",
         "offsetgroup": "NEW ZEALAND",
         "orientation": "v",
         "showlegend": true,
         "textposition": "auto",
         "type": "bar",
         "x": [
          2010,
          2011,
          2013,
          2016
         ],
         "xaxis": "x",
         "y": [
          9361.37,
          25177.92,
          67.72,
          5099.12
         ],
         "yaxis": "y"
        },
        {
         "alignmentgroup": "True",
         "customdata": [
          [
           "TAIWAN",
           6.3,
           0,
           1,
           21,
           2.118090443392875
          ],
          [
           "TAIWAN",
           6.15,
           0,
           2,
           18,
           0.02719427155371139
          ],
          [
           "TAIWAN",
           6.4,
           0,
           1,
           23,
           2.053125574842857
          ],
          [
           "TAIWAN",
           6.8,
           0,
           2,
           17,
           0.04717927444226448
          ],
          [
           "TAIWAN",
           7.4,
           1,
           1,
           34,
           0.014372933890753205
          ]
         ],
         "hovertemplate": "<b>Country:</b> %{customdata[0]}<br><b>Year:</b> %{x}<br><b>Earthquake Count:</b> %{customdata[3]:.0f}<br><b>Total Damage:</b> $%{y:,.2f}M<br><b>Percentage of Yearly Total:</b> %{customdata[5]:.2f}%<br><b>Average Magnitude:</b> %{customdata[1]:.2f}<br><b>Average Focal Depth:</b> %{customdata[4]:.2f}<br><b>Tsunami Count:</b> %{customdata[2]:.0f}<extra></extra>",
         "legendgroup": "TAIWAN",
         "marker": {
          "color": "rgb(251,128,114)",
          "line": {
           "color": "black",
           "width": 0.5
          },
          "pattern": {
           "shape": ""
          }
         },
         "name": "TAIWAN",
         "offsetgroup": "TAIWAN",
         "orientation": "v",
         "showlegend": true,
         "textposition": "auto",
         "type": "bar",
         "x": [
          2010,
          2013,
          2016,
          2022,
          2024
         ],
         "xaxis": "x",
         "y": [
          1440.21,
          3.02,
          915.23,
          5.55,
          2.53
         ],
         "yaxis": "y"
        },
        {
         "alignmentgroup": "True",
         "customdata": [
          [
           "TAJIKISTAN",
           5.1,
           0,
           1,
           47,
           0.003176672400364259
          ],
          [
           "TAJIKISTAN",
           7.2,
           0,
           1,
           22,
           0.07388101280124235
          ]
         ],
         "hovertemplate": "<b>Country:</b> %{customdata[0]}<br><b>Year:</b> %{x}<br><b>Earthquake Count:</b> %{customdata[3]:.0f}<br><b>Total Damage:</b> $%{y:,.2f}M<br><b>Percentage of Yearly Total:</b> %{customdata[5]:.2f}%<br><b>Average Magnitude:</b> %{customdata[1]:.2f}<br><b>Average Focal Depth:</b> %{customdata[4]:.2f}<br><b>Tsunami Count:</b> %{customdata[2]:.0f}<extra></extra>",
         "legendgroup": "TAJIKISTAN",
         "marker": {
          "color": "rgb(128,177,211)",
          "line": {
           "color": "black",
           "width": 0.5
          },
          "pattern": {
           "shape": ""
          }
         },
         "name": "TAJIKISTAN",
         "offsetgroup": "TAJIKISTAN",
         "orientation": "v",
         "showlegend": true,
         "textposition": "auto",
         "type": "bar",
         "x": [
          2010,
          2015
         ],
         "xaxis": "x",
         "y": [
          2.16,
          6.67
         ],
         "yaxis": "y"
        },
        {
         "alignmentgroup": "True",
         "customdata": [
          [
           "MYANMAR",
           6.55,
           0,
           2,
           46.5,
           0.0014892111527377806
          ],
          [
           "MYANMAR",
           6.8,
           0,
           1,
           82,
           0.029319789848667708
          ]
         ],
         "hovertemplate": "<b>Country:</b> %{customdata[0]}<br><b>Year:</b> %{x}<br><b>Earthquake Count:</b> %{customdata[3]:.0f}<br><b>Total Damage:</b> $%{y:,.2f}M<br><b>Percentage of Yearly Total:</b> %{customdata[5]:.2f}%<br><b>Average Magnitude:</b> %{customdata[1]:.2f}<br><b>Average Focal Depth:</b> %{customdata[4]:.2f}<br><b>Tsunami Count:</b> %{customdata[2]:.0f}<extra></extra>",
         "legendgroup": "MYANMAR",
         "marker": {
          "color": "rgb(253,180,98)",
          "line": {
           "color": "black",
           "width": 0.5
          },
          "pattern": {
           "shape": ""
          }
         },
         "name": "MYANMAR",
         "offsetgroup": "MYANMAR",
         "orientation": "v",
         "showlegend": true,
         "textposition": "auto",
         "type": "bar",
         "x": [
          2011,
          2016
         ],
         "xaxis": "x",
         "y": [
          5.04,
          13.07
         ],
         "yaxis": "y"
        },
        {
         "alignmentgroup": "True",
         "customdata": [
          [
           "TURKEY",
           5.7,
           0,
           3,
           9.333333333333334,
           0.6199609667119645
          ],
          [
           "TURKEY",
           6.7,
           1,
           4,
           13.25,
           81.15014711799641
          ]
         ],
         "hovertemplate": "<b>Country:</b> %{customdata[0]}<br><b>Year:</b> %{x}<br><b>Earthquake Count:</b> %{customdata[3]:.0f}<br><b>Total Damage:</b> $%{y:,.2f}M<br><b>Percentage of Yearly Total:</b> %{customdata[5]:.2f}%<br><b>Average Magnitude:</b> %{customdata[1]:.2f}<br><b>Average Focal Depth:</b> %{customdata[4]:.2f}<br><b>Tsunami Count:</b> %{customdata[2]:.0f}<extra></extra>",
         "legendgroup": "TURKEY",
         "marker": {
          "color": "rgb(179,222,105)",
          "line": {
           "color": "black",
           "width": 0.5
          },
          "pattern": {
           "shape": ""
          }
         },
         "name": "TURKEY",
         "offsetgroup": "TURKEY",
         "orientation": "v",
         "showlegend": true,
         "textposition": "auto",
         "type": "bar",
         "x": [
          2011,
          2023
         ],
         "xaxis": "x",
         "y": [
          2098.16,
          44147.23
         ],
         "yaxis": "y"
        },
        {
         "alignmentgroup": "True",
         "customdata": [
          [
           "GUATEMALA",
           7.3,
           1,
           1,
           24,
           1.1403721850616457
          ],
          [
           "GUATEMALA",
           6.4,
           0,
           1,
           66,
           0.02440280659289995
          ]
         ],
         "hovertemplate": "<b>Country:</b> %{customdata[0]}<br><b>Year:</b> %{x}<br><b>Earthquake Count:</b> %{customdata[3]:.0f}<br><b>Total Damage:</b> $%{y:,.2f}M<br><b>Percentage of Yearly Total:</b> %{customdata[5]:.2f}%<br><b>Average Magnitude:</b> %{customdata[1]:.2f}<br><b>Average Focal Depth:</b> %{customdata[4]:.2f}<br><b>Tsunami Count:</b> %{customdata[2]:.0f}<extra></extra>",
         "legendgroup": "GUATEMALA",
         "marker": {
          "color": "rgb(252,205,229)",
          "line": {
           "color": "black",
           "width": 0.5
          },
          "pattern": {
           "shape": ""
          }
         },
         "name": "GUATEMALA",
         "offsetgroup": "GUATEMALA",
         "orientation": "v",
         "showlegend": true,
         "textposition": "auto",
         "type": "bar",
         "x": [
          2012,
          2013
         ],
         "xaxis": "x",
         "y": [
          288.72,
          2.71
         ],
         "yaxis": "y"
        },
        {
         "alignmentgroup": "True",
         "customdata": [
          [
           "SOLOMON ISLANDS",
           7.45,
           2,
           2,
           22.5,
           0.43907042415859837
          ]
         ],
         "hovertemplate": "<b>Country:</b> %{customdata[0]}<br><b>Year:</b> %{x}<br><b>Earthquake Count:</b> %{customdata[3]:.0f}<br><b>Total Damage:</b> $%{y:,.2f}M<br><b>Percentage of Yearly Total:</b> %{customdata[5]:.2f}%<br><b>Average Magnitude:</b> %{customdata[1]:.2f}<br><b>Average Focal Depth:</b> %{customdata[4]:.2f}<br><b>Tsunami Count:</b> %{customdata[2]:.0f}<extra></extra>",
         "legendgroup": "SOLOMON ISLANDS",
         "marker": {
          "color": "rgb(217,217,217)",
          "line": {
           "color": "black",
           "width": 0.5
          },
          "pattern": {
           "shape": ""
          }
         },
         "name": "SOLOMON ISLANDS",
         "offsetgroup": "SOLOMON ISLANDS",
         "orientation": "v",
         "showlegend": true,
         "textposition": "auto",
         "type": "bar",
         "x": [
          2013
         ],
         "xaxis": "x",
         "y": [
          48.76
         ],
         "yaxis": "y"
        },
        {
         "alignmentgroup": "True",
         "customdata": [
          [
           "GERMANY",
           3.6,
           0,
           1,
           10,
           0.012108676362871227
          ]
         ],
         "hovertemplate": "<b>Country:</b> %{customdata[0]}<br><b>Year:</b> %{x}<br><b>Earthquake Count:</b> %{customdata[3]:.0f}<br><b>Total Damage:</b> $%{y:,.2f}M<br><b>Percentage of Yearly Total:</b> %{customdata[5]:.2f}%<br><b>Average Magnitude:</b> %{customdata[1]:.2f}<br><b>Average Focal Depth:</b> %{customdata[4]:.2f}<br><b>Tsunami Count:</b> %{customdata[2]:.0f}<extra></extra>",
         "legendgroup": "GERMANY",
         "marker": {
          "color": "rgb(188,128,189)",
          "line": {
           "color": "black",
           "width": 0.5
          },
          "pattern": {
           "shape": ""
          }
         },
         "name": "GERMANY",
         "offsetgroup": "GERMANY",
         "orientation": "v",
         "showlegend": true,
         "textposition": "auto",
         "type": "bar",
         "x": [
          2014
         ],
         "xaxis": "x",
         "y": [
          1.83
         ],
         "yaxis": "y"
        },
        {
         "alignmentgroup": "True",
         "customdata": [
          [
           "GREECE",
           6.33,
           1,
           3,
           6.333333333333333,
           41.611234734300574
          ],
          [
           "GREECE",
           6.8,
           2,
           2,
           19,
           5.467547188964521
          ],
          [
           "GREECE",
           6.23,
           1,
           3,
           9.333333333333334,
           0.09438666179724878
          ]
         ],
         "hovertemplate": "<b>Country:</b> %{customdata[0]}<br><b>Year:</b> %{x}<br><b>Earthquake Count:</b> %{customdata[3]:.0f}<br><b>Total Damage:</b> $%{y:,.2f}M<br><b>Percentage of Yearly Total:</b> %{customdata[5]:.2f}%<br><b>Average Magnitude:</b> %{customdata[1]:.2f}<br><b>Average Focal Depth:</b> %{customdata[4]:.2f}<br><b>Tsunami Count:</b> %{customdata[2]:.0f}<extra></extra>",
         "legendgroup": "GREECE",
         "marker": {
          "color": "rgb(204,235,197)",
          "line": {
           "color": "black",
           "width": 0.5
          },
          "pattern": {
           "shape": ""
          }
         },
         "name": "GREECE",
         "offsetgroup": "GREECE",
         "orientation": "v",
         "showlegend": true,
         "textposition": "auto",
         "type": "bar",
         "x": [
          2014,
          2020,
          2021
         ],
         "xaxis": "x",
         "y": [
          6288.76,
          484.75,
          11.32
         ],
         "yaxis": "y"
        },
        {
         "alignmentgroup": "True",
         "customdata": [
          [
           "NICARAGUA",
           5.65,
           0,
           2,
           11.5,
           0.02666555505047598
          ]
         ],
         "hovertemplate": "<b>Country:</b> %{customdata[0]}<br><b>Year:</b> %{x}<br><b>Earthquake Count:</b> %{customdata[3]:.0f}<br><b>Total Damage:</b> $%{y:,.2f}M<br><b>Percentage of Yearly Total:</b> %{customdata[5]:.2f}%<br><b>Average Magnitude:</b> %{customdata[1]:.2f}<br><b>Average Focal Depth:</b> %{customdata[4]:.2f}<br><b>Tsunami Count:</b> %{customdata[2]:.0f}<extra></extra>",
         "legendgroup": "NICARAGUA",
         "marker": {
          "color": "rgb(255,237,111)",
          "line": {
           "color": "black",
           "width": 0.5
          },
          "pattern": {
           "shape": ""
          }
         },
         "name": "NICARAGUA",
         "offsetgroup": "NICARAGUA",
         "orientation": "v",
         "showlegend": true,
         "textposition": "auto",
         "type": "bar",
         "x": [
          2014
         ],
         "xaxis": "x",
         "y": [
          4.03
         ],
         "yaxis": "y"
        },
        {
         "alignmentgroup": "True",
         "customdata": [
          [
           "THAILAND",
           6.1,
           0,
           1,
           6,
           0.5515071993690255
          ]
         ],
         "hovertemplate": "<b>Country:</b> %{customdata[0]}<br><b>Year:</b> %{x}<br><b>Earthquake Count:</b> %{customdata[3]:.0f}<br><b>Total Damage:</b> $%{y:,.2f}M<br><b>Percentage of Yearly Total:</b> %{customdata[5]:.2f}%<br><b>Average Magnitude:</b> %{customdata[1]:.2f}<br><b>Average Focal Depth:</b> %{customdata[4]:.2f}<br><b>Tsunami Count:</b> %{customdata[2]:.0f}<extra></extra>",
         "legendgroup": "THAILAND",
         "marker": {
          "color": "#636EFA",
          "line": {
           "color": "black",
           "width": 0.5
          },
          "pattern": {
           "shape": ""
          }
         },
         "name": "THAILAND",
         "offsetgroup": "THAILAND",
         "orientation": "v",
         "showlegend": true,
         "textposition": "auto",
         "type": "bar",
         "x": [
          2014
         ],
         "xaxis": "x",
         "y": [
          83.35
         ],
         "yaxis": "y"
        },
        {
         "alignmentgroup": "True",
         "customdata": [
          [
           "AFGHANISTAN",
           6.9,
           0,
           2,
           218.5,
           1.6113149823383393
          ],
          [
           "AFGHANISTAN",
           5.43,
           0,
           3,
           12.666666666666666,
           1.088523620239994
          ],
          [
           "AFGHANISTAN",
           6.35,
           0,
           4,
           54,
           0.09457388536542191
          ]
         ],
         "hovertemplate": "<b>Country:</b> %{customdata[0]}<br><b>Year:</b> %{x}<br><b>Earthquake Count:</b> %{customdata[3]:.0f}<br><b>Total Damage:</b> $%{y:,.2f}M<br><b>Percentage of Yearly Total:</b> %{customdata[5]:.2f}%<br><b>Average Magnitude:</b> %{customdata[1]:.2f}<br><b>Average Focal Depth:</b> %{customdata[4]:.2f}<br><b>Tsunami Count:</b> %{customdata[2]:.0f}<extra></extra>",
         "legendgroup": "AFGHANISTAN",
         "marker": {
          "color": "#EF553B",
          "line": {
           "color": "black",
           "width": 0.5
          },
          "pattern": {
           "shape": ""
          }
         },
         "name": "AFGHANISTAN",
         "offsetgroup": "AFGHANISTAN",
         "orientation": "v",
         "showlegend": true,
         "textposition": "auto",
         "type": "bar",
         "x": [
          2015,
          2022,
          2023
         ],
         "xaxis": "x",
         "y": [
          145.47,
          128.05,
          51.45
         ],
         "yaxis": "y"
        },
        {
         "alignmentgroup": "True",
         "customdata": [
          [
           "KYRGYZSTAN",
           5.6,
           0,
           1,
           18,
           0.1774473500863422
          ]
         ],
         "hovertemplate": "<b>Country:</b> %{customdata[0]}<br><b>Year:</b> %{x}<br><b>Earthquake Count:</b> %{customdata[3]:.0f}<br><b>Total Damage:</b> $%{y:,.2f}M<br><b>Percentage of Yearly Total:</b> %{customdata[5]:.2f}%<br><b>Average Magnitude:</b> %{customdata[1]:.2f}<br><b>Average Focal Depth:</b> %{customdata[4]:.2f}<br><b>Tsunami Count:</b> %{customdata[2]:.0f}<extra></extra>",
         "legendgroup": "KYRGYZSTAN",
         "marker": {
          "color": "#00CC96",
          "line": {
           "color": "black",
           "width": 0.5
          },
          "pattern": {
           "shape": ""
          }
         },
         "name": "KYRGYZSTAN",
         "offsetgroup": "KYRGYZSTAN",
         "orientation": "v",
         "showlegend": true,
         "textposition": "auto",
         "type": "bar",
         "x": [
          2015
         ],
         "xaxis": "x",
         "y": [
          16.02
         ],
         "yaxis": "y"
        },
        {
         "alignmentgroup": "True",
         "customdata": [
          [
           "NEPAL",
           7.55,
           0,
           2,
           11.5,
           88.69642657368219
          ],
          [
           "NEPAL",
           5.7,
           0,
           2,
           18,
           0.03782955414616876
          ]
         ],
         "hovertemplate": "<b>Country:</b> %{customdata[0]}<br><b>Year:</b> %{x}<br><b>Earthquake Count:</b> %{customdata[3]:.0f}<br><b>Total Damage:</b> $%{y:,.2f}M<br><b>Percentage of Yearly Total:</b> %{customdata[5]:.2f}%<br><b>Average Magnitude:</b> %{customdata[1]:.2f}<br><b>Average Focal Depth:</b> %{customdata[4]:.2f}<br><b>Tsunami Count:</b> %{customdata[2]:.0f}<extra></extra>",
         "legendgroup": "NEPAL",
         "marker": {
          "color": "#AB63FA",
          "line": {
           "color": "black",
           "width": 0.5
          },
          "pattern": {
           "shape": ""
          }
         },
         "name": "NEPAL",
         "offsetgroup": "NEPAL",
         "orientation": "v",
         "showlegend": true,
         "textposition": "auto",
         "type": "bar",
         "x": [
          2015,
          2023
         ],
         "xaxis": "x",
         "y": [
          8007.54,
          20.58
         ],
         "yaxis": "y"
        },
        {
         "alignmentgroup": "True",
         "customdata": [
          [
           "ECUADOR",
           6.7,
           1,
           3,
           20.333333333333332,
           9.678985315428895
          ]
         ],
         "hovertemplate": "<b>Country:</b> %{customdata[0]}<br><b>Year:</b> %{x}<br><b>Earthquake Count:</b> %{customdata[3]:.0f}<br><b>Total Damage:</b> $%{y:,.2f}M<br><b>Percentage of Yearly Total:</b> %{customdata[5]:.2f}%<br><b>Average Magnitude:</b> %{customdata[1]:.2f}<br><b>Average Focal Depth:</b> %{customdata[4]:.2f}<br><b>Tsunami Count:</b> %{customdata[2]:.0f}<extra></extra>",
         "legendgroup": "ECUADOR",
         "marker": {
          "color": "#FFA15A",
          "line": {
           "color": "black",
           "width": 0.5
          },
          "pattern": {
           "shape": ""
          }
         },
         "name": "ECUADOR",
         "offsetgroup": "ECUADOR",
         "orientation": "v",
         "showlegend": true,
         "textposition": "auto",
         "type": "bar",
         "x": [
          2016
         ],
         "xaxis": "x",
         "y": [
          4314.64
         ],
         "yaxis": "y"
        },
        {
         "alignmentgroup": "True",
         "customdata": [
          [
           "MACEDONIA",
           5.1,
           0,
           1,
           13,
           0.029319789848667708
          ]
         ],
         "hovertemplate": "<b>Country:</b> %{customdata[0]}<br><b>Year:</b> %{x}<br><b>Earthquake Count:</b> %{customdata[3]:.0f}<br><b>Total Damage:</b> $%{y:,.2f}M<br><b>Percentage of Yearly Total:</b> %{customdata[5]:.2f}%<br><b>Average Magnitude:</b> %{customdata[1]:.2f}<br><b>Average Focal Depth:</b> %{customdata[4]:.2f}<br><b>Tsunami Count:</b> %{customdata[2]:.0f}<extra></extra>",
         "legendgroup": "MACEDONIA",
         "marker": {
          "color": "#19D3F3",
          "line": {
           "color": "black",
           "width": 0.5
          },
          "pattern": {
           "shape": ""
          }
         },
         "name": "MACEDONIA",
         "offsetgroup": "MACEDONIA",
         "orientation": "v",
         "showlegend": true,
         "textposition": "auto",
         "type": "bar",
         "x": [
          2016
         ],
         "xaxis": "x",
         "y": [
          13.07
         ],
         "yaxis": "y"
        },
        {
         "alignmentgroup": "True",
         "customdata": [
          [
           "SOUTH KOREA",
           5.4,
           0,
           1,
           13,
           0.061600721441806824
          ],
          [
           "SOUTH KOREA",
           5.5,
           0,
           1,
           10,
           0.5594865128933799
          ]
         ],
         "hovertemplate": "<b>Country:</b> %{customdata[0]}<br><b>Year:</b> %{x}<br><b>Earthquake Count:</b> %{customdata[3]:.0f}<br><b>Total Damage:</b> $%{y:,.2f}M<br><b>Percentage of Yearly Total:</b> %{customdata[5]:.2f}%<br><b>Average Magnitude:</b> %{customdata[1]:.2f}<br><b>Average Focal Depth:</b> %{customdata[4]:.2f}<br><b>Tsunami Count:</b> %{customdata[2]:.0f}<extra></extra>",
         "legendgroup": "SOUTH KOREA",
         "marker": {
          "color": "#FF6692",
          "line": {
           "color": "black",
           "width": 0.5
          },
          "pattern": {
           "shape": ""
          }
         },
         "name": "SOUTH KOREA",
         "offsetgroup": "SOUTH KOREA",
         "orientation": "v",
         "showlegend": true,
         "textposition": "auto",
         "type": "bar",
         "x": [
          2016,
          2017
         ],
         "xaxis": "x",
         "y": [
          27.46,
          97.06
         ],
         "yaxis": "y"
        },
        {
         "alignmentgroup": "True",
         "customdata": [
          [
           "TANZANIA",
           5.9,
           0,
           1,
           40,
           1.3433264389578574
          ]
         ],
         "hovertemplate": "<b>Country:</b> %{customdata[0]}<br><b>Year:</b> %{x}<br><b>Earthquake Count:</b> %{customdata[3]:.0f}<br><b>Total Damage:</b> $%{y:,.2f}M<br><b>Percentage of Yearly Total:</b> %{customdata[5]:.2f}%<br><b>Average Magnitude:</b> %{customdata[1]:.2f}<br><b>Average Focal Depth:</b> %{customdata[4]:.2f}<br><b>Tsunami Count:</b> %{customdata[2]:.0f}<extra></extra>",
         "legendgroup": "TANZANIA",
         "marker": {
          "color": "#B6E880",
          "line": {
           "color": "black",
           "width": 0.5
          },
          "pattern": {
           "shape": ""
          }
         },
         "name": "TANZANIA",
         "offsetgroup": "TANZANIA",
         "orientation": "v",
         "showlegend": true,
         "textposition": "auto",
         "type": "bar",
         "x": [
          2016
         ],
         "xaxis": "x",
         "y": [
          598.82
         ],
         "yaxis": "y"
        },
        {
         "alignmentgroup": "True",
         "customdata": [
          [
           "PAPUA NEW GUINEA",
           6.52,
           0,
           5,
           17.8,
           2.4902643424108346
          ],
          [
           "PAPUA NEW GUINEA",
           7.6,
           0,
           1,
           90,
           0.13558728420794927
          ]
         ],
         "hovertemplate": "<b>Country:</b> %{customdata[0]}<br><b>Year:</b> %{x}<br><b>Earthquake Count:</b> %{customdata[3]:.0f}<br><b>Total Damage:</b> $%{y:,.2f}M<br><b>Percentage of Yearly Total:</b> %{customdata[5]:.2f}%<br><b>Average Magnitude:</b> %{customdata[1]:.2f}<br><b>Average Focal Depth:</b> %{customdata[4]:.2f}<br><b>Tsunami Count:</b> %{customdata[2]:.0f}<extra></extra>",
         "legendgroup": "PAPUA NEW GUINEA",
         "marker": {
          "color": "#FF97FF",
          "line": {
           "color": "black",
           "width": 0.5
          },
          "pattern": {
           "shape": ""
          }
         },
         "name": "PAPUA NEW GUINEA",
         "offsetgroup": "PAPUA NEW GUINEA",
         "orientation": "v",
         "showlegend": true,
         "textposition": "auto",
         "type": "bar",
         "x": [
          2018,
          2022
         ],
         "xaxis": "x",
         "y": [
          364.37,
          15.95
         ],
         "yaxis": "y"
        },
        {
         "alignmentgroup": "True",
         "customdata": [
          [
           "ALBANIA",
           5.73,
           0,
           3,
           13.333333333333334,
           14.242320337654931
          ]
         ],
         "hovertemplate": "<b>Country:</b> %{customdata[0]}<br><b>Year:</b> %{x}<br><b>Earthquake Count:</b> %{customdata[3]:.0f}<br><b>Total Damage:</b> $%{y:,.2f}M<br><b>Percentage of Yearly Total:</b> %{customdata[5]:.2f}%<br><b>Average Magnitude:</b> %{customdata[1]:.2f}<br><b>Average Focal Depth:</b> %{customdata[4]:.2f}<br><b>Tsunami Count:</b> %{customdata[2]:.0f}<extra></extra>",
         "legendgroup": "ALBANIA",
         "marker": {
          "color": "#FECB52",
          "line": {
           "color": "black",
           "width": 0.5
          },
          "pattern": {
           "shape": ""
          }
         },
         "name": "ALBANIA",
         "offsetgroup": "ALBANIA",
         "orientation": "v",
         "showlegend": true,
         "textposition": "auto",
         "type": "bar",
         "x": [
          2019
         ],
         "xaxis": "x",
         "y": [
          1383.17
         ],
         "yaxis": "y"
        },
        {
         "alignmentgroup": "True",
         "customdata": [
          [
           "FRANCE",
           4.8,
           0,
           1,
           10,
           0.7513625331945316
          ],
          [
           "FRANCE",
           4.8,
           0,
           1,
           5,
           0.8323053363383749
          ]
         ],
         "hovertemplate": "<b>Country:</b> %{customdata[0]}<br><b>Year:</b> %{x}<br><b>Earthquake Count:</b> %{customdata[3]:.0f}<br><b>Total Damage:</b> $%{y:,.2f}M<br><b>Percentage of Yearly Total:</b> %{customdata[5]:.2f}%<br><b>Average Magnitude:</b> %{customdata[1]:.2f}<br><b>Average Focal Depth:</b> %{customdata[4]:.2f}<br><b>Tsunami Count:</b> %{customdata[2]:.0f}<extra></extra>",
         "legendgroup": "FRANCE",
         "marker": {
          "color": "#1F77B4",
          "line": {
           "color": "black",
           "width": 0.5
          },
          "pattern": {
           "shape": ""
          }
         },
         "name": "FRANCE",
         "offsetgroup": "FRANCE",
         "orientation": "v",
         "showlegend": true,
         "textposition": "auto",
         "type": "bar",
         "x": [
          2019,
          2023
         ],
         "xaxis": "x",
         "y": [
          72.97,
          452.79
         ],
         "yaxis": "y"
        },
        {
         "alignmentgroup": "True",
         "customdata": [
          [
           "CROATIA",
           5.9,
           0,
           2,
           10,
           81.83601306120607
          ]
         ],
         "hovertemplate": "<b>Country:</b> %{customdata[0]}<br><b>Year:</b> %{x}<br><b>Earthquake Count:</b> %{customdata[3]:.0f}<br><b>Total Damage:</b> $%{y:,.2f}M<br><b>Percentage of Yearly Total:</b> %{customdata[5]:.2f}%<br><b>Average Magnitude:</b> %{customdata[1]:.2f}<br><b>Average Focal Depth:</b> %{customdata[4]:.2f}<br><b>Tsunami Count:</b> %{customdata[2]:.0f}<extra></extra>",
         "legendgroup": "CROATIA",
         "marker": {
          "color": "#FF7F0E",
          "line": {
           "color": "black",
           "width": 0.5
          },
          "pattern": {
           "shape": ""
          }
         },
         "name": "CROATIA",
         "offsetgroup": "CROATIA",
         "orientation": "v",
         "showlegend": true,
         "textposition": "auto",
         "type": "bar",
         "x": [
          2020
         ],
         "xaxis": "x",
         "y": [
          7255.54
         ],
         "yaxis": "y"
        },
        {
         "alignmentgroup": "True",
         "customdata": [
          [
           "PUERTO RICO",
           6.4,
           1,
           1,
           10,
           10.9352071690005
          ]
         ],
         "hovertemplate": "<b>Country:</b> %{customdata[0]}<br><b>Year:</b> %{x}<br><b>Earthquake Count:</b> %{customdata[3]:.0f}<br><b>Total Damage:</b> $%{y:,.2f}M<br><b>Percentage of Yearly Total:</b> %{customdata[5]:.2f}%<br><b>Average Magnitude:</b> %{customdata[1]:.2f}<br><b>Average Focal Depth:</b> %{customdata[4]:.2f}<br><b>Tsunami Count:</b> %{customdata[2]:.0f}<extra></extra>",
         "legendgroup": "PUERTO RICO",
         "marker": {
          "color": "#2CA02C",
          "line": {
           "color": "black",
           "width": 0.5
          },
          "pattern": {
           "shape": ""
          }
         },
         "name": "PUERTO RICO",
         "offsetgroup": "PUERTO RICO",
         "orientation": "v",
         "showlegend": true,
         "textposition": "auto",
         "type": "bar",
         "x": [
          2020
         ],
         "xaxis": "x",
         "y": [
          969.51
         ],
         "yaxis": "y"
        },
        {
         "alignmentgroup": "True",
         "customdata": [
          [
           "COLOMBIA",
           6.3,
           0,
           1,
           10,
           0.056744331219253145
          ]
         ],
         "hovertemplate": "<b>Country:</b> %{customdata[0]}<br><b>Year:</b> %{x}<br><b>Earthquake Count:</b> %{customdata[3]:.0f}<br><b>Total Damage:</b> $%{y:,.2f}M<br><b>Percentage of Yearly Total:</b> %{customdata[5]:.2f}%<br><b>Average Magnitude:</b> %{customdata[1]:.2f}<br><b>Average Focal Depth:</b> %{customdata[4]:.2f}<br><b>Tsunami Count:</b> %{customdata[2]:.0f}<extra></extra>",
         "legendgroup": "COLOMBIA",
         "marker": {
          "color": "#D62728",
          "line": {
           "color": "black",
           "width": 0.5
          },
          "pattern": {
           "shape": ""
          }
         },
         "name": "COLOMBIA",
         "offsetgroup": "COLOMBIA",
         "orientation": "v",
         "showlegend": true,
         "textposition": "auto",
         "type": "bar",
         "x": [
          2023
         ],
         "xaxis": "x",
         "y": [
          30.87
         ],
         "yaxis": "y"
        }
       ],
       "layout": {
        "annotations": [
         {
          "align": "left",
          "font": {
           "size": 8
          },
          "showarrow": false,
          "text": "*total damage ($M) is adjusted to 2024 dollar value",
          "x": 1,
          "xref": "paper",
          "y": -0.28,
          "yref": "paper"
         }
        ],
        "barmode": "stack",
        "legend": {
         "title": {
          "text": "Country"
         },
         "tracegroupgap": 0
        },
        "showlegend": true,
        "template": {
         "data": {
          "bar": [
           {
            "error_x": {
             "color": "#2a3f5f"
            },
            "error_y": {
             "color": "#2a3f5f"
            },
            "marker": {
             "line": {
              "color": "#E5ECF6",
              "width": 0.5
             },
             "pattern": {
              "fillmode": "overlay",
              "size": 10,
              "solidity": 0.2
             }
            },
            "type": "bar"
           }
          ],
          "barpolar": [
           {
            "marker": {
             "line": {
              "color": "#E5ECF6",
              "width": 0.5
             },
             "pattern": {
              "fillmode": "overlay",
              "size": 10,
              "solidity": 0.2
             }
            },
            "type": "barpolar"
           }
          ],
          "carpet": [
           {
            "aaxis": {
             "endlinecolor": "#2a3f5f",
             "gridcolor": "white",
             "linecolor": "white",
             "minorgridcolor": "white",
             "startlinecolor": "#2a3f5f"
            },
            "baxis": {
             "endlinecolor": "#2a3f5f",
             "gridcolor": "white",
             "linecolor": "white",
             "minorgridcolor": "white",
             "startlinecolor": "#2a3f5f"
            },
            "type": "carpet"
           }
          ],
          "choropleth": [
           {
            "colorbar": {
             "outlinewidth": 0,
             "ticks": ""
            },
            "type": "choropleth"
           }
          ],
          "contour": [
           {
            "colorbar": {
             "outlinewidth": 0,
             "ticks": ""
            },
            "colorscale": [
             [
              0,
              "#0d0887"
             ],
             [
              0.1111111111111111,
              "#46039f"
             ],
             [
              0.2222222222222222,
              "#7201a8"
             ],
             [
              0.3333333333333333,
              "#9c179e"
             ],
             [
              0.4444444444444444,
              "#bd3786"
             ],
             [
              0.5555555555555556,
              "#d8576b"
             ],
             [
              0.6666666666666666,
              "#ed7953"
             ],
             [
              0.7777777777777778,
              "#fb9f3a"
             ],
             [
              0.8888888888888888,
              "#fdca26"
             ],
             [
              1,
              "#f0f921"
             ]
            ],
            "type": "contour"
           }
          ],
          "contourcarpet": [
           {
            "colorbar": {
             "outlinewidth": 0,
             "ticks": ""
            },
            "type": "contourcarpet"
           }
          ],
          "heatmap": [
           {
            "colorbar": {
             "outlinewidth": 0,
             "ticks": ""
            },
            "colorscale": [
             [
              0,
              "#0d0887"
             ],
             [
              0.1111111111111111,
              "#46039f"
             ],
             [
              0.2222222222222222,
              "#7201a8"
             ],
             [
              0.3333333333333333,
              "#9c179e"
             ],
             [
              0.4444444444444444,
              "#bd3786"
             ],
             [
              0.5555555555555556,
              "#d8576b"
             ],
             [
              0.6666666666666666,
              "#ed7953"
             ],
             [
              0.7777777777777778,
              "#fb9f3a"
             ],
             [
              0.8888888888888888,
              "#fdca26"
             ],
             [
              1,
              "#f0f921"
             ]
            ],
            "type": "heatmap"
           }
          ],
          "heatmapgl": [
           {
            "colorbar": {
             "outlinewidth": 0,
             "ticks": ""
            },
            "colorscale": [
             [
              0,
              "#0d0887"
             ],
             [
              0.1111111111111111,
              "#46039f"
             ],
             [
              0.2222222222222222,
              "#7201a8"
             ],
             [
              0.3333333333333333,
              "#9c179e"
             ],
             [
              0.4444444444444444,
              "#bd3786"
             ],
             [
              0.5555555555555556,
              "#d8576b"
             ],
             [
              0.6666666666666666,
              "#ed7953"
             ],
             [
              0.7777777777777778,
              "#fb9f3a"
             ],
             [
              0.8888888888888888,
              "#fdca26"
             ],
             [
              1,
              "#f0f921"
             ]
            ],
            "type": "heatmapgl"
           }
          ],
          "histogram": [
           {
            "marker": {
             "pattern": {
              "fillmode": "overlay",
              "size": 10,
              "solidity": 0.2
             }
            },
            "type": "histogram"
           }
          ],
          "histogram2d": [
           {
            "colorbar": {
             "outlinewidth": 0,
             "ticks": ""
            },
            "colorscale": [
             [
              0,
              "#0d0887"
             ],
             [
              0.1111111111111111,
              "#46039f"
             ],
             [
              0.2222222222222222,
              "#7201a8"
             ],
             [
              0.3333333333333333,
              "#9c179e"
             ],
             [
              0.4444444444444444,
              "#bd3786"
             ],
             [
              0.5555555555555556,
              "#d8576b"
             ],
             [
              0.6666666666666666,
              "#ed7953"
             ],
             [
              0.7777777777777778,
              "#fb9f3a"
             ],
             [
              0.8888888888888888,
              "#fdca26"
             ],
             [
              1,
              "#f0f921"
             ]
            ],
            "type": "histogram2d"
           }
          ],
          "histogram2dcontour": [
           {
            "colorbar": {
             "outlinewidth": 0,
             "ticks": ""
            },
            "colorscale": [
             [
              0,
              "#0d0887"
             ],
             [
              0.1111111111111111,
              "#46039f"
             ],
             [
              0.2222222222222222,
              "#7201a8"
             ],
             [
              0.3333333333333333,
              "#9c179e"
             ],
             [
              0.4444444444444444,
              "#bd3786"
             ],
             [
              0.5555555555555556,
              "#d8576b"
             ],
             [
              0.6666666666666666,
              "#ed7953"
             ],
             [
              0.7777777777777778,
              "#fb9f3a"
             ],
             [
              0.8888888888888888,
              "#fdca26"
             ],
             [
              1,
              "#f0f921"
             ]
            ],
            "type": "histogram2dcontour"
           }
          ],
          "mesh3d": [
           {
            "colorbar": {
             "outlinewidth": 0,
             "ticks": ""
            },
            "type": "mesh3d"
           }
          ],
          "parcoords": [
           {
            "line": {
             "colorbar": {
              "outlinewidth": 0,
              "ticks": ""
             }
            },
            "type": "parcoords"
           }
          ],
          "pie": [
           {
            "automargin": true,
            "type": "pie"
           }
          ],
          "scatter": [
           {
            "fillpattern": {
             "fillmode": "overlay",
             "size": 10,
             "solidity": 0.2
            },
            "type": "scatter"
           }
          ],
          "scatter3d": [
           {
            "line": {
             "colorbar": {
              "outlinewidth": 0,
              "ticks": ""
             }
            },
            "marker": {
             "colorbar": {
              "outlinewidth": 0,
              "ticks": ""
             }
            },
            "type": "scatter3d"
           }
          ],
          "scattercarpet": [
           {
            "marker": {
             "colorbar": {
              "outlinewidth": 0,
              "ticks": ""
             }
            },
            "type": "scattercarpet"
           }
          ],
          "scattergeo": [
           {
            "marker": {
             "colorbar": {
              "outlinewidth": 0,
              "ticks": ""
             }
            },
            "type": "scattergeo"
           }
          ],
          "scattergl": [
           {
            "marker": {
             "colorbar": {
              "outlinewidth": 0,
              "ticks": ""
             }
            },
            "type": "scattergl"
           }
          ],
          "scattermapbox": [
           {
            "marker": {
             "colorbar": {
              "outlinewidth": 0,
              "ticks": ""
             }
            },
            "type": "scattermapbox"
           }
          ],
          "scatterpolar": [
           {
            "marker": {
             "colorbar": {
              "outlinewidth": 0,
              "ticks": ""
             }
            },
            "type": "scatterpolar"
           }
          ],
          "scatterpolargl": [
           {
            "marker": {
             "colorbar": {
              "outlinewidth": 0,
              "ticks": ""
             }
            },
            "type": "scatterpolargl"
           }
          ],
          "scatterternary": [
           {
            "marker": {
             "colorbar": {
              "outlinewidth": 0,
              "ticks": ""
             }
            },
            "type": "scatterternary"
           }
          ],
          "surface": [
           {
            "colorbar": {
             "outlinewidth": 0,
             "ticks": ""
            },
            "colorscale": [
             [
              0,
              "#0d0887"
             ],
             [
              0.1111111111111111,
              "#46039f"
             ],
             [
              0.2222222222222222,
              "#7201a8"
             ],
             [
              0.3333333333333333,
              "#9c179e"
             ],
             [
              0.4444444444444444,
              "#bd3786"
             ],
             [
              0.5555555555555556,
              "#d8576b"
             ],
             [
              0.6666666666666666,
              "#ed7953"
             ],
             [
              0.7777777777777778,
              "#fb9f3a"
             ],
             [
              0.8888888888888888,
              "#fdca26"
             ],
             [
              1,
              "#f0f921"
             ]
            ],
            "type": "surface"
           }
          ],
          "table": [
           {
            "cells": {
             "fill": {
              "color": "#EBF0F8"
             },
             "line": {
              "color": "white"
             }
            },
            "header": {
             "fill": {
              "color": "#C8D4E3"
             },
             "line": {
              "color": "white"
             }
            },
            "type": "table"
           }
          ]
         },
         "layout": {
          "annotationdefaults": {
           "arrowcolor": "#2a3f5f",
           "arrowhead": 0,
           "arrowwidth": 1
          },
          "autotypenumbers": "strict",
          "coloraxis": {
           "colorbar": {
            "outlinewidth": 0,
            "ticks": ""
           }
          },
          "colorscale": {
           "diverging": [
            [
             0,
             "#8e0152"
            ],
            [
             0.1,
             "#c51b7d"
            ],
            [
             0.2,
             "#de77ae"
            ],
            [
             0.3,
             "#f1b6da"
            ],
            [
             0.4,
             "#fde0ef"
            ],
            [
             0.5,
             "#f7f7f7"
            ],
            [
             0.6,
             "#e6f5d0"
            ],
            [
             0.7,
             "#b8e186"
            ],
            [
             0.8,
             "#7fbc41"
            ],
            [
             0.9,
             "#4d9221"
            ],
            [
             1,
             "#276419"
            ]
           ],
           "sequential": [
            [
             0,
             "#0d0887"
            ],
            [
             0.1111111111111111,
             "#46039f"
            ],
            [
             0.2222222222222222,
             "#7201a8"
            ],
            [
             0.3333333333333333,
             "#9c179e"
            ],
            [
             0.4444444444444444,
             "#bd3786"
            ],
            [
             0.5555555555555556,
             "#d8576b"
            ],
            [
             0.6666666666666666,
             "#ed7953"
            ],
            [
             0.7777777777777778,
             "#fb9f3a"
            ],
            [
             0.8888888888888888,
             "#fdca26"
            ],
            [
             1,
             "#f0f921"
            ]
           ],
           "sequentialminus": [
            [
             0,
             "#0d0887"
            ],
            [
             0.1111111111111111,
             "#46039f"
            ],
            [
             0.2222222222222222,
             "#7201a8"
            ],
            [
             0.3333333333333333,
             "#9c179e"
            ],
            [
             0.4444444444444444,
             "#bd3786"
            ],
            [
             0.5555555555555556,
             "#d8576b"
            ],
            [
             0.6666666666666666,
             "#ed7953"
            ],
            [
             0.7777777777777778,
             "#fb9f3a"
            ],
            [
             0.8888888888888888,
             "#fdca26"
            ],
            [
             1,
             "#f0f921"
            ]
           ]
          },
          "colorway": [
           "#636efa",
           "#EF553B",
           "#00cc96",
           "#ab63fa",
           "#FFA15A",
           "#19d3f3",
           "#FF6692",
           "#B6E880",
           "#FF97FF",
           "#FECB52"
          ],
          "font": {
           "color": "#2a3f5f"
          },
          "geo": {
           "bgcolor": "white",
           "lakecolor": "white",
           "landcolor": "#E5ECF6",
           "showlakes": true,
           "showland": true,
           "subunitcolor": "white"
          },
          "hoverlabel": {
           "align": "left"
          },
          "hovermode": "closest",
          "mapbox": {
           "style": "light"
          },
          "paper_bgcolor": "white",
          "plot_bgcolor": "#E5ECF6",
          "polar": {
           "angularaxis": {
            "gridcolor": "white",
            "linecolor": "white",
            "ticks": ""
           },
           "bgcolor": "#E5ECF6",
           "radialaxis": {
            "gridcolor": "white",
            "linecolor": "white",
            "ticks": ""
           }
          },
          "scene": {
           "xaxis": {
            "backgroundcolor": "#E5ECF6",
            "gridcolor": "white",
            "gridwidth": 2,
            "linecolor": "white",
            "showbackground": true,
            "ticks": "",
            "zerolinecolor": "white"
           },
           "yaxis": {
            "backgroundcolor": "#E5ECF6",
            "gridcolor": "white",
            "gridwidth": 2,
            "linecolor": "white",
            "showbackground": true,
            "ticks": "",
            "zerolinecolor": "white"
           },
           "zaxis": {
            "backgroundcolor": "#E5ECF6",
            "gridcolor": "white",
            "gridwidth": 2,
            "linecolor": "white",
            "showbackground": true,
            "ticks": "",
            "zerolinecolor": "white"
           }
          },
          "shapedefaults": {
           "line": {
            "color": "#2a3f5f"
           }
          },
          "ternary": {
           "aaxis": {
            "gridcolor": "white",
            "linecolor": "white",
            "ticks": ""
           },
           "baxis": {
            "gridcolor": "white",
            "linecolor": "white",
            "ticks": ""
           },
           "bgcolor": "#E5ECF6",
           "caxis": {
            "gridcolor": "white",
            "linecolor": "white",
            "ticks": ""
           }
          },
          "title": {
           "x": 0.05
          },
          "xaxis": {
           "automargin": true,
           "gridcolor": "white",
           "linecolor": "white",
           "ticks": "",
           "title": {
            "standoff": 15
           },
           "zerolinecolor": "white",
           "zerolinewidth": 2
          },
          "yaxis": {
           "automargin": true,
           "gridcolor": "white",
           "linecolor": "white",
           "ticks": "",
           "title": {
            "standoff": 15
           },
           "zerolinecolor": "white",
           "zerolinewidth": 2
          }
         }
        },
        "title": {
         "text": "Earthquake Economic Damage Over Time by Country (2000–2024)"
        },
        "xaxis": {
         "anchor": "y",
         "domain": [
          0,
          1
         ],
         "title": {
          "text": "Year"
         }
        },
        "yaxis": {
         "anchor": "x",
         "domain": [
          0,
          1
         ],
         "title": {
          "text": "Economic Damage ($Mil)"
         }
        }
       }
      }
     },
     "metadata": {},
     "output_type": "display_data"
    }
   ],
   "source": [
    "import plotly.express as px\n",
    "\n",
    "# Generate a large, contrasting qualitative palette by combining existing palettes\n",
    "qualitative_palette = px.colors.qualitative.Plotly + px.colors.qualitative.D3 + px.colors.qualitative.Set3\n",
    "\n",
    "\n",
    "# Aggregate data for the stacked bar chart\n",
    "stacked_damage_data = adjusted_bubble_data.groupby([\"Year\", \"Country Name\"]).agg(\n",
    "    Total_Damage_Mil=(\"Inflation_Adjusted_Damage_Mil\", \"sum\"),\n",
    "    Average_Magnitude=(\"Average_Magnitude\", \"mean\"),  # Aggregate average magnitude\n",
    "    Tsunami_Count=(\"tsunami\", \"sum\"),  # Count tsunamis\n",
    "    Earthquake_Count=(\"Earthquake_Count\", \"sum\"),  # Count earthquakes\n",
    "    Average_Focal_Depth=(\"Focal_Depth\", \"mean\")  # Aggregate focal depth\n",
    ").reset_index()\n",
    "\n",
    "# Calculate total damage per year for each country and add percentage column\n",
    "stacked_damage_data[\"Percent_Total_Damage_Year\"] = (\n",
    "    stacked_damage_data.groupby(\"Year\")[\"Total_Damage_Mil\"].transform(lambda x: x / x.sum() * 100)\n",
    ")\n",
    "# Calculate total damage per year for each country and add percentage column\n",
    "stacked_damage_data[\"Percent_Total_Damage_Year\"] = (\n",
    "    stacked_damage_data.groupby(\"Year\")[\"Total_Damage_Mil\"].transform(lambda x: x / x.sum() * 100)\n",
    ")\n",
    "\n",
    "# Create the stacked bar chart\n",
    "fig = px.bar(\n",
    "    stacked_damage_data,\n",
    "    x=\"Year\",\n",
    "    y=\"Total_Damage_Mil\",\n",
    "    color=\"Country Name\",\n",
    "    title=\"Earthquake Economic Damage Over Time by Country (2000–2024)\",\n",
    "    labels={\n",
    "        \"Total_Damage_Mil\": \"Economic Damages ($Mil)\",\n",
    "        \"Year\": \"Year\",\n",
    "        \"Average_Magnitude\": \"Average Magnitude\",\n",
    "        \"Tsunami_Count\": \"Tsunami Count\",\n",
    "        \"Earthquake_Count\": \"Earthquake Count\",\n",
    "        \"Average_Focal_Depth\": \"Focal Depth (km)\"\n",
    "    },\n",
    "    color_discrete_sequence=qualitative_palette\n",
    ")\n",
    "\n",
    "# Add hover template to display percentages per year\n",
    "fig.update_traces(\n",
    "    marker_line_width=0.5,\n",
    "    marker_line_color=\"black\",\n",
    "    hovertemplate=\"<b>Country:</b> %{customdata[0]}<br>\"\n",
    "                  \"<b>Year:</b> %{x}<br>\"\n",
    "                  \"<b>Earthquake Count:</b> %{customdata[3]:.0f}<br>\"\n",
    "                  \"<b>Total Damage:</b> $%{y:,.2f}M<br>\"\n",
    "                  \"<b>Percentage of Yearly Total:</b> %{customdata[5]:.2f}%<br>\"\n",
    "                  \"<b>Average Magnitude:</b> %{customdata[1]:.2f}<br>\"\n",
    "                  \"<b>Average Focal Depth:</b> %{customdata[4]:.2f}<br>\"\n",
    "                  \"<b>Tsunami Count:</b> %{customdata[2]:.0f}<extra></extra>\"\n",
    ")\n",
    "\n",
    "# Include Country Name, Average Magnitude, Tsunami Count, Earthquake Count, Focal Depth, and Yearly Percentages in custom data\n",
    "fig.for_each_trace(lambda t: t.update(customdata=stacked_damage_data[stacked_damage_data[\"Country Name\"] == t.name][[\n",
    "    \"Country Name\", \"Average_Magnitude\", \"Tsunami_Count\", \"Earthquake_Count\", \"Average_Focal_Depth\", \"Percent_Total_Damage_Year\"\n",
    "]].values))\n",
    "\n",
    "# Improve layout\n",
    "fig.update_layout(\n",
    "    xaxis_title=\"Year\",\n",
    "    yaxis_title=\"Economic Damage ($Mil)\",\n",
    "    legend_title=\"Country\",\n",
    "    barmode=\"stack\",\n",
    "    showlegend=True\n",
    ")\n",
    "\n",
    "# Add annotation for note\n",
    "fig.add_annotation(\n",
    "    xref=\"paper\", yref=\"paper\",\n",
    "    x=1.0, y=-.28,\n",
    "    text=\"*total damage ($M) is adjusted to 2024 dollar value\",\n",
    "    showarrow=False,\n",
    "    font=dict(size=8),\n",
    "    align=\"left\"\n",
    ")\n",
    "\n",
    "fig.show()\n"
   ]
  },
  {
   "cell_type": "markdown",
   "metadata": {},
   "source": [
    "This graph shows earthquake damages by country from 2000 to 2024, adjusted to 2024 values. Japan dominates due to the 2011 Great East Japan Earthquake, the costliest natural disaster in history, causing over $300 billion in damages, a devastating tsunami, and the Fukushima nuclear disaster (Daniell, James, 2011). Countries like Indonesia and China also exhibit significant impacts from recurring earthquakes. The graph underscores the global economic toll of earthquakes, where both large-scale disasters and localized events, such as those in smaller nations like Haiti and Italy, collectively contribute to substantial losses over time."
   ]
  },
  {
   "cell_type": "markdown",
   "metadata": {},
   "source": [
    "ecnomioc damage incukldes factors such as "
   ]
  },
  {
   "cell_type": "markdown",
   "metadata": {},
   "source": [
    "distribution of magnitude and focal depth"
   ]
  }
 ],
 "metadata": {
  "kernelspec": {
   "display_name": "ds4200",
   "language": "python",
   "name": "python3"
  },
  "language_info": {
   "codemirror_mode": {
    "name": "ipython",
    "version": 3
   },
   "file_extension": ".py",
   "mimetype": "text/x-python",
   "name": "python",
   "nbconvert_exporter": "python",
   "pygments_lexer": "ipython3",
   "version": "3.11.0"
  }
 },
 "nbformat": 4,
 "nbformat_minor": 2
}
