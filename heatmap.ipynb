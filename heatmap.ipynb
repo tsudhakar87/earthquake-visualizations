{
 "cells": [
  {
   "cell_type": "code",
   "execution_count": null,
   "metadata": {
    "vscode": {
     "languageId": "plaintext"
    }
   },
   "outputs": [],
   "source": [
    "import pandas as pd\n",
    "import folium\n",
    "from folium.plugins import HeatMap\n",
    "from branca.element import Template, MacroElement\n",
    "\n",
    "# Step 1: Load the CSV file\n",
    "file_path = \"earthquake_merged2.csv\"  # Update this with your file path\n",
    "data = pd.read_csv(file_path)\n",
    "\n",
    "# Step 2: Filter relevant columns (Latitude, Longitude, Magnitude)\n",
    "locations = data[[\"Latitude\", \"Longitude\", \"Mag\"]].dropna()\n",
    "\n",
    "# Step 3: Prepare data for HeatMap\n",
    "heat_data = [[row[\"Latitude\"], row[\"Longitude\"], row[\"Mag\"]] for _, row in locations.iterrows()]\n",
    "\n",
    "# Step 4: Create a folium map\n",
    "m = folium.Map(location=[0, 0], zoom_start=2)  # Center map at (0, 0)\n",
    "\n",
    "# Step 5: Add heat map layer\n",
    "HeatMap(\n",
    "    heat_data,\n",
    "    radius=10,      # Size of each point\n",
    "    blur=15,        # Blurring effect\n",
    "    max_zoom=1,     # Zoom level for detail\n",
    ").add_to(m)\n",
    "\n",
    "# Step 6: Add a custom legend with gradient\n",
    "legend_html = \"\"\"\n",
    "{% macro html(this, kwargs) %}\n",
    "<div style=\"\n",
    "    position: fixed; \n",
    "    bottom: 50px; left: 50px; width: 240px; height: 90px; \n",
    "    background-color: white; z-index:1000; \n",
    "    border:2px solid grey; border-radius:10px; padding: 10px;\n",
    "    font-size:14px;\n",
    "\">\n",
    "    <b>Legend</b><br>\n",
    "    <div style=\"display: flex; align-items: center; gap: 5px;\">\n",
    "        <span style=\"background: linear-gradient(to right, blue, green, yellow, red); \n",
    "                     width: 120px; height: 10px; display: inline-block;\"></span>\n",
    "        <span>Low → High Magnitude</span>\n",
    "    </div>\n",
    "</div>\n",
    "{% endmacro %}\n",
    "\"\"\"\n",
    "legend = MacroElement()\n",
    "legend._template = Template(legend_html)\n",
    "m.get_root().add_child(legend)\n",
    "\n",
    "# Step 7: Save and display map\n",
    "m.save(\"earthquake_heatmap_with_gradient_legend.html\")\n",
    "print(\"Heatmap with gradient legend saved to 'earthquake_heatmap_with_gradient_legend.html'\")"
   ]
  }
 ],
 "metadata": {
  "language_info": {
   "name": "python"
  }
 },
 "nbformat": 4,
 "nbformat_minor": 2
}
