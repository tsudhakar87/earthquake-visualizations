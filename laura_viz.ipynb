{
 "cells": [
  {
   "cell_type": "code",
   "execution_count": 2,
   "metadata": {},
   "outputs": [],
   "source": [
    "import pandas as pd "
   ]
  },
  {
   "cell_type": "code",
   "execution_count": 3,
   "metadata": {},
   "outputs": [],
   "source": [
    "earthquakes = pd.read_csv('earthquake_merged2.csv')\n",
    "# earthquakes.columns"
   ]
  },
  {
   "cell_type": "code",
   "execution_count": 4,
   "metadata": {},
   "outputs": [],
   "source": [
    "earthquakes = earthquakes[earthquakes[\"Year\"] > 1999]\n",
    "# earthquakes"
   ]
  },
  {
   "cell_type": "code",
   "execution_count": 5,
   "metadata": {},
   "outputs": [
    {
     "data": {
      "text/html": [
       "<div>\n",
       "<style scoped>\n",
       "    .dataframe tbody tr th:only-of-type {\n",
       "        vertical-align: middle;\n",
       "    }\n",
       "\n",
       "    .dataframe tbody tr th {\n",
       "        vertical-align: top;\n",
       "    }\n",
       "\n",
       "    .dataframe thead th {\n",
       "        text-align: right;\n",
       "    }\n",
       "</style>\n",
       "<table border=\"1\" class=\"dataframe\">\n",
       "  <thead>\n",
       "    <tr style=\"text-align: right;\">\n",
       "      <th></th>\n",
       "      <th>Country Name</th>\n",
       "      <th>Count</th>\n",
       "    </tr>\n",
       "  </thead>\n",
       "  <tbody>\n",
       "    <tr>\n",
       "      <th>17</th>\n",
       "      <td>CHINA</td>\n",
       "      <td>155</td>\n",
       "    </tr>\n",
       "    <tr>\n",
       "      <th>46</th>\n",
       "      <td>INDONESIA</td>\n",
       "      <td>140</td>\n",
       "    </tr>\n",
       "    <tr>\n",
       "      <th>47</th>\n",
       "      <td>IRAN</td>\n",
       "      <td>86</td>\n",
       "    </tr>\n",
       "    <tr>\n",
       "      <th>49</th>\n",
       "      <td>JAPAN</td>\n",
       "      <td>80</td>\n",
       "    </tr>\n",
       "    <tr>\n",
       "      <th>103</th>\n",
       "      <td>UNITED STATES</td>\n",
       "      <td>58</td>\n",
       "    </tr>\n",
       "    <tr>\n",
       "      <th>...</th>\n",
       "      <td>...</td>\n",
       "      <td>...</td>\n",
       "    </tr>\n",
       "    <tr>\n",
       "      <th>38</th>\n",
       "      <td>GULF OF MEXICO</td>\n",
       "      <td>1</td>\n",
       "    </tr>\n",
       "    <tr>\n",
       "      <th>51</th>\n",
       "      <td>KAZAKHSTAN</td>\n",
       "      <td>1</td>\n",
       "    </tr>\n",
       "    <tr>\n",
       "      <th>50</th>\n",
       "      <td>JORDAN</td>\n",
       "      <td>1</td>\n",
       "    </tr>\n",
       "    <tr>\n",
       "      <th>86</th>\n",
       "      <td>SLOVENIA</td>\n",
       "      <td>1</td>\n",
       "    </tr>\n",
       "    <tr>\n",
       "      <th>108</th>\n",
       "      <td>ZAMBIA</td>\n",
       "      <td>1</td>\n",
       "    </tr>\n",
       "  </tbody>\n",
       "</table>\n",
       "<p>109 rows × 2 columns</p>\n",
       "</div>"
      ],
      "text/plain": [
       "       Country Name  Count\n",
       "17            CHINA    155\n",
       "46        INDONESIA    140\n",
       "47             IRAN     86\n",
       "49            JAPAN     80\n",
       "103   UNITED STATES     58\n",
       "..              ...    ...\n",
       "38   GULF OF MEXICO      1\n",
       "51       KAZAKHSTAN      1\n",
       "50           JORDAN      1\n",
       "86         SLOVENIA      1\n",
       "108          ZAMBIA      1\n",
       "\n",
       "[109 rows x 2 columns]"
      ]
     },
     "execution_count": 5,
     "metadata": {},
     "output_type": "execute_result"
    }
   ],
   "source": [
    "country_counts = earthquakes.groupby(\"Country Name\").size().reset_index(name=\"Count\")\n",
    "country_counts = country_counts.sort_values(by=\"Count\", ascending=False)\n",
    "country_counts"
   ]
  },
  {
   "cell_type": "code",
   "execution_count": 6,
   "metadata": {},
   "outputs": [],
   "source": [
    "# Group by Country Name to get avg magnitude\n",
    "avg_magnitude = earthquakes.groupby(\"Country Name\")[\"Mag\"].mean().reset_index(name=\"Average Magnitude\")\n",
    "\n",
    "# Merge the average magnitude with the country_counts df\n",
    "country_counts = country_counts.merge(avg_magnitude, on=\"Country Name\", how=\"left\")\n",
    "\n",
    "# country_counts"
   ]
  },
  {
   "cell_type": "code",
   "execution_count": 7,
   "metadata": {},
   "outputs": [
    {
     "data": {
      "application/vnd.plotly.v1+json": {
       "config": {
        "plotlyServerURL": "https://plot.ly"
       },
       "data": [
        {
         "branchvalues": "total",
         "customdata": [
          [
           5.4883870967741935
          ],
          [
           6.370503597122302
          ],
          [
           5.523529411764706
          ],
          [
           6.578749999999999
          ],
          [
           5.772413793103448
          ],
          [
           5.242592592592593
          ],
          [
           5.5920000000000005
          ],
          [
           6.2
          ],
          [
           6.33
          ],
          [
           6.834375
          ],
          [
           6.541379310344827
          ],
          [
           5.910714285714286
          ],
          [
           6.228571428571429
          ],
          [
           6.042857142857143
          ],
          [
           7.257692307692308
          ],
          [
           5.7
          ],
          [
           6.676
          ],
          [
           6.339130434782609
          ],
          [
           6.719047619047619
          ],
          [
           5.447368421052632
          ],
          [
           7.188888888888889
          ],
          [
           7.017647058823529
          ],
          [
           5.173333333333333
          ],
          [
           5.873333333333333
          ],
          [
           5.892307692307692
          ],
          [
           5.492307692307692
          ],
          [
           5.9
          ],
          [
           7.366666666666666
          ],
          [
           6.4
          ],
          [
           5.911111111111111
          ],
          [
           5.966666666666667
          ],
          [
           5.8
          ],
          [
           5.625
          ],
          [
           5.775
          ],
          [
           5.871428571428572
          ],
          [
           5.757142857142857
          ],
          [
           3.8000000000000003
          ],
          [
           5.2
          ],
          [
           5.783333333333334
          ],
          [
           4.633333333333334
          ],
          [
           7.68
          ],
          [
           5.58
          ],
          [
           6.38
          ],
          [
           6.0600000000000005
          ],
          [
           3.96
          ],
          [
           5.5600000000000005
          ],
          [
           4.9799999999999995
          ],
          [
           4.92
          ],
          [
           6.4
          ],
          [
           7.6
          ],
          [
           5.975
          ],
          [
           5.7
          ],
          [
           4.475
          ],
          [
           4.333333333333333
          ],
          [
           6.5
          ],
          [
           5.233333333333333
          ],
          [
           6.066666666666666
          ],
          [
           6.2
          ],
          [
           4.966666666666666
          ],
          [
           4.733333333333333
          ],
          [
           7.3999999999999995
          ],
          [
           5.8
          ],
          [
           6.433333333333334
          ],
          [
           6.733333333333333
          ],
          [
           7.666666666666667
          ],
          [
           7
          ],
          [
           7.5
          ],
          [
           4.95
          ],
          [
           3.3
          ],
          [
           5.45
          ],
          [
           5.35
          ],
          [
           4.75
          ],
          [
           4.65
          ],
          [
           5.6
          ],
          [
           7.1
          ],
          [
           4.449999999999999
          ],
          [
           4.7
          ],
          [
           5
          ],
          [
           5.9
          ],
          [
           5.45
          ],
          [
           5.35
          ],
          [
           6.05
          ],
          [
           6.800000000000001
          ],
          [
           5.15
          ],
          [
           5.199999999999999
          ],
          [
           7.6
          ],
          [
           7.7
          ],
          [
           4.4
          ],
          [
           5
          ],
          [
           5.7
          ],
          [
           6.1
          ],
          [
           7.4
          ],
          [
           6
          ],
          [
           7
          ],
          [
           4.7
          ],
          [
           5.9
          ],
          [
           5.8
          ],
          [
           4.1
          ],
          [
           2.2
          ],
          [
           5.5
          ],
          [
           4.4
          ],
          [
           3.9
          ],
          [
           5.1
          ],
          [
           5
          ],
          [
           5.8
          ],
          [
           5.4
          ],
          [
           5.3
          ],
          [
           5.2
          ],
          [
           5.9
          ]
         ],
         "domain": {
          "x": [
           0,
           1
          ],
          "y": [
           0,
           1
          ]
         },
         "hovertemplate": "<b>%{label}</b><br>Count: %{value}<br>Average Magnitude: %{customdata[0]:.2f}<extra></extra>",
         "ids": [
          "AFGHANISTAN",
          "ALBANIA",
          "ALGERIA",
          "ANATAHAN REGION, N. MARIANA ISLANDS",
          "ARGENTINA",
          "ATLANTIC OCEAN",
          "AUSTRALIA",
          "AZERBAIJAN",
          "BALKANS NW: KOSOVO; MACEDONIA: N",
          "BANGLADESH",
          "BHUTAN",
          "BOSNIA-HERZEGOVINA",
          "BRAZIL",
          "BULGARIA",
          "BURUNDI",
          "CANADA",
          "CHILE",
          "CHINA",
          "COLOMBIA",
          "COMOROS",
          "CONGO",
          "COSTA RICA",
          "CROATIA",
          "CUBA",
          "CZECH REPUBLIC",
          "DOMINICAN REPUBLIC",
          "ECUADOR",
          "EGYPT",
          "EL SALVADOR",
          "ETHIOPIA",
          "FIJI ISLANDS",
          "FRANCE",
          "GEORGIA",
          "GERMANY",
          "GREECE",
          "GUADELOUPE",
          "GUAM",
          "GUATEMALA",
          "GULF OF MEXICO",
          "HAITI",
          "HAWAII",
          "HONDURAS",
          "HUNGARY",
          "ICELAND",
          "INDIA",
          "INDIAN OCEAN",
          "INDONESIA",
          "IRAN",
          "ITALY",
          "JAPAN",
          "JORDAN",
          "KAZAKHSTAN",
          "KERMADEC ISLANDS",
          "KYRGYZSTAN",
          "LAOS",
          "LEBANON",
          "MACEDONIA",
          "MADAGASCAR",
          "MALAWI",
          "MALAYSIA",
          "MARTINIQUE",
          "MEXICO",
          "MONTENEGRO",
          "MOROCCO",
          "MOZAMBIQUE",
          "MYANMAR",
          "NEPAL",
          "NEW CALEDONIA",
          "NEW ZEALAND",
          "NICARAGUA",
          "NORTHERN MARIANA ISLANDS",
          "PAKISTAN",
          "PANAMA",
          "PAPUA NEW GUINEA",
          "PERU",
          "PHILIPPINES",
          "POLAND",
          "PUERTO RICO",
          "ROMANIA",
          "RUSSIA",
          "RWANDA",
          "SAMOA",
          "SAUDI ARABIA",
          "SCOTIA SEA",
          "SERBIA",
          "SLOVAKIA",
          "SLOVENIA",
          "SOLOMON ISLANDS",
          "SOUTH AFRICA",
          "SOUTH KOREA",
          "SOUTH SANDWICH ISLANDS",
          "SPAIN",
          "SWITZERLAND",
          "TAIWAN",
          "TAJIKISTAN",
          "TANZANIA",
          "THAILAND",
          "THE NETHERLANDS",
          "TONGA",
          "TRINIDAD AND TOBAGO",
          "TURKEY",
          "TURKMENISTAN",
          "UNITED KINGDOM",
          "UNITED STATES",
          "UZBEKISTAN",
          "VANUATU",
          "VENEZUELA",
          "VIETNAM",
          "ZAMBIA"
         ],
         "labels": [
          "AFGHANISTAN",
          "ALBANIA",
          "ALGERIA",
          "ANATAHAN REGION, N. MARIANA ISLANDS",
          "ARGENTINA",
          "ATLANTIC OCEAN",
          "AUSTRALIA",
          "AZERBAIJAN",
          "BALKANS NW: KOSOVO; MACEDONIA: N",
          "BANGLADESH",
          "BHUTAN",
          "BOSNIA-HERZEGOVINA",
          "BRAZIL",
          "BULGARIA",
          "BURUNDI",
          "CANADA",
          "CHILE",
          "CHINA",
          "COLOMBIA",
          "COMOROS",
          "CONGO",
          "COSTA RICA",
          "CROATIA",
          "CUBA",
          "CZECH REPUBLIC",
          "DOMINICAN REPUBLIC",
          "ECUADOR",
          "EGYPT",
          "EL SALVADOR",
          "ETHIOPIA",
          "FIJI ISLANDS",
          "FRANCE",
          "GEORGIA",
          "GERMANY",
          "GREECE",
          "GUADELOUPE",
          "GUAM",
          "GUATEMALA",
          "GULF OF MEXICO",
          "HAITI",
          "HAWAII",
          "HONDURAS",
          "HUNGARY",
          "ICELAND",
          "INDIA",
          "INDIAN OCEAN",
          "INDONESIA",
          "IRAN",
          "ITALY",
          "JAPAN",
          "JORDAN",
          "KAZAKHSTAN",
          "KERMADEC ISLANDS",
          "KYRGYZSTAN",
          "LAOS",
          "LEBANON",
          "MACEDONIA",
          "MADAGASCAR",
          "MALAWI",
          "MALAYSIA",
          "MARTINIQUE",
          "MEXICO",
          "MONTENEGRO",
          "MOROCCO",
          "MOZAMBIQUE",
          "MYANMAR",
          "NEPAL",
          "NEW CALEDONIA",
          "NEW ZEALAND",
          "NICARAGUA",
          "NORTHERN MARIANA ISLANDS",
          "PAKISTAN",
          "PANAMA",
          "PAPUA NEW GUINEA",
          "PERU",
          "PHILIPPINES",
          "POLAND",
          "PUERTO RICO",
          "ROMANIA",
          "RUSSIA",
          "RWANDA",
          "SAMOA",
          "SAUDI ARABIA",
          "SCOTIA SEA",
          "SERBIA",
          "SLOVAKIA",
          "SLOVENIA",
          "SOLOMON ISLANDS",
          "SOUTH AFRICA",
          "SOUTH KOREA",
          "SOUTH SANDWICH ISLANDS",
          "SPAIN",
          "SWITZERLAND",
          "TAIWAN",
          "TAJIKISTAN",
          "TANZANIA",
          "THAILAND",
          "THE NETHERLANDS",
          "TONGA",
          "TRINIDAD AND TOBAGO",
          "TURKEY",
          "TURKMENISTAN",
          "UNITED KINGDOM",
          "UNITED STATES",
          "UZBEKISTAN",
          "VANUATU",
          "VENEZUELA",
          "VIETNAM",
          "ZAMBIA"
         ],
         "name": "",
         "parents": [
          "",
          "",
          "",
          "",
          "",
          "",
          "",
          "",
          "",
          "",
          "",
          "",
          "",
          "",
          "",
          "",
          "",
          "",
          "",
          "",
          "",
          "",
          "",
          "",
          "",
          "",
          "",
          "",
          "",
          "",
          "",
          "",
          "",
          "",
          "",
          "",
          "",
          "",
          "",
          "",
          "",
          "",
          "",
          "",
          "",
          "",
          "",
          "",
          "",
          "",
          "",
          "",
          "",
          "",
          "",
          "",
          "",
          "",
          "",
          "",
          "",
          "",
          "",
          "",
          "",
          "",
          "",
          "",
          "",
          "",
          "",
          "",
          "",
          "",
          "",
          "",
          "",
          "",
          "",
          "",
          "",
          "",
          "",
          "",
          "",
          "",
          "",
          "",
          "",
          "",
          "",
          "",
          "",
          "",
          "",
          "",
          "",
          "",
          "",
          "",
          "",
          "",
          "",
          "",
          "",
          "",
          "",
          "",
          ""
         ],
         "type": "treemap",
         "values": [
          28,
          7,
          15,
          1,
          7,
          1,
          6,
          4,
          1,
          5,
          5,
          2,
          4,
          2,
          1,
          4,
          32,
          155,
          13,
          1,
          4,
          5,
          2,
          1,
          1,
          2,
          15,
          1,
          9,
          2,
          5,
          6,
          2,
          4,
          28,
          2,
          3,
          9,
          1,
          5,
          2,
          3,
          2,
          3,
          54,
          1,
          140,
          86,
          19,
          80,
          1,
          1,
          9,
          7,
          2,
          1,
          2,
          1,
          3,
          1,
          1,
          29,
          1,
          3,
          3,
          9,
          8,
          17,
          28,
          8,
          2,
          25,
          9,
          26,
          40,
          45,
          7,
          3,
          1,
          25,
          5,
          2,
          3,
          3,
          2,
          1,
          1,
          18,
          5,
          2,
          3,
          2,
          1,
          23,
          13,
          5,
          2,
          2,
          4,
          3,
          50,
          1,
          3,
          58,
          1,
          21,
          8,
          2,
          1
         ]
        }
       ],
       "layout": {
        "legend": {
         "tracegroupgap": 0
        },
        "template": {
         "data": {
          "bar": [
           {
            "error_x": {
             "color": "#2a3f5f"
            },
            "error_y": {
             "color": "#2a3f5f"
            },
            "marker": {
             "line": {
              "color": "#E5ECF6",
              "width": 0.5
             },
             "pattern": {
              "fillmode": "overlay",
              "size": 10,
              "solidity": 0.2
             }
            },
            "type": "bar"
           }
          ],
          "barpolar": [
           {
            "marker": {
             "line": {
              "color": "#E5ECF6",
              "width": 0.5
             },
             "pattern": {
              "fillmode": "overlay",
              "size": 10,
              "solidity": 0.2
             }
            },
            "type": "barpolar"
           }
          ],
          "carpet": [
           {
            "aaxis": {
             "endlinecolor": "#2a3f5f",
             "gridcolor": "white",
             "linecolor": "white",
             "minorgridcolor": "white",
             "startlinecolor": "#2a3f5f"
            },
            "baxis": {
             "endlinecolor": "#2a3f5f",
             "gridcolor": "white",
             "linecolor": "white",
             "minorgridcolor": "white",
             "startlinecolor": "#2a3f5f"
            },
            "type": "carpet"
           }
          ],
          "choropleth": [
           {
            "colorbar": {
             "outlinewidth": 0,
             "ticks": ""
            },
            "type": "choropleth"
           }
          ],
          "contour": [
           {
            "colorbar": {
             "outlinewidth": 0,
             "ticks": ""
            },
            "colorscale": [
             [
              0,
              "#0d0887"
             ],
             [
              0.1111111111111111,
              "#46039f"
             ],
             [
              0.2222222222222222,
              "#7201a8"
             ],
             [
              0.3333333333333333,
              "#9c179e"
             ],
             [
              0.4444444444444444,
              "#bd3786"
             ],
             [
              0.5555555555555556,
              "#d8576b"
             ],
             [
              0.6666666666666666,
              "#ed7953"
             ],
             [
              0.7777777777777778,
              "#fb9f3a"
             ],
             [
              0.8888888888888888,
              "#fdca26"
             ],
             [
              1,
              "#f0f921"
             ]
            ],
            "type": "contour"
           }
          ],
          "contourcarpet": [
           {
            "colorbar": {
             "outlinewidth": 0,
             "ticks": ""
            },
            "type": "contourcarpet"
           }
          ],
          "heatmap": [
           {
            "colorbar": {
             "outlinewidth": 0,
             "ticks": ""
            },
            "colorscale": [
             [
              0,
              "#0d0887"
             ],
             [
              0.1111111111111111,
              "#46039f"
             ],
             [
              0.2222222222222222,
              "#7201a8"
             ],
             [
              0.3333333333333333,
              "#9c179e"
             ],
             [
              0.4444444444444444,
              "#bd3786"
             ],
             [
              0.5555555555555556,
              "#d8576b"
             ],
             [
              0.6666666666666666,
              "#ed7953"
             ],
             [
              0.7777777777777778,
              "#fb9f3a"
             ],
             [
              0.8888888888888888,
              "#fdca26"
             ],
             [
              1,
              "#f0f921"
             ]
            ],
            "type": "heatmap"
           }
          ],
          "heatmapgl": [
           {
            "colorbar": {
             "outlinewidth": 0,
             "ticks": ""
            },
            "colorscale": [
             [
              0,
              "#0d0887"
             ],
             [
              0.1111111111111111,
              "#46039f"
             ],
             [
              0.2222222222222222,
              "#7201a8"
             ],
             [
              0.3333333333333333,
              "#9c179e"
             ],
             [
              0.4444444444444444,
              "#bd3786"
             ],
             [
              0.5555555555555556,
              "#d8576b"
             ],
             [
              0.6666666666666666,
              "#ed7953"
             ],
             [
              0.7777777777777778,
              "#fb9f3a"
             ],
             [
              0.8888888888888888,
              "#fdca26"
             ],
             [
              1,
              "#f0f921"
             ]
            ],
            "type": "heatmapgl"
           }
          ],
          "histogram": [
           {
            "marker": {
             "pattern": {
              "fillmode": "overlay",
              "size": 10,
              "solidity": 0.2
             }
            },
            "type": "histogram"
           }
          ],
          "histogram2d": [
           {
            "colorbar": {
             "outlinewidth": 0,
             "ticks": ""
            },
            "colorscale": [
             [
              0,
              "#0d0887"
             ],
             [
              0.1111111111111111,
              "#46039f"
             ],
             [
              0.2222222222222222,
              "#7201a8"
             ],
             [
              0.3333333333333333,
              "#9c179e"
             ],
             [
              0.4444444444444444,
              "#bd3786"
             ],
             [
              0.5555555555555556,
              "#d8576b"
             ],
             [
              0.6666666666666666,
              "#ed7953"
             ],
             [
              0.7777777777777778,
              "#fb9f3a"
             ],
             [
              0.8888888888888888,
              "#fdca26"
             ],
             [
              1,
              "#f0f921"
             ]
            ],
            "type": "histogram2d"
           }
          ],
          "histogram2dcontour": [
           {
            "colorbar": {
             "outlinewidth": 0,
             "ticks": ""
            },
            "colorscale": [
             [
              0,
              "#0d0887"
             ],
             [
              0.1111111111111111,
              "#46039f"
             ],
             [
              0.2222222222222222,
              "#7201a8"
             ],
             [
              0.3333333333333333,
              "#9c179e"
             ],
             [
              0.4444444444444444,
              "#bd3786"
             ],
             [
              0.5555555555555556,
              "#d8576b"
             ],
             [
              0.6666666666666666,
              "#ed7953"
             ],
             [
              0.7777777777777778,
              "#fb9f3a"
             ],
             [
              0.8888888888888888,
              "#fdca26"
             ],
             [
              1,
              "#f0f921"
             ]
            ],
            "type": "histogram2dcontour"
           }
          ],
          "mesh3d": [
           {
            "colorbar": {
             "outlinewidth": 0,
             "ticks": ""
            },
            "type": "mesh3d"
           }
          ],
          "parcoords": [
           {
            "line": {
             "colorbar": {
              "outlinewidth": 0,
              "ticks": ""
             }
            },
            "type": "parcoords"
           }
          ],
          "pie": [
           {
            "automargin": true,
            "type": "pie"
           }
          ],
          "scatter": [
           {
            "fillpattern": {
             "fillmode": "overlay",
             "size": 10,
             "solidity": 0.2
            },
            "type": "scatter"
           }
          ],
          "scatter3d": [
           {
            "line": {
             "colorbar": {
              "outlinewidth": 0,
              "ticks": ""
             }
            },
            "marker": {
             "colorbar": {
              "outlinewidth": 0,
              "ticks": ""
             }
            },
            "type": "scatter3d"
           }
          ],
          "scattercarpet": [
           {
            "marker": {
             "colorbar": {
              "outlinewidth": 0,
              "ticks": ""
             }
            },
            "type": "scattercarpet"
           }
          ],
          "scattergeo": [
           {
            "marker": {
             "colorbar": {
              "outlinewidth": 0,
              "ticks": ""
             }
            },
            "type": "scattergeo"
           }
          ],
          "scattergl": [
           {
            "marker": {
             "colorbar": {
              "outlinewidth": 0,
              "ticks": ""
             }
            },
            "type": "scattergl"
           }
          ],
          "scattermapbox": [
           {
            "marker": {
             "colorbar": {
              "outlinewidth": 0,
              "ticks": ""
             }
            },
            "type": "scattermapbox"
           }
          ],
          "scatterpolar": [
           {
            "marker": {
             "colorbar": {
              "outlinewidth": 0,
              "ticks": ""
             }
            },
            "type": "scatterpolar"
           }
          ],
          "scatterpolargl": [
           {
            "marker": {
             "colorbar": {
              "outlinewidth": 0,
              "ticks": ""
             }
            },
            "type": "scatterpolargl"
           }
          ],
          "scatterternary": [
           {
            "marker": {
             "colorbar": {
              "outlinewidth": 0,
              "ticks": ""
             }
            },
            "type": "scatterternary"
           }
          ],
          "surface": [
           {
            "colorbar": {
             "outlinewidth": 0,
             "ticks": ""
            },
            "colorscale": [
             [
              0,
              "#0d0887"
             ],
             [
              0.1111111111111111,
              "#46039f"
             ],
             [
              0.2222222222222222,
              "#7201a8"
             ],
             [
              0.3333333333333333,
              "#9c179e"
             ],
             [
              0.4444444444444444,
              "#bd3786"
             ],
             [
              0.5555555555555556,
              "#d8576b"
             ],
             [
              0.6666666666666666,
              "#ed7953"
             ],
             [
              0.7777777777777778,
              "#fb9f3a"
             ],
             [
              0.8888888888888888,
              "#fdca26"
             ],
             [
              1,
              "#f0f921"
             ]
            ],
            "type": "surface"
           }
          ],
          "table": [
           {
            "cells": {
             "fill": {
              "color": "#EBF0F8"
             },
             "line": {
              "color": "white"
             }
            },
            "header": {
             "fill": {
              "color": "#C8D4E3"
             },
             "line": {
              "color": "white"
             }
            },
            "type": "table"
           }
          ]
         },
         "layout": {
          "annotationdefaults": {
           "arrowcolor": "#2a3f5f",
           "arrowhead": 0,
           "arrowwidth": 1
          },
          "autotypenumbers": "strict",
          "coloraxis": {
           "colorbar": {
            "outlinewidth": 0,
            "ticks": ""
           }
          },
          "colorscale": {
           "diverging": [
            [
             0,
             "#8e0152"
            ],
            [
             0.1,
             "#c51b7d"
            ],
            [
             0.2,
             "#de77ae"
            ],
            [
             0.3,
             "#f1b6da"
            ],
            [
             0.4,
             "#fde0ef"
            ],
            [
             0.5,
             "#f7f7f7"
            ],
            [
             0.6,
             "#e6f5d0"
            ],
            [
             0.7,
             "#b8e186"
            ],
            [
             0.8,
             "#7fbc41"
            ],
            [
             0.9,
             "#4d9221"
            ],
            [
             1,
             "#276419"
            ]
           ],
           "sequential": [
            [
             0,
             "#0d0887"
            ],
            [
             0.1111111111111111,
             "#46039f"
            ],
            [
             0.2222222222222222,
             "#7201a8"
            ],
            [
             0.3333333333333333,
             "#9c179e"
            ],
            [
             0.4444444444444444,
             "#bd3786"
            ],
            [
             0.5555555555555556,
             "#d8576b"
            ],
            [
             0.6666666666666666,
             "#ed7953"
            ],
            [
             0.7777777777777778,
             "#fb9f3a"
            ],
            [
             0.8888888888888888,
             "#fdca26"
            ],
            [
             1,
             "#f0f921"
            ]
           ],
           "sequentialminus": [
            [
             0,
             "#0d0887"
            ],
            [
             0.1111111111111111,
             "#46039f"
            ],
            [
             0.2222222222222222,
             "#7201a8"
            ],
            [
             0.3333333333333333,
             "#9c179e"
            ],
            [
             0.4444444444444444,
             "#bd3786"
            ],
            [
             0.5555555555555556,
             "#d8576b"
            ],
            [
             0.6666666666666666,
             "#ed7953"
            ],
            [
             0.7777777777777778,
             "#fb9f3a"
            ],
            [
             0.8888888888888888,
             "#fdca26"
            ],
            [
             1,
             "#f0f921"
            ]
           ]
          },
          "colorway": [
           "#636efa",
           "#EF553B",
           "#00cc96",
           "#ab63fa",
           "#FFA15A",
           "#19d3f3",
           "#FF6692",
           "#B6E880",
           "#FF97FF",
           "#FECB52"
          ],
          "font": {
           "color": "#2a3f5f"
          },
          "geo": {
           "bgcolor": "white",
           "lakecolor": "white",
           "landcolor": "#E5ECF6",
           "showlakes": true,
           "showland": true,
           "subunitcolor": "white"
          },
          "hoverlabel": {
           "align": "left"
          },
          "hovermode": "closest",
          "mapbox": {
           "style": "light"
          },
          "paper_bgcolor": "white",
          "plot_bgcolor": "#E5ECF6",
          "polar": {
           "angularaxis": {
            "gridcolor": "white",
            "linecolor": "white",
            "ticks": ""
           },
           "bgcolor": "#E5ECF6",
           "radialaxis": {
            "gridcolor": "white",
            "linecolor": "white",
            "ticks": ""
           }
          },
          "scene": {
           "xaxis": {
            "backgroundcolor": "#E5ECF6",
            "gridcolor": "white",
            "gridwidth": 2,
            "linecolor": "white",
            "showbackground": true,
            "ticks": "",
            "zerolinecolor": "white"
           },
           "yaxis": {
            "backgroundcolor": "#E5ECF6",
            "gridcolor": "white",
            "gridwidth": 2,
            "linecolor": "white",
            "showbackground": true,
            "ticks": "",
            "zerolinecolor": "white"
           },
           "zaxis": {
            "backgroundcolor": "#E5ECF6",
            "gridcolor": "white",
            "gridwidth": 2,
            "linecolor": "white",
            "showbackground": true,
            "ticks": "",
            "zerolinecolor": "white"
           }
          },
          "shapedefaults": {
           "line": {
            "color": "#2a3f5f"
           }
          },
          "ternary": {
           "aaxis": {
            "gridcolor": "white",
            "linecolor": "white",
            "ticks": ""
           },
           "baxis": {
            "gridcolor": "white",
            "linecolor": "white",
            "ticks": ""
           },
           "bgcolor": "#E5ECF6",
           "caxis": {
            "gridcolor": "white",
            "linecolor": "white",
            "ticks": ""
           }
          },
          "title": {
           "x": 0.05
          },
          "xaxis": {
           "automargin": true,
           "gridcolor": "white",
           "linecolor": "white",
           "ticks": "",
           "title": {
            "standoff": 15
           },
           "zerolinecolor": "white",
           "zerolinewidth": 2
          },
          "yaxis": {
           "automargin": true,
           "gridcolor": "white",
           "linecolor": "white",
           "ticks": "",
           "title": {
            "standoff": 15
           },
           "zerolinecolor": "white",
           "zerolinewidth": 2
          }
         }
        },
        "title": {
         "text": "Earthquake Counts and Average Magnitudes Across Countries (2000–2024)"
        }
       }
      }
     },
     "metadata": {},
     "output_type": "display_data"
    }
   ],
   "source": [
    "import plotly.express as px\n",
    "\n",
    "fig = px.treemap(\n",
    "    country_counts,\n",
    "    path=[\"Country Name\"],\n",
    "    values=\"Count\",\n",
    "    title=\"Earthquake Counts and Average Magnitudes Across Countries (2000–2024)\",\n",
    "    hover_data={\"Count\": True, \"Average Magnitude\": True}  # Pass 'Average Magnitude' explicitly\n",
    ")\n",
    "\n",
    "# custom hover \n",
    "fig.update_traces(\n",
    "    customdata=country_counts[[\"Average Magnitude\"]].values,  # Include custom data for hovertemplate\n",
    "    hovertemplate=\"<b>%{label}</b><br>Count: %{value}<br>Average Magnitude: %{customdata[0]:.2f}<extra></extra>\"\n",
    ")\n",
    "\n",
    "fig.show()\n"
   ]
  },
  {
   "cell_type": "markdown",
   "metadata": {},
   "source": [
    "## write-up for tree map: \n",
    "The treemap highlights global earthquake occurrences (2000–2024) by country, with box size representing the total number of earthquakes and hover data showing average magnitudes. Countries like China, Indonesia, and Japan dominate with frequent seismic activity, while smaller boxes, such as Panama and Haiti, indicate fewer recorded events. High-frequency countries like China and Indonesia experience frequent but varied-magnitude earthquakes, whereas nations like Japan and Chile endure fewer but more intense events. This visualization underscores the global disparities in earthquake frequency and severity, emphasizing the need for tailored disaster preparedness strategies based on regional seismic activity patterns."
   ]
  },
  {
   "cell_type": "code",
   "execution_count": 8,
   "metadata": {},
   "outputs": [
    {
     "name": "stderr",
     "output_type": "stream",
     "text": [
      "/Users/lauraboelsterli/anaconda3/envs/ds4200/lib/python3.11/site-packages/openpyxl/styles/stylesheet.py:237: UserWarning:\n",
      "\n",
      "Workbook contains no default style, apply openpyxl's default\n",
      "\n",
      "/var/folders/7l/h7qnw85j2hlf4tgr241lw5f00000gn/T/ipykernel_92272/2874546429.py:18: FutureWarning:\n",
      "\n",
      "Downcasting object dtype arrays on .fillna, .ffill, .bfill is deprecated and will change in a future version. Call result.infer_objects(copy=False) instead. To opt-in to the future behavior, set `pd.set_option('future.no_silent_downcasting', True)`\n",
      "\n"
     ]
    }
   ],
   "source": [
    "file_path = \"historicalCPI.xlsx\"  \n",
    "\n",
    "cpi_data = pd.read_excel(file_path, skiprows=10)\n",
    "# Make the first row the new header\n",
    "cpi_data.columns = cpi_data.iloc[0]  # Set the first row as column headers\n",
    "df = cpi_data[1:]  # Drop the first row from the data\n",
    "\n",
    "# Reset index for cleaner df\n",
    "df = df.reset_index(drop=True)\n",
    "\n",
    "# only will be using december of every year (3rd to last col)for inflation adjustment \n",
    "df = df[[\"Year\", \"Dec\"]]  # Use the explicit column name for December CPI\n",
    "df.columns = [\"Year\", \"CPI\"]  # Rename for simplicity\n",
    "\n",
    "# only 2000s and on \n",
    "df = df[df[\"Year\"].astype(int) >= 2000]\n",
    "# Add 315.664 to the CPI value for the year 2024 (missing)\n",
    "df.loc[df[\"Year\"] == 2024, \"CPI\"] = df.loc[df[\"Year\"] == 2024, \"CPI\"].fillna(0) + 315.664\n",
    "\n",
    "    # Display the up\n",
    "\n",
    "# cpi_data\n",
    "# df\n"
   ]
  },
  {
   "cell_type": "code",
   "execution_count": 9,
   "metadata": {},
   "outputs": [],
   "source": [
    "# Group by Country and Year, calculating total counts and sum of damages\n",
    "# Include average magnitude in the aggregation\n",
    "bubble_data = earthquakes.groupby([\"Country Name\", \"Year\"]).agg(\n",
    "    Earthquake_Count=(\"Country Name\", \"count\"),\n",
    "    Total_Damage_Mil=(\"Total Damage ($Mil)\", \"sum\"),\n",
    "    Average_Magnitude=(\"Mag\", \"mean\")\n",
    ").reset_index()\n",
    "\n",
    "# Filter out rows where Total_Damage_Mil is NaN or 0\n",
    "bubble_data = bubble_data[bubble_data[\"Total_Damage_Mil\"] > 0]\n",
    "bubble_data[\"Average_Magnitude\"] = bubble_data[\"Average_Magnitude\"].round(2)"
   ]
  },
  {
   "cell_type": "code",
   "execution_count": 10,
   "metadata": {},
   "outputs": [
    {
     "name": "stderr",
     "output_type": "stream",
     "text": [
      "/var/folders/7l/h7qnw85j2hlf4tgr241lw5f00000gn/T/ipykernel_92272/1727538281.py:14: FutureWarning:\n",
      "\n",
      "Downcasting object dtype arrays on .fillna, .ffill, .bfill is deprecated and will change in a future version. Call result.infer_objects(copy=False) instead. To opt-in to the future behavior, set `pd.set_option('future.no_silent_downcasting', True)`\n",
      "\n"
     ]
    }
   ],
   "source": [
    "# Adjust bubble chart data with inflation-adjusted damages using CPI\n",
    "\n",
    "# Merging bubble_data with the CPI dataset\n",
    "adjusted_bubble_data = bubble_data.merge(df, on=\"Year\", how=\"left\")\n",
    "\n",
    "# Add current CPI aka 2024\n",
    "current_cpi = df.loc[df[\"Year\"] == 2024, \"CPI\"].values[0]\n",
    "\n",
    "# calculate inflation-adjusted damages\n",
    "adjusted_bubble_data[\"Inflation_Adjusted_Damage_Mil\"] = (\n",
    "    adjusted_bubble_data[\"Total_Damage_Mil\"]\n",
    "    * (current_cpi / adjusted_bubble_data[\"CPI\"])\n",
    ")\n",
    "adjusted_bubble_data[\"Inflation_Adjusted_Damage_Mil\"] = adjusted_bubble_data[\"Inflation_Adjusted_Damage_Mil\"].fillna(0)\n",
    "\n",
    "\n",
    "# roudning the adjusted damages \n",
    "adjusted_bubble_data[\"Inflation_Adjusted_Damage_Mil\"] = adjusted_bubble_data[\"Inflation_Adjusted_Damage_Mil\"].round(2)\n",
    "\n",
    "# adjusted_bubble_data\n"
   ]
  },
  {
   "cell_type": "code",
   "execution_count": 11,
   "metadata": {},
   "outputs": [
    {
     "name": "stdout",
     "output_type": "stream",
     "text": [
      "all countries counted is 109\n",
      "Number of countries omitted from the graph: 62\n"
     ]
    }
   ],
   "source": [
    "# Count the number of countries omitted from the graph for later write up about the viz and dataset \n",
    "# all countries in the original dataset\n",
    "all_countries = earthquakes[\"Country Name\"].unique()\n",
    "print(\"all countries counted is\", len(all_countries))\n",
    "# get the countries included in the bubble_data after filtering\n",
    "included_countries = adjusted_bubble_data[\"Country Name\"].unique()\n",
    "# Find omitted countries\n",
    "omitted_countries = set(all_countries) - set(included_countries)\n",
    "num_omitted_countries = len(omitted_countries)\n",
    "# count of omitted countries\n",
    "print(f\"Number of countries omitted from the graph: {num_omitted_countries}\")\n",
    "\n",
    "# 47 out of 109 countries represented in that graph"
   ]
  },
  {
   "cell_type": "code",
   "execution_count": 17,
   "metadata": {},
   "outputs": [
    {
     "data": {
      "application/vnd.plotly.v1+json": {
       "config": {
        "plotlyServerURL": "https://plot.ly"
       },
       "data": [
        {
         "customdata": [
          [
           145.47,
           "AFGHANISTAN",
           6.9
          ],
          [
           128.05,
           "AFGHANISTAN",
           5.43
          ],
          [
           51.45,
           "AFGHANISTAN",
           6.35
          ]
         ],
         "hovertemplate": "Country Name=%{customdata[1]}<br>Year=%{x}<br>Earthquake Counts=%{y}<br>Total Damage ($Mil)=%{customdata[0]}<br>Average Magnitude=%{customdata[2]}<extra></extra>",
         "legendgroup": "AFGHANISTAN",
         "marker": {
          "color": "#636efa",
          "size": [
           145.47,
           128.05,
           51.45
          ],
          "sizemode": "area",
          "sizeref": 48.112692187499995,
          "symbol": "circle"
         },
         "mode": "markers",
         "name": "AFGHANISTAN",
         "orientation": "v",
         "showlegend": true,
         "type": "scatter",
         "x": [
          2015,
          2022,
          2023
         ],
         "xaxis": "x",
         "y": [
          2,
          3,
          4
         ],
         "yaxis": "y"
        },
        {
         "customdata": [
          [
           1383.17,
           "ALBANIA",
           5.73
          ]
         ],
         "hovertemplate": "Country Name=%{customdata[1]}<br>Year=%{x}<br>Earthquake Counts=%{y}<br>Total Damage ($Mil)=%{customdata[0]}<br>Average Magnitude=%{customdata[2]}<extra></extra>",
         "legendgroup": "ALBANIA",
         "marker": {
          "color": "#EF553B",
          "size": [
           1383.17
          ],
          "sizemode": "area",
          "sizeref": 48.112692187499995,
          "symbol": "circle"
         },
         "mode": "markers",
         "name": "ALBANIA",
         "orientation": "v",
         "showlegend": true,
         "type": "scatter",
         "x": [
          2019
         ],
         "xaxis": "x",
         "y": [
          3
         ],
         "yaxis": "y"
        },
        {
         "customdata": [
          [
           8563.86,
           "ALGERIA",
           6.25
          ]
         ],
         "hovertemplate": "Country Name=%{customdata[1]}<br>Year=%{x}<br>Earthquake Counts=%{y}<br>Total Damage ($Mil)=%{customdata[0]}<br>Average Magnitude=%{customdata[2]}<extra></extra>",
         "legendgroup": "ALGERIA",
         "marker": {
          "color": "#00cc96",
          "size": [
           8563.86
          ],
          "sizemode": "area",
          "sizeref": 48.112692187499995,
          "symbol": "circle"
         },
         "mode": "markers",
         "name": "ALGERIA",
         "orientation": "v",
         "showlegend": true,
         "type": "scatter",
         "x": [
          2003
         ],
         "xaxis": "x",
         "y": [
          2
         ],
         "yaxis": "y"
        },
        {
         "customdata": [
          [
           43206.33,
           "CHILE",
           7.85
          ],
          [
           134.43,
           "CHILE",
           7.4
          ],
          [
           800.75,
           "CHILE",
           7.6
          ]
         ],
         "hovertemplate": "Country Name=%{customdata[1]}<br>Year=%{x}<br>Earthquake Counts=%{y}<br>Total Damage ($Mil)=%{customdata[0]}<br>Average Magnitude=%{customdata[2]}<extra></extra>",
         "legendgroup": "CHILE",
         "marker": {
          "color": "#ab63fa",
          "size": [
           43206.33,
           134.43,
           800.75
          ],
          "sizemode": "area",
          "sizeref": 48.112692187499995,
          "symbol": "circle"
         },
         "mode": "markers",
         "name": "CHILE",
         "orientation": "v",
         "showlegend": true,
         "type": "scatter",
         "x": [
          2010,
          2014,
          2015
         ],
         "xaxis": "x",
         "y": [
          2,
          4,
          2
         ],
         "yaxis": "y"
        },
        {
         "customdata": [
          [
           211.35,
           "CHINA",
           5.38
          ],
          [
           64.31,
           "CHINA",
           5.76
          ],
          [
           196.97,
           "CHINA",
           5.63
          ],
          [
           205.69,
           "CHINA",
           5.16
          ],
          [
           465.9,
           "CHINA",
           5.22
          ],
          [
           129137.73,
           "CHINA",
           5.97
          ],
          [
           720.11,
           "CHINA",
           5.14
          ],
          [
           14.69,
           "CHINA",
           5.29
          ],
          [
           1583.81,
           "CHINA",
           5.55
          ],
          [
           10060.25,
           "CHINA",
           5.49
          ],
          [
           7582,
           "CHINA",
           5.87
          ],
          [
           39.57,
           "CHINA",
           5.18
          ],
          [
           262.15,
           "CHINA",
           5.5
          ],
          [
           839.34,
           "CHINA",
           5.78
          ],
          [
           102.09,
           "CHINA",
           5.32
          ],
          [
           1599.36,
           "CHINA",
           5.09
          ],
          [
           34.27,
           "CHINA",
           5.5
          ],
          [
           338.53,
           "CHINA",
           6.05
          ],
          [
           1484.74,
           "CHINA",
           6.08
          ],
          [
           2125.04,
           "CHINA",
           5.53
          ]
         ],
         "hovertemplate": "Country Name=%{customdata[1]}<br>Year=%{x}<br>Earthquake Counts=%{y}<br>Total Damage ($Mil)=%{customdata[0]}<br>Average Magnitude=%{customdata[2]}<extra></extra>",
         "legendgroup": "CHINA",
         "marker": {
          "color": "#FFA15A",
          "size": [
           211.35,
           64.31,
           196.97,
           205.69,
           465.9,
           129137.73,
           720.11,
           14.69,
           1583.81,
           10060.25,
           7582,
           39.57,
           262.15,
           839.34,
           102.09,
           1599.36,
           34.27,
           338.53,
           1484.74,
           2125.04
          ],
          "sizemode": "area",
          "sizeref": 48.112692187499995,
          "symbol": "circle"
         },
         "mode": "markers",
         "name": "CHINA",
         "orientation": "v",
         "showlegend": true,
         "type": "scatter",
         "x": [
          2000,
          2001,
          2003,
          2004,
          2007,
          2008,
          2010,
          2011,
          2012,
          2013,
          2014,
          2015,
          2016,
          2017,
          2018,
          2019,
          2020,
          2021,
          2022,
          2023
         ],
         "xaxis": "x",
         "y": [
          4,
          5,
          14,
          5,
          4,
          15,
          5,
          10,
          6,
          10,
          9,
          6,
          5,
          6,
          4,
          7,
          3,
          4,
          5,
          3
         ],
         "yaxis": "y"
        },
        {
         "customdata": [
          [
           30.87,
           "COLOMBIA",
           6.3
          ]
         ],
         "hovertemplate": "Country Name=%{customdata[1]}<br>Year=%{x}<br>Earthquake Counts=%{y}<br>Total Damage ($Mil)=%{customdata[0]}<br>Average Magnitude=%{customdata[2]}<extra></extra>",
         "legendgroup": "COLOMBIA",
         "marker": {
          "color": "#19d3f3",
          "size": [
           30.87
          ],
          "sizemode": "area",
          "sizeref": 48.112692187499995,
          "symbol": "circle"
         },
         "mode": "markers",
         "name": "COLOMBIA",
         "orientation": "v",
         "showlegend": true,
         "type": "scatter",
         "x": [
          2023
         ],
         "xaxis": "x",
         "y": [
          1
         ],
         "yaxis": "y"
        },
        {
         "customdata": [
          [
           733.8,
           "COSTA RICA",
           6.1
          ],
          [
           61.87,
           "COSTA RICA",
           7.6
          ]
         ],
         "hovertemplate": "Country Name=%{customdata[1]}<br>Year=%{x}<br>Earthquake Counts=%{y}<br>Total Damage ($Mil)=%{customdata[0]}<br>Average Magnitude=%{customdata[2]}<extra></extra>",
         "legendgroup": "COSTA RICA",
         "marker": {
          "color": "#FF6692",
          "size": [
           733.8,
           61.87
          ],
          "sizemode": "area",
          "sizeref": 48.112692187499995,
          "symbol": "circle"
         },
         "mode": "markers",
         "name": "COSTA RICA",
         "orientation": "v",
         "showlegend": true,
         "type": "scatter",
         "x": [
          2009,
          2012
         ],
         "xaxis": "x",
         "y": [
          1,
          1
         ],
         "yaxis": "y"
        },
        {
         "customdata": [
          [
           7255.54,
           "CROATIA",
           5.9
          ]
         ],
         "hovertemplate": "Country Name=%{customdata[1]}<br>Year=%{x}<br>Earthquake Counts=%{y}<br>Total Damage ($Mil)=%{customdata[0]}<br>Average Magnitude=%{customdata[2]}<extra></extra>",
         "legendgroup": "CROATIA",
         "marker": {
          "color": "#B6E880",
          "size": [
           7255.54
          ],
          "sizemode": "area",
          "sizeref": 48.112692187499995,
          "symbol": "circle"
         },
         "mode": "markers",
         "name": "CROATIA",
         "orientation": "v",
         "showlegend": true,
         "type": "scatter",
         "x": [
          2020
         ],
         "xaxis": "x",
         "y": [
          2
         ],
         "yaxis": "y"
        },
        {
         "customdata": [
          [
           4314.64,
           "ECUADOR",
           6.7
          ]
         ],
         "hovertemplate": "Country Name=%{customdata[1]}<br>Year=%{x}<br>Earthquake Counts=%{y}<br>Total Damage ($Mil)=%{customdata[0]}<br>Average Magnitude=%{customdata[2]}<extra></extra>",
         "legendgroup": "ECUADOR",
         "marker": {
          "color": "#FF97FF",
          "size": [
           4314.64
          ],
          "sizemode": "area",
          "sizeref": 48.112692187499995,
          "symbol": "circle"
         },
         "mode": "markers",
         "name": "ECUADOR",
         "orientation": "v",
         "showlegend": true,
         "type": "scatter",
         "x": [
          2016
         ],
         "xaxis": "x",
         "y": [
          3
         ],
         "yaxis": "y"
        },
        {
         "customdata": [
          [
           1967.76,
           "EL SALVADOR",
           6.67
          ]
         ],
         "hovertemplate": "Country Name=%{customdata[1]}<br>Year=%{x}<br>Earthquake Counts=%{y}<br>Total Damage ($Mil)=%{customdata[0]}<br>Average Magnitude=%{customdata[2]}<extra></extra>",
         "legendgroup": "EL SALVADOR",
         "marker": {
          "color": "#FECB52",
          "size": [
           1967.76
          ],
          "sizemode": "area",
          "sizeref": 48.112692187499995,
          "symbol": "circle"
         },
         "mode": "markers",
         "name": "EL SALVADOR",
         "orientation": "v",
         "showlegend": true,
         "type": "scatter",
         "x": [
          2001
         ],
         "xaxis": "x",
         "y": [
          3
         ],
         "yaxis": "y"
        },
        {
         "customdata": [
          [
           72.97,
           "FRANCE",
           4.8
          ],
          [
           452.79,
           "FRANCE",
           4.8
          ]
         ],
         "hovertemplate": "Country Name=%{customdata[1]}<br>Year=%{x}<br>Earthquake Counts=%{y}<br>Total Damage ($Mil)=%{customdata[0]}<br>Average Magnitude=%{customdata[2]}<extra></extra>",
         "legendgroup": "FRANCE",
         "marker": {
          "color": "#636efa",
          "size": [
           72.97,
           452.79
          ],
          "sizemode": "area",
          "sizeref": 48.112692187499995,
          "symbol": "circle"
         },
         "mode": "markers",
         "name": "FRANCE",
         "orientation": "v",
         "showlegend": true,
         "type": "scatter",
         "x": [
          2019,
          2023
         ],
         "xaxis": "x",
         "y": [
          1,
          1
         ],
         "yaxis": "y"
        },
        {
         "customdata": [
          [
           1.83,
           "GERMANY",
           3.6
          ]
         ],
         "hovertemplate": "Country Name=%{customdata[1]}<br>Year=%{x}<br>Earthquake Counts=%{y}<br>Total Damage ($Mil)=%{customdata[0]}<br>Average Magnitude=%{customdata[2]}<extra></extra>",
         "legendgroup": "GERMANY",
         "marker": {
          "color": "#EF553B",
          "size": [
           1.83
          ],
          "sizemode": "area",
          "sizeref": 48.112692187499995,
          "symbol": "circle"
         },
         "mode": "markers",
         "name": "GERMANY",
         "orientation": "v",
         "showlegend": true,
         "type": "scatter",
         "x": [
          2014
         ],
         "xaxis": "x",
         "y": [
          1
         ],
         "yaxis": "y"
        },
        {
         "customdata": [
          [
           6288.76,
           "GREECE",
           6.33
          ],
          [
           484.75,
           "GREECE",
           6.8
          ],
          [
           11.32,
           "GREECE",
           6.23
          ]
         ],
         "hovertemplate": "Country Name=%{customdata[1]}<br>Year=%{x}<br>Earthquake Counts=%{y}<br>Total Damage ($Mil)=%{customdata[0]}<br>Average Magnitude=%{customdata[2]}<extra></extra>",
         "legendgroup": "GREECE",
         "marker": {
          "color": "#00cc96",
          "size": [
           6288.76,
           484.75,
           11.32
          ],
          "sizemode": "area",
          "sizeref": 48.112692187499995,
          "symbol": "circle"
         },
         "mode": "markers",
         "name": "GREECE",
         "orientation": "v",
         "showlegend": true,
         "type": "scatter",
         "x": [
          2014,
          2020,
          2021
         ],
         "xaxis": "x",
         "y": [
          3,
          2,
          3
         ],
         "yaxis": "y"
        },
        {
         "customdata": [
          [
           288.72,
           "GUATEMALA",
           7.3
          ],
          [
           2.71,
           "GUATEMALA",
           6.4
          ]
         ],
         "hovertemplate": "Country Name=%{customdata[1]}<br>Year=%{x}<br>Earthquake Counts=%{y}<br>Total Damage ($Mil)=%{customdata[0]}<br>Average Magnitude=%{customdata[2]}<extra></extra>",
         "legendgroup": "GUATEMALA",
         "marker": {
          "color": "#ab63fa",
          "size": [
           288.72,
           2.71
          ],
          "sizemode": "area",
          "sizeref": 48.112692187499995,
          "symbol": "circle"
         },
         "mode": "markers",
         "name": "GUATEMALA",
         "orientation": "v",
         "showlegend": true,
         "type": "scatter",
         "x": [
          2012,
          2013
         ],
         "xaxis": "x",
         "y": [
          1,
          1
         ],
         "yaxis": "y"
        },
        {
         "customdata": [
          [
           11521.69,
           "HAITI",
           7
          ],
          [
           1811.55,
           "HAITI",
           7.2
          ]
         ],
         "hovertemplate": "Country Name=%{customdata[1]}<br>Year=%{x}<br>Earthquake Counts=%{y}<br>Total Damage ($Mil)=%{customdata[0]}<br>Average Magnitude=%{customdata[2]}<extra></extra>",
         "legendgroup": "HAITI",
         "marker": {
          "color": "#FFA15A",
          "size": [
           11521.69,
           1811.55
          ],
          "sizemode": "area",
          "sizeref": 48.112692187499995,
          "symbol": "circle"
         },
         "mode": "markers",
         "name": "HAITI",
         "orientation": "v",
         "showlegend": true,
         "type": "scatter",
         "x": [
          2010,
          2021
         ],
         "xaxis": "x",
         "y": [
          1,
          1
         ],
         "yaxis": "y"
        },
        {
         "customdata": [
          [
           114.19,
           "HAWAII",
           6.7
          ],
          [
           464.89,
           "HAWAII",
           6.9
          ]
         ],
         "hovertemplate": "Country Name=%{customdata[1]}<br>Year=%{x}<br>Earthquake Counts=%{y}<br>Total Damage ($Mil)=%{customdata[0]}<br>Average Magnitude=%{customdata[2]}<extra></extra>",
         "legendgroup": "HAWAII",
         "marker": {
          "color": "#19d3f3",
          "size": [
           114.19,
           464.89
          ],
          "sizemode": "area",
          "sizeref": 48.112692187499995,
          "symbol": "circle"
         },
         "mode": "markers",
         "name": "HAWAII",
         "orientation": "v",
         "showlegend": true,
         "type": "scatter",
         "x": [
          2006,
          2018
         ],
         "xaxis": "x",
         "y": [
          1,
          1
         ],
         "yaxis": "y"
        },
        {
         "customdata": [
          [
           146.18,
           "HONDURAS",
           7.3
          ]
         ],
         "hovertemplate": "Country Name=%{customdata[1]}<br>Year=%{x}<br>Earthquake Counts=%{y}<br>Total Damage ($Mil)=%{customdata[0]}<br>Average Magnitude=%{customdata[2]}<extra></extra>",
         "legendgroup": "HONDURAS",
         "marker": {
          "color": "#FF6692",
          "size": [
           146.18
          ],
          "sizemode": "area",
          "sizeref": 48.112692187499995,
          "symbol": "circle"
         },
         "mode": "markers",
         "name": "HONDURAS",
         "orientation": "v",
         "showlegend": true,
         "type": "scatter",
         "x": [
          2009
         ],
         "xaxis": "x",
         "y": [
          1
         ],
         "yaxis": "y"
        },
        {
         "customdata": [
          [
           58.05,
           "ICELAND",
           6.5
          ]
         ],
         "hovertemplate": "Country Name=%{customdata[1]}<br>Year=%{x}<br>Earthquake Counts=%{y}<br>Total Damage ($Mil)=%{customdata[0]}<br>Average Magnitude=%{customdata[2]}<extra></extra>",
         "legendgroup": "ICELAND",
         "marker": {
          "color": "#B6E880",
          "size": [
           58.05
          ],
          "sizemode": "area",
          "sizeref": 48.112692187499995,
          "symbol": "circle"
         },
         "mode": "markers",
         "name": "ICELAND",
         "orientation": "v",
         "showlegend": true,
         "type": "scatter",
         "x": [
          2000
         ],
         "xaxis": "x",
         "y": [
          2
         ],
         "yaxis": "y"
        },
        {
         "customdata": [
          [
           4685.83,
           "INDIA",
           7.6
          ],
          [
           2937.42,
           "INDIA",
           5.1
          ],
          [
           26.41,
           "INDIA",
           5.45
          ],
          [
           98.06,
           "INDIA",
           6.8
          ]
         ],
         "hovertemplate": "Country Name=%{customdata[1]}<br>Year=%{x}<br>Earthquake Counts=%{y}<br>Total Damage ($Mil)=%{customdata[0]}<br>Average Magnitude=%{customdata[2]}<extra></extra>",
         "legendgroup": "INDIA",
         "marker": {
          "color": "#FF97FF",
          "size": [
           4685.83,
           2937.42,
           26.41,
           98.06
          ],
          "sizemode": "area",
          "sizeref": 48.112692187499995,
          "symbol": "circle"
         },
         "mode": "markers",
         "name": "INDIA",
         "orientation": "v",
         "showlegend": true,
         "type": "scatter",
         "x": [
          2001,
          2011,
          2013,
          2016
         ],
         "xaxis": "x",
         "y": [
          1,
          5,
          2,
          2
         ],
         "yaxis": "y"
        },
        {
         "customdata": [
          [
           65.31,
           "INDONESIA",
           6.9
          ],
          [
           16700.5,
           "INDONESIA",
           6.6
          ],
          [
           59.92,
           "INDONESIA",
           6.33
          ],
          [
           4935.18,
           "INDONESIA",
           6.23
          ],
          [
           3234.03,
           "INDONESIA",
           6.76
          ],
          [
           56.17,
           "INDONESIA",
           6.98
          ],
          [
           153.06,
           "INDONESIA",
           5.68
          ],
          [
           12.01,
           "INDONESIA",
           6.7
          ],
          [
           130.75,
           "INDONESIA",
           6.4
          ],
          [
           2524.23,
           "INDONESIA",
           5.98
          ],
          [
           66.46,
           "INDONESIA",
           5.98
          ],
          [
           273.34,
           "INDONESIA",
           6.08
          ]
         ],
         "hovertemplate": "Country Name=%{customdata[1]}<br>Year=%{x}<br>Earthquake Counts=%{y}<br>Total Damage ($Mil)=%{customdata[0]}<br>Average Magnitude=%{customdata[2]}<extra></extra>",
         "legendgroup": "INDONESIA",
         "marker": {
          "color": "#FECB52",
          "size": [
           65.31,
           16700.5,
           59.92,
           4935.18,
           3234.03,
           56.17,
           153.06,
           12.01,
           130.75,
           2524.23,
           66.46,
           273.34
          ],
          "sizemode": "area",
          "sizeref": 48.112692187499995,
          "symbol": "circle"
         },
         "mode": "markers",
         "name": "INDONESIA",
         "orientation": "v",
         "showlegend": true,
         "type": "scatter",
         "x": [
          2000,
          2004,
          2005,
          2006,
          2009,
          2010,
          2013,
          2015,
          2016,
          2018,
          2021,
          2022
         ],
         "xaxis": "x",
         "y": [
          4,
          12,
          7,
          10,
          7,
          5,
          5,
          3,
          6,
          13,
          6,
          4
         ],
         "yaxis": "y"
        },
        {
         "customdata": [
          [
           523.49,
           "IRAN",
           5.55
          ],
          [
           893.38,
           "IRAN",
           5.56
          ],
          [
           273.7,
           "IRAN",
           5.32
          ],
          [
           823.53,
           "IRAN",
           5.62
          ],
          [
           402.29,
           "IRAN",
           6.48
          ],
          [
           60.49,
           "IRAN",
           5.57
          ],
          [
           962.91,
           "IRAN",
           5.51
          ],
          [
           198.14,
           "IRAN",
           5.73
          ],
          [
           151.03,
           "IRAN",
           5.8
          ],
          [
           313.87,
           "IRAN",
           5.8
          ]
         ],
         "hovertemplate": "Country Name=%{customdata[1]}<br>Year=%{x}<br>Earthquake Counts=%{y}<br>Total Damage ($Mil)=%{customdata[0]}<br>Average Magnitude=%{customdata[2]}<extra></extra>",
         "legendgroup": "IRAN",
         "marker": {
          "color": "#636efa",
          "size": [
           523.49,
           893.38,
           273.7,
           823.53,
           402.29,
           60.49,
           962.91,
           198.14,
           151.03,
           313.87
          ],
          "sizemode": "area",
          "sizeref": 48.112692187499995,
          "symbol": "circle"
         },
         "mode": "markers",
         "name": "IRAN",
         "orientation": "v",
         "showlegend": true,
         "type": "scatter",
         "x": [
          2002,
          2003,
          2004,
          2012,
          2013,
          2014,
          2017,
          2021,
          2022,
          2023
         ],
         "xaxis": "x",
         "y": [
          6,
          5,
          6,
          5,
          4,
          3,
          8,
          3,
          2,
          2
         ],
         "yaxis": "y"
        },
        {
         "customdata": [
          [
           2261.47,
           "ITALY",
           5.33
          ],
          [
           960.87,
           "ITALY",
           5
          ],
          [
           3654.38,
           "ITALY",
           5.9
          ],
          [
           21722.43,
           "ITALY",
           5.7
          ],
          [
           6798.82,
           "ITALY",
           6.3
          ],
          [
           23.05,
           "ITALY",
           4.95
          ],
          [
           144.49,
           "ITALY",
           4.85
          ]
         ],
         "hovertemplate": "Country Name=%{customdata[1]}<br>Year=%{x}<br>Earthquake Counts=%{y}<br>Total Damage ($Mil)=%{customdata[0]}<br>Average Magnitude=%{customdata[2]}<extra></extra>",
         "legendgroup": "ITALY",
         "marker": {
          "color": "#EF553B",
          "size": [
           2261.47,
           960.87,
           3654.38,
           21722.43,
           6798.82,
           23.05,
           144.49
          ],
          "sizemode": "area",
          "sizeref": 48.112692187499995,
          "symbol": "circle"
         },
         "mode": "markers",
         "name": "ITALY",
         "orientation": "v",
         "showlegend": true,
         "type": "scatter",
         "x": [
          2002,
          2003,
          2009,
          2012,
          2016,
          2017,
          2018
         ],
         "xaxis": "x",
         "y": [
          3,
          3,
          2,
          3,
          3,
          2,
          2
         ],
         "yaxis": "y"
        },
        {
         "customdata": [
          [
           272.12,
           "JAPAN",
           6.6
          ],
          [
           893.22,
           "JAPAN",
           6.8
          ],
          [
           1257.18,
           "JAPAN",
           6.45
          ],
          [
           46445.57,
           "JAPAN",
           6.52
          ],
          [
           18786.3,
           "JAPAN",
           6.35
          ],
          [
           307921.23,
           "JAPAN",
           7.39
          ],
          [
           2.69,
           "JAPAN",
           6.33
          ],
          [
           26280.06,
           "JAPAN",
           6.52
          ],
          [
           11308.13,
           "JAPAN",
           5.8
          ],
          [
           9340.78,
           "JAPAN",
           7.05
          ],
          [
           9359.4,
           "JAPAN",
           7.3
          ],
          [
           17600,
           "JAPAN",
           6.73
          ]
         ],
         "hovertemplate": "Country Name=%{customdata[1]}<br>Year=%{x}<br>Earthquake Counts=%{y}<br>Total Damage ($Mil)=%{customdata[0]}<br>Average Magnitude=%{customdata[2]}<extra></extra>",
         "legendgroup": "JAPAN",
         "marker": {
          "color": "#00cc96",
          "size": [
           272.12,
           893.22,
           1257.18,
           46445.57,
           18786.3,
           307921.23,
           2.69,
           26280.06,
           11308.13,
           9340.78,
           9359.4,
           17600
          ],
          "sizemode": "area",
          "sizeref": 48.112692187499995,
          "symbol": "circle"
         },
         "mode": "markers",
         "name": "JAPAN",
         "orientation": "v",
         "showlegend": true,
         "type": "scatter",
         "x": [
          2000,
          2001,
          2003,
          2004,
          2007,
          2011,
          2014,
          2016,
          2018,
          2021,
          2022,
          2024
         ],
         "xaxis": "x",
         "y": [
          5,
          1,
          6,
          8,
          4,
          8,
          3,
          4,
          4,
          2,
          1,
          3
         ],
         "yaxis": "y"
        },
        {
         "customdata": [
          [
           16.02,
           "KYRGYZSTAN",
           5.6
          ]
         ],
         "hovertemplate": "Country Name=%{customdata[1]}<br>Year=%{x}<br>Earthquake Counts=%{y}<br>Total Damage ($Mil)=%{customdata[0]}<br>Average Magnitude=%{customdata[2]}<extra></extra>",
         "legendgroup": "KYRGYZSTAN",
         "marker": {
          "color": "#ab63fa",
          "size": [
           16.02
          ],
          "sizemode": "area",
          "sizeref": 48.112692187499995,
          "symbol": "circle"
         },
         "mode": "markers",
         "name": "KYRGYZSTAN",
         "orientation": "v",
         "showlegend": true,
         "type": "scatter",
         "x": [
          2015
         ],
         "xaxis": "x",
         "y": [
          1
         ],
         "yaxis": "y"
        },
        {
         "customdata": [
          [
           13.07,
           "MACEDONIA",
           5.1
          ]
         ],
         "hovertemplate": "Country Name=%{customdata[1]}<br>Year=%{x}<br>Earthquake Counts=%{y}<br>Total Damage ($Mil)=%{customdata[0]}<br>Average Magnitude=%{customdata[2]}<extra></extra>",
         "legendgroup": "MACEDONIA",
         "marker": {
          "color": "#FFA15A",
          "size": [
           13.07
          ],
          "sizemode": "area",
          "sizeref": 48.112692187499995,
          "symbol": "circle"
         },
         "mode": "markers",
         "name": "MACEDONIA",
         "orientation": "v",
         "showlegend": true,
         "type": "scatter",
         "x": [
          2016
         ],
         "xaxis": "x",
         "y": [
          1
         ],
         "yaxis": "y"
        },
        {
         "customdata": [
          [
           154.8,
           "MARTINIQUE",
           7.4
          ]
         ],
         "hovertemplate": "Country Name=%{customdata[1]}<br>Year=%{x}<br>Earthquake Counts=%{y}<br>Total Damage ($Mil)=%{customdata[0]}<br>Average Magnitude=%{customdata[2]}<extra></extra>",
         "legendgroup": "MARTINIQUE",
         "marker": {
          "color": "#19d3f3",
          "size": [
           154.8
          ],
          "sizemode": "area",
          "sizeref": 48.112692187499995,
          "symbol": "circle"
         },
         "mode": "markers",
         "name": "MARTINIQUE",
         "orientation": "v",
         "showlegend": true,
         "type": "scatter",
         "x": [
          2007
         ],
         "xaxis": "x",
         "y": [
          1
         ],
         "yaxis": "y"
        },
        {
         "customdata": [
          [
           1656.24,
           "MEXICO",
           6.7
          ],
          [
           824.9,
           "MEXICO",
           7.4
          ],
          [
           15365.51,
           "MEXICO",
           7.13
          ],
          [
           226.44,
           "MEXICO",
           7
          ],
          [
           26.59,
           "MEXICO",
           6.63
          ]
         ],
         "hovertemplate": "Country Name=%{customdata[1]}<br>Year=%{x}<br>Earthquake Counts=%{y}<br>Total Damage ($Mil)=%{customdata[0]}<br>Average Magnitude=%{customdata[2]}<extra></extra>",
         "legendgroup": "MEXICO",
         "marker": {
          "color": "#FF6692",
          "size": [
           1656.24,
           824.9,
           15365.51,
           226.44,
           26.59
          ],
          "sizemode": "area",
          "sizeref": 48.112692187499995,
          "symbol": "circle"
         },
         "mode": "markers",
         "name": "MEXICO",
         "orientation": "v",
         "showlegend": true,
         "type": "scatter",
         "x": [
          2010,
          2012,
          2017,
          2021,
          2022
         ],
         "xaxis": "x",
         "y": [
          2,
          1,
          3,
          1,
          3
         ],
         "yaxis": "y"
        },
        {
         "customdata": [
          [
           663.51,
           "MOROCCO",
           6.4
          ],
          [
           7203.51,
           "MOROCCO",
           6.8
          ]
         ],
         "hovertemplate": "Country Name=%{customdata[1]}<br>Year=%{x}<br>Earthquake Counts=%{y}<br>Total Damage ($Mil)=%{customdata[0]}<br>Average Magnitude=%{customdata[2]}<extra></extra>",
         "legendgroup": "MOROCCO",
         "marker": {
          "color": "#B6E880",
          "size": [
           663.51,
           7203.51
          ],
          "sizemode": "area",
          "sizeref": 48.112692187499995,
          "symbol": "circle"
         },
         "mode": "markers",
         "name": "MOROCCO",
         "orientation": "v",
         "showlegend": true,
         "type": "scatter",
         "x": [
          2004,
          2023
         ],
         "xaxis": "x",
         "y": [
          1,
          1
         ],
         "yaxis": "y"
        },
        {
         "customdata": [
          [
           5.04,
           "MYANMAR",
           6.55
          ],
          [
           13.07,
           "MYANMAR",
           6.8
          ]
         ],
         "hovertemplate": "Country Name=%{customdata[1]}<br>Year=%{x}<br>Earthquake Counts=%{y}<br>Total Damage ($Mil)=%{customdata[0]}<br>Average Magnitude=%{customdata[2]}<extra></extra>",
         "legendgroup": "MYANMAR",
         "marker": {
          "color": "#FF97FF",
          "size": [
           5.04,
           13.07
          ],
          "sizemode": "area",
          "sizeref": 48.112692187499995,
          "symbol": "circle"
         },
         "mode": "markers",
         "name": "MYANMAR",
         "orientation": "v",
         "showlegend": true,
         "type": "scatter",
         "x": [
          2011,
          2016
         ],
         "xaxis": "x",
         "y": [
          2,
          1
         ],
         "yaxis": "y"
        },
        {
         "customdata": [
          [
           8007.54,
           "NEPAL",
           7.55
          ],
          [
           20.58,
           "NEPAL",
           5.7
          ]
         ],
         "hovertemplate": "Country Name=%{customdata[1]}<br>Year=%{x}<br>Earthquake Counts=%{y}<br>Total Damage ($Mil)=%{customdata[0]}<br>Average Magnitude=%{customdata[2]}<extra></extra>",
         "legendgroup": "NEPAL",
         "marker": {
          "color": "#FECB52",
          "size": [
           8007.54,
           20.58
          ],
          "sizemode": "area",
          "sizeref": 48.112692187499995,
          "symbol": "circle"
         },
         "mode": "markers",
         "name": "NEPAL",
         "orientation": "v",
         "showlegend": true,
         "type": "scatter",
         "x": [
          2015,
          2023
         ],
         "xaxis": "x",
         "y": [
          2,
          2
         ],
         "yaxis": "y"
        },
        {
         "customdata": [
          [
           9361.37,
           "NEW ZEALAND",
           5.32
          ],
          [
           25177.92,
           "NEW ZEALAND",
           6.16
          ],
          [
           67.72,
           "NEW ZEALAND",
           6.5
          ],
          [
           5099.12,
           "NEW ZEALAND",
           7.4
          ]
         ],
         "hovertemplate": "Country Name=%{customdata[1]}<br>Year=%{x}<br>Earthquake Counts=%{y}<br>Total Damage ($Mil)=%{customdata[0]}<br>Average Magnitude=%{customdata[2]}<extra></extra>",
         "legendgroup": "NEW ZEALAND",
         "marker": {
          "color": "#636efa",
          "size": [
           9361.37,
           25177.92,
           67.72,
           5099.12
          ],
          "sizemode": "area",
          "sizeref": 48.112692187499995,
          "symbol": "circle"
         },
         "mode": "markers",
         "name": "NEW ZEALAND",
         "orientation": "v",
         "showlegend": true,
         "type": "scatter",
         "x": [
          2010,
          2011,
          2013,
          2016
         ],
         "xaxis": "x",
         "y": [
          5,
          5,
          2,
          2
         ],
         "yaxis": "y"
        },
        {
         "customdata": [
          [
           4.03,
           "NICARAGUA",
           5.65
          ]
         ],
         "hovertemplate": "Country Name=%{customdata[1]}<br>Year=%{x}<br>Earthquake Counts=%{y}<br>Total Damage ($Mil)=%{customdata[0]}<br>Average Magnitude=%{customdata[2]}<extra></extra>",
         "legendgroup": "NICARAGUA",
         "marker": {
          "color": "#EF553B",
          "size": [
           4.03
          ],
          "sizemode": "area",
          "sizeref": 48.112692187499995,
          "symbol": "circle"
         },
         "mode": "markers",
         "name": "NICARAGUA",
         "orientation": "v",
         "showlegend": true,
         "type": "scatter",
         "x": [
          2014
         ],
         "xaxis": "x",
         "y": [
          2
         ],
         "yaxis": "y"
        },
        {
         "customdata": [
          [
           10714.61,
           "PAKISTAN",
           6.25
          ],
          [
           135.45,
           "PAKISTAN",
           7.25
          ],
          [
           20.88,
           "PAKISTAN",
           5.6
          ]
         ],
         "hovertemplate": "Country Name=%{customdata[1]}<br>Year=%{x}<br>Earthquake Counts=%{y}<br>Total Damage ($Mil)=%{customdata[0]}<br>Average Magnitude=%{customdata[2]}<extra></extra>",
         "legendgroup": "PAKISTAN",
         "marker": {
          "color": "#00cc96",
          "size": [
           10714.61,
           135.45,
           20.88
          ],
          "sizemode": "area",
          "sizeref": 48.112692187499995,
          "symbol": "circle"
         },
         "mode": "markers",
         "name": "PAKISTAN",
         "orientation": "v",
         "showlegend": true,
         "type": "scatter",
         "x": [
          2005,
          2013,
          2019
         ],
         "xaxis": "x",
         "y": [
          2,
          2,
          1
         ],
         "yaxis": "y"
        },
        {
         "customdata": [
          [
           364.37,
           "PAPUA NEW GUINEA",
           6.52
          ],
          [
           15.95,
           "PAPUA NEW GUINEA",
           7.6
          ]
         ],
         "hovertemplate": "Country Name=%{customdata[1]}<br>Year=%{x}<br>Earthquake Counts=%{y}<br>Total Damage ($Mil)=%{customdata[0]}<br>Average Magnitude=%{customdata[2]}<extra></extra>",
         "legendgroup": "PAPUA NEW GUINEA",
         "marker": {
          "color": "#ab63fa",
          "size": [
           364.37,
           15.95
          ],
          "sizemode": "area",
          "sizeref": 48.112692187499995,
          "symbol": "circle"
         },
         "mode": "markers",
         "name": "PAPUA NEW GUINEA",
         "orientation": "v",
         "showlegend": true,
         "type": "scatter",
         "x": [
          2018,
          2022
         ],
         "xaxis": "x",
         "y": [
          5,
          1
         ],
         "yaxis": "y"
        },
        {
         "customdata": [
          [
           357.29,
           "PERU",
           7.1
          ]
         ],
         "hovertemplate": "Country Name=%{customdata[1]}<br>Year=%{x}<br>Earthquake Counts=%{y}<br>Total Damage ($Mil)=%{customdata[0]}<br>Average Magnitude=%{customdata[2]}<extra></extra>",
         "legendgroup": "PERU",
         "marker": {
          "color": "#FFA15A",
          "size": [
           357.29
          ],
          "sizemode": "area",
          "sizeref": 48.112692187499995,
          "symbol": "circle"
         },
         "mode": "markers",
         "name": "PERU",
         "orientation": "v",
         "showlegend": true,
         "type": "scatter",
         "x": [
          2001
         ],
         "xaxis": "x",
         "y": [
          4
         ],
         "yaxis": "y"
        },
        {
         "customdata": [
          [
           2.99,
           "PHILIPPINES",
           7.5
          ],
          [
           12.79,
           "PHILIPPINES",
           6.42
          ],
          [
           70.16,
           "PHILIPPINES",
           6.4
          ],
          [
           60.18,
           "PHILIPPINES",
           6.03
          ],
          [
           63.43,
           "PHILIPPINES",
           6.19
          ],
          [
           0.69,
           "PHILIPPINES",
           6.6
          ],
          [
           53.1,
           "PHILIPPINES",
           6.7
          ],
          [
           56.57,
           "PHILIPPINES",
           6.77
          ]
         ],
         "hovertemplate": "Country Name=%{customdata[1]}<br>Year=%{x}<br>Earthquake Counts=%{y}<br>Total Damage ($Mil)=%{customdata[0]}<br>Average Magnitude=%{customdata[2]}<extra></extra>",
         "legendgroup": "PHILIPPINES",
         "marker": {
          "color": "#19d3f3",
          "size": [
           2.99,
           12.79,
           70.16,
           60.18,
           63.43,
           0.69,
           53.1,
           56.57
          ],
          "sizemode": "area",
          "sizeref": 48.112692187499995,
          "symbol": "circle"
         },
         "mode": "markers",
         "name": "PHILIPPINES",
         "orientation": "v",
         "showlegend": true,
         "type": "scatter",
         "x": [
          2002,
          2012,
          2013,
          2017,
          2019,
          2020,
          2022,
          2023
         ],
         "xaxis": "x",
         "y": [
          1,
          4,
          2,
          7,
          9,
          1,
          2,
          3
         ],
         "yaxis": "y"
        },
        {
         "customdata": [
          [
           969.51,
           "PUERTO RICO",
           6.4
          ]
         ],
         "hovertemplate": "Country Name=%{customdata[1]}<br>Year=%{x}<br>Earthquake Counts=%{y}<br>Total Damage ($Mil)=%{customdata[0]}<br>Average Magnitude=%{customdata[2]}<extra></extra>",
         "legendgroup": "PUERTO RICO",
         "marker": {
          "color": "#FF6692",
          "size": [
           969.51
          ],
          "sizemode": "area",
          "sizeref": 48.112692187499995,
          "symbol": "circle"
         },
         "mode": "markers",
         "name": "PUERTO RICO",
         "orientation": "v",
         "showlegend": true,
         "type": "scatter",
         "x": [
          2020
         ],
         "xaxis": "x",
         "y": [
          1
         ],
         "yaxis": "y"
        },
        {
         "customdata": [
          [
           1.67,
           "RUSSIA",
           6.8
          ],
          [
           18.16,
           "RUSSIA",
           6.13
          ],
          [
           86.03,
           "RUSSIA",
           7.95
          ]
         ],
         "hovertemplate": "Country Name=%{customdata[1]}<br>Year=%{x}<br>Earthquake Counts=%{y}<br>Total Damage ($Mil)=%{customdata[0]}<br>Average Magnitude=%{customdata[2]}<extra></extra>",
         "legendgroup": "RUSSIA",
         "marker": {
          "color": "#B6E880",
          "size": [
           1.67,
           18.16,
           86.03
          ],
          "sizemode": "area",
          "sizeref": 48.112692187499995,
          "symbol": "circle"
         },
         "mode": "markers",
         "name": "RUSSIA",
         "orientation": "v",
         "showlegend": true,
         "type": "scatter",
         "x": [
          2000,
          2003,
          2006
         ],
         "xaxis": "x",
         "y": [
          1,
          3,
          2
         ],
         "yaxis": "y"
        },
        {
         "customdata": [
          [
           416.6,
           "SAMOA",
           8.1
          ]
         ],
         "hovertemplate": "Country Name=%{customdata[1]}<br>Year=%{x}<br>Earthquake Counts=%{y}<br>Total Damage ($Mil)=%{customdata[0]}<br>Average Magnitude=%{customdata[2]}<extra></extra>",
         "legendgroup": "SAMOA",
         "marker": {
          "color": "#FF97FF",
          "size": [
           416.6
          ],
          "sizemode": "area",
          "sizeref": 48.112692187499995,
          "symbol": "circle"
         },
         "mode": "markers",
         "name": "SAMOA",
         "orientation": "v",
         "showlegend": true,
         "type": "scatter",
         "x": [
          2009
         ],
         "xaxis": "x",
         "y": [
          1
         ],
         "yaxis": "y"
        },
        {
         "customdata": [
          [
           48.76,
           "SOLOMON ISLANDS",
           7.45
          ]
         ],
         "hovertemplate": "Country Name=%{customdata[1]}<br>Year=%{x}<br>Earthquake Counts=%{y}<br>Total Damage ($Mil)=%{customdata[0]}<br>Average Magnitude=%{customdata[2]}<extra></extra>",
         "legendgroup": "SOLOMON ISLANDS",
         "marker": {
          "color": "#FECB52",
          "size": [
           48.76
          ],
          "sizemode": "area",
          "sizeref": 48.112692187499995,
          "symbol": "circle"
         },
         "mode": "markers",
         "name": "SOLOMON ISLANDS",
         "orientation": "v",
         "showlegend": true,
         "type": "scatter",
         "x": [
          2013
         ],
         "xaxis": "x",
         "y": [
          2
         ],
         "yaxis": "y"
        },
        {
         "customdata": [
          [
           27.46,
           "SOUTH KOREA",
           5.4
          ],
          [
           97.06,
           "SOUTH KOREA",
           5.5
          ]
         ],
         "hovertemplate": "Country Name=%{customdata[1]}<br>Year=%{x}<br>Earthquake Counts=%{y}<br>Total Damage ($Mil)=%{customdata[0]}<br>Average Magnitude=%{customdata[2]}<extra></extra>",
         "legendgroup": "SOUTH KOREA",
         "marker": {
          "color": "#636efa",
          "size": [
           27.46,
           97.06
          ],
          "sizemode": "area",
          "sizeref": 48.112692187499995,
          "symbol": "circle"
         },
         "mode": "markers",
         "name": "SOUTH KOREA",
         "orientation": "v",
         "showlegend": true,
         "type": "scatter",
         "x": [
          2016,
          2017
         ],
         "xaxis": "x",
         "y": [
          1,
          1
         ],
         "yaxis": "y"
        },
        {
         "customdata": [
          [
           1440.21,
           "TAIWAN",
           6.3
          ],
          [
           3.02,
           "TAIWAN",
           6.15
          ],
          [
           915.23,
           "TAIWAN",
           6.4
          ],
          [
           5.55,
           "TAIWAN",
           6.8
          ],
          [
           2.53,
           "TAIWAN",
           7.4
          ]
         ],
         "hovertemplate": "Country Name=%{customdata[1]}<br>Year=%{x}<br>Earthquake Counts=%{y}<br>Total Damage ($Mil)=%{customdata[0]}<br>Average Magnitude=%{customdata[2]}<extra></extra>",
         "legendgroup": "TAIWAN",
         "marker": {
          "color": "#EF553B",
          "size": [
           1440.21,
           3.02,
           915.23,
           5.55,
           2.53
          ],
          "sizemode": "area",
          "sizeref": 48.112692187499995,
          "symbol": "circle"
         },
         "mode": "markers",
         "name": "TAIWAN",
         "orientation": "v",
         "showlegend": true,
         "type": "scatter",
         "x": [
          2010,
          2013,
          2016,
          2022,
          2024
         ],
         "xaxis": "x",
         "y": [
          1,
          2,
          1,
          2,
          1
         ],
         "yaxis": "y"
        },
        {
         "customdata": [
          [
           2.16,
           "TAJIKISTAN",
           5.1
          ],
          [
           6.67,
           "TAJIKISTAN",
           7.2
          ]
         ],
         "hovertemplate": "Country Name=%{customdata[1]}<br>Year=%{x}<br>Earthquake Counts=%{y}<br>Total Damage ($Mil)=%{customdata[0]}<br>Average Magnitude=%{customdata[2]}<extra></extra>",
         "legendgroup": "TAJIKISTAN",
         "marker": {
          "color": "#00cc96",
          "size": [
           2.16,
           6.67
          ],
          "sizemode": "area",
          "sizeref": 48.112692187499995,
          "symbol": "circle"
         },
         "mode": "markers",
         "name": "TAJIKISTAN",
         "orientation": "v",
         "showlegend": true,
         "type": "scatter",
         "x": [
          2010,
          2015
         ],
         "xaxis": "x",
         "y": [
          1,
          1
         ],
         "yaxis": "y"
        },
        {
         "customdata": [
          [
           598.82,
           "TANZANIA",
           5.9
          ]
         ],
         "hovertemplate": "Country Name=%{customdata[1]}<br>Year=%{x}<br>Earthquake Counts=%{y}<br>Total Damage ($Mil)=%{customdata[0]}<br>Average Magnitude=%{customdata[2]}<extra></extra>",
         "legendgroup": "TANZANIA",
         "marker": {
          "color": "#ab63fa",
          "size": [
           598.82
          ],
          "sizemode": "area",
          "sizeref": 48.112692187499995,
          "symbol": "circle"
         },
         "mode": "markers",
         "name": "TANZANIA",
         "orientation": "v",
         "showlegend": true,
         "type": "scatter",
         "x": [
          2016
         ],
         "xaxis": "x",
         "y": [
          1
         ],
         "yaxis": "y"
        },
        {
         "customdata": [
          [
           83.35,
           "THAILAND",
           6.1
          ]
         ],
         "hovertemplate": "Country Name=%{customdata[1]}<br>Year=%{x}<br>Earthquake Counts=%{y}<br>Total Damage ($Mil)=%{customdata[0]}<br>Average Magnitude=%{customdata[2]}<extra></extra>",
         "legendgroup": "THAILAND",
         "marker": {
          "color": "#FFA15A",
          "size": [
           83.35
          ],
          "sizemode": "area",
          "sizeref": 48.112692187499995,
          "symbol": "circle"
         },
         "mode": "markers",
         "name": "THAILAND",
         "orientation": "v",
         "showlegend": true,
         "type": "scatter",
         "x": [
          2014
         ],
         "xaxis": "x",
         "y": [
          1
         ],
         "yaxis": "y"
        },
        {
         "customdata": [
          [
           2098.16,
           "TURKEY",
           5.7
          ],
          [
           44147.23,
           "TURKEY",
           6.7
          ]
         ],
         "hovertemplate": "Country Name=%{customdata[1]}<br>Year=%{x}<br>Earthquake Counts=%{y}<br>Total Damage ($Mil)=%{customdata[0]}<br>Average Magnitude=%{customdata[2]}<extra></extra>",
         "legendgroup": "TURKEY",
         "marker": {
          "color": "#19d3f3",
          "size": [
           2098.16,
           44147.23
          ],
          "sizemode": "area",
          "sizeref": 48.112692187499995,
          "symbol": "circle"
         },
         "mode": "markers",
         "name": "TURKEY",
         "orientation": "v",
         "showlegend": true,
         "type": "scatter",
         "x": [
          2011,
          2023
         ],
         "xaxis": "x",
         "y": [
          3,
          4
         ],
         "yaxis": "y"
        },
        {
         "customdata": [
          [
           90.71,
           "UNITED STATES",
           5
          ],
          [
           3572.88,
           "UNITED STATES",
           5.5
          ],
          [
           97.72,
           "UNITED STATES",
           6.6
          ],
          [
           513.83,
           "UNITED STATES",
           5.64
          ],
          [
           31.4,
           "UNITED STATES",
           5.33
          ],
          [
           279.75,
           "UNITED STATES",
           5.59
          ],
          [
           135.45,
           "UNITED STATES",
           4.8
          ],
          [
           955.55,
           "UNITED STATES",
           5.5
          ],
          [
           26.15,
           "UNITED STATES",
           6.05
          ],
          [
           188.47,
           "UNITED STATES",
           6.37
          ],
          [
           6571.88,
           "UNITED STATES",
           6.75
          ],
          [
           121.19,
           "UNITED STATES",
           6.55
          ],
          [
           265.89,
           "UNITED STATES",
           6.4
          ]
         ],
         "hovertemplate": "Country Name=%{customdata[1]}<br>Year=%{x}<br>Earthquake Counts=%{y}<br>Total Damage ($Mil)=%{customdata[0]}<br>Average Magnitude=%{customdata[2]}<extra></extra>",
         "legendgroup": "UNITED STATES",
         "marker": {
          "color": "#FF6692",
          "size": [
           90.71,
           3572.88,
           97.72,
           513.83,
           31.4,
           279.75,
           135.45,
           955.55,
           26.15,
           188.47,
           6571.88,
           121.19,
           265.89
          ],
          "sizemode": "area",
          "sizeref": 48.112692187499995,
          "symbol": "circle"
         },
         "mode": "markers",
         "name": "UNITED STATES",
         "orientation": "v",
         "showlegend": true,
         "type": "scatter",
         "x": [
          2000,
          2001,
          2002,
          2003,
          2010,
          2011,
          2013,
          2014,
          2016,
          2018,
          2019,
          2020,
          2022
         ],
         "xaxis": "x",
         "y": [
          1,
          2,
          3,
          5,
          3,
          7,
          2,
          6,
          2,
          3,
          2,
          4,
          1
         ],
         "yaxis": "y"
        }
       ],
       "layout": {
        "annotations": [
         {
          "align": "left",
          "font": {
           "size": 12
          },
          "showarrow": false,
          "text": "*Bubble size shows total damage in Millions ($M, adjusted to 2024 CPI)",
          "x": 1,
          "xref": "paper",
          "y": 1.1,
          "yref": "paper"
         }
        ],
        "legend": {
         "itemsizing": "constant",
         "title": {
          "text": "Country"
         },
         "tracegroupgap": 0
        },
        "showlegend": true,
        "template": {
         "data": {
          "bar": [
           {
            "error_x": {
             "color": "#2a3f5f"
            },
            "error_y": {
             "color": "#2a3f5f"
            },
            "marker": {
             "line": {
              "color": "#E5ECF6",
              "width": 0.5
             },
             "pattern": {
              "fillmode": "overlay",
              "size": 10,
              "solidity": 0.2
             }
            },
            "type": "bar"
           }
          ],
          "barpolar": [
           {
            "marker": {
             "line": {
              "color": "#E5ECF6",
              "width": 0.5
             },
             "pattern": {
              "fillmode": "overlay",
              "size": 10,
              "solidity": 0.2
             }
            },
            "type": "barpolar"
           }
          ],
          "carpet": [
           {
            "aaxis": {
             "endlinecolor": "#2a3f5f",
             "gridcolor": "white",
             "linecolor": "white",
             "minorgridcolor": "white",
             "startlinecolor": "#2a3f5f"
            },
            "baxis": {
             "endlinecolor": "#2a3f5f",
             "gridcolor": "white",
             "linecolor": "white",
             "minorgridcolor": "white",
             "startlinecolor": "#2a3f5f"
            },
            "type": "carpet"
           }
          ],
          "choropleth": [
           {
            "colorbar": {
             "outlinewidth": 0,
             "ticks": ""
            },
            "type": "choropleth"
           }
          ],
          "contour": [
           {
            "colorbar": {
             "outlinewidth": 0,
             "ticks": ""
            },
            "colorscale": [
             [
              0,
              "#0d0887"
             ],
             [
              0.1111111111111111,
              "#46039f"
             ],
             [
              0.2222222222222222,
              "#7201a8"
             ],
             [
              0.3333333333333333,
              "#9c179e"
             ],
             [
              0.4444444444444444,
              "#bd3786"
             ],
             [
              0.5555555555555556,
              "#d8576b"
             ],
             [
              0.6666666666666666,
              "#ed7953"
             ],
             [
              0.7777777777777778,
              "#fb9f3a"
             ],
             [
              0.8888888888888888,
              "#fdca26"
             ],
             [
              1,
              "#f0f921"
             ]
            ],
            "type": "contour"
           }
          ],
          "contourcarpet": [
           {
            "colorbar": {
             "outlinewidth": 0,
             "ticks": ""
            },
            "type": "contourcarpet"
           }
          ],
          "heatmap": [
           {
            "colorbar": {
             "outlinewidth": 0,
             "ticks": ""
            },
            "colorscale": [
             [
              0,
              "#0d0887"
             ],
             [
              0.1111111111111111,
              "#46039f"
             ],
             [
              0.2222222222222222,
              "#7201a8"
             ],
             [
              0.3333333333333333,
              "#9c179e"
             ],
             [
              0.4444444444444444,
              "#bd3786"
             ],
             [
              0.5555555555555556,
              "#d8576b"
             ],
             [
              0.6666666666666666,
              "#ed7953"
             ],
             [
              0.7777777777777778,
              "#fb9f3a"
             ],
             [
              0.8888888888888888,
              "#fdca26"
             ],
             [
              1,
              "#f0f921"
             ]
            ],
            "type": "heatmap"
           }
          ],
          "heatmapgl": [
           {
            "colorbar": {
             "outlinewidth": 0,
             "ticks": ""
            },
            "colorscale": [
             [
              0,
              "#0d0887"
             ],
             [
              0.1111111111111111,
              "#46039f"
             ],
             [
              0.2222222222222222,
              "#7201a8"
             ],
             [
              0.3333333333333333,
              "#9c179e"
             ],
             [
              0.4444444444444444,
              "#bd3786"
             ],
             [
              0.5555555555555556,
              "#d8576b"
             ],
             [
              0.6666666666666666,
              "#ed7953"
             ],
             [
              0.7777777777777778,
              "#fb9f3a"
             ],
             [
              0.8888888888888888,
              "#fdca26"
             ],
             [
              1,
              "#f0f921"
             ]
            ],
            "type": "heatmapgl"
           }
          ],
          "histogram": [
           {
            "marker": {
             "pattern": {
              "fillmode": "overlay",
              "size": 10,
              "solidity": 0.2
             }
            },
            "type": "histogram"
           }
          ],
          "histogram2d": [
           {
            "colorbar": {
             "outlinewidth": 0,
             "ticks": ""
            },
            "colorscale": [
             [
              0,
              "#0d0887"
             ],
             [
              0.1111111111111111,
              "#46039f"
             ],
             [
              0.2222222222222222,
              "#7201a8"
             ],
             [
              0.3333333333333333,
              "#9c179e"
             ],
             [
              0.4444444444444444,
              "#bd3786"
             ],
             [
              0.5555555555555556,
              "#d8576b"
             ],
             [
              0.6666666666666666,
              "#ed7953"
             ],
             [
              0.7777777777777778,
              "#fb9f3a"
             ],
             [
              0.8888888888888888,
              "#fdca26"
             ],
             [
              1,
              "#f0f921"
             ]
            ],
            "type": "histogram2d"
           }
          ],
          "histogram2dcontour": [
           {
            "colorbar": {
             "outlinewidth": 0,
             "ticks": ""
            },
            "colorscale": [
             [
              0,
              "#0d0887"
             ],
             [
              0.1111111111111111,
              "#46039f"
             ],
             [
              0.2222222222222222,
              "#7201a8"
             ],
             [
              0.3333333333333333,
              "#9c179e"
             ],
             [
              0.4444444444444444,
              "#bd3786"
             ],
             [
              0.5555555555555556,
              "#d8576b"
             ],
             [
              0.6666666666666666,
              "#ed7953"
             ],
             [
              0.7777777777777778,
              "#fb9f3a"
             ],
             [
              0.8888888888888888,
              "#fdca26"
             ],
             [
              1,
              "#f0f921"
             ]
            ],
            "type": "histogram2dcontour"
           }
          ],
          "mesh3d": [
           {
            "colorbar": {
             "outlinewidth": 0,
             "ticks": ""
            },
            "type": "mesh3d"
           }
          ],
          "parcoords": [
           {
            "line": {
             "colorbar": {
              "outlinewidth": 0,
              "ticks": ""
             }
            },
            "type": "parcoords"
           }
          ],
          "pie": [
           {
            "automargin": true,
            "type": "pie"
           }
          ],
          "scatter": [
           {
            "fillpattern": {
             "fillmode": "overlay",
             "size": 10,
             "solidity": 0.2
            },
            "type": "scatter"
           }
          ],
          "scatter3d": [
           {
            "line": {
             "colorbar": {
              "outlinewidth": 0,
              "ticks": ""
             }
            },
            "marker": {
             "colorbar": {
              "outlinewidth": 0,
              "ticks": ""
             }
            },
            "type": "scatter3d"
           }
          ],
          "scattercarpet": [
           {
            "marker": {
             "colorbar": {
              "outlinewidth": 0,
              "ticks": ""
             }
            },
            "type": "scattercarpet"
           }
          ],
          "scattergeo": [
           {
            "marker": {
             "colorbar": {
              "outlinewidth": 0,
              "ticks": ""
             }
            },
            "type": "scattergeo"
           }
          ],
          "scattergl": [
           {
            "marker": {
             "colorbar": {
              "outlinewidth": 0,
              "ticks": ""
             }
            },
            "type": "scattergl"
           }
          ],
          "scattermapbox": [
           {
            "marker": {
             "colorbar": {
              "outlinewidth": 0,
              "ticks": ""
             }
            },
            "type": "scattermapbox"
           }
          ],
          "scatterpolar": [
           {
            "marker": {
             "colorbar": {
              "outlinewidth": 0,
              "ticks": ""
             }
            },
            "type": "scatterpolar"
           }
          ],
          "scatterpolargl": [
           {
            "marker": {
             "colorbar": {
              "outlinewidth": 0,
              "ticks": ""
             }
            },
            "type": "scatterpolargl"
           }
          ],
          "scatterternary": [
           {
            "marker": {
             "colorbar": {
              "outlinewidth": 0,
              "ticks": ""
             }
            },
            "type": "scatterternary"
           }
          ],
          "surface": [
           {
            "colorbar": {
             "outlinewidth": 0,
             "ticks": ""
            },
            "colorscale": [
             [
              0,
              "#0d0887"
             ],
             [
              0.1111111111111111,
              "#46039f"
             ],
             [
              0.2222222222222222,
              "#7201a8"
             ],
             [
              0.3333333333333333,
              "#9c179e"
             ],
             [
              0.4444444444444444,
              "#bd3786"
             ],
             [
              0.5555555555555556,
              "#d8576b"
             ],
             [
              0.6666666666666666,
              "#ed7953"
             ],
             [
              0.7777777777777778,
              "#fb9f3a"
             ],
             [
              0.8888888888888888,
              "#fdca26"
             ],
             [
              1,
              "#f0f921"
             ]
            ],
            "type": "surface"
           }
          ],
          "table": [
           {
            "cells": {
             "fill": {
              "color": "#EBF0F8"
             },
             "line": {
              "color": "white"
             }
            },
            "header": {
             "fill": {
              "color": "#C8D4E3"
             },
             "line": {
              "color": "white"
             }
            },
            "type": "table"
           }
          ]
         },
         "layout": {
          "annotationdefaults": {
           "arrowcolor": "#2a3f5f",
           "arrowhead": 0,
           "arrowwidth": 1
          },
          "autotypenumbers": "strict",
          "coloraxis": {
           "colorbar": {
            "outlinewidth": 0,
            "ticks": ""
           }
          },
          "colorscale": {
           "diverging": [
            [
             0,
             "#8e0152"
            ],
            [
             0.1,
             "#c51b7d"
            ],
            [
             0.2,
             "#de77ae"
            ],
            [
             0.3,
             "#f1b6da"
            ],
            [
             0.4,
             "#fde0ef"
            ],
            [
             0.5,
             "#f7f7f7"
            ],
            [
             0.6,
             "#e6f5d0"
            ],
            [
             0.7,
             "#b8e186"
            ],
            [
             0.8,
             "#7fbc41"
            ],
            [
             0.9,
             "#4d9221"
            ],
            [
             1,
             "#276419"
            ]
           ],
           "sequential": [
            [
             0,
             "#0d0887"
            ],
            [
             0.1111111111111111,
             "#46039f"
            ],
            [
             0.2222222222222222,
             "#7201a8"
            ],
            [
             0.3333333333333333,
             "#9c179e"
            ],
            [
             0.4444444444444444,
             "#bd3786"
            ],
            [
             0.5555555555555556,
             "#d8576b"
            ],
            [
             0.6666666666666666,
             "#ed7953"
            ],
            [
             0.7777777777777778,
             "#fb9f3a"
            ],
            [
             0.8888888888888888,
             "#fdca26"
            ],
            [
             1,
             "#f0f921"
            ]
           ],
           "sequentialminus": [
            [
             0,
             "#0d0887"
            ],
            [
             0.1111111111111111,
             "#46039f"
            ],
            [
             0.2222222222222222,
             "#7201a8"
            ],
            [
             0.3333333333333333,
             "#9c179e"
            ],
            [
             0.4444444444444444,
             "#bd3786"
            ],
            [
             0.5555555555555556,
             "#d8576b"
            ],
            [
             0.6666666666666666,
             "#ed7953"
            ],
            [
             0.7777777777777778,
             "#fb9f3a"
            ],
            [
             0.8888888888888888,
             "#fdca26"
            ],
            [
             1,
             "#f0f921"
            ]
           ]
          },
          "colorway": [
           "#636efa",
           "#EF553B",
           "#00cc96",
           "#ab63fa",
           "#FFA15A",
           "#19d3f3",
           "#FF6692",
           "#B6E880",
           "#FF97FF",
           "#FECB52"
          ],
          "font": {
           "color": "#2a3f5f"
          },
          "geo": {
           "bgcolor": "white",
           "lakecolor": "white",
           "landcolor": "#E5ECF6",
           "showlakes": true,
           "showland": true,
           "subunitcolor": "white"
          },
          "hoverlabel": {
           "align": "left"
          },
          "hovermode": "closest",
          "mapbox": {
           "style": "light"
          },
          "paper_bgcolor": "white",
          "plot_bgcolor": "#E5ECF6",
          "polar": {
           "angularaxis": {
            "gridcolor": "white",
            "linecolor": "white",
            "ticks": ""
           },
           "bgcolor": "#E5ECF6",
           "radialaxis": {
            "gridcolor": "white",
            "linecolor": "white",
            "ticks": ""
           }
          },
          "scene": {
           "xaxis": {
            "backgroundcolor": "#E5ECF6",
            "gridcolor": "white",
            "gridwidth": 2,
            "linecolor": "white",
            "showbackground": true,
            "ticks": "",
            "zerolinecolor": "white"
           },
           "yaxis": {
            "backgroundcolor": "#E5ECF6",
            "gridcolor": "white",
            "gridwidth": 2,
            "linecolor": "white",
            "showbackground": true,
            "ticks": "",
            "zerolinecolor": "white"
           },
           "zaxis": {
            "backgroundcolor": "#E5ECF6",
            "gridcolor": "white",
            "gridwidth": 2,
            "linecolor": "white",
            "showbackground": true,
            "ticks": "",
            "zerolinecolor": "white"
           }
          },
          "shapedefaults": {
           "line": {
            "color": "#2a3f5f"
           }
          },
          "ternary": {
           "aaxis": {
            "gridcolor": "white",
            "linecolor": "white",
            "ticks": ""
           },
           "baxis": {
            "gridcolor": "white",
            "linecolor": "white",
            "ticks": ""
           },
           "bgcolor": "#E5ECF6",
           "caxis": {
            "gridcolor": "white",
            "linecolor": "white",
            "ticks": ""
           }
          },
          "title": {
           "x": 0.05
          },
          "xaxis": {
           "automargin": true,
           "gridcolor": "white",
           "linecolor": "white",
           "ticks": "",
           "title": {
            "standoff": 15
           },
           "zerolinecolor": "white",
           "zerolinewidth": 2
          },
          "yaxis": {
           "automargin": true,
           "gridcolor": "white",
           "linecolor": "white",
           "ticks": "",
           "title": {
            "standoff": 15
           },
           "zerolinecolor": "white",
           "zerolinewidth": 2
          }
         }
        },
        "title": {
         "text": "Earthquake Occurrences and Economic Impacts in Total Damages (2000–2024)"
        },
        "xaxis": {
         "anchor": "y",
         "domain": [
          0,
          1
         ],
         "title": {
          "text": "Year"
         }
        },
        "yaxis": {
         "anchor": "x",
         "domain": [
          0,
          1
         ],
         "title": {
          "text": "Earthquake Count"
         }
        }
       }
      }
     },
     "metadata": {},
     "output_type": "display_data"
    }
   ],
   "source": [
    "# # Create the bubble chart with size scaling\n",
    "fig = px.scatter(\n",
    "    adjusted_bubble_data,\n",
    "    x=\"Year\",\n",
    "    y=\"Earthquake_Count\",\n",
    "    size=\"Inflation_Adjusted_Damage_Mil\",\n",
    "    color=\"Country Name\",\n",
    "    \n",
    "    title=\"Earthquake Occurrences and Economic Impacts in Total Damages (2000–2024)\",\n",
    "    labels={\n",
    "        \"Earthquake_Count\": \"Earthquake Counts\",\n",
    "        \"Inflation_Adjusted_Damage_Mil\": \"Total Damage ($Mil)\",\n",
    "        \"Average_Magnitude\": \"Average Magnitude\"\n",
    "    },\n",
    "    hover_data={\"Inflation_Adjusted_Damage_Mil\": True, \"Country Name\": True,\"Average_Magnitude\": True},\n",
    "    size_max=80\n",
    ")\n",
    "\n",
    "# Improve layout\n",
    "fig.update_layout(\n",
    "    xaxis_title=\"Year\",\n",
    "    yaxis_title=\"Earthquake Count\",\n",
    "    legend_title=\"Country\",\n",
    "    showlegend=True  # Ensure legend for countries is displayed\n",
    ")\n",
    "\n",
    "\n",
    "# Optionally, add a note about bubble size\n",
    "fig.add_annotation(\n",
    "    xref=\"paper\", yref=\"paper\",\n",
    "    x=1.0, y=1.1,\n",
    "    text=\"*Bubble size shows total damage in Millions ($M, adjusted to 2024 CPI)\",\n",
    "    showarrow=False,\n",
    "    font=dict(size=12),\n",
    "    align=\"left\"\n",
    ")\n",
    "\n",
    "fig.show()\n"
   ]
  },
  {
   "cell_type": "markdown",
   "metadata": {},
   "source": [
    "## write-up for bubble chart: \n",
    "The bubble chart highlights global earthquake trends (2000–2024) by showing earthquake counts (y-axis), years (x-axis), and inflation-adjusted damages (bubble size) across countries. Larger bubbles, such as those for China (2008), Chile (2010), and Japan (2011), indicate catastrophic events with significant economic impacts, including infrastructure destruction and secondary effects like tsunamis. Countries like Indonesia show high earthquake counts but smaller damages, reflecting frequent lower-magnitude events. The chart reveals that high-frequency earthquakes don't always result in high economic losses, emphasizing the role of disaster preparedness and infrastructure resilience. Clusters in the early 2010s suggest major global seismic activity, while smaller bubbles for countries like Albania or Costa Rica highlight localized, less costly events. This analysis underscores the economic disparities in how countries are affected by and recover from seismic disasters."
   ]
  },
  {
   "cell_type": "markdown",
   "metadata": {},
   "source": [
    "Notes for me:\n",
    "Consumer Price Index for All Urban Consumers (CPI-U),\n",
    "https://data.bls.gov/timeseries/CUUR0000SA0?years_option=all_years us buereu of statistics \n",
    "\n",
    "count per year and its avg magnitude that year in that given country. total money damages are calculated consider and have been converted to current monetary value:\n",
    "Infrastructure Damage:\n",
    "Roads, bridges, power lines, water systems, and other public infrastructure that require repair or rebuilding.\n",
    "Costs associated with restoring services like electricity, water, and transportation.\n",
    "Economic Losses:\n",
    "Direct and indirect economic impacts, such as:\n",
    "Business interruptions due to damaged facilities or power outages.\n",
    "Agricultural losses if farmlands are affected.\n",
    "Losses from disrupted trade or tourism.\n",
    "Loss of Personal Assets:\n",
    "Damage to personal belongings, vehicles, and other private property.\n",
    "\n",
    "the inflation-adjusted damages for earthquakes, tells us a story of economic impacts of seismic events across different countries and years, normalized to today's dollar value (2024)\n",
    "\n",
    "we can see 2011 which is when Tōhoku earthquake and tsunami biggest impact on \n",
    "#maybe also some tsunami stuff?? for future reserxh the correlation of that and the imact on the damages etc / magnitude/ popualtion / deaths \n"
   ]
  },
  {
   "cell_type": "markdown",
   "metadata": {},
   "source": [
    "\n"
   ]
  },
  {
   "cell_type": "markdown",
   "metadata": {},
   "source": [
    "idea:\n",
    "total deaths and population  and then seperately as points put the plots of earthquake occurences???"
   ]
  },
  {
   "cell_type": "markdown",
   "metadata": {},
   "source": [
    "## dataset notes:\n",
    "-merged with population, which i got from the world bank group https://databank.worldbank.org/Population-and-GDP-by-Country/id/29c4df41# \n",
    "-i converted the total damage in $ to current monetary value with the consumer price index \n",
    "-lots of null values had to clean up and filter out columns that were to large (over 3500)\n",
    "-counted null values in viz where necessary and renamed the coutry anmes into a standarduzed format as sometimes were regions were mentioned \n",
    "\n",
    "\n",
    "-from the dataset web: \n",
    "damage explaination of dolalrs from earthquakes and after effects \n",
    "The dollar value listed is the value at the time of the event. \n",
    "To convert the damage to current dollar values, please use the Consumer \n",
    "Price Index Calculator. Monetary conversion tables for the time of the \n",
    "event were used to convert foreign currency to U.S. dollars.\n",
    "The dollar amount reflects the value at the time of the event, which could \n",
    "be decades ago and thus not reflective of current monetary value\n",
    "Consumer Price Index (CPI) Calculator to adjust to current moentary value \n",
    "\n",
    "\n",
    "-cpi adjsutment \n",
    "-country names\n",
    "-null values \n",
    "-data starting after 2000s\n"
   ]
  }
 ],
 "metadata": {
  "kernelspec": {
   "display_name": "ds4200",
   "language": "python",
   "name": "python3"
  },
  "language_info": {
   "codemirror_mode": {
    "name": "ipython",
    "version": 3
   },
   "file_extension": ".py",
   "mimetype": "text/x-python",
   "name": "python",
   "nbconvert_exporter": "python",
   "pygments_lexer": "ipython3",
   "version": "3.11.0"
  }
 },
 "nbformat": 4,
 "nbformat_minor": 2
}
