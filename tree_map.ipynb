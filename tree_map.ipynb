{
 "cells": [
  {
   "cell_type": "code",
   "execution_count": 10,
   "metadata": {},
   "outputs": [],
   "source": [
    "import pandas as pd "
   ]
  },
  {
   "cell_type": "code",
   "execution_count": 11,
   "metadata": {},
   "outputs": [],
   "source": [
    "earthquakes = pd.read_csv('earthquake_merged2.csv')\n",
    "# earthquakes.columns"
   ]
  },
  {
   "cell_type": "code",
   "execution_count": 12,
   "metadata": {},
   "outputs": [],
   "source": [
    "earthquakes = earthquakes[earthquakes[\"Year\"] > 1999]\n",
    "# earthquakes"
   ]
  },
  {
   "cell_type": "code",
   "execution_count": 13,
   "metadata": {},
   "outputs": [
    {
     "data": {
      "text/html": [
       "<div>\n",
       "<style scoped>\n",
       "    .dataframe tbody tr th:only-of-type {\n",
       "        vertical-align: middle;\n",
       "    }\n",
       "\n",
       "    .dataframe tbody tr th {\n",
       "        vertical-align: top;\n",
       "    }\n",
       "\n",
       "    .dataframe thead th {\n",
       "        text-align: right;\n",
       "    }\n",
       "</style>\n",
       "<table border=\"1\" class=\"dataframe\">\n",
       "  <thead>\n",
       "    <tr style=\"text-align: right;\">\n",
       "      <th></th>\n",
       "      <th>Country Name</th>\n",
       "      <th>Count</th>\n",
       "    </tr>\n",
       "  </thead>\n",
       "  <tbody>\n",
       "    <tr>\n",
       "      <th>17</th>\n",
       "      <td>CHINA</td>\n",
       "      <td>155</td>\n",
       "    </tr>\n",
       "    <tr>\n",
       "      <th>46</th>\n",
       "      <td>INDONESIA</td>\n",
       "      <td>140</td>\n",
       "    </tr>\n",
       "    <tr>\n",
       "      <th>47</th>\n",
       "      <td>IRAN</td>\n",
       "      <td>86</td>\n",
       "    </tr>\n",
       "    <tr>\n",
       "      <th>49</th>\n",
       "      <td>JAPAN</td>\n",
       "      <td>80</td>\n",
       "    </tr>\n",
       "    <tr>\n",
       "      <th>103</th>\n",
       "      <td>UNITED STATES</td>\n",
       "      <td>58</td>\n",
       "    </tr>\n",
       "    <tr>\n",
       "      <th>...</th>\n",
       "      <td>...</td>\n",
       "      <td>...</td>\n",
       "    </tr>\n",
       "    <tr>\n",
       "      <th>38</th>\n",
       "      <td>GULF OF MEXICO</td>\n",
       "      <td>1</td>\n",
       "    </tr>\n",
       "    <tr>\n",
       "      <th>51</th>\n",
       "      <td>KAZAKHSTAN</td>\n",
       "      <td>1</td>\n",
       "    </tr>\n",
       "    <tr>\n",
       "      <th>50</th>\n",
       "      <td>JORDAN</td>\n",
       "      <td>1</td>\n",
       "    </tr>\n",
       "    <tr>\n",
       "      <th>86</th>\n",
       "      <td>SLOVENIA</td>\n",
       "      <td>1</td>\n",
       "    </tr>\n",
       "    <tr>\n",
       "      <th>108</th>\n",
       "      <td>ZAMBIA</td>\n",
       "      <td>1</td>\n",
       "    </tr>\n",
       "  </tbody>\n",
       "</table>\n",
       "<p>109 rows × 2 columns</p>\n",
       "</div>"
      ],
      "text/plain": [
       "       Country Name  Count\n",
       "17            CHINA    155\n",
       "46        INDONESIA    140\n",
       "47             IRAN     86\n",
       "49            JAPAN     80\n",
       "103   UNITED STATES     58\n",
       "..              ...    ...\n",
       "38   GULF OF MEXICO      1\n",
       "51       KAZAKHSTAN      1\n",
       "50           JORDAN      1\n",
       "86         SLOVENIA      1\n",
       "108          ZAMBIA      1\n",
       "\n",
       "[109 rows x 2 columns]"
      ]
     },
     "execution_count": 13,
     "metadata": {},
     "output_type": "execute_result"
    }
   ],
   "source": [
    "country_counts = earthquakes.groupby(\"Country Name\").size().reset_index(name=\"Count\")\n",
    "country_counts = country_counts.sort_values(by=\"Count\", ascending=False)\n",
    "country_counts"
   ]
  },
  {
   "cell_type": "code",
   "execution_count": 14,
   "metadata": {},
   "outputs": [],
   "source": [
    "# Group by Country Name to get avg magnitude\n",
    "avg_magnitude = earthquakes.groupby(\"Country Name\")[\"Mag\"].mean().reset_index(name=\"Average Magnitude\")\n",
    "\n",
    "# Merge the average magnitude with the country_counts df\n",
    "country_counts = country_counts.merge(avg_magnitude, on=\"Country Name\", how=\"left\")\n",
    "\n",
    "# country_counts"
   ]
  },
  {
   "cell_type": "code",
   "execution_count": 15,
   "metadata": {},
   "outputs": [
    {
     "data": {
      "application/vnd.plotly.v1+json": {
       "config": {
        "plotlyServerURL": "https://plot.ly"
       },
       "data": [
        {
         "branchvalues": "total",
         "customdata": [
          [
           5.4883870967741935
          ],
          [
           6.370503597122302
          ],
          [
           5.523529411764706
          ],
          [
           6.578749999999999
          ],
          [
           5.772413793103448
          ],
          [
           5.242592592592593
          ],
          [
           5.5920000000000005
          ],
          [
           6.2
          ],
          [
           6.33
          ],
          [
           6.834375
          ],
          [
           6.541379310344827
          ],
          [
           5.910714285714286
          ],
          [
           6.228571428571429
          ],
          [
           6.042857142857143
          ],
          [
           7.257692307692308
          ],
          [
           5.7
          ],
          [
           6.676
          ],
          [
           6.339130434782609
          ],
          [
           6.719047619047619
          ],
          [
           5.447368421052632
          ],
          [
           7.188888888888889
          ],
          [
           7.017647058823529
          ],
          [
           5.173333333333333
          ],
          [
           5.873333333333333
          ],
          [
           5.892307692307692
          ],
          [
           5.492307692307692
          ],
          [
           5.9
          ],
          [
           7.366666666666666
          ],
          [
           6.4
          ],
          [
           5.911111111111111
          ],
          [
           5.966666666666667
          ],
          [
           5.8
          ],
          [
           5.625
          ],
          [
           5.775
          ],
          [
           5.871428571428572
          ],
          [
           5.757142857142857
          ],
          [
           3.8000000000000003
          ],
          [
           5.2
          ],
          [
           5.783333333333334
          ],
          [
           4.633333333333334
          ],
          [
           7.68
          ],
          [
           5.58
          ],
          [
           6.38
          ],
          [
           6.0600000000000005
          ],
          [
           3.96
          ],
          [
           5.5600000000000005
          ],
          [
           4.9799999999999995
          ],
          [
           4.92
          ],
          [
           6.4
          ],
          [
           7.6
          ],
          [
           5.975
          ],
          [
           5.7
          ],
          [
           4.475
          ],
          [
           4.333333333333333
          ],
          [
           6.5
          ],
          [
           5.233333333333333
          ],
          [
           6.066666666666666
          ],
          [
           6.2
          ],
          [
           4.966666666666666
          ],
          [
           4.733333333333333
          ],
          [
           7.3999999999999995
          ],
          [
           5.8
          ],
          [
           6.433333333333334
          ],
          [
           6.733333333333333
          ],
          [
           7.666666666666667
          ],
          [
           7
          ],
          [
           7.5
          ],
          [
           4.95
          ],
          [
           3.3
          ],
          [
           5.45
          ],
          [
           5.35
          ],
          [
           4.75
          ],
          [
           4.65
          ],
          [
           5.6
          ],
          [
           7.1
          ],
          [
           4.449999999999999
          ],
          [
           4.7
          ],
          [
           5
          ],
          [
           5.9
          ],
          [
           5.45
          ],
          [
           5.35
          ],
          [
           6.05
          ],
          [
           6.800000000000001
          ],
          [
           5.15
          ],
          [
           5.199999999999999
          ],
          [
           7.6
          ],
          [
           7.7
          ],
          [
           4.4
          ],
          [
           5
          ],
          [
           5.7
          ],
          [
           6.1
          ],
          [
           7.4
          ],
          [
           6
          ],
          [
           7
          ],
          [
           4.7
          ],
          [
           5.9
          ],
          [
           5.8
          ],
          [
           4.1
          ],
          [
           2.2
          ],
          [
           5.5
          ],
          [
           4.4
          ],
          [
           3.9
          ],
          [
           5.1
          ],
          [
           5
          ],
          [
           5.8
          ],
          [
           5.4
          ],
          [
           5.3
          ],
          [
           5.2
          ],
          [
           5.9
          ]
         ],
         "domain": {
          "x": [
           0,
           1
          ],
          "y": [
           0,
           1
          ]
         },
         "hovertemplate": "<b>%{label}</b><br>Count: %{value}<br>Average Magnitude: %{customdata[0]:.2f}<extra></extra>",
         "ids": [
          "AFGHANISTAN",
          "ALBANIA",
          "ALGERIA",
          "ANATAHAN REGION, N. MARIANA ISLANDS",
          "ARGENTINA",
          "ATLANTIC OCEAN",
          "AUSTRALIA",
          "AZERBAIJAN",
          "BALKANS NW: KOSOVO; MACEDONIA: N",
          "BANGLADESH",
          "BHUTAN",
          "BOSNIA-HERZEGOVINA",
          "BRAZIL",
          "BULGARIA",
          "BURUNDI",
          "CANADA",
          "CHILE",
          "CHINA",
          "COLOMBIA",
          "COMOROS",
          "CONGO",
          "COSTA RICA",
          "CROATIA",
          "CUBA",
          "CZECH REPUBLIC",
          "DOMINICAN REPUBLIC",
          "ECUADOR",
          "EGYPT",
          "EL SALVADOR",
          "ETHIOPIA",
          "FIJI ISLANDS",
          "FRANCE",
          "GEORGIA",
          "GERMANY",
          "GREECE",
          "GUADELOUPE",
          "GUAM",
          "GUATEMALA",
          "GULF OF MEXICO",
          "HAITI",
          "HAWAII",
          "HONDURAS",
          "HUNGARY",
          "ICELAND",
          "INDIA",
          "INDIAN OCEAN",
          "INDONESIA",
          "IRAN",
          "ITALY",
          "JAPAN",
          "JORDAN",
          "KAZAKHSTAN",
          "KERMADEC ISLANDS",
          "KYRGYZSTAN",
          "LAOS",
          "LEBANON",
          "MACEDONIA",
          "MADAGASCAR",
          "MALAWI",
          "MALAYSIA",
          "MARTINIQUE",
          "MEXICO",
          "MONTENEGRO",
          "MOROCCO",
          "MOZAMBIQUE",
          "MYANMAR",
          "NEPAL",
          "NEW CALEDONIA",
          "NEW ZEALAND",
          "NICARAGUA",
          "NORTHERN MARIANA ISLANDS",
          "PAKISTAN",
          "PANAMA",
          "PAPUA NEW GUINEA",
          "PERU",
          "PHILIPPINES",
          "POLAND",
          "PUERTO RICO",
          "ROMANIA",
          "RUSSIA",
          "RWANDA",
          "SAMOA",
          "SAUDI ARABIA",
          "SCOTIA SEA",
          "SERBIA",
          "SLOVAKIA",
          "SLOVENIA",
          "SOLOMON ISLANDS",
          "SOUTH AFRICA",
          "SOUTH KOREA",
          "SOUTH SANDWICH ISLANDS",
          "SPAIN",
          "SWITZERLAND",
          "TAIWAN",
          "TAJIKISTAN",
          "TANZANIA",
          "THAILAND",
          "THE NETHERLANDS",
          "TONGA",
          "TRINIDAD AND TOBAGO",
          "TURKEY",
          "TURKMENISTAN",
          "UNITED KINGDOM",
          "UNITED STATES",
          "UZBEKISTAN",
          "VANUATU",
          "VENEZUELA",
          "VIETNAM",
          "ZAMBIA"
         ],
         "labels": [
          "AFGHANISTAN",
          "ALBANIA",
          "ALGERIA",
          "ANATAHAN REGION, N. MARIANA ISLANDS",
          "ARGENTINA",
          "ATLANTIC OCEAN",
          "AUSTRALIA",
          "AZERBAIJAN",
          "BALKANS NW: KOSOVO; MACEDONIA: N",
          "BANGLADESH",
          "BHUTAN",
          "BOSNIA-HERZEGOVINA",
          "BRAZIL",
          "BULGARIA",
          "BURUNDI",
          "CANADA",
          "CHILE",
          "CHINA",
          "COLOMBIA",
          "COMOROS",
          "CONGO",
          "COSTA RICA",
          "CROATIA",
          "CUBA",
          "CZECH REPUBLIC",
          "DOMINICAN REPUBLIC",
          "ECUADOR",
          "EGYPT",
          "EL SALVADOR",
          "ETHIOPIA",
          "FIJI ISLANDS",
          "FRANCE",
          "GEORGIA",
          "GERMANY",
          "GREECE",
          "GUADELOUPE",
          "GUAM",
          "GUATEMALA",
          "GULF OF MEXICO",
          "HAITI",
          "HAWAII",
          "HONDURAS",
          "HUNGARY",
          "ICELAND",
          "INDIA",
          "INDIAN OCEAN",
          "INDONESIA",
          "IRAN",
          "ITALY",
          "JAPAN",
          "JORDAN",
          "KAZAKHSTAN",
          "KERMADEC ISLANDS",
          "KYRGYZSTAN",
          "LAOS",
          "LEBANON",
          "MACEDONIA",
          "MADAGASCAR",
          "MALAWI",
          "MALAYSIA",
          "MARTINIQUE",
          "MEXICO",
          "MONTENEGRO",
          "MOROCCO",
          "MOZAMBIQUE",
          "MYANMAR",
          "NEPAL",
          "NEW CALEDONIA",
          "NEW ZEALAND",
          "NICARAGUA",
          "NORTHERN MARIANA ISLANDS",
          "PAKISTAN",
          "PANAMA",
          "PAPUA NEW GUINEA",
          "PERU",
          "PHILIPPINES",
          "POLAND",
          "PUERTO RICO",
          "ROMANIA",
          "RUSSIA",
          "RWANDA",
          "SAMOA",
          "SAUDI ARABIA",
          "SCOTIA SEA",
          "SERBIA",
          "SLOVAKIA",
          "SLOVENIA",
          "SOLOMON ISLANDS",
          "SOUTH AFRICA",
          "SOUTH KOREA",
          "SOUTH SANDWICH ISLANDS",
          "SPAIN",
          "SWITZERLAND",
          "TAIWAN",
          "TAJIKISTAN",
          "TANZANIA",
          "THAILAND",
          "THE NETHERLANDS",
          "TONGA",
          "TRINIDAD AND TOBAGO",
          "TURKEY",
          "TURKMENISTAN",
          "UNITED KINGDOM",
          "UNITED STATES",
          "UZBEKISTAN",
          "VANUATU",
          "VENEZUELA",
          "VIETNAM",
          "ZAMBIA"
         ],
         "name": "",
         "parents": [
          "",
          "",
          "",
          "",
          "",
          "",
          "",
          "",
          "",
          "",
          "",
          "",
          "",
          "",
          "",
          "",
          "",
          "",
          "",
          "",
          "",
          "",
          "",
          "",
          "",
          "",
          "",
          "",
          "",
          "",
          "",
          "",
          "",
          "",
          "",
          "",
          "",
          "",
          "",
          "",
          "",
          "",
          "",
          "",
          "",
          "",
          "",
          "",
          "",
          "",
          "",
          "",
          "",
          "",
          "",
          "",
          "",
          "",
          "",
          "",
          "",
          "",
          "",
          "",
          "",
          "",
          "",
          "",
          "",
          "",
          "",
          "",
          "",
          "",
          "",
          "",
          "",
          "",
          "",
          "",
          "",
          "",
          "",
          "",
          "",
          "",
          "",
          "",
          "",
          "",
          "",
          "",
          "",
          "",
          "",
          "",
          "",
          "",
          "",
          "",
          "",
          "",
          "",
          "",
          "",
          "",
          "",
          "",
          ""
         ],
         "type": "treemap",
         "values": [
          28,
          7,
          15,
          1,
          7,
          1,
          6,
          4,
          1,
          5,
          5,
          2,
          4,
          2,
          1,
          4,
          32,
          155,
          13,
          1,
          4,
          5,
          2,
          1,
          1,
          2,
          15,
          1,
          9,
          2,
          5,
          6,
          2,
          4,
          28,
          2,
          3,
          9,
          1,
          5,
          2,
          3,
          2,
          3,
          54,
          1,
          140,
          86,
          19,
          80,
          1,
          1,
          9,
          7,
          2,
          1,
          2,
          1,
          3,
          1,
          1,
          29,
          1,
          3,
          3,
          9,
          8,
          17,
          28,
          8,
          2,
          25,
          9,
          26,
          40,
          45,
          7,
          3,
          1,
          25,
          5,
          2,
          3,
          3,
          2,
          1,
          1,
          18,
          5,
          2,
          3,
          2,
          1,
          23,
          13,
          5,
          2,
          2,
          4,
          3,
          50,
          1,
          3,
          58,
          1,
          21,
          8,
          2,
          1
         ]
        }
       ],
       "layout": {
        "legend": {
         "tracegroupgap": 0
        },
        "template": {
         "data": {
          "bar": [
           {
            "error_x": {
             "color": "#2a3f5f"
            },
            "error_y": {
             "color": "#2a3f5f"
            },
            "marker": {
             "line": {
              "color": "#E5ECF6",
              "width": 0.5
             },
             "pattern": {
              "fillmode": "overlay",
              "size": 10,
              "solidity": 0.2
             }
            },
            "type": "bar"
           }
          ],
          "barpolar": [
           {
            "marker": {
             "line": {
              "color": "#E5ECF6",
              "width": 0.5
             },
             "pattern": {
              "fillmode": "overlay",
              "size": 10,
              "solidity": 0.2
             }
            },
            "type": "barpolar"
           }
          ],
          "carpet": [
           {
            "aaxis": {
             "endlinecolor": "#2a3f5f",
             "gridcolor": "white",
             "linecolor": "white",
             "minorgridcolor": "white",
             "startlinecolor": "#2a3f5f"
            },
            "baxis": {
             "endlinecolor": "#2a3f5f",
             "gridcolor": "white",
             "linecolor": "white",
             "minorgridcolor": "white",
             "startlinecolor": "#2a3f5f"
            },
            "type": "carpet"
           }
          ],
          "choropleth": [
           {
            "colorbar": {
             "outlinewidth": 0,
             "ticks": ""
            },
            "type": "choropleth"
           }
          ],
          "contour": [
           {
            "colorbar": {
             "outlinewidth": 0,
             "ticks": ""
            },
            "colorscale": [
             [
              0,
              "#0d0887"
             ],
             [
              0.1111111111111111,
              "#46039f"
             ],
             [
              0.2222222222222222,
              "#7201a8"
             ],
             [
              0.3333333333333333,
              "#9c179e"
             ],
             [
              0.4444444444444444,
              "#bd3786"
             ],
             [
              0.5555555555555556,
              "#d8576b"
             ],
             [
              0.6666666666666666,
              "#ed7953"
             ],
             [
              0.7777777777777778,
              "#fb9f3a"
             ],
             [
              0.8888888888888888,
              "#fdca26"
             ],
             [
              1,
              "#f0f921"
             ]
            ],
            "type": "contour"
           }
          ],
          "contourcarpet": [
           {
            "colorbar": {
             "outlinewidth": 0,
             "ticks": ""
            },
            "type": "contourcarpet"
           }
          ],
          "heatmap": [
           {
            "colorbar": {
             "outlinewidth": 0,
             "ticks": ""
            },
            "colorscale": [
             [
              0,
              "#0d0887"
             ],
             [
              0.1111111111111111,
              "#46039f"
             ],
             [
              0.2222222222222222,
              "#7201a8"
             ],
             [
              0.3333333333333333,
              "#9c179e"
             ],
             [
              0.4444444444444444,
              "#bd3786"
             ],
             [
              0.5555555555555556,
              "#d8576b"
             ],
             [
              0.6666666666666666,
              "#ed7953"
             ],
             [
              0.7777777777777778,
              "#fb9f3a"
             ],
             [
              0.8888888888888888,
              "#fdca26"
             ],
             [
              1,
              "#f0f921"
             ]
            ],
            "type": "heatmap"
           }
          ],
          "heatmapgl": [
           {
            "colorbar": {
             "outlinewidth": 0,
             "ticks": ""
            },
            "colorscale": [
             [
              0,
              "#0d0887"
             ],
             [
              0.1111111111111111,
              "#46039f"
             ],
             [
              0.2222222222222222,
              "#7201a8"
             ],
             [
              0.3333333333333333,
              "#9c179e"
             ],
             [
              0.4444444444444444,
              "#bd3786"
             ],
             [
              0.5555555555555556,
              "#d8576b"
             ],
             [
              0.6666666666666666,
              "#ed7953"
             ],
             [
              0.7777777777777778,
              "#fb9f3a"
             ],
             [
              0.8888888888888888,
              "#fdca26"
             ],
             [
              1,
              "#f0f921"
             ]
            ],
            "type": "heatmapgl"
           }
          ],
          "histogram": [
           {
            "marker": {
             "pattern": {
              "fillmode": "overlay",
              "size": 10,
              "solidity": 0.2
             }
            },
            "type": "histogram"
           }
          ],
          "histogram2d": [
           {
            "colorbar": {
             "outlinewidth": 0,
             "ticks": ""
            },
            "colorscale": [
             [
              0,
              "#0d0887"
             ],
             [
              0.1111111111111111,
              "#46039f"
             ],
             [
              0.2222222222222222,
              "#7201a8"
             ],
             [
              0.3333333333333333,
              "#9c179e"
             ],
             [
              0.4444444444444444,
              "#bd3786"
             ],
             [
              0.5555555555555556,
              "#d8576b"
             ],
             [
              0.6666666666666666,
              "#ed7953"
             ],
             [
              0.7777777777777778,
              "#fb9f3a"
             ],
             [
              0.8888888888888888,
              "#fdca26"
             ],
             [
              1,
              "#f0f921"
             ]
            ],
            "type": "histogram2d"
           }
          ],
          "histogram2dcontour": [
           {
            "colorbar": {
             "outlinewidth": 0,
             "ticks": ""
            },
            "colorscale": [
             [
              0,
              "#0d0887"
             ],
             [
              0.1111111111111111,
              "#46039f"
             ],
             [
              0.2222222222222222,
              "#7201a8"
             ],
             [
              0.3333333333333333,
              "#9c179e"
             ],
             [
              0.4444444444444444,
              "#bd3786"
             ],
             [
              0.5555555555555556,
              "#d8576b"
             ],
             [
              0.6666666666666666,
              "#ed7953"
             ],
             [
              0.7777777777777778,
              "#fb9f3a"
             ],
             [
              0.8888888888888888,
              "#fdca26"
             ],
             [
              1,
              "#f0f921"
             ]
            ],
            "type": "histogram2dcontour"
           }
          ],
          "mesh3d": [
           {
            "colorbar": {
             "outlinewidth": 0,
             "ticks": ""
            },
            "type": "mesh3d"
           }
          ],
          "parcoords": [
           {
            "line": {
             "colorbar": {
              "outlinewidth": 0,
              "ticks": ""
             }
            },
            "type": "parcoords"
           }
          ],
          "pie": [
           {
            "automargin": true,
            "type": "pie"
           }
          ],
          "scatter": [
           {
            "fillpattern": {
             "fillmode": "overlay",
             "size": 10,
             "solidity": 0.2
            },
            "type": "scatter"
           }
          ],
          "scatter3d": [
           {
            "line": {
             "colorbar": {
              "outlinewidth": 0,
              "ticks": ""
             }
            },
            "marker": {
             "colorbar": {
              "outlinewidth": 0,
              "ticks": ""
             }
            },
            "type": "scatter3d"
           }
          ],
          "scattercarpet": [
           {
            "marker": {
             "colorbar": {
              "outlinewidth": 0,
              "ticks": ""
             }
            },
            "type": "scattercarpet"
           }
          ],
          "scattergeo": [
           {
            "marker": {
             "colorbar": {
              "outlinewidth": 0,
              "ticks": ""
             }
            },
            "type": "scattergeo"
           }
          ],
          "scattergl": [
           {
            "marker": {
             "colorbar": {
              "outlinewidth": 0,
              "ticks": ""
             }
            },
            "type": "scattergl"
           }
          ],
          "scattermapbox": [
           {
            "marker": {
             "colorbar": {
              "outlinewidth": 0,
              "ticks": ""
             }
            },
            "type": "scattermapbox"
           }
          ],
          "scatterpolar": [
           {
            "marker": {
             "colorbar": {
              "outlinewidth": 0,
              "ticks": ""
             }
            },
            "type": "scatterpolar"
           }
          ],
          "scatterpolargl": [
           {
            "marker": {
             "colorbar": {
              "outlinewidth": 0,
              "ticks": ""
             }
            },
            "type": "scatterpolargl"
           }
          ],
          "scatterternary": [
           {
            "marker": {
             "colorbar": {
              "outlinewidth": 0,
              "ticks": ""
             }
            },
            "type": "scatterternary"
           }
          ],
          "surface": [
           {
            "colorbar": {
             "outlinewidth": 0,
             "ticks": ""
            },
            "colorscale": [
             [
              0,
              "#0d0887"
             ],
             [
              0.1111111111111111,
              "#46039f"
             ],
             [
              0.2222222222222222,
              "#7201a8"
             ],
             [
              0.3333333333333333,
              "#9c179e"
             ],
             [
              0.4444444444444444,
              "#bd3786"
             ],
             [
              0.5555555555555556,
              "#d8576b"
             ],
             [
              0.6666666666666666,
              "#ed7953"
             ],
             [
              0.7777777777777778,
              "#fb9f3a"
             ],
             [
              0.8888888888888888,
              "#fdca26"
             ],
             [
              1,
              "#f0f921"
             ]
            ],
            "type": "surface"
           }
          ],
          "table": [
           {
            "cells": {
             "fill": {
              "color": "#EBF0F8"
             },
             "line": {
              "color": "white"
             }
            },
            "header": {
             "fill": {
              "color": "#C8D4E3"
             },
             "line": {
              "color": "white"
             }
            },
            "type": "table"
           }
          ]
         },
         "layout": {
          "annotationdefaults": {
           "arrowcolor": "#2a3f5f",
           "arrowhead": 0,
           "arrowwidth": 1
          },
          "autotypenumbers": "strict",
          "coloraxis": {
           "colorbar": {
            "outlinewidth": 0,
            "ticks": ""
           }
          },
          "colorscale": {
           "diverging": [
            [
             0,
             "#8e0152"
            ],
            [
             0.1,
             "#c51b7d"
            ],
            [
             0.2,
             "#de77ae"
            ],
            [
             0.3,
             "#f1b6da"
            ],
            [
             0.4,
             "#fde0ef"
            ],
            [
             0.5,
             "#f7f7f7"
            ],
            [
             0.6,
             "#e6f5d0"
            ],
            [
             0.7,
             "#b8e186"
            ],
            [
             0.8,
             "#7fbc41"
            ],
            [
             0.9,
             "#4d9221"
            ],
            [
             1,
             "#276419"
            ]
           ],
           "sequential": [
            [
             0,
             "#0d0887"
            ],
            [
             0.1111111111111111,
             "#46039f"
            ],
            [
             0.2222222222222222,
             "#7201a8"
            ],
            [
             0.3333333333333333,
             "#9c179e"
            ],
            [
             0.4444444444444444,
             "#bd3786"
            ],
            [
             0.5555555555555556,
             "#d8576b"
            ],
            [
             0.6666666666666666,
             "#ed7953"
            ],
            [
             0.7777777777777778,
             "#fb9f3a"
            ],
            [
             0.8888888888888888,
             "#fdca26"
            ],
            [
             1,
             "#f0f921"
            ]
           ],
           "sequentialminus": [
            [
             0,
             "#0d0887"
            ],
            [
             0.1111111111111111,
             "#46039f"
            ],
            [
             0.2222222222222222,
             "#7201a8"
            ],
            [
             0.3333333333333333,
             "#9c179e"
            ],
            [
             0.4444444444444444,
             "#bd3786"
            ],
            [
             0.5555555555555556,
             "#d8576b"
            ],
            [
             0.6666666666666666,
             "#ed7953"
            ],
            [
             0.7777777777777778,
             "#fb9f3a"
            ],
            [
             0.8888888888888888,
             "#fdca26"
            ],
            [
             1,
             "#f0f921"
            ]
           ]
          },
          "colorway": [
           "#636efa",
           "#EF553B",
           "#00cc96",
           "#ab63fa",
           "#FFA15A",
           "#19d3f3",
           "#FF6692",
           "#B6E880",
           "#FF97FF",
           "#FECB52"
          ],
          "font": {
           "color": "#2a3f5f"
          },
          "geo": {
           "bgcolor": "white",
           "lakecolor": "white",
           "landcolor": "#E5ECF6",
           "showlakes": true,
           "showland": true,
           "subunitcolor": "white"
          },
          "hoverlabel": {
           "align": "left"
          },
          "hovermode": "closest",
          "mapbox": {
           "style": "light"
          },
          "paper_bgcolor": "white",
          "plot_bgcolor": "#E5ECF6",
          "polar": {
           "angularaxis": {
            "gridcolor": "white",
            "linecolor": "white",
            "ticks": ""
           },
           "bgcolor": "#E5ECF6",
           "radialaxis": {
            "gridcolor": "white",
            "linecolor": "white",
            "ticks": ""
           }
          },
          "scene": {
           "xaxis": {
            "backgroundcolor": "#E5ECF6",
            "gridcolor": "white",
            "gridwidth": 2,
            "linecolor": "white",
            "showbackground": true,
            "ticks": "",
            "zerolinecolor": "white"
           },
           "yaxis": {
            "backgroundcolor": "#E5ECF6",
            "gridcolor": "white",
            "gridwidth": 2,
            "linecolor": "white",
            "showbackground": true,
            "ticks": "",
            "zerolinecolor": "white"
           },
           "zaxis": {
            "backgroundcolor": "#E5ECF6",
            "gridcolor": "white",
            "gridwidth": 2,
            "linecolor": "white",
            "showbackground": true,
            "ticks": "",
            "zerolinecolor": "white"
           }
          },
          "shapedefaults": {
           "line": {
            "color": "#2a3f5f"
           }
          },
          "ternary": {
           "aaxis": {
            "gridcolor": "white",
            "linecolor": "white",
            "ticks": ""
           },
           "baxis": {
            "gridcolor": "white",
            "linecolor": "white",
            "ticks": ""
           },
           "bgcolor": "#E5ECF6",
           "caxis": {
            "gridcolor": "white",
            "linecolor": "white",
            "ticks": ""
           }
          },
          "title": {
           "x": 0.05
          },
          "xaxis": {
           "automargin": true,
           "gridcolor": "white",
           "linecolor": "white",
           "ticks": "",
           "title": {
            "standoff": 15
           },
           "zerolinecolor": "white",
           "zerolinewidth": 2
          },
          "yaxis": {
           "automargin": true,
           "gridcolor": "white",
           "linecolor": "white",
           "ticks": "",
           "title": {
            "standoff": 15
           },
           "zerolinecolor": "white",
           "zerolinewidth": 2
          }
         }
        },
        "title": {
         "text": "Earthquake Occurrences by Country"
        }
       }
      }
     },
     "metadata": {},
     "output_type": "display_data"
    }
   ],
   "source": [
    "import plotly.express as px\n",
    "\n",
    "fig = px.treemap(\n",
    "    country_counts,\n",
    "    path=[\"Country Name\"],\n",
    "    values=\"Count\",\n",
    "    title=\"Earthquake Occurrences by Country\",\n",
    "    hover_data={\"Count\": True, \"Average Magnitude\": True}  # Pass 'Average Magnitude' explicitly\n",
    ")\n",
    "\n",
    "# custom hover \n",
    "fig.update_traces(\n",
    "    customdata=country_counts[[\"Average Magnitude\"]].values,  # Include custom data for hovertemplate\n",
    "    hovertemplate=\"<b>%{label}</b><br>Count: %{value}<br>Average Magnitude: %{customdata[0]:.2f}<extra></extra>\"\n",
    ")\n",
    "\n",
    "fig.show()\n"
   ]
  },
  {
   "cell_type": "code",
   "execution_count": 16,
   "metadata": {},
   "outputs": [
    {
     "data": {
      "application/vnd.plotly.v1+json": {
       "config": {
        "plotlyServerURL": "https://plot.ly"
       },
       "data": [
        {
         "customdata": [
          [
           0,
           "AFGHANISTAN"
          ],
          [
           0,
           "AFGHANISTAN"
          ],
          [
           0,
           "AFGHANISTAN"
          ],
          [
           0,
           "AFGHANISTAN"
          ],
          [
           0,
           "AFGHANISTAN"
          ],
          [
           0,
           "AFGHANISTAN"
          ],
          [
           0,
           "AFGHANISTAN"
          ],
          [
           0,
           "AFGHANISTAN"
          ],
          [
           0,
           "AFGHANISTAN"
          ],
          [
           0,
           "AFGHANISTAN"
          ],
          [
           109,
           "AFGHANISTAN"
          ],
          [
           0,
           "AFGHANISTAN"
          ],
          [
           0,
           "AFGHANISTAN"
          ],
          [
           120.4,
           "AFGHANISTAN"
          ],
          [
           50,
           "AFGHANISTAN"
          ]
         ],
         "hovertemplate": "Country Name=%{customdata[1]}<br>Year=%{x}<br>Earthquake Counts=%{y}<br>Total Damage ($Mil)=%{customdata[0]}<extra></extra>",
         "legendgroup": "AFGHANISTAN",
         "marker": {
          "color": "#636efa",
          "size": [
           0,
           0,
           0,
           0,
           0,
           0,
           0,
           0,
           0,
           0,
           109,
           0,
           0,
           120.4,
           50
          ],
          "sizemode": "area",
          "sizeref": 550.3415,
          "symbol": "circle"
         },
         "mode": "markers",
         "name": "AFGHANISTAN",
         "orientation": "v",
         "showlegend": true,
         "type": "scatter",
         "x": [
          2000,
          2001,
          2002,
          2004,
          2005,
          2008,
          2009,
          2010,
          2012,
          2013,
          2015,
          2016,
          2018,
          2022,
          2023
         ],
         "xaxis": "x",
         "y": [
          1,
          1,
          3,
          3,
          1,
          1,
          2,
          1,
          1,
          1,
          2,
          1,
          3,
          3,
          4
         ],
         "yaxis": "y"
        },
        {
         "customdata": [
          [
           0,
           "ALBANIA"
          ],
          [
           0,
           "ALBANIA"
          ],
          [
           0,
           "ALBANIA"
          ],
          [
           0,
           "ALBANIA"
          ],
          [
           1126,
           "ALBANIA"
          ]
         ],
         "hovertemplate": "Country Name=%{customdata[1]}<br>Year=%{x}<br>Earthquake Counts=%{y}<br>Total Damage ($Mil)=%{customdata[0]}<extra></extra>",
         "legendgroup": "ALBANIA",
         "marker": {
          "color": "#EF553B",
          "size": [
           0,
           0,
           0,
           0,
           1126
          ],
          "sizemode": "area",
          "sizeref": 550.3415,
          "symbol": "circle"
         },
         "mode": "markers",
         "name": "ALBANIA",
         "orientation": "v",
         "showlegend": true,
         "type": "scatter",
         "x": [
          2005,
          2006,
          2007,
          2014,
          2019
         ],
         "xaxis": "x",
         "y": [
          1,
          1,
          1,
          1,
          3
         ],
         "yaxis": "y"
        },
        {
         "customdata": [
          [
           5000,
           "ALGERIA"
          ],
          [
           0,
           "ALGERIA"
          ],
          [
           0,
           "ALGERIA"
          ],
          [
           0,
           "ALGERIA"
          ],
          [
           0,
           "ALGERIA"
          ],
          [
           0,
           "ALGERIA"
          ],
          [
           0,
           "ALGERIA"
          ],
          [
           0,
           "ALGERIA"
          ],
          [
           0,
           "ALGERIA"
          ]
         ],
         "hovertemplate": "Country Name=%{customdata[1]}<br>Year=%{x}<br>Earthquake Counts=%{y}<br>Total Damage ($Mil)=%{customdata[0]}<extra></extra>",
         "legendgroup": "ALGERIA",
         "marker": {
          "color": "#00cc96",
          "size": [
           5000,
           0,
           0,
           0,
           0,
           0,
           0,
           0,
           0
          ],
          "sizemode": "area",
          "sizeref": 550.3415,
          "symbol": "circle"
         },
         "mode": "markers",
         "name": "ALGERIA",
         "orientation": "v",
         "showlegend": true,
         "type": "scatter",
         "x": [
          2003,
          2004,
          2006,
          2008,
          2010,
          2013,
          2014,
          2016,
          2021
         ],
         "xaxis": "x",
         "y": [
          2,
          3,
          1,
          2,
          1,
          2,
          2,
          1,
          1
         ],
         "yaxis": "y"
        },
        {
         "customdata": [
          [
           0,
           "ANATAHAN REGION, N. MARIANA ISLANDS"
          ]
         ],
         "hovertemplate": "Country Name=%{customdata[1]}<br>Year=%{x}<br>Earthquake Counts=%{y}<br>Total Damage ($Mil)=%{customdata[0]}<extra></extra>",
         "legendgroup": "ANATAHAN REGION, N. MARIANA ISLANDS",
         "marker": {
          "color": "#ab63fa",
          "size": [
           0
          ],
          "sizemode": "area",
          "sizeref": 550.3415,
          "symbol": "circle"
         },
         "mode": "markers",
         "name": "ANATAHAN REGION, N. MARIANA ISLANDS",
         "orientation": "v",
         "showlegend": true,
         "type": "scatter",
         "x": [
          2010
         ],
         "xaxis": "x",
         "y": [
          1
         ],
         "yaxis": "y"
        },
        {
         "customdata": [
          [
           0,
           "ARGENTINA"
          ],
          [
           0,
           "ARGENTINA"
          ],
          [
           0,
           "ARGENTINA"
          ],
          [
           0,
           "ARGENTINA"
          ],
          [
           0,
           "ARGENTINA"
          ],
          [
           0,
           "ARGENTINA"
          ],
          [
           0,
           "ARGENTINA"
          ]
         ],
         "hovertemplate": "Country Name=%{customdata[1]}<br>Year=%{x}<br>Earthquake Counts=%{y}<br>Total Damage ($Mil)=%{customdata[0]}<extra></extra>",
         "legendgroup": "ARGENTINA",
         "marker": {
          "color": "#FFA15A",
          "size": [
           0,
           0,
           0,
           0,
           0,
           0,
           0
          ],
          "sizemode": "area",
          "sizeref": 550.3415,
          "symbol": "circle"
         },
         "mode": "markers",
         "name": "ARGENTINA",
         "orientation": "v",
         "showlegend": true,
         "type": "scatter",
         "x": [
          2002,
          2004,
          2006,
          2008,
          2010,
          2015,
          2021
         ],
         "xaxis": "x",
         "y": [
          1,
          1,
          1,
          1,
          1,
          1,
          1
         ],
         "yaxis": "y"
        },
        {
         "customdata": [
          [
           0,
           "ATLANTIC OCEAN"
          ]
         ],
         "hovertemplate": "Country Name=%{customdata[1]}<br>Year=%{x}<br>Earthquake Counts=%{y}<br>Total Damage ($Mil)=%{customdata[0]}<extra></extra>",
         "legendgroup": "ATLANTIC OCEAN",
         "marker": {
          "color": "#19d3f3",
          "size": [
           0
          ],
          "sizemode": "area",
          "sizeref": 550.3415,
          "symbol": "circle"
         },
         "mode": "markers",
         "name": "ATLANTIC OCEAN",
         "orientation": "v",
         "showlegend": true,
         "type": "scatter",
         "x": [
          2008
         ],
         "xaxis": "x",
         "y": [
          1
         ],
         "yaxis": "y"
        },
        {
         "customdata": [
          [
           0,
           "AUSTRALIA"
          ],
          [
           0,
           "AUSTRALIA"
          ],
          [
           0,
           "AUSTRALIA"
          ],
          [
           0,
           "AUSTRALIA"
          ],
          [
           0,
           "AUSTRALIA"
          ],
          [
           0,
           "AUSTRALIA"
          ]
         ],
         "hovertemplate": "Country Name=%{customdata[1]}<br>Year=%{x}<br>Earthquake Counts=%{y}<br>Total Damage ($Mil)=%{customdata[0]}<extra></extra>",
         "legendgroup": "AUSTRALIA",
         "marker": {
          "color": "#FF6692",
          "size": [
           0,
           0,
           0,
           0,
           0,
           0
          ],
          "sizemode": "area",
          "sizeref": 550.3415,
          "symbol": "circle"
         },
         "mode": "markers",
         "name": "AUSTRALIA",
         "orientation": "v",
         "showlegend": true,
         "type": "scatter",
         "x": [
          2000,
          2004,
          2009,
          2010,
          2014,
          2021
         ],
         "xaxis": "x",
         "y": [
          1,
          1,
          1,
          1,
          1,
          1
         ],
         "yaxis": "y"
        },
        {
         "customdata": [
          [
           0,
           "AZERBAIJAN"
          ],
          [
           0,
           "AZERBAIJAN"
          ],
          [
           0,
           "AZERBAIJAN"
          ],
          [
           0,
           "AZERBAIJAN"
          ]
         ],
         "hovertemplate": "Country Name=%{customdata[1]}<br>Year=%{x}<br>Earthquake Counts=%{y}<br>Total Damage ($Mil)=%{customdata[0]}<extra></extra>",
         "legendgroup": "AZERBAIJAN",
         "marker": {
          "color": "#B6E880",
          "size": [
           0,
           0,
           0,
           0
          ],
          "sizemode": "area",
          "sizeref": 550.3415,
          "symbol": "circle"
         },
         "mode": "markers",
         "name": "AZERBAIJAN",
         "orientation": "v",
         "showlegend": true,
         "type": "scatter",
         "x": [
          2000,
          2012,
          2018,
          2019
         ],
         "xaxis": "x",
         "y": [
          1,
          1,
          1,
          1
         ],
         "yaxis": "y"
        },
        {
         "customdata": [
          [
           0,
           "BALKANS NW: KOSOVO; MACEDONIA: N"
          ]
         ],
         "hovertemplate": "Country Name=%{customdata[1]}<br>Year=%{x}<br>Earthquake Counts=%{y}<br>Total Damage ($Mil)=%{customdata[0]}<extra></extra>",
         "legendgroup": "BALKANS NW: KOSOVO; MACEDONIA: N",
         "marker": {
          "color": "#FF97FF",
          "size": [
           0
          ],
          "sizemode": "area",
          "sizeref": 550.3415,
          "symbol": "circle"
         },
         "mode": "markers",
         "name": "BALKANS NW: KOSOVO; MACEDONIA: N",
         "orientation": "v",
         "showlegend": true,
         "type": "scatter",
         "x": [
          2002
         ],
         "xaxis": "x",
         "y": [
          1
         ],
         "yaxis": "y"
        },
        {
         "customdata": [
          [
           0,
           "BANGLADESH"
          ],
          [
           0,
           "BANGLADESH"
          ],
          [
           0,
           "BANGLADESH"
          ],
          [
           0,
           "BANGLADESH"
          ],
          [
           0,
           "BANGLADESH"
          ]
         ],
         "hovertemplate": "Country Name=%{customdata[1]}<br>Year=%{x}<br>Earthquake Counts=%{y}<br>Total Damage ($Mil)=%{customdata[0]}<extra></extra>",
         "legendgroup": "BANGLADESH",
         "marker": {
          "color": "#FECB52",
          "size": [
           0,
           0,
           0,
           0,
           0
          ],
          "sizemode": "area",
          "sizeref": 550.3415,
          "symbol": "circle"
         },
         "mode": "markers",
         "name": "BANGLADESH",
         "orientation": "v",
         "showlegend": true,
         "type": "scatter",
         "x": [
          2001,
          2002,
          2003,
          2007,
          2010
         ],
         "xaxis": "x",
         "y": [
          1,
          1,
          1,
          1,
          1
         ],
         "yaxis": "y"
        },
        {
         "customdata": [
          [
           0,
           "BHUTAN"
          ],
          [
           0,
           "BHUTAN"
          ],
          [
           0,
           "BHUTAN"
          ]
         ],
         "hovertemplate": "Country Name=%{customdata[1]}<br>Year=%{x}<br>Earthquake Counts=%{y}<br>Total Damage ($Mil)=%{customdata[0]}<extra></extra>",
         "legendgroup": "BHUTAN",
         "marker": {
          "color": "#636efa",
          "size": [
           0,
           0,
           0
          ],
          "sizemode": "area",
          "sizeref": 550.3415,
          "symbol": "circle"
         },
         "mode": "markers",
         "name": "BHUTAN",
         "orientation": "v",
         "showlegend": true,
         "type": "scatter",
         "x": [
          2003,
          2006,
          2009
         ],
         "xaxis": "x",
         "y": [
          1,
          1,
          3
         ],
         "yaxis": "y"
        },
        {
         "customdata": [
          [
           0,
           "BOSNIA-HERZEGOVINA"
          ],
          [
           0,
           "BOSNIA-HERZEGOVINA"
          ]
         ],
         "hovertemplate": "Country Name=%{customdata[1]}<br>Year=%{x}<br>Earthquake Counts=%{y}<br>Total Damage ($Mil)=%{customdata[0]}<extra></extra>",
         "legendgroup": "BOSNIA-HERZEGOVINA",
         "marker": {
          "color": "#EF553B",
          "size": [
           0,
           0
          ],
          "sizemode": "area",
          "sizeref": 550.3415,
          "symbol": "circle"
         },
         "mode": "markers",
         "name": "BOSNIA-HERZEGOVINA",
         "orientation": "v",
         "showlegend": true,
         "type": "scatter",
         "x": [
          2015,
          2022
         ],
         "xaxis": "x",
         "y": [
          1,
          1
         ],
         "yaxis": "y"
        },
        {
         "customdata": [
          [
           0,
           "BRAZIL"
          ],
          [
           0,
           "BRAZIL"
          ],
          [
           0,
           "BRAZIL"
          ]
         ],
         "hovertemplate": "Country Name=%{customdata[1]}<br>Year=%{x}<br>Earthquake Counts=%{y}<br>Total Damage ($Mil)=%{customdata[0]}<extra></extra>",
         "legendgroup": "BRAZIL",
         "marker": {
          "color": "#00cc96",
          "size": [
           0,
           0,
           0
          ],
          "sizemode": "area",
          "sizeref": 550.3415,
          "symbol": "circle"
         },
         "mode": "markers",
         "name": "BRAZIL",
         "orientation": "v",
         "showlegend": true,
         "type": "scatter",
         "x": [
          2007,
          2008,
          2012
         ],
         "xaxis": "x",
         "y": [
          1,
          2,
          1
         ],
         "yaxis": "y"
        },
        {
         "customdata": [
          [
           0,
           "BULGARIA"
          ],
          [
           0,
           "BULGARIA"
          ]
         ],
         "hovertemplate": "Country Name=%{customdata[1]}<br>Year=%{x}<br>Earthquake Counts=%{y}<br>Total Damage ($Mil)=%{customdata[0]}<extra></extra>",
         "legendgroup": "BULGARIA",
         "marker": {
          "color": "#ab63fa",
          "size": [
           0,
           0
          ],
          "sizemode": "area",
          "sizeref": 550.3415,
          "symbol": "circle"
         },
         "mode": "markers",
         "name": "BULGARIA",
         "orientation": "v",
         "showlegend": true,
         "type": "scatter",
         "x": [
          2003,
          2012
         ],
         "xaxis": "x",
         "y": [
          1,
          1
         ],
         "yaxis": "y"
        },
        {
         "customdata": [
          [
           0,
           "BURUNDI"
          ]
         ],
         "hovertemplate": "Country Name=%{customdata[1]}<br>Year=%{x}<br>Earthquake Counts=%{y}<br>Total Damage ($Mil)=%{customdata[0]}<extra></extra>",
         "legendgroup": "BURUNDI",
         "marker": {
          "color": "#FFA15A",
          "size": [
           0
          ],
          "sizemode": "area",
          "sizeref": 550.3415,
          "symbol": "circle"
         },
         "mode": "markers",
         "name": "BURUNDI",
         "orientation": "v",
         "showlegend": true,
         "type": "scatter",
         "x": [
          2004
         ],
         "xaxis": "x",
         "y": [
          1
         ],
         "yaxis": "y"
        },
        {
         "customdata": [
          [
           0,
           "CANADA"
          ],
          [
           0,
           "CANADA"
          ],
          [
           0,
           "CANADA"
          ],
          [
           0,
           "CANADA"
          ]
         ],
         "hovertemplate": "Country Name=%{customdata[1]}<br>Year=%{x}<br>Earthquake Counts=%{y}<br>Total Damage ($Mil)=%{customdata[0]}<extra></extra>",
         "legendgroup": "CANADA",
         "marker": {
          "color": "#19d3f3",
          "size": [
           0,
           0,
           0,
           0
          ],
          "sizemode": "area",
          "sizeref": 550.3415,
          "symbol": "circle"
         },
         "mode": "markers",
         "name": "CANADA",
         "orientation": "v",
         "showlegend": true,
         "type": "scatter",
         "x": [
          2001,
          2004,
          2010,
          2012
         ],
         "xaxis": "x",
         "y": [
          1,
          1,
          1,
          1
         ],
         "yaxis": "y"
        },
        {
         "customdata": [
          [
           0,
           "CHILE"
          ],
          [
           0,
           "CHILE"
          ],
          [
           0,
           "CHILE"
          ],
          [
           0,
           "CHILE"
          ],
          [
           0,
           "CHILE"
          ],
          [
           30000,
           "CHILE"
          ],
          [
           0,
           "CHILE"
          ],
          [
           0,
           "CHILE"
          ],
          [
           100,
           "CHILE"
          ],
          [
           600,
           "CHILE"
          ],
          [
           0,
           "CHILE"
          ],
          [
           0,
           "CHILE"
          ],
          [
           0,
           "CHILE"
          ],
          [
           0,
           "CHILE"
          ],
          [
           0,
           "CHILE"
          ]
         ],
         "hovertemplate": "Country Name=%{customdata[1]}<br>Year=%{x}<br>Earthquake Counts=%{y}<br>Total Damage ($Mil)=%{customdata[0]}<extra></extra>",
         "legendgroup": "CHILE",
         "marker": {
          "color": "#FF6692",
          "size": [
           0,
           0,
           0,
           0,
           0,
           30000,
           0,
           0,
           100,
           600,
           0,
           0,
           0,
           0,
           0
          ],
          "sizemode": "area",
          "sizeref": 550.3415,
          "symbol": "circle"
         },
         "mode": "markers",
         "name": "CHILE",
         "orientation": "v",
         "showlegend": true,
         "type": "scatter",
         "x": [
          2002,
          2003,
          2004,
          2005,
          2007,
          2010,
          2011,
          2012,
          2014,
          2015,
          2016,
          2017,
          2019,
          2020,
          2024
         ],
         "xaxis": "x",
         "y": [
          3,
          1,
          2,
          2,
          3,
          2,
          1,
          3,
          4,
          2,
          1,
          2,
          4,
          1,
          1
         ],
         "yaxis": "y"
        },
        {
         "customdata": [
          [
           116.5,
           "CHINA"
          ],
          [
           36,
           "CHINA"
          ],
          [
           0,
           "CHINA"
          ],
          [
           115,
           "CHINA"
          ],
          [
           124,
           "CHINA"
          ],
          [
           0,
           "CHINA"
          ],
          [
           0,
           "CHINA"
          ],
          [
           310,
           "CHINA"
          ],
          [
           86004,
           "CHINA"
          ],
          [
           0,
           "CHINA"
          ],
          [
           500,
           "CHINA"
          ],
          [
           10.5,
           "CHINA"
          ],
          [
           1152,
           "CHINA"
          ],
          [
           7427.3,
           "CHINA"
          ],
          [
           5640,
           "CHINA"
          ],
          [
           29.65,
           "CHINA"
          ],
          [
           200.5,
           "CHINA"
          ],
          [
           655.5,
           "CHINA"
          ],
          [
           81.255,
           "CHINA"
          ],
          [
           1302,
           "CHINA"
          ],
          [
           28.28,
           "CHINA"
          ],
          [
           299,
           "CHINA"
          ],
          [
           1396,
           "CHINA"
          ],
          [
           2065,
           "CHINA"
          ],
          [
           0,
           "CHINA"
          ]
         ],
         "hovertemplate": "Country Name=%{customdata[1]}<br>Year=%{x}<br>Earthquake Counts=%{y}<br>Total Damage ($Mil)=%{customdata[0]}<extra></extra>",
         "legendgroup": "CHINA",
         "marker": {
          "color": "#B6E880",
          "size": [
           116.5,
           36,
           0,
           115,
           124,
           0,
           0,
           310,
           86004,
           0,
           500,
           10.5,
           1152,
           7427.3,
           5640,
           29.65,
           200.5,
           655.5,
           81.255,
           1302,
           28.28,
           299,
           1396,
           2065,
           0
          ],
          "sizemode": "area",
          "sizeref": 550.3415,
          "symbol": "circle"
         },
         "mode": "markers",
         "name": "CHINA",
         "orientation": "v",
         "showlegend": true,
         "type": "scatter",
         "x": [
          2000,
          2001,
          2002,
          2003,
          2004,
          2005,
          2006,
          2007,
          2008,
          2009,
          2010,
          2011,
          2012,
          2013,
          2014,
          2015,
          2016,
          2017,
          2018,
          2019,
          2020,
          2021,
          2022,
          2023,
          2024
         ],
         "xaxis": "x",
         "y": [
          4,
          5,
          3,
          14,
          5,
          7,
          8,
          4,
          15,
          6,
          5,
          10,
          6,
          10,
          9,
          6,
          5,
          6,
          4,
          7,
          3,
          4,
          5,
          3,
          1
         ],
         "yaxis": "y"
        },
        {
         "customdata": [
          [
           0,
           "COLOMBIA"
          ],
          [
           0,
           "COLOMBIA"
          ],
          [
           0,
           "COLOMBIA"
          ],
          [
           0,
           "COLOMBIA"
          ],
          [
           0,
           "COLOMBIA"
          ],
          [
           0,
           "COLOMBIA"
          ],
          [
           0,
           "COLOMBIA"
          ],
          [
           0,
           "COLOMBIA"
          ],
          [
           0,
           "COLOMBIA"
          ],
          [
           0,
           "COLOMBIA"
          ],
          [
           30,
           "COLOMBIA"
          ]
         ],
         "hovertemplate": "Country Name=%{customdata[1]}<br>Year=%{x}<br>Earthquake Counts=%{y}<br>Total Damage ($Mil)=%{customdata[0]}<extra></extra>",
         "legendgroup": "COLOMBIA",
         "marker": {
          "color": "#FF97FF",
          "size": [
           0,
           0,
           0,
           0,
           0,
           0,
           0,
           0,
           0,
           0,
           30
          ],
          "sizemode": "area",
          "sizeref": 550.3415,
          "symbol": "circle"
         },
         "mode": "markers",
         "name": "COLOMBIA",
         "orientation": "v",
         "showlegend": true,
         "type": "scatter",
         "x": [
          2004,
          2007,
          2008,
          2013,
          2014,
          2015,
          2017,
          2018,
          2019,
          2021,
          2023
         ],
         "xaxis": "x",
         "y": [
          1,
          2,
          1,
          1,
          1,
          2,
          1,
          1,
          1,
          1,
          1
         ],
         "yaxis": "y"
        },
        {
         "customdata": [
          [
           0,
           "COMOROS"
          ]
         ],
         "hovertemplate": "Country Name=%{customdata[1]}<br>Year=%{x}<br>Earthquake Counts=%{y}<br>Total Damage ($Mil)=%{customdata[0]}<extra></extra>",
         "legendgroup": "COMOROS",
         "marker": {
          "color": "#FECB52",
          "size": [
           0
          ],
          "sizemode": "area",
          "sizeref": 550.3415,
          "symbol": "circle"
         },
         "mode": "markers",
         "name": "COMOROS",
         "orientation": "v",
         "showlegend": true,
         "type": "scatter",
         "x": [
          2018
         ],
         "xaxis": "x",
         "y": [
          1
         ],
         "yaxis": "y"
        },
        {
         "customdata": [
          [
           0,
           "CONGO"
          ],
          [
           0,
           "CONGO"
          ],
          [
           0,
           "CONGO"
          ],
          [
           0,
           "CONGO"
          ]
         ],
         "hovertemplate": "Country Name=%{customdata[1]}<br>Year=%{x}<br>Earthquake Counts=%{y}<br>Total Damage ($Mil)=%{customdata[0]}<extra></extra>",
         "legendgroup": "CONGO",
         "marker": {
          "color": "#636efa",
          "size": [
           0,
           0,
           0,
           0
          ],
          "sizemode": "area",
          "sizeref": 550.3415,
          "symbol": "circle"
         },
         "mode": "markers",
         "name": "CONGO",
         "orientation": "v",
         "showlegend": true,
         "type": "scatter",
         "x": [
          2002,
          2005,
          2008,
          2021
         ],
         "xaxis": "x",
         "y": [
          1,
          1,
          1,
          1
         ],
         "yaxis": "y"
        },
        {
         "customdata": [
          [
           0,
           "COSTA RICA"
          ],
          [
           502,
           "COSTA RICA"
          ],
          [
           45,
           "COSTA RICA"
          ],
          [
           0,
           "COSTA RICA"
          ],
          [
           0,
           "COSTA RICA"
          ]
         ],
         "hovertemplate": "Country Name=%{customdata[1]}<br>Year=%{x}<br>Earthquake Counts=%{y}<br>Total Damage ($Mil)=%{customdata[0]}<extra></extra>",
         "legendgroup": "COSTA RICA",
         "marker": {
          "color": "#EF553B",
          "size": [
           0,
           502,
           45,
           0,
           0
          ],
          "sizemode": "area",
          "sizeref": 550.3415,
          "symbol": "circle"
         },
         "mode": "markers",
         "name": "COSTA RICA",
         "orientation": "v",
         "showlegend": true,
         "type": "scatter",
         "x": [
          2004,
          2009,
          2012,
          2016,
          2017
         ],
         "xaxis": "x",
         "y": [
          1,
          1,
          1,
          1,
          1
         ],
         "yaxis": "y"
        },
        {
         "customdata": [
          [
           5987,
           "CROATIA"
          ]
         ],
         "hovertemplate": "Country Name=%{customdata[1]}<br>Year=%{x}<br>Earthquake Counts=%{y}<br>Total Damage ($Mil)=%{customdata[0]}<extra></extra>",
         "legendgroup": "CROATIA",
         "marker": {
          "color": "#00cc96",
          "size": [
           5987
          ],
          "sizemode": "area",
          "sizeref": 550.3415,
          "symbol": "circle"
         },
         "mode": "markers",
         "name": "CROATIA",
         "orientation": "v",
         "showlegend": true,
         "type": "scatter",
         "x": [
          2020
         ],
         "xaxis": "x",
         "y": [
          2
         ],
         "yaxis": "y"
        },
        {
         "customdata": [
          [
           0,
           "CUBA"
          ]
         ],
         "hovertemplate": "Country Name=%{customdata[1]}<br>Year=%{x}<br>Earthquake Counts=%{y}<br>Total Damage ($Mil)=%{customdata[0]}<extra></extra>",
         "legendgroup": "CUBA",
         "marker": {
          "color": "#ab63fa",
          "size": [
           0
          ],
          "sizemode": "area",
          "sizeref": 550.3415,
          "symbol": "circle"
         },
         "mode": "markers",
         "name": "CUBA",
         "orientation": "v",
         "showlegend": true,
         "type": "scatter",
         "x": [
          2020
         ],
         "xaxis": "x",
         "y": [
          1
         ],
         "yaxis": "y"
        },
        {
         "customdata": [
          [
           0,
           "CZECH REPUBLIC"
          ]
         ],
         "hovertemplate": "Country Name=%{customdata[1]}<br>Year=%{x}<br>Earthquake Counts=%{y}<br>Total Damage ($Mil)=%{customdata[0]}<extra></extra>",
         "legendgroup": "CZECH REPUBLIC",
         "marker": {
          "color": "#FFA15A",
          "size": [
           0
          ],
          "sizemode": "area",
          "sizeref": 550.3415,
          "symbol": "circle"
         },
         "mode": "markers",
         "name": "CZECH REPUBLIC",
         "orientation": "v",
         "showlegend": true,
         "type": "scatter",
         "x": [
          2008
         ],
         "xaxis": "x",
         "y": [
          1
         ],
         "yaxis": "y"
        },
        {
         "customdata": [
          [
           0,
           "DOMINICAN REPUBLIC"
          ]
         ],
         "hovertemplate": "Country Name=%{customdata[1]}<br>Year=%{x}<br>Earthquake Counts=%{y}<br>Total Damage ($Mil)=%{customdata[0]}<extra></extra>",
         "legendgroup": "DOMINICAN REPUBLIC",
         "marker": {
          "color": "#19d3f3",
          "size": [
           0
          ],
          "sizemode": "area",
          "sizeref": 550.3415,
          "symbol": "circle"
         },
         "mode": "markers",
         "name": "DOMINICAN REPUBLIC",
         "orientation": "v",
         "showlegend": true,
         "type": "scatter",
         "x": [
          2003
         ],
         "xaxis": "x",
         "y": [
          2
         ],
         "yaxis": "y"
        },
        {
         "customdata": [
          [
           0,
           "ECUADOR"
          ],
          [
           0,
           "ECUADOR"
          ],
          [
           0,
           "ECUADOR"
          ],
          [
           0,
           "ECUADOR"
          ],
          [
           0,
           "ECUADOR"
          ],
          [
           0,
           "ECUADOR"
          ],
          [
           3300,
           "ECUADOR"
          ],
          [
           0,
           "ECUADOR"
          ],
          [
           0,
           "ECUADOR"
          ],
          [
           0,
           "ECUADOR"
          ],
          [
           0,
           "ECUADOR"
          ]
         ],
         "hovertemplate": "Country Name=%{customdata[1]}<br>Year=%{x}<br>Earthquake Counts=%{y}<br>Total Damage ($Mil)=%{customdata[0]}<extra></extra>",
         "legendgroup": "ECUADOR",
         "marker": {
          "color": "#FF6692",
          "size": [
           0,
           0,
           0,
           0,
           0,
           0,
           3300,
           0,
           0,
           0,
           0
          ],
          "sizemode": "area",
          "sizeref": 550.3415,
          "symbol": "circle"
         },
         "mode": "markers",
         "name": "ECUADOR",
         "orientation": "v",
         "showlegend": true,
         "type": "scatter",
         "x": [
          2005,
          2007,
          2009,
          2010,
          2011,
          2014,
          2016,
          2018,
          2019,
          2022,
          2023
         ],
         "xaxis": "x",
         "y": [
          2,
          1,
          1,
          1,
          1,
          1,
          3,
          1,
          1,
          2,
          1
         ],
         "yaxis": "y"
        },
        {
         "customdata": [
          [
           0,
           "EGYPT"
          ]
         ],
         "hovertemplate": "Country Name=%{customdata[1]}<br>Year=%{x}<br>Earthquake Counts=%{y}<br>Total Damage ($Mil)=%{customdata[0]}<extra></extra>",
         "legendgroup": "EGYPT",
         "marker": {
          "color": "#B6E880",
          "size": [
           0
          ],
          "sizemode": "area",
          "sizeref": 550.3415,
          "symbol": "circle"
         },
         "mode": "markers",
         "name": "EGYPT",
         "orientation": "v",
         "showlegend": true,
         "type": "scatter",
         "x": [
          2002
         ],
         "xaxis": "x",
         "y": [
          1
         ],
         "yaxis": "y"
        },
        {
         "customdata": [
          [
           1101.5,
           "EL SALVADOR"
          ],
          [
           0,
           "EL SALVADOR"
          ],
          [
           0,
           "EL SALVADOR"
          ],
          [
           0,
           "EL SALVADOR"
          ],
          [
           0,
           "EL SALVADOR"
          ],
          [
           0,
           "EL SALVADOR"
          ],
          [
           0,
           "EL SALVADOR"
          ]
         ],
         "hovertemplate": "Country Name=%{customdata[1]}<br>Year=%{x}<br>Earthquake Counts=%{y}<br>Total Damage ($Mil)=%{customdata[0]}<extra></extra>",
         "legendgroup": "EL SALVADOR",
         "marker": {
          "color": "#FF97FF",
          "size": [
           1101.5,
           0,
           0,
           0,
           0,
           0,
           0
          ],
          "sizemode": "area",
          "sizeref": 550.3415,
          "symbol": "circle"
         },
         "mode": "markers",
         "name": "EL SALVADOR",
         "orientation": "v",
         "showlegend": true,
         "type": "scatter",
         "x": [
          2001,
          2011,
          2014,
          2015,
          2017,
          2018,
          2019
         ],
         "xaxis": "x",
         "y": [
          3,
          1,
          1,
          1,
          1,
          1,
          1
         ],
         "yaxis": "y"
        },
        {
         "customdata": [
          [
           0,
           "ETHIOPIA"
          ],
          [
           0,
           "ETHIOPIA"
          ]
         ],
         "hovertemplate": "Country Name=%{customdata[1]}<br>Year=%{x}<br>Earthquake Counts=%{y}<br>Total Damage ($Mil)=%{customdata[0]}<extra></extra>",
         "legendgroup": "ETHIOPIA",
         "marker": {
          "color": "#FECB52",
          "size": [
           0,
           0
          ],
          "sizemode": "area",
          "sizeref": 550.3415,
          "symbol": "circle"
         },
         "mode": "markers",
         "name": "ETHIOPIA",
         "orientation": "v",
         "showlegend": true,
         "type": "scatter",
         "x": [
          2005,
          2010
         ],
         "xaxis": "x",
         "y": [
          1,
          1
         ],
         "yaxis": "y"
        },
        {
         "customdata": [
          [
           0,
           "FIJI ISLANDS"
          ],
          [
           0,
           "FIJI ISLANDS"
          ],
          [
           0,
           "FIJI ISLANDS"
          ]
         ],
         "hovertemplate": "Country Name=%{customdata[1]}<br>Year=%{x}<br>Earthquake Counts=%{y}<br>Total Damage ($Mil)=%{customdata[0]}<extra></extra>",
         "legendgroup": "FIJI ISLANDS",
         "marker": {
          "color": "#636efa",
          "size": [
           0,
           0,
           0
          ],
          "sizemode": "area",
          "sizeref": 550.3415,
          "symbol": "circle"
         },
         "mode": "markers",
         "name": "FIJI ISLANDS",
         "orientation": "v",
         "showlegend": true,
         "type": "scatter",
         "x": [
          2002,
          2017,
          2018
         ],
         "xaxis": "x",
         "y": [
          2,
          1,
          2
         ],
         "yaxis": "y"
        },
        {
         "customdata": [
          [
           0,
           "FRANCE"
          ],
          [
           0,
           "FRANCE"
          ],
          [
           0,
           "FRANCE"
          ],
          [
           59.4,
           "FRANCE"
          ],
          [
           440,
           "FRANCE"
          ]
         ],
         "hovertemplate": "Country Name=%{customdata[1]}<br>Year=%{x}<br>Earthquake Counts=%{y}<br>Total Damage ($Mil)=%{customdata[0]}<extra></extra>",
         "legendgroup": "FRANCE",
         "marker": {
          "color": "#EF553B",
          "size": [
           0,
           0,
           0,
           59.4,
           440
          ],
          "sizemode": "area",
          "sizeref": 550.3415,
          "symbol": "circle"
         },
         "mode": "markers",
         "name": "FRANCE",
         "orientation": "v",
         "showlegend": true,
         "type": "scatter",
         "x": [
          2002,
          2003,
          2006,
          2019,
          2023
         ],
         "xaxis": "x",
         "y": [
          1,
          1,
          2,
          1,
          1
         ],
         "yaxis": "y"
        },
        {
         "customdata": [
          [
           0,
           "GEORGIA"
          ],
          [
           0,
           "GEORGIA"
          ]
         ],
         "hovertemplate": "Country Name=%{customdata[1]}<br>Year=%{x}<br>Earthquake Counts=%{y}<br>Total Damage ($Mil)=%{customdata[0]}<extra></extra>",
         "legendgroup": "GEORGIA",
         "marker": {
          "color": "#00cc96",
          "size": [
           0,
           0
          ],
          "sizemode": "area",
          "sizeref": 550.3415,
          "symbol": "circle"
         },
         "mode": "markers",
         "name": "GEORGIA",
         "orientation": "v",
         "showlegend": true,
         "type": "scatter",
         "x": [
          2002,
          2009
         ],
         "xaxis": "x",
         "y": [
          1,
          1
         ],
         "yaxis": "y"
        },
        {
         "customdata": [
          [
           0,
           "GERMANY"
          ],
          [
           0,
           "GERMANY"
          ],
          [
           0,
           "GERMANY"
          ],
          [
           1.36,
           "GERMANY"
          ]
         ],
         "hovertemplate": "Country Name=%{customdata[1]}<br>Year=%{x}<br>Earthquake Counts=%{y}<br>Total Damage ($Mil)=%{customdata[0]}<extra></extra>",
         "legendgroup": "GERMANY",
         "marker": {
          "color": "#ab63fa",
          "size": [
           0,
           0,
           0,
           1.36
          ],
          "sizemode": "area",
          "sizeref": 550.3415,
          "symbol": "circle"
         },
         "mode": "markers",
         "name": "GERMANY",
         "orientation": "v",
         "showlegend": true,
         "type": "scatter",
         "x": [
          2002,
          2003,
          2004,
          2014
         ],
         "xaxis": "x",
         "y": [
          1,
          1,
          1,
          1
         ],
         "yaxis": "y"
        },
        {
         "customdata": [
          [
           0,
           "GREECE"
          ],
          [
           0,
           "GREECE"
          ],
          [
           0,
           "GREECE"
          ],
          [
           0,
           "GREECE"
          ],
          [
           0,
           "GREECE"
          ],
          [
           0,
           "GREECE"
          ],
          [
           0,
           "GREECE"
          ],
          [
           0,
           "GREECE"
          ],
          [
           0,
           "GREECE"
          ],
          [
           0,
           "GREECE"
          ],
          [
           4678,
           "GREECE"
          ],
          [
           0,
           "GREECE"
          ],
          [
           0,
           "GREECE"
          ],
          [
           0,
           "GREECE"
          ],
          [
           0,
           "GREECE"
          ],
          [
           400,
           "GREECE"
          ],
          [
           10,
           "GREECE"
          ]
         ],
         "hovertemplate": "Country Name=%{customdata[1]}<br>Year=%{x}<br>Earthquake Counts=%{y}<br>Total Damage ($Mil)=%{customdata[0]}<extra></extra>",
         "legendgroup": "GREECE",
         "marker": {
          "color": "#FFA15A",
          "size": [
           0,
           0,
           0,
           0,
           0,
           0,
           0,
           0,
           0,
           0,
           4678,
           0,
           0,
           0,
           0,
           400,
           10
          ],
          "sizemode": "area",
          "sizeref": 550.3415,
          "symbol": "circle"
         },
         "mode": "markers",
         "name": "GREECE",
         "orientation": "v",
         "showlegend": true,
         "type": "scatter",
         "x": [
          2000,
          2001,
          2002,
          2003,
          2004,
          2006,
          2007,
          2008,
          2009,
          2013,
          2014,
          2015,
          2017,
          2018,
          2019,
          2020,
          2021
         ],
         "xaxis": "x",
         "y": [
          1,
          1,
          1,
          2,
          2,
          3,
          1,
          1,
          1,
          3,
          3,
          1,
          1,
          1,
          1,
          2,
          3
         ],
         "yaxis": "y"
        },
        {
         "customdata": [
          [
           0,
           "GUADELOUPE"
          ],
          [
           0,
           "GUADELOUPE"
          ]
         ],
         "hovertemplate": "Country Name=%{customdata[1]}<br>Year=%{x}<br>Earthquake Counts=%{y}<br>Total Damage ($Mil)=%{customdata[0]}<extra></extra>",
         "legendgroup": "GUADELOUPE",
         "marker": {
          "color": "#19d3f3",
          "size": [
           0,
           0
          ],
          "sizemode": "area",
          "sizeref": 550.3415,
          "symbol": "circle"
         },
         "mode": "markers",
         "name": "GUADELOUPE",
         "orientation": "v",
         "showlegend": true,
         "type": "scatter",
         "x": [
          2004,
          2005
         ],
         "xaxis": "x",
         "y": [
          1,
          1
         ],
         "yaxis": "y"
        },
        {
         "customdata": [
          [
           0,
           "GUAM"
          ],
          [
           0,
           "GUAM"
          ],
          [
           0,
           "GUAM"
          ]
         ],
         "hovertemplate": "Country Name=%{customdata[1]}<br>Year=%{x}<br>Earthquake Counts=%{y}<br>Total Damage ($Mil)=%{customdata[0]}<extra></extra>",
         "legendgroup": "GUAM",
         "marker": {
          "color": "#FF6692",
          "size": [
           0,
           0,
           0
          ],
          "sizemode": "area",
          "sizeref": 550.3415,
          "symbol": "circle"
         },
         "mode": "markers",
         "name": "GUAM",
         "orientation": "v",
         "showlegend": true,
         "type": "scatter",
         "x": [
          2001,
          2002,
          2010
         ],
         "xaxis": "x",
         "y": [
          1,
          1,
          1
         ],
         "yaxis": "y"
        },
        {
         "customdata": [
          [
           0,
           "GUATEMALA"
          ],
          [
           0,
           "GUATEMALA"
          ],
          [
           0,
           "GUATEMALA"
          ],
          [
           210,
           "GUATEMALA"
          ],
          [
           2,
           "GUATEMALA"
          ],
          [
           0,
           "GUATEMALA"
          ],
          [
           0,
           "GUATEMALA"
          ]
         ],
         "hovertemplate": "Country Name=%{customdata[1]}<br>Year=%{x}<br>Earthquake Counts=%{y}<br>Total Damage ($Mil)=%{customdata[0]}<extra></extra>",
         "legendgroup": "GUATEMALA",
         "marker": {
          "color": "#B6E880",
          "size": [
           0,
           0,
           0,
           210,
           2,
           0,
           0
          ],
          "sizemode": "area",
          "sizeref": 550.3415,
          "symbol": "circle"
         },
         "mode": "markers",
         "name": "GUATEMALA",
         "orientation": "v",
         "showlegend": true,
         "type": "scatter",
         "x": [
          2007,
          2008,
          2011,
          2012,
          2013,
          2017,
          2022
         ],
         "xaxis": "x",
         "y": [
          1,
          2,
          1,
          1,
          1,
          2,
          1
         ],
         "yaxis": "y"
        },
        {
         "customdata": [
          [
           0,
           "GULF OF MEXICO"
          ]
         ],
         "hovertemplate": "Country Name=%{customdata[1]}<br>Year=%{x}<br>Earthquake Counts=%{y}<br>Total Damage ($Mil)=%{customdata[0]}<extra></extra>",
         "legendgroup": "GULF OF MEXICO",
         "marker": {
          "color": "#FF97FF",
          "size": [
           0
          ],
          "sizemode": "area",
          "sizeref": 550.3415,
          "symbol": "circle"
         },
         "mode": "markers",
         "name": "GULF OF MEXICO",
         "orientation": "v",
         "showlegend": true,
         "type": "scatter",
         "x": [
          2006
         ],
         "xaxis": "x",
         "y": [
          1
         ],
         "yaxis": "y"
        },
        {
         "customdata": [
          [
           8000,
           "HAITI"
          ],
          [
           0,
           "HAITI"
          ],
          [
           1600,
           "HAITI"
          ],
          [
           0,
           "HAITI"
          ],
          [
           0,
           "HAITI"
          ]
         ],
         "hovertemplate": "Country Name=%{customdata[1]}<br>Year=%{x}<br>Earthquake Counts=%{y}<br>Total Damage ($Mil)=%{customdata[0]}<extra></extra>",
         "legendgroup": "HAITI",
         "marker": {
          "color": "#FECB52",
          "size": [
           8000,
           0,
           1600,
           0,
           0
          ],
          "sizemode": "area",
          "sizeref": 550.3415,
          "symbol": "circle"
         },
         "mode": "markers",
         "name": "HAITI",
         "orientation": "v",
         "showlegend": true,
         "type": "scatter",
         "x": [
          2010,
          2018,
          2021,
          2022,
          2023
         ],
         "xaxis": "x",
         "y": [
          1,
          1,
          1,
          1,
          1
         ],
         "yaxis": "y"
        },
        {
         "customdata": [
          [
           73,
           "HAWAII"
          ],
          [
           370,
           "HAWAII"
          ]
         ],
         "hovertemplate": "Country Name=%{customdata[1]}<br>Year=%{x}<br>Earthquake Counts=%{y}<br>Total Damage ($Mil)=%{customdata[0]}<extra></extra>",
         "legendgroup": "HAWAII",
         "marker": {
          "color": "#636efa",
          "size": [
           73,
           370
          ],
          "sizemode": "area",
          "sizeref": 550.3415,
          "symbol": "circle"
         },
         "mode": "markers",
         "name": "HAWAII",
         "orientation": "v",
         "showlegend": true,
         "type": "scatter",
         "x": [
          2006,
          2018
         ],
         "xaxis": "x",
         "y": [
          1,
          1
         ],
         "yaxis": "y"
        },
        {
         "customdata": [
          [
           100,
           "HONDURAS"
          ],
          [
           0,
           "HONDURAS"
          ],
          [
           0,
           "HONDURAS"
          ]
         ],
         "hovertemplate": "Country Name=%{customdata[1]}<br>Year=%{x}<br>Earthquake Counts=%{y}<br>Total Damage ($Mil)=%{customdata[0]}<extra></extra>",
         "legendgroup": "HONDURAS",
         "marker": {
          "color": "#EF553B",
          "size": [
           100,
           0,
           0
          ],
          "sizemode": "area",
          "sizeref": 550.3415,
          "symbol": "circle"
         },
         "mode": "markers",
         "name": "HONDURAS",
         "orientation": "v",
         "showlegend": true,
         "type": "scatter",
         "x": [
          2009,
          2013,
          2018
         ],
         "xaxis": "x",
         "y": [
          1,
          1,
          1
         ],
         "yaxis": "y"
        },
        {
         "customdata": [
          [
           0,
           "HUNGARY"
          ]
         ],
         "hovertemplate": "Country Name=%{customdata[1]}<br>Year=%{x}<br>Earthquake Counts=%{y}<br>Total Damage ($Mil)=%{customdata[0]}<extra></extra>",
         "legendgroup": "HUNGARY",
         "marker": {
          "color": "#00cc96",
          "size": [
           0
          ],
          "sizemode": "area",
          "sizeref": 550.3415,
          "symbol": "circle"
         },
         "mode": "markers",
         "name": "HUNGARY",
         "orientation": "v",
         "showlegend": true,
         "type": "scatter",
         "x": [
          2006
         ],
         "xaxis": "x",
         "y": [
          2
         ],
         "yaxis": "y"
        },
        {
         "customdata": [
          [
           32,
           "ICELAND"
          ],
          [
           0,
           "ICELAND"
          ]
         ],
         "hovertemplate": "Country Name=%{customdata[1]}<br>Year=%{x}<br>Earthquake Counts=%{y}<br>Total Damage ($Mil)=%{customdata[0]}<extra></extra>",
         "legendgroup": "ICELAND",
         "marker": {
          "color": "#ab63fa",
          "size": [
           32,
           0
          ],
          "sizemode": "area",
          "sizeref": 550.3415,
          "symbol": "circle"
         },
         "mode": "markers",
         "name": "ICELAND",
         "orientation": "v",
         "showlegend": true,
         "type": "scatter",
         "x": [
          2000,
          2008
         ],
         "xaxis": "x",
         "y": [
          2,
          1
         ],
         "yaxis": "y"
        },
        {
         "customdata": [
          [
           0,
           "INDIA"
          ],
          [
           2623,
           "INDIA"
          ],
          [
           0,
           "INDIA"
          ],
          [
           0,
           "INDIA"
          ],
          [
           0,
           "INDIA"
          ],
          [
           0,
           "INDIA"
          ],
          [
           0,
           "INDIA"
          ],
          [
           0,
           "INDIA"
          ],
          [
           0,
           "INDIA"
          ],
          [
           0,
           "INDIA"
          ],
          [
           2100,
           "INDIA"
          ],
          [
           0,
           "INDIA"
          ],
          [
           19.5,
           "INDIA"
          ],
          [
           0,
           "INDIA"
          ],
          [
           75,
           "INDIA"
          ],
          [
           0,
           "INDIA"
          ],
          [
           0,
           "INDIA"
          ],
          [
           0,
           "INDIA"
          ],
          [
           0,
           "INDIA"
          ],
          [
           0,
           "INDIA"
          ]
         ],
         "hovertemplate": "Country Name=%{customdata[1]}<br>Year=%{x}<br>Earthquake Counts=%{y}<br>Total Damage ($Mil)=%{customdata[0]}<extra></extra>",
         "legendgroup": "INDIA",
         "marker": {
          "color": "#FFA15A",
          "size": [
           0,
           2623,
           0,
           0,
           0,
           0,
           0,
           0,
           0,
           0,
           2100,
           0,
           19.5,
           0,
           75,
           0,
           0,
           0,
           0,
           0
          ],
          "sizemode": "area",
          "sizeref": 550.3415,
          "symbol": "circle"
         },
         "mode": "markers",
         "name": "INDIA",
         "orientation": "v",
         "showlegend": true,
         "type": "scatter",
         "x": [
          2000,
          2001,
          2002,
          2004,
          2005,
          2006,
          2007,
          2008,
          2009,
          2010,
          2011,
          2012,
          2013,
          2015,
          2016,
          2017,
          2018,
          2019,
          2021,
          2023
         ],
         "xaxis": "x",
         "y": [
          1,
          1,
          1,
          1,
          8,
          4,
          4,
          5,
          5,
          5,
          5,
          2,
          2,
          1,
          2,
          1,
          1,
          2,
          1,
          2
         ],
         "yaxis": "y"
        },
        {
         "customdata": [
          [
           0,
           "INDIAN OCEAN"
          ]
         ],
         "hovertemplate": "Country Name=%{customdata[1]}<br>Year=%{x}<br>Earthquake Counts=%{y}<br>Total Damage ($Mil)=%{customdata[0]}<extra></extra>",
         "legendgroup": "INDIAN OCEAN",
         "marker": {
          "color": "#19d3f3",
          "size": [
           0
          ],
          "sizemode": "area",
          "sizeref": 550.3415,
          "symbol": "circle"
         },
         "mode": "markers",
         "name": "INDIAN OCEAN",
         "orientation": "v",
         "showlegend": true,
         "type": "scatter",
         "x": [
          2003
         ],
         "xaxis": "x",
         "y": [
          1
         ],
         "yaxis": "y"
        },
        {
         "customdata": [
          [
           36,
           "INDONESIA"
          ],
          [
           0,
           "INDONESIA"
          ],
          [
           0,
           "INDONESIA"
          ],
          [
           0,
           "INDONESIA"
          ],
          [
           10068,
           "INDONESIA"
          ],
          [
           37.36,
           "INDONESIA"
          ],
          [
           3155,
           "INDONESIA"
          ],
          [
           0,
           "INDONESIA"
          ],
          [
           0,
           "INDONESIA"
          ],
          [
           2212.43,
           "INDONESIA"
          ],
          [
           39,
           "INDONESIA"
          ],
          [
           0,
           "INDONESIA"
          ],
          [
           0,
           "INDONESIA"
          ],
          [
           113,
           "INDONESIA"
          ],
          [
           0,
           "INDONESIA"
          ],
          [
           9,
           "INDONESIA"
          ],
          [
           100,
           "INDONESIA"
          ],
          [
           0,
           "INDONESIA"
          ],
          [
           2009,
           "INDONESIA"
          ],
          [
           0,
           "INDONESIA"
          ],
          [
           0,
           "INDONESIA"
          ],
          [
           58.7,
           "INDONESIA"
          ],
          [
           257,
           "INDONESIA"
          ],
          [
           0,
           "INDONESIA"
          ],
          [
           0,
           "INDONESIA"
          ]
         ],
         "hovertemplate": "Country Name=%{customdata[1]}<br>Year=%{x}<br>Earthquake Counts=%{y}<br>Total Damage ($Mil)=%{customdata[0]}<extra></extra>",
         "legendgroup": "INDONESIA",
         "marker": {
          "color": "#FF6692",
          "size": [
           36,
           0,
           0,
           0,
           10068,
           37.36,
           3155,
           0,
           0,
           2212.43,
           39,
           0,
           0,
           113,
           0,
           9,
           100,
           0,
           2009,
           0,
           0,
           58.7,
           257,
           0,
           0
          ],
          "sizemode": "area",
          "sizeref": 550.3415,
          "symbol": "circle"
         },
         "mode": "markers",
         "name": "INDONESIA",
         "orientation": "v",
         "showlegend": true,
         "type": "scatter",
         "x": [
          2000,
          2001,
          2002,
          2003,
          2004,
          2005,
          2006,
          2007,
          2008,
          2009,
          2010,
          2011,
          2012,
          2013,
          2014,
          2015,
          2016,
          2017,
          2018,
          2019,
          2020,
          2021,
          2022,
          2023,
          2024
         ],
         "xaxis": "x",
         "y": [
          4,
          1,
          4,
          6,
          12,
          7,
          10,
          9,
          6,
          7,
          5,
          2,
          5,
          5,
          2,
          3,
          6,
          5,
          13,
          9,
          3,
          6,
          4,
          5,
          1
         ],
         "yaxis": "y"
        },
        {
         "customdata": [
          [
           0,
           "IRAN"
          ],
          [
           300,
           "IRAN"
          ],
          [
           521.6,
           "IRAN"
          ],
          [
           165,
           "IRAN"
          ],
          [
           0,
           "IRAN"
          ],
          [
           0,
           "IRAN"
          ],
          [
           0,
           "IRAN"
          ],
          [
           0,
           "IRAN"
          ],
          [
           0,
           "IRAN"
          ],
          [
           0,
           "IRAN"
          ],
          [
           0,
           "IRAN"
          ],
          [
           599,
           "IRAN"
          ],
          [
           297,
           "IRAN"
          ],
          [
           45,
           "IRAN"
          ],
          [
           752,
           "IRAN"
          ],
          [
           0,
           "IRAN"
          ],
          [
           0,
           "IRAN"
          ],
          [
           0,
           "IRAN"
          ],
          [
           175,
           "IRAN"
          ],
          [
           142,
           "IRAN"
          ],
          [
           305,
           "IRAN"
          ],
          [
           0,
           "IRAN"
          ]
         ],
         "hovertemplate": "Country Name=%{customdata[1]}<br>Year=%{x}<br>Earthquake Counts=%{y}<br>Total Damage ($Mil)=%{customdata[0]}<extra></extra>",
         "legendgroup": "IRAN",
         "marker": {
          "color": "#B6E880",
          "size": [
           0,
           300,
           521.6,
           165,
           0,
           0,
           0,
           0,
           0,
           0,
           0,
           599,
           297,
           45,
           752,
           0,
           0,
           0,
           175,
           142,
           305,
           0
          ],
          "sizemode": "area",
          "sizeref": 550.3415,
          "symbol": "circle"
         },
         "mode": "markers",
         "name": "IRAN",
         "orientation": "v",
         "showlegend": true,
         "type": "scatter",
         "x": [
          2000,
          2002,
          2003,
          2004,
          2005,
          2006,
          2007,
          2008,
          2009,
          2010,
          2011,
          2012,
          2013,
          2014,
          2017,
          2018,
          2019,
          2020,
          2021,
          2022,
          2023,
          2024
         ],
         "xaxis": "x",
         "y": [
          1,
          6,
          5,
          6,
          5,
          5,
          4,
          5,
          1,
          7,
          1,
          5,
          4,
          3,
          8,
          8,
          3,
          1,
          3,
          2,
          2,
          1
         ],
         "yaxis": "y"
        },
        {
         "customdata": [
          [
           1296,
           "ITALY"
          ],
          [
           561,
           "ITALY"
          ],
          [
           0,
           "ITALY"
          ],
          [
           2500,
           "ITALY"
          ],
          [
           15800,
           "ITALY"
          ],
          [
           5200,
           "ITALY"
          ],
          [
           18,
           "ITALY"
          ],
          [
           115,
           "ITALY"
          ]
         ],
         "hovertemplate": "Country Name=%{customdata[1]}<br>Year=%{x}<br>Earthquake Counts=%{y}<br>Total Damage ($Mil)=%{customdata[0]}<extra></extra>",
         "legendgroup": "ITALY",
         "marker": {
          "color": "#FF97FF",
          "size": [
           1296,
           561,
           0,
           2500,
           15800,
           5200,
           18,
           115
          ],
          "sizemode": "area",
          "sizeref": 550.3415,
          "symbol": "circle"
         },
         "mode": "markers",
         "name": "ITALY",
         "orientation": "v",
         "showlegend": true,
         "type": "scatter",
         "x": [
          2002,
          2003,
          2004,
          2009,
          2012,
          2016,
          2017,
          2018
         ],
         "xaxis": "x",
         "y": [
          3,
          3,
          1,
          2,
          3,
          3,
          2,
          2
         ],
         "yaxis": "y"
        },
        {
         "customdata": [
          [
           150,
           "JAPAN"
          ],
          [
           500,
           "JAPAN"
          ],
          [
           0,
           "JAPAN"
          ],
          [
           734,
           "JAPAN"
          ],
          [
           28000,
           "JAPAN"
          ],
          [
           0,
           "JAPAN"
          ],
          [
           0,
           "JAPAN"
          ],
          [
           12500,
           "JAPAN"
          ],
          [
           0,
           "JAPAN"
          ],
          [
           0,
           "JAPAN"
          ],
          [
           0,
           "JAPAN"
          ],
          [
           220136.6,
           "JAPAN"
          ],
          [
           0,
           "JAPAN"
          ],
          [
           0,
           "JAPAN"
          ],
          [
           2,
           "JAPAN"
          ],
          [
           0,
           "JAPAN"
          ],
          [
           20100,
           "JAPAN"
          ],
          [
           9000,
           "JAPAN"
          ],
          [
           0,
           "JAPAN"
          ],
          [
           8250,
           "JAPAN"
          ],
          [
           8800,
           "JAPAN"
          ],
          [
           0,
           "JAPAN"
          ],
          [
           17600,
           "JAPAN"
          ]
         ],
         "hovertemplate": "Country Name=%{customdata[1]}<br>Year=%{x}<br>Earthquake Counts=%{y}<br>Total Damage ($Mil)=%{customdata[0]}<extra></extra>",
         "legendgroup": "JAPAN",
         "marker": {
          "color": "#FECB52",
          "size": [
           150,
           500,
           0,
           734,
           28000,
           0,
           0,
           12500,
           0,
           0,
           0,
           220136.6,
           0,
           0,
           2,
           0,
           20100,
           9000,
           0,
           8250,
           8800,
           0,
           17600
          ],
          "sizemode": "area",
          "sizeref": 550.3415,
          "symbol": "circle"
         },
         "mode": "markers",
         "name": "JAPAN",
         "orientation": "v",
         "showlegend": true,
         "type": "scatter",
         "x": [
          2000,
          2001,
          2002,
          2003,
          2004,
          2005,
          2006,
          2007,
          2008,
          2009,
          2010,
          2011,
          2012,
          2013,
          2014,
          2015,
          2016,
          2018,
          2019,
          2021,
          2022,
          2023,
          2024
         ],
         "xaxis": "x",
         "y": [
          5,
          1,
          1,
          6,
          8,
          5,
          3,
          4,
          5,
          2,
          2,
          8,
          2,
          3,
          3,
          4,
          4,
          4,
          1,
          2,
          1,
          3,
          3
         ],
         "yaxis": "y"
        },
        {
         "customdata": [
          [
           0,
           "JORDAN"
          ]
         ],
         "hovertemplate": "Country Name=%{customdata[1]}<br>Year=%{x}<br>Earthquake Counts=%{y}<br>Total Damage ($Mil)=%{customdata[0]}<extra></extra>",
         "legendgroup": "JORDAN",
         "marker": {
          "color": "#636efa",
          "size": [
           0
          ],
          "sizemode": "area",
          "sizeref": 550.3415,
          "symbol": "circle"
         },
         "mode": "markers",
         "name": "JORDAN",
         "orientation": "v",
         "showlegend": true,
         "type": "scatter",
         "x": [
          2004
         ],
         "xaxis": "x",
         "y": [
          1
         ],
         "yaxis": "y"
        },
        {
         "customdata": [
          [
           0,
           "KAZAKHSTAN"
          ]
         ],
         "hovertemplate": "Country Name=%{customdata[1]}<br>Year=%{x}<br>Earthquake Counts=%{y}<br>Total Damage ($Mil)=%{customdata[0]}<extra></extra>",
         "legendgroup": "KAZAKHSTAN",
         "marker": {
          "color": "#EF553B",
          "size": [
           0
          ],
          "sizemode": "area",
          "sizeref": 550.3415,
          "symbol": "circle"
         },
         "mode": "markers",
         "name": "KAZAKHSTAN",
         "orientation": "v",
         "showlegend": true,
         "type": "scatter",
         "x": [
          2009
         ],
         "xaxis": "x",
         "y": [
          1
         ],
         "yaxis": "y"
        },
        {
         "customdata": [
          [
           0,
           "KERMADEC ISLANDS"
          ],
          [
           0,
           "KERMADEC ISLANDS"
          ],
          [
           0,
           "KERMADEC ISLANDS"
          ],
          [
           0,
           "KERMADEC ISLANDS"
          ],
          [
           0,
           "KERMADEC ISLANDS"
          ],
          [
           0,
           "KERMADEC ISLANDS"
          ],
          [
           0,
           "KERMADEC ISLANDS"
          ]
         ],
         "hovertemplate": "Country Name=%{customdata[1]}<br>Year=%{x}<br>Earthquake Counts=%{y}<br>Total Damage ($Mil)=%{customdata[0]}<extra></extra>",
         "legendgroup": "KERMADEC ISLANDS",
         "marker": {
          "color": "#00cc96",
          "size": [
           0,
           0,
           0,
           0,
           0,
           0,
           0
          ],
          "sizemode": "area",
          "sizeref": 550.3415,
          "symbol": "circle"
         },
         "mode": "markers",
         "name": "KERMADEC ISLANDS",
         "orientation": "v",
         "showlegend": true,
         "type": "scatter",
         "x": [
          2007,
          2011,
          2014,
          2019,
          2020,
          2021,
          2023
         ],
         "xaxis": "x",
         "y": [
          1,
          1,
          1,
          1,
          1,
          2,
          2
         ],
         "yaxis": "y"
        },
        {
         "customdata": [
          [
           0,
           "KYRGYZSTAN"
          ],
          [
           0,
           "KYRGYZSTAN"
          ],
          [
           0,
           "KYRGYZSTAN"
          ],
          [
           0,
           "KYRGYZSTAN"
          ],
          [
           12,
           "KYRGYZSTAN"
          ],
          [
           0,
           "KYRGYZSTAN"
          ]
         ],
         "hovertemplate": "Country Name=%{customdata[1]}<br>Year=%{x}<br>Earthquake Counts=%{y}<br>Total Damage ($Mil)=%{customdata[0]}<extra></extra>",
         "legendgroup": "KYRGYZSTAN",
         "marker": {
          "color": "#ab63fa",
          "size": [
           0,
           0,
           0,
           0,
           12,
           0
          ],
          "sizemode": "area",
          "sizeref": 550.3415,
          "symbol": "circle"
         },
         "mode": "markers",
         "name": "KYRGYZSTAN",
         "orientation": "v",
         "showlegend": true,
         "type": "scatter",
         "x": [
          2002,
          2006,
          2007,
          2008,
          2015,
          2017
         ],
         "xaxis": "x",
         "y": [
          1,
          1,
          1,
          2,
          1,
          1
         ],
         "yaxis": "y"
        },
        {
         "customdata": [
          [
           0,
           "LAOS"
          ],
          [
           0,
           "LAOS"
          ]
         ],
         "hovertemplate": "Country Name=%{customdata[1]}<br>Year=%{x}<br>Earthquake Counts=%{y}<br>Total Damage ($Mil)=%{customdata[0]}<extra></extra>",
         "legendgroup": "LAOS",
         "marker": {
          "color": "#FFA15A",
          "size": [
           0,
           0
          ],
          "sizemode": "area",
          "sizeref": 550.3415,
          "symbol": "circle"
         },
         "mode": "markers",
         "name": "LAOS",
         "orientation": "v",
         "showlegend": true,
         "type": "scatter",
         "x": [
          2001,
          2007
         ],
         "xaxis": "x",
         "y": [
          1,
          1
         ],
         "yaxis": "y"
        },
        {
         "customdata": [
          [
           0,
           "LEBANON"
          ]
         ],
         "hovertemplate": "Country Name=%{customdata[1]}<br>Year=%{x}<br>Earthquake Counts=%{y}<br>Total Damage ($Mil)=%{customdata[0]}<extra></extra>",
         "legendgroup": "LEBANON",
         "marker": {
          "color": "#19d3f3",
          "size": [
           0
          ],
          "sizemode": "area",
          "sizeref": 550.3415,
          "symbol": "circle"
         },
         "mode": "markers",
         "name": "LEBANON",
         "orientation": "v",
         "showlegend": true,
         "type": "scatter",
         "x": [
          2008
         ],
         "xaxis": "x",
         "y": [
          1
         ],
         "yaxis": "y"
        },
        {
         "customdata": [
          [
           0,
           "MACEDONIA"
          ],
          [
           10,
           "MACEDONIA"
          ]
         ],
         "hovertemplate": "Country Name=%{customdata[1]}<br>Year=%{x}<br>Earthquake Counts=%{y}<br>Total Damage ($Mil)=%{customdata[0]}<extra></extra>",
         "legendgroup": "MACEDONIA",
         "marker": {
          "color": "#FF6692",
          "size": [
           0,
           10
          ],
          "sizemode": "area",
          "sizeref": 550.3415,
          "symbol": "circle"
         },
         "mode": "markers",
         "name": "MACEDONIA",
         "orientation": "v",
         "showlegend": true,
         "type": "scatter",
         "x": [
          2009,
          2016
         ],
         "xaxis": "x",
         "y": [
          1,
          1
         ],
         "yaxis": "y"
        },
        {
         "customdata": [
          [
           0,
           "MADAGASCAR"
          ]
         ],
         "hovertemplate": "Country Name=%{customdata[1]}<br>Year=%{x}<br>Earthquake Counts=%{y}<br>Total Damage ($Mil)=%{customdata[0]}<extra></extra>",
         "legendgroup": "MADAGASCAR",
         "marker": {
          "color": "#B6E880",
          "size": [
           0
          ],
          "sizemode": "area",
          "sizeref": 550.3415,
          "symbol": "circle"
         },
         "mode": "markers",
         "name": "MADAGASCAR",
         "orientation": "v",
         "showlegend": true,
         "type": "scatter",
         "x": [
          2017
         ],
         "xaxis": "x",
         "y": [
          1
         ],
         "yaxis": "y"
        },
        {
         "customdata": [
          [
           0,
           "MALAWI"
          ],
          [
           0,
           "MALAWI"
          ]
         ],
         "hovertemplate": "Country Name=%{customdata[1]}<br>Year=%{x}<br>Earthquake Counts=%{y}<br>Total Damage ($Mil)=%{customdata[0]}<extra></extra>",
         "legendgroup": "MALAWI",
         "marker": {
          "color": "#FF97FF",
          "size": [
           0,
           0
          ],
          "sizemode": "area",
          "sizeref": 550.3415,
          "symbol": "circle"
         },
         "mode": "markers",
         "name": "MALAWI",
         "orientation": "v",
         "showlegend": true,
         "type": "scatter",
         "x": [
          2006,
          2009
         ],
         "xaxis": "x",
         "y": [
          1,
          2
         ],
         "yaxis": "y"
        },
        {
         "customdata": [
          [
           0,
           "MALAYSIA"
          ]
         ],
         "hovertemplate": "Country Name=%{customdata[1]}<br>Year=%{x}<br>Earthquake Counts=%{y}<br>Total Damage ($Mil)=%{customdata[0]}<extra></extra>",
         "legendgroup": "MALAYSIA",
         "marker": {
          "color": "#FECB52",
          "size": [
           0
          ],
          "sizemode": "area",
          "sizeref": 550.3415,
          "symbol": "circle"
         },
         "mode": "markers",
         "name": "MALAYSIA",
         "orientation": "v",
         "showlegend": true,
         "type": "scatter",
         "x": [
          2015
         ],
         "xaxis": "x",
         "y": [
          1
         ],
         "yaxis": "y"
        },
        {
         "customdata": [
          [
           103,
           "MARTINIQUE"
          ]
         ],
         "hovertemplate": "Country Name=%{customdata[1]}<br>Year=%{x}<br>Earthquake Counts=%{y}<br>Total Damage ($Mil)=%{customdata[0]}<extra></extra>",
         "legendgroup": "MARTINIQUE",
         "marker": {
          "color": "#636efa",
          "size": [
           103
          ],
          "sizemode": "area",
          "sizeref": 550.3415,
          "symbol": "circle"
         },
         "mode": "markers",
         "name": "MARTINIQUE",
         "orientation": "v",
         "showlegend": true,
         "type": "scatter",
         "x": [
          2007
         ],
         "xaxis": "x",
         "y": [
          1
         ],
         "yaxis": "y"
        },
        {
         "customdata": [
          [
           0,
           "MEXICO"
          ],
          [
           0,
           "MEXICO"
          ],
          [
           0,
           "MEXICO"
          ],
          [
           0,
           "MEXICO"
          ],
          [
           0,
           "MEXICO"
          ],
          [
           0,
           "MEXICO"
          ],
          [
           1150,
           "MEXICO"
          ],
          [
           0,
           "MEXICO"
          ],
          [
           600,
           "MEXICO"
          ],
          [
           0,
           "MEXICO"
          ],
          [
           0,
           "MEXICO"
          ],
          [
           0,
           "MEXICO"
          ],
          [
           12000,
           "MEXICO"
          ],
          [
           0,
           "MEXICO"
          ],
          [
           0,
           "MEXICO"
          ],
          [
           0,
           "MEXICO"
          ],
          [
           200,
           "MEXICO"
          ],
          [
           25,
           "MEXICO"
          ]
         ],
         "hovertemplate": "Country Name=%{customdata[1]}<br>Year=%{x}<br>Earthquake Counts=%{y}<br>Total Damage ($Mil)=%{customdata[0]}<extra></extra>",
         "legendgroup": "MEXICO",
         "marker": {
          "color": "#EF553B",
          "size": [
           0,
           0,
           0,
           0,
           0,
           0,
           1150,
           0,
           600,
           0,
           0,
           0,
           12000,
           0,
           0,
           0,
           200,
           25
          ],
          "sizemode": "area",
          "sizeref": 550.3415,
          "symbol": "circle"
         },
         "mode": "markers",
         "name": "MEXICO",
         "orientation": "v",
         "showlegend": true,
         "type": "scatter",
         "x": [
          2002,
          2003,
          2004,
          2007,
          2008,
          2009,
          2010,
          2011,
          2012,
          2013,
          2014,
          2015,
          2017,
          2018,
          2019,
          2020,
          2021,
          2022
         ],
         "xaxis": "x",
         "y": [
          3,
          1,
          1,
          1,
          1,
          1,
          2,
          1,
          1,
          2,
          4,
          1,
          3,
          1,
          1,
          1,
          1,
          3
         ],
         "yaxis": "y"
        },
        {
         "customdata": [
          [
           0,
           "MONTENEGRO"
          ]
         ],
         "hovertemplate": "Country Name=%{customdata[1]}<br>Year=%{x}<br>Earthquake Counts=%{y}<br>Total Damage ($Mil)=%{customdata[0]}<extra></extra>",
         "legendgroup": "MONTENEGRO",
         "marker": {
          "color": "#00cc96",
          "size": [
           0
          ],
          "sizemode": "area",
          "sizeref": 550.3415,
          "symbol": "circle"
         },
         "mode": "markers",
         "name": "MONTENEGRO",
         "orientation": "v",
         "showlegend": true,
         "type": "scatter",
         "x": [
          2018
         ],
         "xaxis": "x",
         "y": [
          1
         ],
         "yaxis": "y"
        },
        {
         "customdata": [
          [
           400,
           "MOROCCO"
          ],
          [
           0,
           "MOROCCO"
          ],
          [
           7000,
           "MOROCCO"
          ]
         ],
         "hovertemplate": "Country Name=%{customdata[1]}<br>Year=%{x}<br>Earthquake Counts=%{y}<br>Total Damage ($Mil)=%{customdata[0]}<extra></extra>",
         "legendgroup": "MOROCCO",
         "marker": {
          "color": "#ab63fa",
          "size": [
           400,
           0,
           7000
          ],
          "sizemode": "area",
          "sizeref": 550.3415,
          "symbol": "circle"
         },
         "mode": "markers",
         "name": "MOROCCO",
         "orientation": "v",
         "showlegend": true,
         "type": "scatter",
         "x": [
          2004,
          2016,
          2023
         ],
         "xaxis": "x",
         "y": [
          1,
          1,
          1
         ],
         "yaxis": "y"
        },
        {
         "customdata": [
          [
           0,
           "MOZAMBIQUE"
          ],
          [
           0,
           "MOZAMBIQUE"
          ],
          [
           0,
           "MOZAMBIQUE"
          ]
         ],
         "hovertemplate": "Country Name=%{customdata[1]}<br>Year=%{x}<br>Earthquake Counts=%{y}<br>Total Damage ($Mil)=%{customdata[0]}<extra></extra>",
         "legendgroup": "MOZAMBIQUE",
         "marker": {
          "color": "#FFA15A",
          "size": [
           0,
           0,
           0
          ],
          "sizemode": "area",
          "sizeref": 550.3415,
          "symbol": "circle"
         },
         "mode": "markers",
         "name": "MOZAMBIQUE",
         "orientation": "v",
         "showlegend": true,
         "type": "scatter",
         "x": [
          2006,
          2017,
          2018
         ],
         "xaxis": "x",
         "y": [
          1,
          1,
          1
         ],
         "yaxis": "y"
        },
        {
         "customdata": [
          [
           0,
           "MYANMAR"
          ],
          [
           0,
           "MYANMAR"
          ],
          [
           0,
           "MYANMAR"
          ],
          [
           3.6,
           "MYANMAR"
          ],
          [
           0,
           "MYANMAR"
          ],
          [
           10,
           "MYANMAR"
          ],
          [
           0,
           "MYANMAR"
          ],
          [
           0,
           "MYANMAR"
          ]
         ],
         "hovertemplate": "Country Name=%{customdata[1]}<br>Year=%{x}<br>Earthquake Counts=%{y}<br>Total Damage ($Mil)=%{customdata[0]}<extra></extra>",
         "legendgroup": "MYANMAR",
         "marker": {
          "color": "#19d3f3",
          "size": [
           0,
           0,
           0,
           3.6,
           0,
           10,
           0,
           0
          ],
          "sizemode": "area",
          "sizeref": 550.3415,
          "symbol": "circle"
         },
         "mode": "markers",
         "name": "MYANMAR",
         "orientation": "v",
         "showlegend": true,
         "type": "scatter",
         "x": [
          2003,
          2008,
          2009,
          2011,
          2012,
          2016,
          2017,
          2023
         ],
         "xaxis": "x",
         "y": [
          1,
          1,
          1,
          2,
          1,
          1,
          1,
          1
         ],
         "yaxis": "y"
        },
        {
         "customdata": [
          [
           0,
           "NEPAL"
          ],
          [
           6000,
           "NEPAL"
          ],
          [
           0,
           "NEPAL"
          ],
          [
           0,
           "NEPAL"
          ],
          [
           0,
           "NEPAL"
          ],
          [
           20,
           "NEPAL"
          ]
         ],
         "hovertemplate": "Country Name=%{customdata[1]}<br>Year=%{x}<br>Earthquake Counts=%{y}<br>Total Damage ($Mil)=%{customdata[0]}<extra></extra>",
         "legendgroup": "NEPAL",
         "marker": {
          "color": "#FF6692",
          "size": [
           0,
           6000,
           0,
           0,
           0,
           20
          ],
          "sizemode": "area",
          "sizeref": 550.3415,
          "symbol": "circle"
         },
         "mode": "markers",
         "name": "NEPAL",
         "orientation": "v",
         "showlegend": true,
         "type": "scatter",
         "x": [
          2011,
          2015,
          2016,
          2017,
          2022,
          2023
         ],
         "xaxis": "x",
         "y": [
          1,
          2,
          1,
          1,
          1,
          2
         ],
         "yaxis": "y"
        },
        {
         "customdata": [
          [
           0,
           "NEW CALEDONIA"
          ],
          [
           0,
           "NEW CALEDONIA"
          ],
          [
           0,
           "NEW CALEDONIA"
          ],
          [
           0,
           "NEW CALEDONIA"
          ],
          [
           0,
           "NEW CALEDONIA"
          ],
          [
           0,
           "NEW CALEDONIA"
          ],
          [
           0,
           "NEW CALEDONIA"
          ],
          [
           0,
           "NEW CALEDONIA"
          ],
          [
           0,
           "NEW CALEDONIA"
          ]
         ],
         "hovertemplate": "Country Name=%{customdata[1]}<br>Year=%{x}<br>Earthquake Counts=%{y}<br>Total Damage ($Mil)=%{customdata[0]}<extra></extra>",
         "legendgroup": "NEW CALEDONIA",
         "marker": {
          "color": "#B6E880",
          "size": [
           0,
           0,
           0,
           0,
           0,
           0,
           0,
           0,
           0
          ],
          "sizemode": "area",
          "sizeref": 550.3415,
          "symbol": "circle"
         },
         "mode": "markers",
         "name": "NEW CALEDONIA",
         "orientation": "v",
         "showlegend": true,
         "type": "scatter",
         "x": [
          2003,
          2008,
          2011,
          2016,
          2017,
          2018,
          2021,
          2022,
          2023
         ],
         "xaxis": "x",
         "y": [
          1,
          1,
          1,
          1,
          5,
          3,
          1,
          2,
          2
         ],
         "yaxis": "y"
        },
        {
         "customdata": [
          [
           0,
           "NEW ZEALAND"
          ],
          [
           0,
           "NEW ZEALAND"
          ],
          [
           0,
           "NEW ZEALAND"
          ],
          [
           0,
           "NEW ZEALAND"
          ],
          [
           0,
           "NEW ZEALAND"
          ],
          [
           0,
           "NEW ZEALAND"
          ],
          [
           6500,
           "NEW ZEALAND"
          ],
          [
           18000,
           "NEW ZEALAND"
          ],
          [
           50,
           "NEW ZEALAND"
          ],
          [
           0,
           "NEW ZEALAND"
          ],
          [
           3900,
           "NEW ZEALAND"
          ],
          [
           0,
           "NEW ZEALAND"
          ],
          [
           0,
           "NEW ZEALAND"
          ]
         ],
         "hovertemplate": "Country Name=%{customdata[1]}<br>Year=%{x}<br>Earthquake Counts=%{y}<br>Total Damage ($Mil)=%{customdata[0]}<extra></extra>",
         "legendgroup": "NEW ZEALAND",
         "marker": {
          "color": "#FF97FF",
          "size": [
           0,
           0,
           0,
           0,
           0,
           0,
           6500,
           18000,
           50,
           0,
           3900,
           0,
           0
          ],
          "sizemode": "area",
          "sizeref": 550.3415,
          "symbol": "circle"
         },
         "mode": "markers",
         "name": "NEW ZEALAND",
         "orientation": "v",
         "showlegend": true,
         "type": "scatter",
         "x": [
          2003,
          2004,
          2005,
          2007,
          2008,
          2009,
          2010,
          2011,
          2013,
          2014,
          2016,
          2021,
          2022
         ],
         "xaxis": "x",
         "y": [
          2,
          2,
          1,
          3,
          1,
          1,
          5,
          5,
          2,
          1,
          2,
          1,
          2
         ],
         "yaxis": "y"
        },
        {
         "customdata": [
          [
           0,
           "NICARAGUA"
          ],
          [
           0,
           "NICARAGUA"
          ],
          [
           0,
           "NICARAGUA"
          ],
          [
           0,
           "NICARAGUA"
          ],
          [
           3,
           "NICARAGUA"
          ],
          [
           0,
           "NICARAGUA"
          ]
         ],
         "hovertemplate": "Country Name=%{customdata[1]}<br>Year=%{x}<br>Earthquake Counts=%{y}<br>Total Damage ($Mil)=%{customdata[0]}<extra></extra>",
         "legendgroup": "NICARAGUA",
         "marker": {
          "color": "#FECB52",
          "size": [
           0,
           0,
           0,
           0,
           3,
           0
          ],
          "sizemode": "area",
          "sizeref": 550.3415,
          "symbol": "circle"
         },
         "mode": "markers",
         "name": "NICARAGUA",
         "orientation": "v",
         "showlegend": true,
         "type": "scatter",
         "x": [
          2000,
          2004,
          2009,
          2012,
          2014,
          2016
         ],
         "xaxis": "x",
         "y": [
          1,
          1,
          1,
          1,
          2,
          2
         ],
         "yaxis": "y"
        },
        {
         "customdata": [
          [
           0,
           "NORTHERN MARIANA ISLANDS"
          ],
          [
           0,
           "NORTHERN MARIANA ISLANDS"
          ]
         ],
         "hovertemplate": "Country Name=%{customdata[1]}<br>Year=%{x}<br>Earthquake Counts=%{y}<br>Total Damage ($Mil)=%{customdata[0]}<extra></extra>",
         "legendgroup": "NORTHERN MARIANA ISLANDS",
         "marker": {
          "color": "#636efa",
          "size": [
           0,
           0
          ],
          "sizemode": "area",
          "sizeref": 550.3415,
          "symbol": "circle"
         },
         "mode": "markers",
         "name": "NORTHERN MARIANA ISLANDS",
         "orientation": "v",
         "showlegend": true,
         "type": "scatter",
         "x": [
          2002,
          2016
         ],
         "xaxis": "x",
         "y": [
          1,
          1
         ],
         "yaxis": "y"
        },
        {
         "customdata": [
          [
           0,
           "PAKISTAN"
          ],
          [
           0,
           "PAKISTAN"
          ],
          [
           6680,
           "PAKISTAN"
          ],
          [
           0,
           "PAKISTAN"
          ],
          [
           0,
           "PAKISTAN"
          ],
          [
           0,
           "PAKISTAN"
          ],
          [
           0,
           "PAKISTAN"
          ],
          [
           0,
           "PAKISTAN"
          ],
          [
           0,
           "PAKISTAN"
          ],
          [
           100,
           "PAKISTAN"
          ],
          [
           0,
           "PAKISTAN"
          ],
          [
           0,
           "PAKISTAN"
          ],
          [
           0,
           "PAKISTAN"
          ],
          [
           0,
           "PAKISTAN"
          ],
          [
           17,
           "PAKISTAN"
          ],
          [
           0,
           "PAKISTAN"
          ]
         ],
         "hovertemplate": "Country Name=%{customdata[1]}<br>Year=%{x}<br>Earthquake Counts=%{y}<br>Total Damage ($Mil)=%{customdata[0]}<extra></extra>",
         "legendgroup": "PAKISTAN",
         "marker": {
          "color": "#EF553B",
          "size": [
           0,
           0,
           6680,
           0,
           0,
           0,
           0,
           0,
           0,
           100,
           0,
           0,
           0,
           0,
           17,
           0
          ],
          "sizemode": "area",
          "sizeref": 550.3415,
          "symbol": "circle"
         },
         "mode": "markers",
         "name": "PAKISTAN",
         "orientation": "v",
         "showlegend": true,
         "type": "scatter",
         "x": [
          2002,
          2004,
          2005,
          2006,
          2007,
          2008,
          2009,
          2010,
          2011,
          2013,
          2014,
          2015,
          2016,
          2017,
          2019,
          2021
         ],
         "xaxis": "x",
         "y": [
          2,
          2,
          2,
          2,
          1,
          2,
          1,
          2,
          1,
          2,
          1,
          2,
          1,
          1,
          1,
          2
         ],
         "yaxis": "y"
        },
        {
         "customdata": [
          [
           0,
           "PANAMA"
          ],
          [
           0,
           "PANAMA"
          ],
          [
           0,
           "PANAMA"
          ],
          [
           0,
           "PANAMA"
          ],
          [
           0,
           "PANAMA"
          ],
          [
           0,
           "PANAMA"
          ],
          [
           0,
           "PANAMA"
          ]
         ],
         "hovertemplate": "Country Name=%{customdata[1]}<br>Year=%{x}<br>Earthquake Counts=%{y}<br>Total Damage ($Mil)=%{customdata[0]}<extra></extra>",
         "legendgroup": "PANAMA",
         "marker": {
          "color": "#00cc96",
          "size": [
           0,
           0,
           0,
           0,
           0,
           0,
           0
          ],
          "sizemode": "area",
          "sizeref": 550.3415,
          "symbol": "circle"
         },
         "mode": "markers",
         "name": "PANAMA",
         "orientation": "v",
         "showlegend": true,
         "type": "scatter",
         "x": [
          2000,
          2002,
          2003,
          2004,
          2006,
          2008,
          2009
         ],
         "xaxis": "x",
         "y": [
          1,
          1,
          2,
          1,
          1,
          2,
          1
         ],
         "yaxis": "y"
        },
        {
         "customdata": [
          [
           0,
           "PAPUA NEW GUINEA"
          ],
          [
           0,
           "PAPUA NEW GUINEA"
          ],
          [
           0,
           "PAPUA NEW GUINEA"
          ],
          [
           0,
           "PAPUA NEW GUINEA"
          ],
          [
           0,
           "PAPUA NEW GUINEA"
          ],
          [
           0,
           "PAPUA NEW GUINEA"
          ],
          [
           0,
           "PAPUA NEW GUINEA"
          ],
          [
           0,
           "PAPUA NEW GUINEA"
          ],
          [
           290,
           "PAPUA NEW GUINEA"
          ],
          [
           0,
           "PAPUA NEW GUINEA"
          ],
          [
           0,
           "PAPUA NEW GUINEA"
          ],
          [
           15,
           "PAPUA NEW GUINEA"
          ],
          [
           0,
           "PAPUA NEW GUINEA"
          ],
          [
           0,
           "PAPUA NEW GUINEA"
          ]
         ],
         "hovertemplate": "Country Name=%{customdata[1]}<br>Year=%{x}<br>Earthquake Counts=%{y}<br>Total Damage ($Mil)=%{customdata[0]}<extra></extra>",
         "legendgroup": "PAPUA NEW GUINEA",
         "marker": {
          "color": "#ab63fa",
          "size": [
           0,
           0,
           0,
           0,
           0,
           0,
           0,
           0,
           290,
           0,
           0,
           15,
           0,
           0
          ],
          "sizemode": "area",
          "sizeref": 550.3415,
          "symbol": "circle"
         },
         "mode": "markers",
         "name": "PAPUA NEW GUINEA",
         "orientation": "v",
         "showlegend": true,
         "type": "scatter",
         "x": [
          2000,
          2002,
          2005,
          2009,
          2014,
          2015,
          2016,
          2017,
          2018,
          2019,
          2020,
          2022,
          2023,
          2024
         ],
         "xaxis": "x",
         "y": [
          3,
          2,
          1,
          2,
          2,
          2,
          1,
          1,
          5,
          2,
          1,
          1,
          2,
          1
         ],
         "yaxis": "y"
        },
        {
         "customdata": [
          [
           200,
           "PERU"
          ],
          [
           0,
           "PERU"
          ],
          [
           0,
           "PERU"
          ],
          [
           0,
           "PERU"
          ],
          [
           0,
           "PERU"
          ],
          [
           0,
           "PERU"
          ],
          [
           0,
           "PERU"
          ],
          [
           0,
           "PERU"
          ],
          [
           0,
           "PERU"
          ],
          [
           0,
           "PERU"
          ],
          [
           0,
           "PERU"
          ],
          [
           0,
           "PERU"
          ],
          [
           0,
           "PERU"
          ],
          [
           0,
           "PERU"
          ],
          [
           0,
           "PERU"
          ],
          [
           0,
           "PERU"
          ],
          [
           0,
           "PERU"
          ],
          [
           0,
           "PERU"
          ],
          [
           0,
           "PERU"
          ],
          [
           0,
           "PERU"
          ]
         ],
         "hovertemplate": "Country Name=%{customdata[1]}<br>Year=%{x}<br>Earthquake Counts=%{y}<br>Total Damage ($Mil)=%{customdata[0]}<extra></extra>",
         "legendgroup": "PERU",
         "marker": {
          "color": "#FFA15A",
          "size": [
           200,
           0,
           0,
           0,
           0,
           0,
           0,
           0,
           0,
           0,
           0,
           0,
           0,
           0,
           0,
           0,
           0,
           0,
           0,
           0
          ],
          "sizemode": "area",
          "sizeref": 550.3415,
          "symbol": "circle"
         },
         "mode": "markers",
         "name": "PERU",
         "orientation": "v",
         "showlegend": true,
         "type": "scatter",
         "x": [
          2001,
          2005,
          2006,
          2007,
          2008,
          2009,
          2010,
          2011,
          2012,
          2013,
          2014,
          2015,
          2016,
          2017,
          2018,
          2019,
          2020,
          2021,
          2022,
          2024
         ],
         "xaxis": "x",
         "y": [
          4,
          3,
          1,
          2,
          3,
          1,
          1,
          1,
          1,
          2,
          1,
          3,
          2,
          3,
          1,
          2,
          1,
          3,
          4,
          1
         ],
         "yaxis": "y"
        },
        {
         "customdata": [
          [
           0,
           "PHILIPPINES"
          ],
          [
           0,
           "PHILIPPINES"
          ],
          [
           1.714,
           "PHILIPPINES"
          ],
          [
           0,
           "PHILIPPINES"
          ],
          [
           0,
           "PHILIPPINES"
          ],
          [
           0,
           "PHILIPPINES"
          ],
          [
           0,
           "PHILIPPINES"
          ],
          [
           0,
           "PHILIPPINES"
          ],
          [
           0,
           "PHILIPPINES"
          ],
          [
           0,
           "PHILIPPINES"
          ],
          [
           9.3,
           "PHILIPPINES"
          ],
          [
           51.8,
           "PHILIPPINES"
          ],
          [
           0,
           "PHILIPPINES"
          ],
          [
           0,
           "PHILIPPINES"
          ],
          [
           47,
           "PHILIPPINES"
          ],
          [
           51.635,
           "PHILIPPINES"
          ],
          [
           0.57,
           "PHILIPPINES"
          ],
          [
           0,
           "PHILIPPINES"
          ],
          [
           49.924,
           "PHILIPPINES"
          ],
          [
           54.97,
           "PHILIPPINES"
          ]
         ],
         "hovertemplate": "Country Name=%{customdata[1]}<br>Year=%{x}<br>Earthquake Counts=%{y}<br>Total Damage ($Mil)=%{customdata[0]}<extra></extra>",
         "legendgroup": "PHILIPPINES",
         "marker": {
          "color": "#19d3f3",
          "size": [
           0,
           0,
           1.714,
           0,
           0,
           0,
           0,
           0,
           0,
           0,
           9.3,
           51.8,
           0,
           0,
           47,
           51.635,
           0.57,
           0,
           49.924,
           54.97
          ],
          "sizemode": "area",
          "sizeref": 550.3415,
          "symbol": "circle"
         },
         "mode": "markers",
         "name": "PHILIPPINES",
         "orientation": "v",
         "showlegend": true,
         "type": "scatter",
         "x": [
          2000,
          2001,
          2002,
          2003,
          2004,
          2007,
          2008,
          2009,
          2010,
          2011,
          2012,
          2013,
          2014,
          2015,
          2017,
          2019,
          2020,
          2021,
          2022,
          2023
         ],
         "xaxis": "x",
         "y": [
          1,
          1,
          1,
          3,
          1,
          2,
          1,
          1,
          1,
          2,
          4,
          2,
          1,
          1,
          7,
          9,
          1,
          1,
          2,
          3
         ],
         "yaxis": "y"
        },
        {
         "customdata": [
          [
           0,
           "POLAND"
          ],
          [
           0,
           "POLAND"
          ],
          [
           0,
           "POLAND"
          ],
          [
           0,
           "POLAND"
          ],
          [
           0,
           "POLAND"
          ]
         ],
         "hovertemplate": "Country Name=%{customdata[1]}<br>Year=%{x}<br>Earthquake Counts=%{y}<br>Total Damage ($Mil)=%{customdata[0]}<extra></extra>",
         "legendgroup": "POLAND",
         "marker": {
          "color": "#FF6692",
          "size": [
           0,
           0,
           0,
           0,
           0
          ],
          "sizemode": "area",
          "sizeref": 550.3415,
          "symbol": "circle"
         },
         "mode": "markers",
         "name": "POLAND",
         "orientation": "v",
         "showlegend": true,
         "type": "scatter",
         "x": [
          2004,
          2016,
          2018,
          2019,
          2022
         ],
         "xaxis": "x",
         "y": [
          1,
          1,
          1,
          3,
          1
         ],
         "yaxis": "y"
        },
        {
         "customdata": [
          [
           0,
           "PUERTO RICO"
          ],
          [
           0,
           "PUERTO RICO"
          ],
          [
           800,
           "PUERTO RICO"
          ]
         ],
         "hovertemplate": "Country Name=%{customdata[1]}<br>Year=%{x}<br>Earthquake Counts=%{y}<br>Total Damage ($Mil)=%{customdata[0]}<extra></extra>",
         "legendgroup": "PUERTO RICO",
         "marker": {
          "color": "#B6E880",
          "size": [
           0,
           0,
           800
          ],
          "sizemode": "area",
          "sizeref": 550.3415,
          "symbol": "circle"
         },
         "mode": "markers",
         "name": "PUERTO RICO",
         "orientation": "v",
         "showlegend": true,
         "type": "scatter",
         "x": [
          2010,
          2014,
          2020
         ],
         "xaxis": "x",
         "y": [
          1,
          1,
          1
         ],
         "yaxis": "y"
        },
        {
         "customdata": [
          [
           0,
           "ROMANIA"
          ]
         ],
         "hovertemplate": "Country Name=%{customdata[1]}<br>Year=%{x}<br>Earthquake Counts=%{y}<br>Total Damage ($Mil)=%{customdata[0]}<extra></extra>",
         "legendgroup": "ROMANIA",
         "marker": {
          "color": "#FF97FF",
          "size": [
           0
          ],
          "sizemode": "area",
          "sizeref": 550.3415,
          "symbol": "circle"
         },
         "mode": "markers",
         "name": "ROMANIA",
         "orientation": "v",
         "showlegend": true,
         "type": "scatter",
         "x": [
          2004
         ],
         "xaxis": "x",
         "y": [
          1
         ],
         "yaxis": "y"
        },
        {
         "customdata": [
          [
           0.92,
           "RUSSIA"
          ],
          [
           10.6,
           "RUSSIA"
          ],
          [
           0,
           "RUSSIA"
          ],
          [
           55,
           "RUSSIA"
          ],
          [
           0,
           "RUSSIA"
          ],
          [
           0,
           "RUSSIA"
          ],
          [
           0,
           "RUSSIA"
          ],
          [
           0,
           "RUSSIA"
          ],
          [
           0,
           "RUSSIA"
          ],
          [
           0,
           "RUSSIA"
          ],
          [
           0,
           "RUSSIA"
          ],
          [
           0,
           "RUSSIA"
          ],
          [
           0,
           "RUSSIA"
          ],
          [
           0,
           "RUSSIA"
          ],
          [
           0,
           "RUSSIA"
          ],
          [
           0,
           "RUSSIA"
          ]
         ],
         "hovertemplate": "Country Name=%{customdata[1]}<br>Year=%{x}<br>Earthquake Counts=%{y}<br>Total Damage ($Mil)=%{customdata[0]}<extra></extra>",
         "legendgroup": "RUSSIA",
         "marker": {
          "color": "#FECB52",
          "size": [
           0.92,
           10.6,
           0,
           55,
           0,
           0,
           0,
           0,
           0,
           0,
           0,
           0,
           0,
           0,
           0,
           0
          ],
          "sizemode": "area",
          "sizeref": 550.3415,
          "symbol": "circle"
         },
         "mode": "markers",
         "name": "RUSSIA",
         "orientation": "v",
         "showlegend": true,
         "type": "scatter",
         "x": [
          2000,
          2003,
          2004,
          2006,
          2007,
          2008,
          2009,
          2011,
          2012,
          2013,
          2017,
          2018,
          2019,
          2020,
          2022,
          2024
         ],
         "xaxis": "x",
         "y": [
          1,
          3,
          1,
          2,
          2,
          3,
          1,
          1,
          1,
          4,
          1,
          1,
          1,
          1,
          1,
          1
         ],
         "yaxis": "y"
        },
        {
         "customdata": [
          [
           0,
           "RWANDA"
          ],
          [
           0,
           "RWANDA"
          ],
          [
           0,
           "RWANDA"
          ],
          [
           0,
           "RWANDA"
          ],
          [
           0,
           "RWANDA"
          ]
         ],
         "hovertemplate": "Country Name=%{customdata[1]}<br>Year=%{x}<br>Earthquake Counts=%{y}<br>Total Damage ($Mil)=%{customdata[0]}<extra></extra>",
         "legendgroup": "RWANDA",
         "marker": {
          "color": "#636efa",
          "size": [
           0,
           0,
           0,
           0,
           0
          ],
          "sizemode": "area",
          "sizeref": 550.3415,
          "symbol": "circle"
         },
         "mode": "markers",
         "name": "RWANDA",
         "orientation": "v",
         "showlegend": true,
         "type": "scatter",
         "x": [
          2002,
          2008,
          2015,
          2016,
          2021
         ],
         "xaxis": "x",
         "y": [
          1,
          1,
          1,
          1,
          1
         ],
         "yaxis": "y"
        },
        {
         "customdata": [
          [
           0,
           "SAMOA"
          ],
          [
           285,
           "SAMOA"
          ]
         ],
         "hovertemplate": "Country Name=%{customdata[1]}<br>Year=%{x}<br>Earthquake Counts=%{y}<br>Total Damage ($Mil)=%{customdata[0]}<extra></extra>",
         "legendgroup": "SAMOA",
         "marker": {
          "color": "#EF553B",
          "size": [
           0,
           285
          ],
          "sizemode": "area",
          "sizeref": 550.3415,
          "symbol": "circle"
         },
         "mode": "markers",
         "name": "SAMOA",
         "orientation": "v",
         "showlegend": true,
         "type": "scatter",
         "x": [
          2006,
          2009
         ],
         "xaxis": "x",
         "y": [
          1,
          1
         ],
         "yaxis": "y"
        },
        {
         "customdata": [
          [
           0,
           "SAUDI ARABIA"
          ],
          [
           0,
           "SAUDI ARABIA"
          ]
         ],
         "hovertemplate": "Country Name=%{customdata[1]}<br>Year=%{x}<br>Earthquake Counts=%{y}<br>Total Damage ($Mil)=%{customdata[0]}<extra></extra>",
         "legendgroup": "SAUDI ARABIA",
         "marker": {
          "color": "#00cc96",
          "size": [
           0,
           0
          ],
          "sizemode": "area",
          "sizeref": 550.3415,
          "symbol": "circle"
         },
         "mode": "markers",
         "name": "SAUDI ARABIA",
         "orientation": "v",
         "showlegend": true,
         "type": "scatter",
         "x": [
          2004,
          2009
         ],
         "xaxis": "x",
         "y": [
          1,
          2
         ],
         "yaxis": "y"
        },
        {
         "customdata": [
          [
           0,
           "SCOTIA SEA"
          ],
          [
           0,
           "SCOTIA SEA"
          ],
          [
           0,
           "SCOTIA SEA"
          ]
         ],
         "hovertemplate": "Country Name=%{customdata[1]}<br>Year=%{x}<br>Earthquake Counts=%{y}<br>Total Damage ($Mil)=%{customdata[0]}<extra></extra>",
         "legendgroup": "SCOTIA SEA",
         "marker": {
          "color": "#ab63fa",
          "size": [
           0,
           0,
           0
          ],
          "sizemode": "area",
          "sizeref": 550.3415,
          "symbol": "circle"
         },
         "mode": "markers",
         "name": "SCOTIA SEA",
         "orientation": "v",
         "showlegend": true,
         "type": "scatter",
         "x": [
          2003,
          2013,
          2021
         ],
         "xaxis": "x",
         "y": [
          1,
          1,
          1
         ],
         "yaxis": "y"
        },
        {
         "customdata": [
          [
           0,
           "SERBIA"
          ],
          [
           0,
           "SERBIA"
          ]
         ],
         "hovertemplate": "Country Name=%{customdata[1]}<br>Year=%{x}<br>Earthquake Counts=%{y}<br>Total Damage ($Mil)=%{customdata[0]}<extra></extra>",
         "legendgroup": "SERBIA",
         "marker": {
          "color": "#FFA15A",
          "size": [
           0,
           0
          ],
          "sizemode": "area",
          "sizeref": 550.3415,
          "symbol": "circle"
         },
         "mode": "markers",
         "name": "SERBIA",
         "orientation": "v",
         "showlegend": true,
         "type": "scatter",
         "x": [
          2010,
          2015
         ],
         "xaxis": "x",
         "y": [
          1,
          1
         ],
         "yaxis": "y"
        },
        {
         "customdata": [
          [
           0,
           "SLOVAKIA"
          ]
         ],
         "hovertemplate": "Country Name=%{customdata[1]}<br>Year=%{x}<br>Earthquake Counts=%{y}<br>Total Damage ($Mil)=%{customdata[0]}<extra></extra>",
         "legendgroup": "SLOVAKIA",
         "marker": {
          "color": "#19d3f3",
          "size": [
           0
          ],
          "sizemode": "area",
          "sizeref": 550.3415,
          "symbol": "circle"
         },
         "mode": "markers",
         "name": "SLOVAKIA",
         "orientation": "v",
         "showlegend": true,
         "type": "scatter",
         "x": [
          2004
         ],
         "xaxis": "x",
         "y": [
          1
         ],
         "yaxis": "y"
        },
        {
         "customdata": [
          [
           0,
           "SLOVENIA"
          ]
         ],
         "hovertemplate": "Country Name=%{customdata[1]}<br>Year=%{x}<br>Earthquake Counts=%{y}<br>Total Damage ($Mil)=%{customdata[0]}<extra></extra>",
         "legendgroup": "SLOVENIA",
         "marker": {
          "color": "#FF6692",
          "size": [
           0
          ],
          "sizemode": "area",
          "sizeref": 550.3415,
          "symbol": "circle"
         },
         "mode": "markers",
         "name": "SLOVENIA",
         "orientation": "v",
         "showlegend": true,
         "type": "scatter",
         "x": [
          2004
         ],
         "xaxis": "x",
         "y": [
          1
         ],
         "yaxis": "y"
        },
        {
         "customdata": [
          [
           0,
           "SOLOMON ISLANDS"
          ],
          [
           0,
           "SOLOMON ISLANDS"
          ],
          [
           0,
           "SOLOMON ISLANDS"
          ],
          [
           0,
           "SOLOMON ISLANDS"
          ],
          [
           0,
           "SOLOMON ISLANDS"
          ],
          [
           36,
           "SOLOMON ISLANDS"
          ],
          [
           0,
           "SOLOMON ISLANDS"
          ],
          [
           0,
           "SOLOMON ISLANDS"
          ],
          [
           0,
           "SOLOMON ISLANDS"
          ],
          [
           0,
           "SOLOMON ISLANDS"
          ]
         ],
         "hovertemplate": "Country Name=%{customdata[1]}<br>Year=%{x}<br>Earthquake Counts=%{y}<br>Total Damage ($Mil)=%{customdata[0]}<extra></extra>",
         "legendgroup": "SOLOMON ISLANDS",
         "marker": {
          "color": "#B6E880",
          "size": [
           0,
           0,
           0,
           0,
           0,
           36,
           0,
           0,
           0,
           0
          ],
          "sizemode": "area",
          "sizeref": 550.3415,
          "symbol": "circle"
         },
         "mode": "markers",
         "name": "SOLOMON ISLANDS",
         "orientation": "v",
         "showlegend": true,
         "type": "scatter",
         "x": [
          2003,
          2007,
          2009,
          2010,
          2012,
          2013,
          2014,
          2015,
          2016,
          2022
         ],
         "xaxis": "x",
         "y": [
          1,
          2,
          1,
          3,
          1,
          2,
          2,
          3,
          2,
          1
         ],
         "yaxis": "y"
        },
        {
         "customdata": [
          [
           0,
           "SOUTH AFRICA"
          ],
          [
           0,
           "SOUTH AFRICA"
          ],
          [
           0,
           "SOUTH AFRICA"
          ],
          [
           0,
           "SOUTH AFRICA"
          ],
          [
           0,
           "SOUTH AFRICA"
          ]
         ],
         "hovertemplate": "Country Name=%{customdata[1]}<br>Year=%{x}<br>Earthquake Counts=%{y}<br>Total Damage ($Mil)=%{customdata[0]}<extra></extra>",
         "legendgroup": "SOUTH AFRICA",
         "marker": {
          "color": "#FF97FF",
          "size": [
           0,
           0,
           0,
           0,
           0
          ],
          "sizemode": "area",
          "sizeref": 550.3415,
          "symbol": "circle"
         },
         "mode": "markers",
         "name": "SOUTH AFRICA",
         "orientation": "v",
         "showlegend": true,
         "type": "scatter",
         "x": [
          2000,
          2005,
          2009,
          2014,
          2018
         ],
         "xaxis": "x",
         "y": [
          1,
          1,
          1,
          1,
          1
         ],
         "yaxis": "y"
        },
        {
         "customdata": [
          [
           21,
           "SOUTH KOREA"
          ],
          [
           75.8,
           "SOUTH KOREA"
          ]
         ],
         "hovertemplate": "Country Name=%{customdata[1]}<br>Year=%{x}<br>Earthquake Counts=%{y}<br>Total Damage ($Mil)=%{customdata[0]}<extra></extra>",
         "legendgroup": "SOUTH KOREA",
         "marker": {
          "color": "#FECB52",
          "size": [
           21,
           75.8
          ],
          "sizemode": "area",
          "sizeref": 550.3415,
          "symbol": "circle"
         },
         "mode": "markers",
         "name": "SOUTH KOREA",
         "orientation": "v",
         "showlegend": true,
         "type": "scatter",
         "x": [
          2016,
          2017
         ],
         "xaxis": "x",
         "y": [
          1,
          1
         ],
         "yaxis": "y"
        },
        {
         "customdata": [
          [
           0,
           "SOUTH SANDWICH ISLANDS"
          ],
          [
           0,
           "SOUTH SANDWICH ISLANDS"
          ]
         ],
         "hovertemplate": "Country Name=%{customdata[1]}<br>Year=%{x}<br>Earthquake Counts=%{y}<br>Total Damage ($Mil)=%{customdata[0]}<extra></extra>",
         "legendgroup": "SOUTH SANDWICH ISLANDS",
         "marker": {
          "color": "#636efa",
          "size": [
           0,
           0
          ],
          "sizemode": "area",
          "sizeref": 550.3415,
          "symbol": "circle"
         },
         "mode": "markers",
         "name": "SOUTH SANDWICH ISLANDS",
         "orientation": "v",
         "showlegend": true,
         "type": "scatter",
         "x": [
          2016,
          2021
         ],
         "xaxis": "x",
         "y": [
          1,
          2
         ],
         "yaxis": "y"
        },
        {
         "customdata": [
          [
           0,
           "SPAIN"
          ],
          [
           0,
           "SPAIN"
          ]
         ],
         "hovertemplate": "Country Name=%{customdata[1]}<br>Year=%{x}<br>Earthquake Counts=%{y}<br>Total Damage ($Mil)=%{customdata[0]}<extra></extra>",
         "legendgroup": "SPAIN",
         "marker": {
          "color": "#EF553B",
          "size": [
           0,
           0
          ],
          "sizemode": "area",
          "sizeref": 550.3415,
          "symbol": "circle"
         },
         "mode": "markers",
         "name": "SPAIN",
         "orientation": "v",
         "showlegend": true,
         "type": "scatter",
         "x": [
          2005,
          2011
         ],
         "xaxis": "x",
         "y": [
          1,
          1
         ],
         "yaxis": "y"
        },
        {
         "customdata": [
          [
           0,
           "SWITZERLAND"
          ]
         ],
         "hovertemplate": "Country Name=%{customdata[1]}<br>Year=%{x}<br>Earthquake Counts=%{y}<br>Total Damage ($Mil)=%{customdata[0]}<extra></extra>",
         "legendgroup": "SWITZERLAND",
         "marker": {
          "color": "#00cc96",
          "size": [
           0
          ],
          "sizemode": "area",
          "sizeref": 550.3415,
          "symbol": "circle"
         },
         "mode": "markers",
         "name": "SWITZERLAND",
         "orientation": "v",
         "showlegend": true,
         "type": "scatter",
         "x": [
          2006
         ],
         "xaxis": "x",
         "y": [
          1
         ],
         "yaxis": "y"
        },
        {
         "customdata": [
          [
           0,
           "TAIWAN"
          ],
          [
           0,
           "TAIWAN"
          ],
          [
           0,
           "TAIWAN"
          ],
          [
           0,
           "TAIWAN"
          ],
          [
           0,
           "TAIWAN"
          ],
          [
           0,
           "TAIWAN"
          ],
          [
           0,
           "TAIWAN"
          ],
          [
           1000,
           "TAIWAN"
          ],
          [
           0,
           "TAIWAN"
          ],
          [
           2.2279999999999998,
           "TAIWAN"
          ],
          [
           0,
           "TAIWAN"
          ],
          [
           700,
           "TAIWAN"
          ],
          [
           0,
           "TAIWAN"
          ],
          [
           0,
           "TAIWAN"
          ],
          [
           5.220000000000001,
           "TAIWAN"
          ],
          [
           2.53,
           "TAIWAN"
          ]
         ],
         "hovertemplate": "Country Name=%{customdata[1]}<br>Year=%{x}<br>Earthquake Counts=%{y}<br>Total Damage ($Mil)=%{customdata[0]}<extra></extra>",
         "legendgroup": "TAIWAN",
         "marker": {
          "color": "#ab63fa",
          "size": [
           0,
           0,
           0,
           0,
           0,
           0,
           0,
           1000,
           0,
           2.2279999999999998,
           0,
           700,
           0,
           0,
           5.220000000000001,
           2.53
          ],
          "sizemode": "area",
          "sizeref": 550.3415,
          "symbol": "circle"
         },
         "mode": "markers",
         "name": "TAIWAN",
         "orientation": "v",
         "showlegend": true,
         "type": "scatter",
         "x": [
          2000,
          2001,
          2002,
          2003,
          2004,
          2006,
          2009,
          2010,
          2012,
          2013,
          2015,
          2016,
          2018,
          2019,
          2022,
          2024
         ],
         "xaxis": "x",
         "y": [
          2,
          1,
          1,
          1,
          2,
          3,
          1,
          1,
          1,
          2,
          1,
          1,
          1,
          2,
          2,
          1
         ],
         "yaxis": "y"
        },
        {
         "customdata": [
          [
           0,
           "TAJIKISTAN"
          ],
          [
           0,
           "TAJIKISTAN"
          ],
          [
           0,
           "TAJIKISTAN"
          ],
          [
           1.5,
           "TAJIKISTAN"
          ],
          [
           0,
           "TAJIKISTAN"
          ],
          [
           0,
           "TAJIKISTAN"
          ],
          [
           5,
           "TAJIKISTAN"
          ],
          [
           0,
           "TAJIKISTAN"
          ],
          [
           0,
           "TAJIKISTAN"
          ],
          [
           0,
           "TAJIKISTAN"
          ]
         ],
         "hovertemplate": "Country Name=%{customdata[1]}<br>Year=%{x}<br>Earthquake Counts=%{y}<br>Total Damage ($Mil)=%{customdata[0]}<extra></extra>",
         "legendgroup": "TAJIKISTAN",
         "marker": {
          "color": "#FFA15A",
          "size": [
           0,
           0,
           0,
           1.5,
           0,
           0,
           5,
           0,
           0,
           0
          ],
          "sizemode": "area",
          "sizeref": 550.3415,
          "symbol": "circle"
         },
         "mode": "markers",
         "name": "TAJIKISTAN",
         "orientation": "v",
         "showlegend": true,
         "type": "scatter",
         "x": [
          2002,
          2006,
          2007,
          2010,
          2012,
          2013,
          2015,
          2016,
          2021,
          2023
         ],
         "xaxis": "x",
         "y": [
          3,
          2,
          1,
          1,
          1,
          1,
          1,
          1,
          1,
          1
         ],
         "yaxis": "y"
        },
        {
         "customdata": [
          [
           0,
           "TANZANIA"
          ],
          [
           0,
           "TANZANIA"
          ],
          [
           458,
           "TANZANIA"
          ],
          [
           0,
           "TANZANIA"
          ],
          [
           0,
           "TANZANIA"
          ]
         ],
         "hovertemplate": "Country Name=%{customdata[1]}<br>Year=%{x}<br>Earthquake Counts=%{y}<br>Total Damage ($Mil)=%{customdata[0]}<extra></extra>",
         "legendgroup": "TANZANIA",
         "marker": {
          "color": "#19d3f3",
          "size": [
           0,
           0,
           458,
           0,
           0
          ],
          "sizemode": "area",
          "sizeref": 550.3415,
          "symbol": "circle"
         },
         "mode": "markers",
         "name": "TANZANIA",
         "orientation": "v",
         "showlegend": true,
         "type": "scatter",
         "x": [
          2000,
          2002,
          2016,
          2017,
          2019
         ],
         "xaxis": "x",
         "y": [
          1,
          1,
          1,
          1,
          1
         ],
         "yaxis": "y"
        },
        {
         "customdata": [
          [
           0,
           "THAILAND"
          ],
          [
           62,
           "THAILAND"
          ]
         ],
         "hovertemplate": "Country Name=%{customdata[1]}<br>Year=%{x}<br>Earthquake Counts=%{y}<br>Total Damage ($Mil)=%{customdata[0]}<extra></extra>",
         "legendgroup": "THAILAND",
         "marker": {
          "color": "#FF6692",
          "size": [
           0,
           62
          ],
          "sizemode": "area",
          "sizeref": 550.3415,
          "symbol": "circle"
         },
         "mode": "markers",
         "name": "THAILAND",
         "orientation": "v",
         "showlegend": true,
         "type": "scatter",
         "x": [
          2006,
          2014
         ],
         "xaxis": "x",
         "y": [
          1,
          1
         ],
         "yaxis": "y"
        },
        {
         "customdata": [
          [
           0,
           "THE NETHERLANDS"
          ],
          [
           0,
           "THE NETHERLANDS"
          ]
         ],
         "hovertemplate": "Country Name=%{customdata[1]}<br>Year=%{x}<br>Earthquake Counts=%{y}<br>Total Damage ($Mil)=%{customdata[0]}<extra></extra>",
         "legendgroup": "THE NETHERLANDS",
         "marker": {
          "color": "#B6E880",
          "size": [
           0,
           0
          ],
          "sizemode": "area",
          "sizeref": 550.3415,
          "symbol": "circle"
         },
         "mode": "markers",
         "name": "THE NETHERLANDS",
         "orientation": "v",
         "showlegend": true,
         "type": "scatter",
         "x": [
          2018,
          2019
         ],
         "xaxis": "x",
         "y": [
          1,
          1
         ],
         "yaxis": "y"
        },
        {
         "customdata": [
          [
           0,
           "TONGA"
          ],
          [
           0,
           "TONGA"
          ],
          [
           0,
           "TONGA"
          ],
          [
           0,
           "TONGA"
          ]
         ],
         "hovertemplate": "Country Name=%{customdata[1]}<br>Year=%{x}<br>Earthquake Counts=%{y}<br>Total Damage ($Mil)=%{customdata[0]}<extra></extra>",
         "legendgroup": "TONGA",
         "marker": {
          "color": "#FF97FF",
          "size": [
           0,
           0,
           0,
           0
          ],
          "sizemode": "area",
          "sizeref": 550.3415,
          "symbol": "circle"
         },
         "mode": "markers",
         "name": "TONGA",
         "orientation": "v",
         "showlegend": true,
         "type": "scatter",
         "x": [
          2006,
          2009,
          2022,
          2023
         ],
         "xaxis": "x",
         "y": [
          1,
          1,
          1,
          1
         ],
         "yaxis": "y"
        },
        {
         "customdata": [
          [
           0,
           "TRINIDAD AND TOBAGO"
          ],
          [
           0,
           "TRINIDAD AND TOBAGO"
          ]
         ],
         "hovertemplate": "Country Name=%{customdata[1]}<br>Year=%{x}<br>Earthquake Counts=%{y}<br>Total Damage ($Mil)=%{customdata[0]}<extra></extra>",
         "legendgroup": "TRINIDAD AND TOBAGO",
         "marker": {
          "color": "#FECB52",
          "size": [
           0,
           0
          ],
          "sizemode": "area",
          "sizeref": 550.3415,
          "symbol": "circle"
         },
         "mode": "markers",
         "name": "TRINIDAD AND TOBAGO",
         "orientation": "v",
         "showlegend": true,
         "type": "scatter",
         "x": [
          2004,
          2006
         ],
         "xaxis": "x",
         "y": [
          1,
          2
         ],
         "yaxis": "y"
        },
        {
         "customdata": [
          [
           0,
           "TURKEY"
          ],
          [
           0,
           "TURKEY"
          ],
          [
           0,
           "TURKEY"
          ],
          [
           0,
           "TURKEY"
          ],
          [
           0,
           "TURKEY"
          ],
          [
           0,
           "TURKEY"
          ],
          [
           0,
           "TURKEY"
          ],
          [
           0,
           "TURKEY"
          ],
          [
           0,
           "TURKEY"
          ],
          [
           0,
           "TURKEY"
          ],
          [
           1500,
           "TURKEY"
          ],
          [
           0,
           "TURKEY"
          ],
          [
           0,
           "TURKEY"
          ],
          [
           0,
           "TURKEY"
          ],
          [
           0,
           "TURKEY"
          ],
          [
           0,
           "TURKEY"
          ],
          [
           42900,
           "TURKEY"
          ]
         ],
         "hovertemplate": "Country Name=%{customdata[1]}<br>Year=%{x}<br>Earthquake Counts=%{y}<br>Total Damage ($Mil)=%{customdata[0]}<extra></extra>",
         "legendgroup": "TURKEY",
         "marker": {
          "color": "#636efa",
          "size": [
           0,
           0,
           0,
           0,
           0,
           0,
           0,
           0,
           0,
           0,
           1500,
           0,
           0,
           0,
           0,
           0,
           42900
          ],
          "sizemode": "area",
          "sizeref": 550.3415,
          "symbol": "circle"
         },
         "mode": "markers",
         "name": "TURKEY",
         "orientation": "v",
         "showlegend": true,
         "type": "scatter",
         "x": [
          2000,
          2001,
          2002,
          2003,
          2004,
          2005,
          2006,
          2007,
          2008,
          2010,
          2011,
          2012,
          2017,
          2018,
          2019,
          2020,
          2023
         ],
         "xaxis": "x",
         "y": [
          3,
          1,
          1,
          5,
          7,
          7,
          1,
          4,
          1,
          1,
          3,
          2,
          3,
          1,
          2,
          4,
          4
         ],
         "yaxis": "y"
        },
        {
         "customdata": [
          [
           0,
           "TURKMENISTAN"
          ]
         ],
         "hovertemplate": "Country Name=%{customdata[1]}<br>Year=%{x}<br>Earthquake Counts=%{y}<br>Total Damage ($Mil)=%{customdata[0]}<extra></extra>",
         "legendgroup": "TURKMENISTAN",
         "marker": {
          "color": "#EF553B",
          "size": [
           0
          ],
          "sizemode": "area",
          "sizeref": 550.3415,
          "symbol": "circle"
         },
         "mode": "markers",
         "name": "TURKMENISTAN",
         "orientation": "v",
         "showlegend": true,
         "type": "scatter",
         "x": [
          2000
         ],
         "xaxis": "x",
         "y": [
          1
         ],
         "yaxis": "y"
        },
        {
         "customdata": [
          [
           0,
           "UNITED KINGDOM"
          ],
          [
           0,
           "UNITED KINGDOM"
          ],
          [
           0,
           "UNITED KINGDOM"
          ]
         ],
         "hovertemplate": "Country Name=%{customdata[1]}<br>Year=%{x}<br>Earthquake Counts=%{y}<br>Total Damage ($Mil)=%{customdata[0]}<extra></extra>",
         "legendgroup": "UNITED KINGDOM",
         "marker": {
          "color": "#00cc96",
          "size": [
           0,
           0,
           0
          ],
          "sizemode": "area",
          "sizeref": 550.3415,
          "symbol": "circle"
         },
         "mode": "markers",
         "name": "UNITED KINGDOM",
         "orientation": "v",
         "showlegend": true,
         "type": "scatter",
         "x": [
          2002,
          2007,
          2008
         ],
         "xaxis": "x",
         "y": [
          1,
          1,
          1
         ],
         "yaxis": "y"
        },
        {
         "customdata": [
          [
           50,
           "UNITED STATES"
          ],
          [
           2000,
           "UNITED STATES"
          ],
          [
           56,
           "UNITED STATES"
          ],
          [
           300,
           "UNITED STATES"
          ],
          [
           0,
           "UNITED STATES"
          ],
          [
           0,
           "UNITED STATES"
          ],
          [
           0,
           "UNITED STATES"
          ],
          [
           0,
           "UNITED STATES"
          ],
          [
           21.8,
           "UNITED STATES"
          ],
          [
           200,
           "UNITED STATES"
          ],
          [
           100,
           "UNITED STATES"
          ],
          [
           710.8,
           "UNITED STATES"
          ],
          [
           0,
           "UNITED STATES"
          ],
          [
           20,
           "UNITED STATES"
          ],
          [
           0,
           "UNITED STATES"
          ],
          [
           150,
           "UNITED STATES"
          ],
          [
           5350,
           "UNITED STATES"
          ],
          [
           100,
           "UNITED STATES"
          ],
          [
           0,
           "UNITED STATES"
          ],
          [
           250,
           "UNITED STATES"
          ],
          [
           0,
           "UNITED STATES"
          ]
         ],
         "hovertemplate": "Country Name=%{customdata[1]}<br>Year=%{x}<br>Earthquake Counts=%{y}<br>Total Damage ($Mil)=%{customdata[0]}<extra></extra>",
         "legendgroup": "UNITED STATES",
         "marker": {
          "color": "#ab63fa",
          "size": [
           50,
           2000,
           56,
           300,
           0,
           0,
           0,
           0,
           21.8,
           200,
           100,
           710.8,
           0,
           20,
           0,
           150,
           5350,
           100,
           0,
           250,
           0
          ],
          "sizemode": "area",
          "sizeref": 550.3415,
          "symbol": "circle"
         },
         "mode": "markers",
         "name": "UNITED STATES",
         "orientation": "v",
         "showlegend": true,
         "type": "scatter",
         "x": [
          2000,
          2001,
          2002,
          2003,
          2004,
          2005,
          2007,
          2008,
          2010,
          2011,
          2013,
          2014,
          2015,
          2016,
          2017,
          2018,
          2019,
          2020,
          2021,
          2022,
          2023
         ],
         "xaxis": "x",
         "y": [
          1,
          2,
          3,
          5,
          1,
          2,
          6,
          4,
          3,
          7,
          2,
          6,
          1,
          2,
          1,
          3,
          2,
          4,
          1,
          1,
          1
         ],
         "yaxis": "y"
        },
        {
         "customdata": [
          [
           0,
           "UZBEKISTAN"
          ]
         ],
         "hovertemplate": "Country Name=%{customdata[1]}<br>Year=%{x}<br>Earthquake Counts=%{y}<br>Total Damage ($Mil)=%{customdata[0]}<extra></extra>",
         "legendgroup": "UZBEKISTAN",
         "marker": {
          "color": "#FFA15A",
          "size": [
           0
          ],
          "sizemode": "area",
          "sizeref": 550.3415,
          "symbol": "circle"
         },
         "mode": "markers",
         "name": "UZBEKISTAN",
         "orientation": "v",
         "showlegend": true,
         "type": "scatter",
         "x": [
          2011
         ],
         "xaxis": "x",
         "y": [
          1
         ],
         "yaxis": "y"
        },
        {
         "customdata": [
          [
           0,
           "VANUATU"
          ],
          [
           0,
           "VANUATU"
          ],
          [
           0,
           "VANUATU"
          ],
          [
           0,
           "VANUATU"
          ],
          [
           0,
           "VANUATU"
          ],
          [
           0,
           "VANUATU"
          ],
          [
           0,
           "VANUATU"
          ],
          [
           0,
           "VANUATU"
          ],
          [
           0,
           "VANUATU"
          ],
          [
           0,
           "VANUATU"
          ],
          [
           0,
           "VANUATU"
          ]
         ],
         "hovertemplate": "Country Name=%{customdata[1]}<br>Year=%{x}<br>Earthquake Counts=%{y}<br>Total Damage ($Mil)=%{customdata[0]}<extra></extra>",
         "legendgroup": "VANUATU",
         "marker": {
          "color": "#19d3f3",
          "size": [
           0,
           0,
           0,
           0,
           0,
           0,
           0,
           0,
           0,
           0,
           0
          ],
          "sizemode": "area",
          "sizeref": 550.3415,
          "symbol": "circle"
         },
         "mode": "markers",
         "name": "VANUATU",
         "orientation": "v",
         "showlegend": true,
         "type": "scatter",
         "x": [
          2002,
          2007,
          2008,
          2009,
          2010,
          2011,
          2012,
          2015,
          2016,
          2018,
          2023
         ],
         "xaxis": "x",
         "y": [
          2,
          2,
          1,
          3,
          2,
          3,
          3,
          1,
          1,
          1,
          2
         ],
         "yaxis": "y"
        },
        {
         "customdata": [
          [
           0,
           "VENEZUELA"
          ],
          [
           0,
           "VENEZUELA"
          ],
          [
           0,
           "VENEZUELA"
          ],
          [
           0,
           "VENEZUELA"
          ],
          [
           0,
           "VENEZUELA"
          ]
         ],
         "hovertemplate": "Country Name=%{customdata[1]}<br>Year=%{x}<br>Earthquake Counts=%{y}<br>Total Damage ($Mil)=%{customdata[0]}<extra></extra>",
         "legendgroup": "VENEZUELA",
         "marker": {
          "color": "#FF6692",
          "size": [
           0,
           0,
           0,
           0,
           0
          ],
          "sizemode": "area",
          "sizeref": 550.3415,
          "symbol": "circle"
         },
         "mode": "markers",
         "name": "VENEZUELA",
         "orientation": "v",
         "showlegend": true,
         "type": "scatter",
         "x": [
          2008,
          2009,
          2010,
          2015,
          2018
         ],
         "xaxis": "x",
         "y": [
          1,
          2,
          1,
          2,
          2
         ],
         "yaxis": "y"
        },
        {
         "customdata": [
          [
           0,
           "VIETNAM"
          ],
          [
           0,
           "VIETNAM"
          ]
         ],
         "hovertemplate": "Country Name=%{customdata[1]}<br>Year=%{x}<br>Earthquake Counts=%{y}<br>Total Damage ($Mil)=%{customdata[0]}<extra></extra>",
         "legendgroup": "VIETNAM",
         "marker": {
          "color": "#B6E880",
          "size": [
           0,
           0
          ],
          "sizemode": "area",
          "sizeref": 550.3415,
          "symbol": "circle"
         },
         "mode": "markers",
         "name": "VIETNAM",
         "orientation": "v",
         "showlegend": true,
         "type": "scatter",
         "x": [
          2005,
          2020
         ],
         "xaxis": "x",
         "y": [
          1,
          1
         ],
         "yaxis": "y"
        },
        {
         "customdata": [
          [
           0,
           "ZAMBIA"
          ]
         ],
         "hovertemplate": "Country Name=%{customdata[1]}<br>Year=%{x}<br>Earthquake Counts=%{y}<br>Total Damage ($Mil)=%{customdata[0]}<extra></extra>",
         "legendgroup": "ZAMBIA",
         "marker": {
          "color": "#FF97FF",
          "size": [
           0
          ],
          "sizemode": "area",
          "sizeref": 550.3415,
          "symbol": "circle"
         },
         "mode": "markers",
         "name": "ZAMBIA",
         "orientation": "v",
         "showlegend": true,
         "type": "scatter",
         "x": [
          2017
         ],
         "xaxis": "x",
         "y": [
          1
         ],
         "yaxis": "y"
        }
       ],
       "layout": {
        "legend": {
         "itemsizing": "constant",
         "title": {
          "text": "Country"
         },
         "tracegroupgap": 0
        },
        "template": {
         "data": {
          "bar": [
           {
            "error_x": {
             "color": "#2a3f5f"
            },
            "error_y": {
             "color": "#2a3f5f"
            },
            "marker": {
             "line": {
              "color": "#E5ECF6",
              "width": 0.5
             },
             "pattern": {
              "fillmode": "overlay",
              "size": 10,
              "solidity": 0.2
             }
            },
            "type": "bar"
           }
          ],
          "barpolar": [
           {
            "marker": {
             "line": {
              "color": "#E5ECF6",
              "width": 0.5
             },
             "pattern": {
              "fillmode": "overlay",
              "size": 10,
              "solidity": 0.2
             }
            },
            "type": "barpolar"
           }
          ],
          "carpet": [
           {
            "aaxis": {
             "endlinecolor": "#2a3f5f",
             "gridcolor": "white",
             "linecolor": "white",
             "minorgridcolor": "white",
             "startlinecolor": "#2a3f5f"
            },
            "baxis": {
             "endlinecolor": "#2a3f5f",
             "gridcolor": "white",
             "linecolor": "white",
             "minorgridcolor": "white",
             "startlinecolor": "#2a3f5f"
            },
            "type": "carpet"
           }
          ],
          "choropleth": [
           {
            "colorbar": {
             "outlinewidth": 0,
             "ticks": ""
            },
            "type": "choropleth"
           }
          ],
          "contour": [
           {
            "colorbar": {
             "outlinewidth": 0,
             "ticks": ""
            },
            "colorscale": [
             [
              0,
              "#0d0887"
             ],
             [
              0.1111111111111111,
              "#46039f"
             ],
             [
              0.2222222222222222,
              "#7201a8"
             ],
             [
              0.3333333333333333,
              "#9c179e"
             ],
             [
              0.4444444444444444,
              "#bd3786"
             ],
             [
              0.5555555555555556,
              "#d8576b"
             ],
             [
              0.6666666666666666,
              "#ed7953"
             ],
             [
              0.7777777777777778,
              "#fb9f3a"
             ],
             [
              0.8888888888888888,
              "#fdca26"
             ],
             [
              1,
              "#f0f921"
             ]
            ],
            "type": "contour"
           }
          ],
          "contourcarpet": [
           {
            "colorbar": {
             "outlinewidth": 0,
             "ticks": ""
            },
            "type": "contourcarpet"
           }
          ],
          "heatmap": [
           {
            "colorbar": {
             "outlinewidth": 0,
             "ticks": ""
            },
            "colorscale": [
             [
              0,
              "#0d0887"
             ],
             [
              0.1111111111111111,
              "#46039f"
             ],
             [
              0.2222222222222222,
              "#7201a8"
             ],
             [
              0.3333333333333333,
              "#9c179e"
             ],
             [
              0.4444444444444444,
              "#bd3786"
             ],
             [
              0.5555555555555556,
              "#d8576b"
             ],
             [
              0.6666666666666666,
              "#ed7953"
             ],
             [
              0.7777777777777778,
              "#fb9f3a"
             ],
             [
              0.8888888888888888,
              "#fdca26"
             ],
             [
              1,
              "#f0f921"
             ]
            ],
            "type": "heatmap"
           }
          ],
          "heatmapgl": [
           {
            "colorbar": {
             "outlinewidth": 0,
             "ticks": ""
            },
            "colorscale": [
             [
              0,
              "#0d0887"
             ],
             [
              0.1111111111111111,
              "#46039f"
             ],
             [
              0.2222222222222222,
              "#7201a8"
             ],
             [
              0.3333333333333333,
              "#9c179e"
             ],
             [
              0.4444444444444444,
              "#bd3786"
             ],
             [
              0.5555555555555556,
              "#d8576b"
             ],
             [
              0.6666666666666666,
              "#ed7953"
             ],
             [
              0.7777777777777778,
              "#fb9f3a"
             ],
             [
              0.8888888888888888,
              "#fdca26"
             ],
             [
              1,
              "#f0f921"
             ]
            ],
            "type": "heatmapgl"
           }
          ],
          "histogram": [
           {
            "marker": {
             "pattern": {
              "fillmode": "overlay",
              "size": 10,
              "solidity": 0.2
             }
            },
            "type": "histogram"
           }
          ],
          "histogram2d": [
           {
            "colorbar": {
             "outlinewidth": 0,
             "ticks": ""
            },
            "colorscale": [
             [
              0,
              "#0d0887"
             ],
             [
              0.1111111111111111,
              "#46039f"
             ],
             [
              0.2222222222222222,
              "#7201a8"
             ],
             [
              0.3333333333333333,
              "#9c179e"
             ],
             [
              0.4444444444444444,
              "#bd3786"
             ],
             [
              0.5555555555555556,
              "#d8576b"
             ],
             [
              0.6666666666666666,
              "#ed7953"
             ],
             [
              0.7777777777777778,
              "#fb9f3a"
             ],
             [
              0.8888888888888888,
              "#fdca26"
             ],
             [
              1,
              "#f0f921"
             ]
            ],
            "type": "histogram2d"
           }
          ],
          "histogram2dcontour": [
           {
            "colorbar": {
             "outlinewidth": 0,
             "ticks": ""
            },
            "colorscale": [
             [
              0,
              "#0d0887"
             ],
             [
              0.1111111111111111,
              "#46039f"
             ],
             [
              0.2222222222222222,
              "#7201a8"
             ],
             [
              0.3333333333333333,
              "#9c179e"
             ],
             [
              0.4444444444444444,
              "#bd3786"
             ],
             [
              0.5555555555555556,
              "#d8576b"
             ],
             [
              0.6666666666666666,
              "#ed7953"
             ],
             [
              0.7777777777777778,
              "#fb9f3a"
             ],
             [
              0.8888888888888888,
              "#fdca26"
             ],
             [
              1,
              "#f0f921"
             ]
            ],
            "type": "histogram2dcontour"
           }
          ],
          "mesh3d": [
           {
            "colorbar": {
             "outlinewidth": 0,
             "ticks": ""
            },
            "type": "mesh3d"
           }
          ],
          "parcoords": [
           {
            "line": {
             "colorbar": {
              "outlinewidth": 0,
              "ticks": ""
             }
            },
            "type": "parcoords"
           }
          ],
          "pie": [
           {
            "automargin": true,
            "type": "pie"
           }
          ],
          "scatter": [
           {
            "fillpattern": {
             "fillmode": "overlay",
             "size": 10,
             "solidity": 0.2
            },
            "type": "scatter"
           }
          ],
          "scatter3d": [
           {
            "line": {
             "colorbar": {
              "outlinewidth": 0,
              "ticks": ""
             }
            },
            "marker": {
             "colorbar": {
              "outlinewidth": 0,
              "ticks": ""
             }
            },
            "type": "scatter3d"
           }
          ],
          "scattercarpet": [
           {
            "marker": {
             "colorbar": {
              "outlinewidth": 0,
              "ticks": ""
             }
            },
            "type": "scattercarpet"
           }
          ],
          "scattergeo": [
           {
            "marker": {
             "colorbar": {
              "outlinewidth": 0,
              "ticks": ""
             }
            },
            "type": "scattergeo"
           }
          ],
          "scattergl": [
           {
            "marker": {
             "colorbar": {
              "outlinewidth": 0,
              "ticks": ""
             }
            },
            "type": "scattergl"
           }
          ],
          "scattermapbox": [
           {
            "marker": {
             "colorbar": {
              "outlinewidth": 0,
              "ticks": ""
             }
            },
            "type": "scattermapbox"
           }
          ],
          "scatterpolar": [
           {
            "marker": {
             "colorbar": {
              "outlinewidth": 0,
              "ticks": ""
             }
            },
            "type": "scatterpolar"
           }
          ],
          "scatterpolargl": [
           {
            "marker": {
             "colorbar": {
              "outlinewidth": 0,
              "ticks": ""
             }
            },
            "type": "scatterpolargl"
           }
          ],
          "scatterternary": [
           {
            "marker": {
             "colorbar": {
              "outlinewidth": 0,
              "ticks": ""
             }
            },
            "type": "scatterternary"
           }
          ],
          "surface": [
           {
            "colorbar": {
             "outlinewidth": 0,
             "ticks": ""
            },
            "colorscale": [
             [
              0,
              "#0d0887"
             ],
             [
              0.1111111111111111,
              "#46039f"
             ],
             [
              0.2222222222222222,
              "#7201a8"
             ],
             [
              0.3333333333333333,
              "#9c179e"
             ],
             [
              0.4444444444444444,
              "#bd3786"
             ],
             [
              0.5555555555555556,
              "#d8576b"
             ],
             [
              0.6666666666666666,
              "#ed7953"
             ],
             [
              0.7777777777777778,
              "#fb9f3a"
             ],
             [
              0.8888888888888888,
              "#fdca26"
             ],
             [
              1,
              "#f0f921"
             ]
            ],
            "type": "surface"
           }
          ],
          "table": [
           {
            "cells": {
             "fill": {
              "color": "#EBF0F8"
             },
             "line": {
              "color": "white"
             }
            },
            "header": {
             "fill": {
              "color": "#C8D4E3"
             },
             "line": {
              "color": "white"
             }
            },
            "type": "table"
           }
          ]
         },
         "layout": {
          "annotationdefaults": {
           "arrowcolor": "#2a3f5f",
           "arrowhead": 0,
           "arrowwidth": 1
          },
          "autotypenumbers": "strict",
          "coloraxis": {
           "colorbar": {
            "outlinewidth": 0,
            "ticks": ""
           }
          },
          "colorscale": {
           "diverging": [
            [
             0,
             "#8e0152"
            ],
            [
             0.1,
             "#c51b7d"
            ],
            [
             0.2,
             "#de77ae"
            ],
            [
             0.3,
             "#f1b6da"
            ],
            [
             0.4,
             "#fde0ef"
            ],
            [
             0.5,
             "#f7f7f7"
            ],
            [
             0.6,
             "#e6f5d0"
            ],
            [
             0.7,
             "#b8e186"
            ],
            [
             0.8,
             "#7fbc41"
            ],
            [
             0.9,
             "#4d9221"
            ],
            [
             1,
             "#276419"
            ]
           ],
           "sequential": [
            [
             0,
             "#0d0887"
            ],
            [
             0.1111111111111111,
             "#46039f"
            ],
            [
             0.2222222222222222,
             "#7201a8"
            ],
            [
             0.3333333333333333,
             "#9c179e"
            ],
            [
             0.4444444444444444,
             "#bd3786"
            ],
            [
             0.5555555555555556,
             "#d8576b"
            ],
            [
             0.6666666666666666,
             "#ed7953"
            ],
            [
             0.7777777777777778,
             "#fb9f3a"
            ],
            [
             0.8888888888888888,
             "#fdca26"
            ],
            [
             1,
             "#f0f921"
            ]
           ],
           "sequentialminus": [
            [
             0,
             "#0d0887"
            ],
            [
             0.1111111111111111,
             "#46039f"
            ],
            [
             0.2222222222222222,
             "#7201a8"
            ],
            [
             0.3333333333333333,
             "#9c179e"
            ],
            [
             0.4444444444444444,
             "#bd3786"
            ],
            [
             0.5555555555555556,
             "#d8576b"
            ],
            [
             0.6666666666666666,
             "#ed7953"
            ],
            [
             0.7777777777777778,
             "#fb9f3a"
            ],
            [
             0.8888888888888888,
             "#fdca26"
            ],
            [
             1,
             "#f0f921"
            ]
           ]
          },
          "colorway": [
           "#636efa",
           "#EF553B",
           "#00cc96",
           "#ab63fa",
           "#FFA15A",
           "#19d3f3",
           "#FF6692",
           "#B6E880",
           "#FF97FF",
           "#FECB52"
          ],
          "font": {
           "color": "#2a3f5f"
          },
          "geo": {
           "bgcolor": "white",
           "lakecolor": "white",
           "landcolor": "#E5ECF6",
           "showlakes": true,
           "showland": true,
           "subunitcolor": "white"
          },
          "hoverlabel": {
           "align": "left"
          },
          "hovermode": "closest",
          "mapbox": {
           "style": "light"
          },
          "paper_bgcolor": "white",
          "plot_bgcolor": "#E5ECF6",
          "polar": {
           "angularaxis": {
            "gridcolor": "white",
            "linecolor": "white",
            "ticks": ""
           },
           "bgcolor": "#E5ECF6",
           "radialaxis": {
            "gridcolor": "white",
            "linecolor": "white",
            "ticks": ""
           }
          },
          "scene": {
           "xaxis": {
            "backgroundcolor": "#E5ECF6",
            "gridcolor": "white",
            "gridwidth": 2,
            "linecolor": "white",
            "showbackground": true,
            "ticks": "",
            "zerolinecolor": "white"
           },
           "yaxis": {
            "backgroundcolor": "#E5ECF6",
            "gridcolor": "white",
            "gridwidth": 2,
            "linecolor": "white",
            "showbackground": true,
            "ticks": "",
            "zerolinecolor": "white"
           },
           "zaxis": {
            "backgroundcolor": "#E5ECF6",
            "gridcolor": "white",
            "gridwidth": 2,
            "linecolor": "white",
            "showbackground": true,
            "ticks": "",
            "zerolinecolor": "white"
           }
          },
          "shapedefaults": {
           "line": {
            "color": "#2a3f5f"
           }
          },
          "ternary": {
           "aaxis": {
            "gridcolor": "white",
            "linecolor": "white",
            "ticks": ""
           },
           "baxis": {
            "gridcolor": "white",
            "linecolor": "white",
            "ticks": ""
           },
           "bgcolor": "#E5ECF6",
           "caxis": {
            "gridcolor": "white",
            "linecolor": "white",
            "ticks": ""
           }
          },
          "title": {
           "x": 0.05
          },
          "xaxis": {
           "automargin": true,
           "gridcolor": "white",
           "linecolor": "white",
           "ticks": "",
           "title": {
            "standoff": 15
           },
           "zerolinecolor": "white",
           "zerolinewidth": 2
          },
          "yaxis": {
           "automargin": true,
           "gridcolor": "white",
           "linecolor": "white",
           "ticks": "",
           "title": {
            "standoff": 15
           },
           "zerolinecolor": "white",
           "zerolinewidth": 2
          }
         }
        },
        "title": {
         "text": "Earthquake Counts Over Time"
        },
        "xaxis": {
         "anchor": "y",
         "domain": [
          0,
          1
         ],
         "title": {
          "text": "Year"
         }
        },
        "yaxis": {
         "anchor": "x",
         "domain": [
          0,
          1
         ],
         "title": {
          "text": "Earthquake Counts"
         }
        }
       }
      }
     },
     "metadata": {},
     "output_type": "display_data"
    }
   ],
   "source": [
    "# group by country and year, calculating total counts and sum of damages per year \n",
    "bubble_data = earthquakes.groupby([\"Country Name\", \"Year\"]).agg(\n",
    "    Earthquake_Count=(\"Country Name\", \"count\"),\n",
    "    Total_Damage_Mil=(\"Total Damage ($Mil)\", \"sum\")\n",
    ").reset_index()\n",
    "\n",
    "# maybe remove the coutnries that dont have totaldamagemil???\n",
    "fig = px.scatter(\n",
    "    bubble_data,\n",
    "    x=\"Year\",\n",
    "    y=\"Earthquake_Count\",\n",
    "    size=\"Total_Damage_Mil\",\n",
    "    color=\"Country Name\",\n",
    "    title=\"Earthquake Counts Over Time\",\n",
    "    labels={\"Earthquake_Count\": \"Earthquake Counts\", \"Total_Damage_Mil\": \"Total Damage ($Mil)\"},\n",
    "    hover_data={\"Total_Damage_Mil\": True, \"Country Name\": True}\n",
    ")\n",
    "\n",
    "# improving layout \n",
    "fig.update_layout(\n",
    "    xaxis_title=\"Year\",\n",
    "    yaxis_title=\"Earthquake Counts\",\n",
    "    legend_title=\"Country\",\n",
    ")\n",
    "fig.show()\n"
   ]
  }
 ],
 "metadata": {
  "kernelspec": {
   "display_name": "ds4200",
   "language": "python",
   "name": "python3"
  },
  "language_info": {
   "codemirror_mode": {
    "name": "ipython",
    "version": 3
   },
   "file_extension": ".py",
   "mimetype": "text/x-python",
   "name": "python",
   "nbconvert_exporter": "python",
   "pygments_lexer": "ipython3",
   "version": "3.11.0"
  }
 },
 "nbformat": 4,
 "nbformat_minor": 2
}
