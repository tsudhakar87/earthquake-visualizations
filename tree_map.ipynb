{
 "cells": [
  {
   "cell_type": "code",
   "execution_count": 1,
   "metadata": {},
   "outputs": [],
   "source": [
    "import pandas as pd "
   ]
  },
  {
   "cell_type": "code",
   "execution_count": 16,
   "metadata": {},
   "outputs": [],
   "source": [
    "earthquakes = pd.read_csv('earthquake_merged2.csv')\n",
    "# earthquakes.columns"
   ]
  },
  {
   "cell_type": "code",
   "execution_count": 17,
   "metadata": {},
   "outputs": [],
   "source": [
    "earthquakes = earthquakes[earthquakes[\"Year\"] > 1999]\n",
    "# earthquakes"
   ]
  },
  {
   "cell_type": "code",
   "execution_count": 6,
   "metadata": {},
   "outputs": [
    {
     "data": {
      "text/html": [
       "<div>\n",
       "<style scoped>\n",
       "    .dataframe tbody tr th:only-of-type {\n",
       "        vertical-align: middle;\n",
       "    }\n",
       "\n",
       "    .dataframe tbody tr th {\n",
       "        vertical-align: top;\n",
       "    }\n",
       "\n",
       "    .dataframe thead th {\n",
       "        text-align: right;\n",
       "    }\n",
       "</style>\n",
       "<table border=\"1\" class=\"dataframe\">\n",
       "  <thead>\n",
       "    <tr style=\"text-align: right;\">\n",
       "      <th></th>\n",
       "      <th>Country Name</th>\n",
       "      <th>Count</th>\n",
       "    </tr>\n",
       "  </thead>\n",
       "  <tbody>\n",
       "    <tr>\n",
       "      <th>17</th>\n",
       "      <td>CHINA</td>\n",
       "      <td>155</td>\n",
       "    </tr>\n",
       "    <tr>\n",
       "      <th>46</th>\n",
       "      <td>INDONESIA</td>\n",
       "      <td>140</td>\n",
       "    </tr>\n",
       "    <tr>\n",
       "      <th>47</th>\n",
       "      <td>IRAN</td>\n",
       "      <td>86</td>\n",
       "    </tr>\n",
       "    <tr>\n",
       "      <th>49</th>\n",
       "      <td>JAPAN</td>\n",
       "      <td>80</td>\n",
       "    </tr>\n",
       "    <tr>\n",
       "      <th>103</th>\n",
       "      <td>UNITED STATES</td>\n",
       "      <td>58</td>\n",
       "    </tr>\n",
       "    <tr>\n",
       "      <th>...</th>\n",
       "      <td>...</td>\n",
       "      <td>...</td>\n",
       "    </tr>\n",
       "    <tr>\n",
       "      <th>38</th>\n",
       "      <td>GULF OF MEXICO</td>\n",
       "      <td>1</td>\n",
       "    </tr>\n",
       "    <tr>\n",
       "      <th>51</th>\n",
       "      <td>KAZAKHSTAN</td>\n",
       "      <td>1</td>\n",
       "    </tr>\n",
       "    <tr>\n",
       "      <th>50</th>\n",
       "      <td>JORDAN</td>\n",
       "      <td>1</td>\n",
       "    </tr>\n",
       "    <tr>\n",
       "      <th>86</th>\n",
       "      <td>SLOVENIA</td>\n",
       "      <td>1</td>\n",
       "    </tr>\n",
       "    <tr>\n",
       "      <th>108</th>\n",
       "      <td>ZAMBIA</td>\n",
       "      <td>1</td>\n",
       "    </tr>\n",
       "  </tbody>\n",
       "</table>\n",
       "<p>109 rows × 2 columns</p>\n",
       "</div>"
      ],
      "text/plain": [
       "       Country Name  Count\n",
       "17            CHINA    155\n",
       "46        INDONESIA    140\n",
       "47             IRAN     86\n",
       "49            JAPAN     80\n",
       "103   UNITED STATES     58\n",
       "..              ...    ...\n",
       "38   GULF OF MEXICO      1\n",
       "51       KAZAKHSTAN      1\n",
       "50           JORDAN      1\n",
       "86         SLOVENIA      1\n",
       "108          ZAMBIA      1\n",
       "\n",
       "[109 rows x 2 columns]"
      ]
     },
     "execution_count": 6,
     "metadata": {},
     "output_type": "execute_result"
    }
   ],
   "source": [
    "country_counts = earthquakes.groupby(\"Country Name\").size().reset_index(name=\"Count\")\n",
    "country_counts = country_counts.sort_values(by=\"Count\", ascending=False)\n",
    "country_counts"
   ]
  },
  {
   "cell_type": "code",
   "execution_count": 9,
   "metadata": {},
   "outputs": [
    {
     "data": {
      "text/html": [
       "<div>\n",
       "<style scoped>\n",
       "    .dataframe tbody tr th:only-of-type {\n",
       "        vertical-align: middle;\n",
       "    }\n",
       "\n",
       "    .dataframe tbody tr th {\n",
       "        vertical-align: top;\n",
       "    }\n",
       "\n",
       "    .dataframe thead th {\n",
       "        text-align: right;\n",
       "    }\n",
       "</style>\n",
       "<table border=\"1\" class=\"dataframe\">\n",
       "  <thead>\n",
       "    <tr style=\"text-align: right;\">\n",
       "      <th></th>\n",
       "      <th>Country Name</th>\n",
       "      <th>Count</th>\n",
       "      <th>Average Magnitude</th>\n",
       "    </tr>\n",
       "  </thead>\n",
       "  <tbody>\n",
       "    <tr>\n",
       "      <th>0</th>\n",
       "      <td>CHINA</td>\n",
       "      <td>155</td>\n",
       "      <td>5.869496</td>\n",
       "    </tr>\n",
       "    <tr>\n",
       "      <th>1</th>\n",
       "      <td>INDONESIA</td>\n",
       "      <td>140</td>\n",
       "      <td>6.627046</td>\n",
       "    </tr>\n",
       "    <tr>\n",
       "      <th>2</th>\n",
       "      <td>IRAN</td>\n",
       "      <td>86</td>\n",
       "      <td>5.706699</td>\n",
       "    </tr>\n",
       "    <tr>\n",
       "      <th>3</th>\n",
       "      <td>JAPAN</td>\n",
       "      <td>80</td>\n",
       "      <td>6.821525</td>\n",
       "    </tr>\n",
       "    <tr>\n",
       "      <th>4</th>\n",
       "      <td>UNITED STATES</td>\n",
       "      <td>58</td>\n",
       "      <td>6.438043</td>\n",
       "    </tr>\n",
       "    <tr>\n",
       "      <th>...</th>\n",
       "      <td>...</td>\n",
       "      <td>...</td>\n",
       "      <td>...</td>\n",
       "    </tr>\n",
       "    <tr>\n",
       "      <th>104</th>\n",
       "      <td>GULF OF MEXICO</td>\n",
       "      <td>1</td>\n",
       "      <td>5.800000</td>\n",
       "    </tr>\n",
       "    <tr>\n",
       "      <th>105</th>\n",
       "      <td>KAZAKHSTAN</td>\n",
       "      <td>1</td>\n",
       "      <td>6.357143</td>\n",
       "    </tr>\n",
       "    <tr>\n",
       "      <th>106</th>\n",
       "      <td>JORDAN</td>\n",
       "      <td>1</td>\n",
       "      <td>5.300000</td>\n",
       "    </tr>\n",
       "    <tr>\n",
       "      <th>107</th>\n",
       "      <td>SLOVENIA</td>\n",
       "      <td>1</td>\n",
       "      <td>4.885714</td>\n",
       "    </tr>\n",
       "    <tr>\n",
       "      <th>108</th>\n",
       "      <td>ZAMBIA</td>\n",
       "      <td>1</td>\n",
       "      <td>5.900000</td>\n",
       "    </tr>\n",
       "  </tbody>\n",
       "</table>\n",
       "<p>109 rows × 3 columns</p>\n",
       "</div>"
      ],
      "text/plain": [
       "       Country Name  Count  Average Magnitude\n",
       "0             CHINA    155           5.869496\n",
       "1         INDONESIA    140           6.627046\n",
       "2              IRAN     86           5.706699\n",
       "3             JAPAN     80           6.821525\n",
       "4     UNITED STATES     58           6.438043\n",
       "..              ...    ...                ...\n",
       "104  GULF OF MEXICO      1           5.800000\n",
       "105      KAZAKHSTAN      1           6.357143\n",
       "106          JORDAN      1           5.300000\n",
       "107        SLOVENIA      1           4.885714\n",
       "108          ZAMBIA      1           5.900000\n",
       "\n",
       "[109 rows x 3 columns]"
      ]
     },
     "execution_count": 9,
     "metadata": {},
     "output_type": "execute_result"
    }
   ],
   "source": [
    "# Group by Country Name to get avg magnitude\n",
    "avg_magnitude = earthquakes.groupby(\"Country Name\")[\"Mag\"].mean().reset_index(name=\"Average Magnitude\")\n",
    "\n",
    "# Merge the average magnitude with the country_counts df\n",
    "country_counts = country_counts.merge(avg_magnitude, on=\"Country Name\", how=\"left\")\n",
    "\n",
    "# country_counts"
   ]
  },
  {
   "cell_type": "code",
   "execution_count": 15,
   "metadata": {},
   "outputs": [
    {
     "data": {
      "application/vnd.plotly.v1+json": {
       "config": {
        "plotlyServerURL": "https://plot.ly"
       },
       "data": [
        {
         "branchvalues": "total",
         "customdata": [
          [
           5.86949602122016
          ],
          [
           6.627046263345196
          ],
          [
           5.706698564593301
          ],
          [
           6.82152466367713
          ],
          [
           6.438043478260869
          ],
          [
           5.5886075949367084
          ],
          [
           5.90503144654088
          ],
          [
           6.726446280991735
          ],
          [
           6.6008547008547005
          ],
          [
           7.053153153153153
          ],
          [
           6.941284403669725
          ],
          [
           6.248275862068965
          ],
          [
           6.406000000000001
          ],
          [
           6.187037037037038
          ],
          [
           7.154838709677419
          ],
          [
           5.873333333333334
          ],
          [
           7.047899159663866
          ],
          [
           6.687341772151898
          ],
          [
           7.1
          ],
          [
           5.461428571428572
          ],
          [
           7.322950819672131
          ],
          [
           7.175
          ],
          [
           5.423684210526315
          ],
          [
           6.409756097560976
          ],
          [
           6.473076923076923
          ],
          [
           5.784
          ],
          [
           6.673913043478261
          ],
          [
           7.534782608695653
          ],
          [
           6.289285714285714
          ],
          [
           6.472222222222222
          ],
          [
           6.252631578947368
          ],
          [
           6.228
          ],
          [
           5.878260869565217
          ],
          [
           6.171428571428572
          ],
          [
           6.066666666666666
          ],
          [
           6.3533333333333335
          ],
          [
           3.8000000000000003
          ],
          [
           5.655555555555555
          ],
          [
           6.6380952380952385
          ],
          [
           4.938461538461539
          ],
          [
           7.300000000000001
          ],
          [
           5.58
          ],
          [
           6.521739130434782
          ],
          [
           5.914285714285714
          ],
          [
           4.846153846153846
          ],
          [
           6.0125
          ],
          [
           4.9799999999999995
          ],
          [
           5.572727272727272
          ],
          [
           6.533333333333333
          ],
          [
           7.613333333333333
          ],
          [
           6.25
          ],
          [
           5.8500000000000005
          ],
          [
           4.64
          ],
          [
           5.083333333333333
          ],
          [
           6.35
          ],
          [
           5.45
          ],
          [
           6.066666666666666
          ],
          [
           6.2375
          ],
          [
           4.966666666666666
          ],
          [
           4.933333333333334
          ],
          [
           7.3999999999999995
          ],
          [
           6.025
          ],
          [
           6.583333333333333
          ],
          [
           6.457142857142857
          ],
          [
           7.714285714285714
          ],
          [
           7.1875
          ],
          [
           7.6625000000000005
          ],
          [
           5.4
          ],
          [
           3.9333333333333336
          ],
          [
           5.225
          ],
          [
           5.533333333333334
          ],
          [
           5.216666666666667
          ],
          [
           5.7
          ],
          [
           5.6
          ],
          [
           7.233333333333333
          ],
          [
           4.8999999999999995
          ],
          [
           5.533333333333333
          ],
          [
           6.5
          ],
          [
           5.9125
          ],
          [
           6.6875
          ],
          [
           5.914285714285714
          ],
          [
           6.425
          ],
          [
           6.7875
          ],
          [
           5.9625
          ],
          [
           5.383333333333333
          ],
          [
           7.8
          ],
          [
           6.75
          ],
          [
           4.4
          ],
          [
           7.025
          ],
          [
           5.7
          ],
          [
           6.716666666666666
          ],
          [
           7.65
          ],
          [
           5.566666666666666
          ],
          [
           6.575
          ],
          [
           4.7
          ],
          [
           5.9
          ],
          [
           6.21
          ],
          [
           4.1
          ],
          [
           2.2
          ],
          [
           5.5
          ],
          [
           5.916666666666667
          ],
          [
           3.9
          ],
          [
           5.65
          ],
          [
           5.4
          ],
          [
           5.8
          ],
          [
           6.357142857142857
          ],
          [
           5.3
          ],
          [
           4.885714285714286
          ],
          [
           5.9
          ]
         ],
         "domain": {
          "x": [
           0,
           1
          ],
          "y": [
           0,
           1
          ]
         },
         "hovertemplate": "<b>%{label}</b><br>Count: %{value}<br>Average Magnitude: %{customdata[0]:.2f}<extra></extra>",
         "ids": [
          "AFGHANISTAN",
          "ALBANIA",
          "ALGERIA",
          "ANATAHAN REGION, N. MARIANA ISLANDS",
          "ARGENTINA",
          "ATLANTIC OCEAN",
          "AUSTRALIA",
          "AZERBAIJAN",
          "BALKANS NW: KOSOVO; MACEDONIA: N",
          "BANGLADESH",
          "BHUTAN",
          "BOSNIA-HERZEGOVINA",
          "BRAZIL",
          "BULGARIA",
          "BURUNDI",
          "CANADA",
          "CHILE",
          "CHINA",
          "COLOMBIA",
          "COMOROS",
          "CONGO",
          "COSTA RICA",
          "CROATIA",
          "CUBA",
          "CZECH REPUBLIC",
          "DOMINICAN REPUBLIC",
          "ECUADOR",
          "EGYPT",
          "EL SALVADOR",
          "ETHIOPIA",
          "FIJI ISLANDS",
          "FRANCE",
          "GEORGIA",
          "GERMANY",
          "GREECE",
          "GUADELOUPE",
          "GUAM",
          "GUATEMALA",
          "GULF OF MEXICO",
          "HAITI",
          "HAWAII",
          "HONDURAS",
          "HUNGARY",
          "ICELAND",
          "INDIA",
          "INDIAN OCEAN",
          "INDONESIA",
          "IRAN",
          "ITALY",
          "JAPAN",
          "JORDAN",
          "KAZAKHSTAN",
          "KERMADEC ISLANDS",
          "KYRGYZSTAN",
          "LAOS",
          "LEBANON",
          "MACEDONIA",
          "MADAGASCAR",
          "MALAWI",
          "MALAYSIA",
          "MARTINIQUE",
          "MEXICO",
          "MONTENEGRO",
          "MOROCCO",
          "MOZAMBIQUE",
          "MYANMAR",
          "NEPAL",
          "NEW CALEDONIA",
          "NEW ZEALAND",
          "NICARAGUA",
          "NORTHERN MARIANA ISLANDS",
          "PAKISTAN",
          "PANAMA",
          "PAPUA NEW GUINEA",
          "PERU",
          "PHILIPPINES",
          "POLAND",
          "PUERTO RICO",
          "ROMANIA",
          "RUSSIA",
          "RWANDA",
          "SAMOA",
          "SAUDI ARABIA",
          "SCOTIA SEA",
          "SERBIA",
          "SLOVAKIA",
          "SLOVENIA",
          "SOLOMON ISLANDS",
          "SOUTH AFRICA",
          "SOUTH KOREA",
          "SOUTH SANDWICH ISLANDS",
          "SPAIN",
          "SWITZERLAND",
          "TAIWAN",
          "TAJIKISTAN",
          "TANZANIA",
          "THAILAND",
          "THE NETHERLANDS",
          "TONGA",
          "TRINIDAD AND TOBAGO",
          "TURKEY",
          "TURKMENISTAN",
          "UNITED KINGDOM",
          "UNITED STATES",
          "UZBEKISTAN",
          "VANUATU",
          "VENEZUELA",
          "VIETNAM",
          "ZAMBIA"
         ],
         "labels": [
          "AFGHANISTAN",
          "ALBANIA",
          "ALGERIA",
          "ANATAHAN REGION, N. MARIANA ISLANDS",
          "ARGENTINA",
          "ATLANTIC OCEAN",
          "AUSTRALIA",
          "AZERBAIJAN",
          "BALKANS NW: KOSOVO; MACEDONIA: N",
          "BANGLADESH",
          "BHUTAN",
          "BOSNIA-HERZEGOVINA",
          "BRAZIL",
          "BULGARIA",
          "BURUNDI",
          "CANADA",
          "CHILE",
          "CHINA",
          "COLOMBIA",
          "COMOROS",
          "CONGO",
          "COSTA RICA",
          "CROATIA",
          "CUBA",
          "CZECH REPUBLIC",
          "DOMINICAN REPUBLIC",
          "ECUADOR",
          "EGYPT",
          "EL SALVADOR",
          "ETHIOPIA",
          "FIJI ISLANDS",
          "FRANCE",
          "GEORGIA",
          "GERMANY",
          "GREECE",
          "GUADELOUPE",
          "GUAM",
          "GUATEMALA",
          "GULF OF MEXICO",
          "HAITI",
          "HAWAII",
          "HONDURAS",
          "HUNGARY",
          "ICELAND",
          "INDIA",
          "INDIAN OCEAN",
          "INDONESIA",
          "IRAN",
          "ITALY",
          "JAPAN",
          "JORDAN",
          "KAZAKHSTAN",
          "KERMADEC ISLANDS",
          "KYRGYZSTAN",
          "LAOS",
          "LEBANON",
          "MACEDONIA",
          "MADAGASCAR",
          "MALAWI",
          "MALAYSIA",
          "MARTINIQUE",
          "MEXICO",
          "MONTENEGRO",
          "MOROCCO",
          "MOZAMBIQUE",
          "MYANMAR",
          "NEPAL",
          "NEW CALEDONIA",
          "NEW ZEALAND",
          "NICARAGUA",
          "NORTHERN MARIANA ISLANDS",
          "PAKISTAN",
          "PANAMA",
          "PAPUA NEW GUINEA",
          "PERU",
          "PHILIPPINES",
          "POLAND",
          "PUERTO RICO",
          "ROMANIA",
          "RUSSIA",
          "RWANDA",
          "SAMOA",
          "SAUDI ARABIA",
          "SCOTIA SEA",
          "SERBIA",
          "SLOVAKIA",
          "SLOVENIA",
          "SOLOMON ISLANDS",
          "SOUTH AFRICA",
          "SOUTH KOREA",
          "SOUTH SANDWICH ISLANDS",
          "SPAIN",
          "SWITZERLAND",
          "TAIWAN",
          "TAJIKISTAN",
          "TANZANIA",
          "THAILAND",
          "THE NETHERLANDS",
          "TONGA",
          "TRINIDAD AND TOBAGO",
          "TURKEY",
          "TURKMENISTAN",
          "UNITED KINGDOM",
          "UNITED STATES",
          "UZBEKISTAN",
          "VANUATU",
          "VENEZUELA",
          "VIETNAM",
          "ZAMBIA"
         ],
         "name": "",
         "parents": [
          "",
          "",
          "",
          "",
          "",
          "",
          "",
          "",
          "",
          "",
          "",
          "",
          "",
          "",
          "",
          "",
          "",
          "",
          "",
          "",
          "",
          "",
          "",
          "",
          "",
          "",
          "",
          "",
          "",
          "",
          "",
          "",
          "",
          "",
          "",
          "",
          "",
          "",
          "",
          "",
          "",
          "",
          "",
          "",
          "",
          "",
          "",
          "",
          "",
          "",
          "",
          "",
          "",
          "",
          "",
          "",
          "",
          "",
          "",
          "",
          "",
          "",
          "",
          "",
          "",
          "",
          "",
          "",
          "",
          "",
          "",
          "",
          "",
          "",
          "",
          "",
          "",
          "",
          "",
          "",
          "",
          "",
          "",
          "",
          "",
          "",
          "",
          "",
          "",
          "",
          "",
          "",
          "",
          "",
          "",
          "",
          "",
          "",
          "",
          "",
          "",
          "",
          "",
          "",
          "",
          "",
          "",
          "",
          ""
         ],
         "type": "treemap",
         "values": [
          28,
          7,
          15,
          1,
          7,
          1,
          6,
          4,
          1,
          5,
          5,
          2,
          4,
          2,
          1,
          4,
          32,
          155,
          13,
          1,
          4,
          5,
          2,
          1,
          1,
          2,
          15,
          1,
          9,
          2,
          5,
          6,
          2,
          4,
          28,
          2,
          3,
          9,
          1,
          5,
          2,
          3,
          2,
          3,
          54,
          1,
          140,
          86,
          19,
          80,
          1,
          1,
          9,
          7,
          2,
          1,
          2,
          1,
          3,
          1,
          1,
          29,
          1,
          3,
          3,
          9,
          8,
          17,
          28,
          8,
          2,
          25,
          9,
          26,
          40,
          45,
          7,
          3,
          1,
          25,
          5,
          2,
          3,
          3,
          2,
          1,
          1,
          18,
          5,
          2,
          3,
          2,
          1,
          23,
          13,
          5,
          2,
          2,
          4,
          3,
          50,
          1,
          3,
          58,
          1,
          21,
          8,
          2,
          1
         ]
        }
       ],
       "layout": {
        "legend": {
         "tracegroupgap": 0
        },
        "template": {
         "data": {
          "bar": [
           {
            "error_x": {
             "color": "#2a3f5f"
            },
            "error_y": {
             "color": "#2a3f5f"
            },
            "marker": {
             "line": {
              "color": "#E5ECF6",
              "width": 0.5
             },
             "pattern": {
              "fillmode": "overlay",
              "size": 10,
              "solidity": 0.2
             }
            },
            "type": "bar"
           }
          ],
          "barpolar": [
           {
            "marker": {
             "line": {
              "color": "#E5ECF6",
              "width": 0.5
             },
             "pattern": {
              "fillmode": "overlay",
              "size": 10,
              "solidity": 0.2
             }
            },
            "type": "barpolar"
           }
          ],
          "carpet": [
           {
            "aaxis": {
             "endlinecolor": "#2a3f5f",
             "gridcolor": "white",
             "linecolor": "white",
             "minorgridcolor": "white",
             "startlinecolor": "#2a3f5f"
            },
            "baxis": {
             "endlinecolor": "#2a3f5f",
             "gridcolor": "white",
             "linecolor": "white",
             "minorgridcolor": "white",
             "startlinecolor": "#2a3f5f"
            },
            "type": "carpet"
           }
          ],
          "choropleth": [
           {
            "colorbar": {
             "outlinewidth": 0,
             "ticks": ""
            },
            "type": "choropleth"
           }
          ],
          "contour": [
           {
            "colorbar": {
             "outlinewidth": 0,
             "ticks": ""
            },
            "colorscale": [
             [
              0,
              "#0d0887"
             ],
             [
              0.1111111111111111,
              "#46039f"
             ],
             [
              0.2222222222222222,
              "#7201a8"
             ],
             [
              0.3333333333333333,
              "#9c179e"
             ],
             [
              0.4444444444444444,
              "#bd3786"
             ],
             [
              0.5555555555555556,
              "#d8576b"
             ],
             [
              0.6666666666666666,
              "#ed7953"
             ],
             [
              0.7777777777777778,
              "#fb9f3a"
             ],
             [
              0.8888888888888888,
              "#fdca26"
             ],
             [
              1,
              "#f0f921"
             ]
            ],
            "type": "contour"
           }
          ],
          "contourcarpet": [
           {
            "colorbar": {
             "outlinewidth": 0,
             "ticks": ""
            },
            "type": "contourcarpet"
           }
          ],
          "heatmap": [
           {
            "colorbar": {
             "outlinewidth": 0,
             "ticks": ""
            },
            "colorscale": [
             [
              0,
              "#0d0887"
             ],
             [
              0.1111111111111111,
              "#46039f"
             ],
             [
              0.2222222222222222,
              "#7201a8"
             ],
             [
              0.3333333333333333,
              "#9c179e"
             ],
             [
              0.4444444444444444,
              "#bd3786"
             ],
             [
              0.5555555555555556,
              "#d8576b"
             ],
             [
              0.6666666666666666,
              "#ed7953"
             ],
             [
              0.7777777777777778,
              "#fb9f3a"
             ],
             [
              0.8888888888888888,
              "#fdca26"
             ],
             [
              1,
              "#f0f921"
             ]
            ],
            "type": "heatmap"
           }
          ],
          "heatmapgl": [
           {
            "colorbar": {
             "outlinewidth": 0,
             "ticks": ""
            },
            "colorscale": [
             [
              0,
              "#0d0887"
             ],
             [
              0.1111111111111111,
              "#46039f"
             ],
             [
              0.2222222222222222,
              "#7201a8"
             ],
             [
              0.3333333333333333,
              "#9c179e"
             ],
             [
              0.4444444444444444,
              "#bd3786"
             ],
             [
              0.5555555555555556,
              "#d8576b"
             ],
             [
              0.6666666666666666,
              "#ed7953"
             ],
             [
              0.7777777777777778,
              "#fb9f3a"
             ],
             [
              0.8888888888888888,
              "#fdca26"
             ],
             [
              1,
              "#f0f921"
             ]
            ],
            "type": "heatmapgl"
           }
          ],
          "histogram": [
           {
            "marker": {
             "pattern": {
              "fillmode": "overlay",
              "size": 10,
              "solidity": 0.2
             }
            },
            "type": "histogram"
           }
          ],
          "histogram2d": [
           {
            "colorbar": {
             "outlinewidth": 0,
             "ticks": ""
            },
            "colorscale": [
             [
              0,
              "#0d0887"
             ],
             [
              0.1111111111111111,
              "#46039f"
             ],
             [
              0.2222222222222222,
              "#7201a8"
             ],
             [
              0.3333333333333333,
              "#9c179e"
             ],
             [
              0.4444444444444444,
              "#bd3786"
             ],
             [
              0.5555555555555556,
              "#d8576b"
             ],
             [
              0.6666666666666666,
              "#ed7953"
             ],
             [
              0.7777777777777778,
              "#fb9f3a"
             ],
             [
              0.8888888888888888,
              "#fdca26"
             ],
             [
              1,
              "#f0f921"
             ]
            ],
            "type": "histogram2d"
           }
          ],
          "histogram2dcontour": [
           {
            "colorbar": {
             "outlinewidth": 0,
             "ticks": ""
            },
            "colorscale": [
             [
              0,
              "#0d0887"
             ],
             [
              0.1111111111111111,
              "#46039f"
             ],
             [
              0.2222222222222222,
              "#7201a8"
             ],
             [
              0.3333333333333333,
              "#9c179e"
             ],
             [
              0.4444444444444444,
              "#bd3786"
             ],
             [
              0.5555555555555556,
              "#d8576b"
             ],
             [
              0.6666666666666666,
              "#ed7953"
             ],
             [
              0.7777777777777778,
              "#fb9f3a"
             ],
             [
              0.8888888888888888,
              "#fdca26"
             ],
             [
              1,
              "#f0f921"
             ]
            ],
            "type": "histogram2dcontour"
           }
          ],
          "mesh3d": [
           {
            "colorbar": {
             "outlinewidth": 0,
             "ticks": ""
            },
            "type": "mesh3d"
           }
          ],
          "parcoords": [
           {
            "line": {
             "colorbar": {
              "outlinewidth": 0,
              "ticks": ""
             }
            },
            "type": "parcoords"
           }
          ],
          "pie": [
           {
            "automargin": true,
            "type": "pie"
           }
          ],
          "scatter": [
           {
            "fillpattern": {
             "fillmode": "overlay",
             "size": 10,
             "solidity": 0.2
            },
            "type": "scatter"
           }
          ],
          "scatter3d": [
           {
            "line": {
             "colorbar": {
              "outlinewidth": 0,
              "ticks": ""
             }
            },
            "marker": {
             "colorbar": {
              "outlinewidth": 0,
              "ticks": ""
             }
            },
            "type": "scatter3d"
           }
          ],
          "scattercarpet": [
           {
            "marker": {
             "colorbar": {
              "outlinewidth": 0,
              "ticks": ""
             }
            },
            "type": "scattercarpet"
           }
          ],
          "scattergeo": [
           {
            "marker": {
             "colorbar": {
              "outlinewidth": 0,
              "ticks": ""
             }
            },
            "type": "scattergeo"
           }
          ],
          "scattergl": [
           {
            "marker": {
             "colorbar": {
              "outlinewidth": 0,
              "ticks": ""
             }
            },
            "type": "scattergl"
           }
          ],
          "scattermapbox": [
           {
            "marker": {
             "colorbar": {
              "outlinewidth": 0,
              "ticks": ""
             }
            },
            "type": "scattermapbox"
           }
          ],
          "scatterpolar": [
           {
            "marker": {
             "colorbar": {
              "outlinewidth": 0,
              "ticks": ""
             }
            },
            "type": "scatterpolar"
           }
          ],
          "scatterpolargl": [
           {
            "marker": {
             "colorbar": {
              "outlinewidth": 0,
              "ticks": ""
             }
            },
            "type": "scatterpolargl"
           }
          ],
          "scatterternary": [
           {
            "marker": {
             "colorbar": {
              "outlinewidth": 0,
              "ticks": ""
             }
            },
            "type": "scatterternary"
           }
          ],
          "surface": [
           {
            "colorbar": {
             "outlinewidth": 0,
             "ticks": ""
            },
            "colorscale": [
             [
              0,
              "#0d0887"
             ],
             [
              0.1111111111111111,
              "#46039f"
             ],
             [
              0.2222222222222222,
              "#7201a8"
             ],
             [
              0.3333333333333333,
              "#9c179e"
             ],
             [
              0.4444444444444444,
              "#bd3786"
             ],
             [
              0.5555555555555556,
              "#d8576b"
             ],
             [
              0.6666666666666666,
              "#ed7953"
             ],
             [
              0.7777777777777778,
              "#fb9f3a"
             ],
             [
              0.8888888888888888,
              "#fdca26"
             ],
             [
              1,
              "#f0f921"
             ]
            ],
            "type": "surface"
           }
          ],
          "table": [
           {
            "cells": {
             "fill": {
              "color": "#EBF0F8"
             },
             "line": {
              "color": "white"
             }
            },
            "header": {
             "fill": {
              "color": "#C8D4E3"
             },
             "line": {
              "color": "white"
             }
            },
            "type": "table"
           }
          ]
         },
         "layout": {
          "annotationdefaults": {
           "arrowcolor": "#2a3f5f",
           "arrowhead": 0,
           "arrowwidth": 1
          },
          "autotypenumbers": "strict",
          "coloraxis": {
           "colorbar": {
            "outlinewidth": 0,
            "ticks": ""
           }
          },
          "colorscale": {
           "diverging": [
            [
             0,
             "#8e0152"
            ],
            [
             0.1,
             "#c51b7d"
            ],
            [
             0.2,
             "#de77ae"
            ],
            [
             0.3,
             "#f1b6da"
            ],
            [
             0.4,
             "#fde0ef"
            ],
            [
             0.5,
             "#f7f7f7"
            ],
            [
             0.6,
             "#e6f5d0"
            ],
            [
             0.7,
             "#b8e186"
            ],
            [
             0.8,
             "#7fbc41"
            ],
            [
             0.9,
             "#4d9221"
            ],
            [
             1,
             "#276419"
            ]
           ],
           "sequential": [
            [
             0,
             "#0d0887"
            ],
            [
             0.1111111111111111,
             "#46039f"
            ],
            [
             0.2222222222222222,
             "#7201a8"
            ],
            [
             0.3333333333333333,
             "#9c179e"
            ],
            [
             0.4444444444444444,
             "#bd3786"
            ],
            [
             0.5555555555555556,
             "#d8576b"
            ],
            [
             0.6666666666666666,
             "#ed7953"
            ],
            [
             0.7777777777777778,
             "#fb9f3a"
            ],
            [
             0.8888888888888888,
             "#fdca26"
            ],
            [
             1,
             "#f0f921"
            ]
           ],
           "sequentialminus": [
            [
             0,
             "#0d0887"
            ],
            [
             0.1111111111111111,
             "#46039f"
            ],
            [
             0.2222222222222222,
             "#7201a8"
            ],
            [
             0.3333333333333333,
             "#9c179e"
            ],
            [
             0.4444444444444444,
             "#bd3786"
            ],
            [
             0.5555555555555556,
             "#d8576b"
            ],
            [
             0.6666666666666666,
             "#ed7953"
            ],
            [
             0.7777777777777778,
             "#fb9f3a"
            ],
            [
             0.8888888888888888,
             "#fdca26"
            ],
            [
             1,
             "#f0f921"
            ]
           ]
          },
          "colorway": [
           "#636efa",
           "#EF553B",
           "#00cc96",
           "#ab63fa",
           "#FFA15A",
           "#19d3f3",
           "#FF6692",
           "#B6E880",
           "#FF97FF",
           "#FECB52"
          ],
          "font": {
           "color": "#2a3f5f"
          },
          "geo": {
           "bgcolor": "white",
           "lakecolor": "white",
           "landcolor": "#E5ECF6",
           "showlakes": true,
           "showland": true,
           "subunitcolor": "white"
          },
          "hoverlabel": {
           "align": "left"
          },
          "hovermode": "closest",
          "mapbox": {
           "style": "light"
          },
          "paper_bgcolor": "white",
          "plot_bgcolor": "#E5ECF6",
          "polar": {
           "angularaxis": {
            "gridcolor": "white",
            "linecolor": "white",
            "ticks": ""
           },
           "bgcolor": "#E5ECF6",
           "radialaxis": {
            "gridcolor": "white",
            "linecolor": "white",
            "ticks": ""
           }
          },
          "scene": {
           "xaxis": {
            "backgroundcolor": "#E5ECF6",
            "gridcolor": "white",
            "gridwidth": 2,
            "linecolor": "white",
            "showbackground": true,
            "ticks": "",
            "zerolinecolor": "white"
           },
           "yaxis": {
            "backgroundcolor": "#E5ECF6",
            "gridcolor": "white",
            "gridwidth": 2,
            "linecolor": "white",
            "showbackground": true,
            "ticks": "",
            "zerolinecolor": "white"
           },
           "zaxis": {
            "backgroundcolor": "#E5ECF6",
            "gridcolor": "white",
            "gridwidth": 2,
            "linecolor": "white",
            "showbackground": true,
            "ticks": "",
            "zerolinecolor": "white"
           }
          },
          "shapedefaults": {
           "line": {
            "color": "#2a3f5f"
           }
          },
          "ternary": {
           "aaxis": {
            "gridcolor": "white",
            "linecolor": "white",
            "ticks": ""
           },
           "baxis": {
            "gridcolor": "white",
            "linecolor": "white",
            "ticks": ""
           },
           "bgcolor": "#E5ECF6",
           "caxis": {
            "gridcolor": "white",
            "linecolor": "white",
            "ticks": ""
           }
          },
          "title": {
           "x": 0.05
          },
          "xaxis": {
           "automargin": true,
           "gridcolor": "white",
           "linecolor": "white",
           "ticks": "",
           "title": {
            "standoff": 15
           },
           "zerolinecolor": "white",
           "zerolinewidth": 2
          },
          "yaxis": {
           "automargin": true,
           "gridcolor": "white",
           "linecolor": "white",
           "ticks": "",
           "title": {
            "standoff": 15
           },
           "zerolinecolor": "white",
           "zerolinewidth": 2
          }
         }
        },
        "title": {
         "text": "Earthquake Occurrences by Country"
        }
       }
      }
     },
     "metadata": {},
     "output_type": "display_data"
    }
   ],
   "source": [
    "import plotly.express as px\n",
    "\n",
    "fig = px.treemap(\n",
    "    country_counts,\n",
    "    path=[\"Country Name\"],\n",
    "    values=\"Count\",\n",
    "    title=\"Earthquake Occurrences by Country\",\n",
    "    hover_data={\"Count\": True, \"Average Magnitude\": True}  # Pass 'Average Magnitude' explicitly\n",
    ")\n",
    "\n",
    "# custom hover \n",
    "fig.update_traces(\n",
    "    customdata=country_counts[[\"Average Magnitude\"]].values,  # Include custom data for hovertemplate\n",
    "    hovertemplate=\"<b>%{label}</b><br>Count: %{value}<br>Average Magnitude: %{customdata[0]:.2f}<extra></extra>\"\n",
    ")\n",
    "\n",
    "fig.show()\n"
   ]
  }
 ],
 "metadata": {
  "kernelspec": {
   "display_name": "ds4200",
   "language": "python",
   "name": "python3"
  },
  "language_info": {
   "codemirror_mode": {
    "name": "ipython",
    "version": 3
   },
   "file_extension": ".py",
   "mimetype": "text/x-python",
   "name": "python",
   "nbconvert_exporter": "python",
   "pygments_lexer": "ipython3",
   "version": "3.11.0"
  }
 },
 "nbformat": 4,
 "nbformat_minor": 2
}
